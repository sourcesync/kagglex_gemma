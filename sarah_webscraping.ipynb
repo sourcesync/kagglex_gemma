{
  "nbformat": 4,
  "nbformat_minor": 0,
  "metadata": {
    "colab": {
      "provenance": [],
      "authorship_tag": "ABX9TyMOdayTpBqOrzkCNGcQBt/n",
      "include_colab_link": true
    },
    "kernelspec": {
      "name": "python3",
      "display_name": "Python 3"
    },
    "language_info": {
      "name": "python"
    }
  },
  "cells": [
    {
      "cell_type": "markdown",
      "metadata": {
        "id": "view-in-github",
        "colab_type": "text"
      },
      "source": [
        "<a href=\"https://colab.research.google.com/github/sourcesync/kagglex_gemma/blob/gw%2Finitial/sarah_webscraping.ipynb\" target=\"_parent\"><img src=\"https://colab.research.google.com/assets/colab-badge.svg\" alt=\"Open In Colab\"/></a>"
      ]
    },
    {
      "cell_type": "markdown",
      "source": [
        "# This notebook demonstrates:\n",
        "* web scraping via BeautifulSoup on challenging examples"
      ],
      "metadata": {
        "id": "kktSIjsAlhmA"
      }
    },
    {
      "cell_type": "markdown",
      "source": [
        "# Install required packages"
      ],
      "metadata": {
        "id": "FfTkFJaJlqyc"
      }
    },
    {
      "cell_type": "code",
      "source": [
        "!pip install beautifulsoup4"
      ],
      "metadata": {
        "colab": {
          "base_uri": "https://localhost:8080/"
        },
        "id": "ibn9EZb3lpv1",
        "outputId": "6519c41b-900a-4553-f6ed-4242c0991c55"
      },
      "execution_count": null,
      "outputs": [
        {
          "output_type": "stream",
          "name": "stdout",
          "text": [
            "Requirement already satisfied: beautifulsoup4 in /usr/local/lib/python3.10/dist-packages (4.12.3)\n",
            "Requirement already satisfied: soupsieve>1.2 in /usr/local/lib/python3.10/dist-packages (from beautifulsoup4) (2.6)\n"
          ]
        }
      ]
    },
    {
      "cell_type": "markdown",
      "source": [
        "# Import required packages"
      ],
      "metadata": {
        "id": "eG5ql6Iol1aP"
      }
    },
    {
      "cell_type": "code",
      "source": [
        "from bs4 import BeautifulSoup\n",
        "import requests\n",
        "import pandas as pd\n",
        "import pprint\n",
        "import lxml.etree as etree"
      ],
      "metadata": {
        "id": "s2G9wdZhl3HL"
      },
      "execution_count": null,
      "outputs": []
    },
    {
      "cell_type": "markdown",
      "source": [
        "# Scrape challenging example from w-engines\n",
        "* https://www.prydwen.gg/zenless/w-engines/"
      ],
      "metadata": {
        "id": "I2QZVAP4l8Ht"
      }
    },
    {
      "cell_type": "code",
      "source": [
        "%%time\n",
        "\n",
        "url = \"https://www.prydwen.gg/zenless/w-engines/\"\n",
        "\n",
        "engines_request = requests.get(url)\n",
        "\n",
        "soup = BeautifulSoup(engines_request.content, 'html.parser')\n",
        "\n",
        "results = soup.find(id=\"___gatsby\")\n",
        "\n",
        "engine_elements = results.find_all(\"div\", class_=\"zzz-engine\")\n",
        "\n",
        "print(len(engine_elements))\n",
        "\n",
        "bs = BeautifulSoup(str(engine_elements[0]), 'xml')\n",
        "pretty_xml = bs.prettify()\n",
        "print(pretty_xml)"
      ],
      "metadata": {
        "colab": {
          "base_uri": "https://localhost:8080/"
        },
        "id": "xnQR6fBCmBbi",
        "outputId": "3f503f40-145a-460f-901a-8fb8c5b96409"
      },
      "execution_count": null,
      "outputs": [
        {
          "output_type": "stream",
          "name": "stdout",
          "text": [
            "50\n",
            "<?xml version=\"1.0\" encoding=\"utf-8\"?>\n",
            "<div class=\"zzz-engine\">\n",
            " <div class=\"zzz-engine-header\">\n",
            "  <div class=\"zzz-icon rarity-S\">\n",
            "   <div class=\"gatsby-image-wrapper gatsby-image-wrapper-constrained disable-transition\" data-gatsby-image-wrapper=\"\">\n",
            "    <div style=\"max-width:256px;display:block\">\n",
            "     <img alt=\"\" aria-hidden=\"true\" role=\"presentation\" src=\"data:image/svg+xml;charset=utf-8,%3Csvg height='256' width='256' xmlns='http://www.w3.org/2000/svg' version='1.1'%3E%3C/svg%3E\" style=\"max-width:100%;display:block;position:static\"/>\n",
            "    </div>\n",
            "    <div aria-hidden=\"true\" data-placeholder-image=\"\" style=\"opacity:1;transition:opacity 500ms linear;background-color:#080808;position:absolute;top:0;left:0;bottom:0;right:0\"/>\n",
            "    <picture>\n",
            "     <source data-srcset=\"/static/1caa98f79cd184e88b1621ec66c0f794/8257c/Deep_Sea_Visitor.webp 64w,/static/1caa98f79cd184e88b1621ec66c0f794/6766a/Deep_Sea_Visitor.webp 128w,/static/1caa98f79cd184e88b1621ec66c0f794/22bfc/Deep_Sea_Visitor.webp 256w\" sizes=\"(min-width: 256px) 256px, 100vw\" type=\"image/webp\"/>\n",
            "     <img alt=\"Deep Sea Visitor\" data-gatsby-image-ssr=\"\" data-main-image=\"\" data-src=\"/static/1caa98f79cd184e88b1621ec66c0f794/acb7c/Deep_Sea_Visitor.png\" data-srcset=\"/static/1caa98f79cd184e88b1621ec66c0f794/1c9ce/Deep_Sea_Visitor.png 64w,/static/1caa98f79cd184e88b1621ec66c0f794/bf8e1/Deep_Sea_Visitor.png 128w,/static/1caa98f79cd184e88b1621ec66c0f794/acb7c/Deep_Sea_Visitor.png 256w\" decoding=\"async\" loading=\"lazy\" sizes=\"(min-width: 256px) 256px, 100vw\" style=\"opacity:0\"/>\n",
            "    </picture>\n",
            "    <noscript>\n",
            "     <picture>\n",
            "      <source sizes=\"(min-width: 256px) 256px, 100vw\" srcset=\"/static/1caa98f79cd184e88b1621ec66c0f794/8257c/Deep_Sea_Visitor.webp 64w,/static/1caa98f79cd184e88b1621ec66c0f794/6766a/Deep_Sea_Visitor.webp 128w,/static/1caa98f79cd184e88b1621ec66c0f794/22bfc/Deep_Sea_Visitor.webp 256w\" type=\"image/webp\"/>\n",
            "      <img alt=\"Deep Sea Visitor\" data-gatsby-image-ssr=\"\" data-main-image=\"\" decoding=\"async\" loading=\"lazy\" sizes=\"(min-width: 256px) 256px, 100vw\" src=\"/static/1caa98f79cd184e88b1621ec66c0f794/acb7c/Deep_Sea_Visitor.png\" srcset=\"/static/1caa98f79cd184e88b1621ec66c0f794/1c9ce/Deep_Sea_Visitor.png 64w,/static/1caa98f79cd184e88b1621ec66c0f794/bf8e1/Deep_Sea_Visitor.png 128w,/static/1caa98f79cd184e88b1621ec66c0f794/acb7c/Deep_Sea_Visitor.png 256w\" style=\"opacity:0\"/>\n",
            "     </picture>\n",
            "    </noscript>\n",
            "    <script type=\"module\">\n",
            "     const t=\"undefined\"!=typeof HTMLImageElement\"loading\"in HTMLImageElement.prototype;if(t){const t=document.querySelectorAll(\"img[data-main-image]\");for(let e of t){e.dataset.src(e.setAttribute(\"src\",e.dataset.src),e.removeAttribute(\"data-src\")),e.dataset.srcset(e.setAttribute(\"srcset\",e.dataset.srcset),e.removeAttribute(\"data-srcset\"));const t=e.parentNode.querySelectorAll(\"source[data-srcset]\");for(let e of t)e.setAttribute(\"srcset\",e.dataset.srcset),e.removeAttribute(\"data-srcset\");e.complete(e.style.opacity=1,e.parentNode.parentNode.querySelector(\"[data-placeholder-image]\").style.opacity=0)}}\n",
            "    </script>\n",
            "   </div>\n",
            "  </div>\n",
            "  <div class=\"zzz-info\">\n",
            "   <div>\n",
            "    <h5>\n",
            "     Deep Sea Visitor\n",
            "     <!-- -->\n",
            "     <!-- -->\n",
            "    </h5>\n",
            "    <p>\n",
            "     Rarity:\n",
            "     <!-- -->\n",
            "     <!-- -->\n",
            "     <strong class=\"rarity-S\">\n",
            "      S\n",
            "     </strong>\n",
            "     <!-- -->\n",
            "     | Type:\n",
            "     <!-- -->\n",
            "     <!-- -->\n",
            "     <strong class=\"type Attack\">\n",
            "      Attack\n",
            "     </strong>\n",
            "    </p>\n",
            "   </div>\n",
            "  </div>\n",
            " </div>\n",
            " <div class=\"zzz-engine-content\">\n",
            "  <div class=\"description Ice\">\n",
            "   <div>\n",
            "    <p>\n",
            "     Increases\n",
            "     <!-- -->\n",
            "     <u>\n",
            "      Ice DMG\n",
            "     </u>\n",
            "     by\n",
            "     <!-- -->\n",
            "     <b>\n",
            "      25/31.5/38/44.5/50%\n",
            "     </b>\n",
            "     . Upon hitting an enemy with a Basic Attack, the equipper's CRIT Rate increases by\n",
            "     <!-- -->\n",
            "     <b>\n",
            "      10/12.5.15/17.5/20%\n",
            "     </b>\n",
            "     for\n",
            "     <!-- -->\n",
            "     <b>\n",
            "      8s\n",
            "     </b>\n",
            "     . When dealing\n",
            "     <!-- -->\n",
            "     <u>\n",
            "      Ice DMG\n",
            "     </u>\n",
            "     with a\n",
            "     <!-- -->\n",
            "     <b>\n",
            "     </b>\n",
            "     Dash Attack, the equipper's CRIT Rate increases by an additional\n",
            "     <!-- -->\n",
            "     <b>\n",
            "      10/12.5.15/17.5/20%\n",
            "     </b>\n",
            "     for\n",
            "     <!-- -->\n",
            "     <b>\n",
            "      15s\n",
            "     </b>\n",
            "     . The duration of each effect is calculated separately.\n",
            "     <!-- -->\n",
            "    </p>\n",
            "   </div>\n",
            "  </div>\n",
            " </div>\n",
            " <div class=\"stats\">\n",
            "  <div class=\"stat\">\n",
            "   <div>\n",
            "    <span class=\"name\">\n",
            "     Base ATK (Lv 60):\n",
            "    </span>\n",
            "    <!-- -->\n",
            "    <span class=\"value\">\n",
            "     713\n",
            "    </span>\n",
            "   </div>\n",
            "  </div>\n",
            "  <div class=\"stat\">\n",
            "   <div>\n",
            "    <span class=\"name\">\n",
            "     Crit Rate\n",
            "     <!-- -->\n",
            "     (Lv 60):\n",
            "     <!-- -->\n",
            "    </span>\n",
            "    <!-- -->\n",
            "    <span class=\"value\">\n",
            "     24%\n",
            "    </span>\n",
            "   </div>\n",
            "  </div>\n",
            " </div>\n",
            "</div>\n",
            "\n",
            "CPU times: user 264 ms, sys: 32.5 ms, total: 296 ms\n",
            "Wall time: 3.76 s\n"
          ]
        }
      ]
    },
    {
      "cell_type": "markdown",
      "source": [
        "# Parse the Attribute and Value field for each engine"
      ],
      "metadata": {
        "id": "fa2GQrNAp32g"
      }
    },
    {
      "cell_type": "code",
      "source": [
        "for engine in engine_elements:\n",
        "  #print(\"engine=\",engine)\n",
        "  description = engine.select_one('div .zzz-engine-content')\n",
        "  #print(\"description=\", description)\n",
        "  name = description.select_one('u')\n",
        "  if not name: continue # Not sure why we need to check this (?)\n",
        "  print(name.text)\n",
        "  # get stats for this engine\n",
        "  stats = engine.select_one('div .stats')\n",
        "  critparent = stats.select_one('.stat:nth-child(2)') # 2nd div stat child seems most relevant\n",
        "  #print(\"critparent=\", critparent)\n",
        "  attr = critparent.select_one('div .name')\n",
        "  print(\"\\tattr=\", attr.text)\n",
        "  val = critparent.select_one('div .value')\n",
        "  print(\"\\tvalue=\", val.text)\n"
      ],
      "metadata": {
        "colab": {
          "base_uri": "https://localhost:8080/"
        },
        "id": "zL2SMiS6plrP",
        "outputId": "f41334c7-c04f-4e45-e19c-4d7078eea3c5"
      },
      "execution_count": null,
      "outputs": [
        {
          "output_type": "stream",
          "name": "stdout",
          "text": [
            "Ice DMG\n",
            "\tattr= Crit Rate (Lv 60):\n",
            "\tvalue= 24%\n",
            "Ether DMG\n",
            "\tattr= Crit Damage (Lv 60):\n",
            "\tvalue= 48%\n",
            "Physical DMG\n",
            "\tattr= Anomaly Proficiency (Lv 60):\n",
            "\tvalue= 90\n",
            "Physical DMG\n",
            "\tattr= Crit Rate (Lv 60):\n",
            "\tvalue= 24%\n",
            "Ice DMG\n",
            "\tattr= Attack (Lv 60):\n",
            "\tvalue= 25%\n",
            "Electric DMG\n",
            "\tattr= Impact (Lv 60):\n",
            "\tvalue= 15%\n",
            "Electric DMG\n",
            "\tattr= Energy Regen (Lv 60):\n",
            "\tvalue= 50%\n",
            "Physical DMG\n",
            "\tattr= Attack (Lv 60):\n",
            "\tvalue= 25%\n",
            "Physical DMG\n",
            "\tattr= ATK (Lv 60):\n",
            "\tvalue= 25%\n",
            "Ether DMG\n",
            "\tattr= Energy Regen (Lv 60):\n",
            "\tvalue= 50%\n"
          ]
        }
      ]
    },
    {
      "cell_type": "code",
      "source": [
        "# Another challenging example\n",
        "# Lets first get the full html of the site\n",
        "\n",
        "url = \"https://www.prydwen.gg/zenless/disk-drives\"\n",
        "\n",
        "\n",
        "engines_request = requests.get(url)\n",
        "\n",
        "soup = BeautifulSoup(engines_request.content, 'html.parser')\n",
        "\n",
        "pretty_xml = soup.prettify()\n",
        "\n",
        "#print(pretty_xml)"
      ],
      "metadata": {
        "id": "3xa5pVbACU-v"
      },
      "execution_count": 41,
      "outputs": []
    },
    {
      "cell_type": "code",
      "source": [
        "# Let's dive into the things we want from the html / xml above\n",
        "\n",
        "# The parent node which contains everything\n",
        "# ...\n",
        "# < body >\n",
        "#  < div id=\"___gatsby\" >\n",
        "# ...\n",
        "\n",
        "# Use beautiful soup to find that top-level parent\n",
        "parent = soup.find(id=\"___gatsby\")\n",
        "#print(\"parent=\", parent)\n",
        "\n",
        "\n",
        "# The list of content appears to be contained in these tags\n",
        "# ...\n",
        "# < div class=\"col\" >\n",
        "#         < div class=\"zzz-disk-set\" >\n",
        "# ...\n",
        "# Use CSS selector syntax to find those nodes under the parent node\n",
        "\n",
        "disk_elements = parent.select(\"div .zzz-disk-set\")\n",
        "print(\"There are %d disk elements\" % len(disk_elements))\n",
        "\n",
        "# Now lets iterate those elements and extract what we need\n",
        "for disk_element in disk_elements:\n",
        "\n",
        "    # There identifying name appears to be in the zzz-info element under the disk_element parent\n",
        "    # ...\n",
        "    # < div class=\"zzz-disk-set\" >\n",
        "    #       < div class=\"zzz-disk-header\" >\n",
        "    # ...\n",
        "    #        < div class=\"zzz-info\" >\n",
        "    #         < h5 >\n",
        "    #          Chaos Jazz\n",
        "    #         < /h5 >\n",
        "    # ...\n",
        "    # Use CSS selector syntax to get that h5 element\n",
        "    h5 = disk_element.select_one(\"h5\")\n",
        "    name = h5.text\n",
        "    print(\"name=\", name)\n",
        "\n",
        "    # The attributes appear to be a list under the disk_element parent\n",
        "    # ...\n",
        "    # < div class=\"description\" >\n",
        "    #          Anomaly Proficiency +\n",
        "    #          < b >\n",
        "    #           30\n",
        "    #          < /b >\n",
        "    # ...\n",
        "    attributes = disk_element.select(\"div .description\")\n",
        "    print(\"\\tnum_attributes=%d\" % len(attributes))\n",
        "\n",
        "    # Iterate attributes list and extract each attribute name and value\n",
        "    for attr in attributes:\n",
        "\n",
        "        # It appears the attribute and value are formatted slightly differently\n",
        "        # hence the if-if-else below\n",
        "\n",
        "        # See if the attribute name is in a \"u\" tag\n",
        "        attr_name = attr.select_one(\"u\")\n",
        "        if attr_name:\n",
        "          attr_value = attr.select_one(\"b\")\n",
        "          print(\"\\t%s = %s\" % (attr_name.text, attr_value.text))\n",
        "          continue\n",
        "\n",
        "        # See if the attribute name is in a \"strong\" tag\n",
        "        attr_name = attr.select_one(\"strong\")\n",
        "        if attr_name:\n",
        "          attr_value = attr.select_one(\"b\")\n",
        "          print(\"\\t%s = %s\" % (attr_name.text, attr_value.text))\n",
        "          continue\n",
        "\n",
        "        # Else the attribute name is just raw text\n",
        "        else:\n",
        "          child_nodes = list(attr.children)\n",
        "          attr_value = attr.select_one(\"b\")\n",
        "          print(\"\\t%s = %s\" % (child_nodes[0], attr_value.text))\n"
      ],
      "metadata": {
        "colab": {
          "base_uri": "https://localhost:8080/"
        },
        "id": "DowjvomDDnpz",
        "outputId": "0d22419e-c12d-4eea-f0ef-bb048664dc9c"
      },
      "execution_count": 44,
      "outputs": [
        {
          "output_type": "stream",
          "name": "stdout",
          "text": [
            "There are 14 disk elements\n",
            "name= Chaos Jazz\n",
            "\tnum_attributes=2\n",
            "\tAnomaly Proficiency + = 30\n",
            "\tFire DMG = 15%\n",
            "name= Chaotic Metal\n",
            "\tnum_attributes=2\n",
            "\tEther DMG = 10%\n",
            "\tCorruption's = 20%\n",
            "name= Fanged Metal\n",
            "\tnum_attributes=2\n",
            "\tPhysical DMG = 10%\n",
            "\tAssault = 35%\n",
            "name= Freedom Blues\n",
            "\tnum_attributes=2\n",
            "\tAnomaly Proficiency + = 30\n",
            "\tWhen an EX Special Attack hits an enemy, reduce the targets Anomaly Buildup RES to equippers attribute by  = 20%\n",
            "name= Hormone Punk\n",
            "\tnum_attributes=2\n",
            "\tATK + = 10%\n",
            "\tUpon entering combat or switching in, its user's ATK increased by  = 25%\n",
            "name= Inferno Metal\n",
            "\tnum_attributes=2\n",
            "\tFire DMG = 10%\n",
            "\tBurning = 28%\n",
            "name= Polar Metal\n",
            "\tnum_attributes=2\n",
            "\tIce DMG = 10%\n",
            "\tFreeze = 20%\n",
            "name= Proto Punk\n",
            "\tnum_attributes=2\n",
            "\tShield Effect + = 15%\n",
            "\tWhen any squad member triggers a Defensive Assist or Evasive Assist, all squad members deal  = 15%\n",
            "name= Puffer Electro\n",
            "\tnum_attributes=2\n",
            "\tPEN Ratio + = 8%\n",
            "\tUltimate DMG increases by  = 20%\n",
            "name= Shockstar Disco\n",
            "\tnum_attributes=2\n",
            "\tImpact + = 6%\n",
            "\tBasic Attacks, Dash Attacks, and Dodge Counters, inflict  = 20%\n",
            "name= Soul Rock\n",
            "\tnum_attributes=2\n",
            "\tDEF + = 16%\n",
            "\tUpon receiving an enemy attack and losing HP, the equipper takes  = 40%\n",
            "name= Swing Jazz\n",
            "\tnum_attributes=2\n",
            "\tEnergy Regen + = 20%\n",
            "\tLaunching a Chain Attack or Ultimate increases all squad members' DMG by  = 15%\n",
            "name= Thunder Metal\n",
            "\tnum_attributes=2\n",
            "\tElectric DMG = 10%\n",
            "\tShocked = 28%\n",
            "name= Woodpecker Electro\n",
            "\tnum_attributes=2\n",
            "\tCRIT Rate + = 8%\n",
            "\tTriggering a critical hit with a Basic Attack, Dodge Counter or EX Special Attack increases the equippers ATK by  = 9%\n"
          ]
        }
      ]
    },
    {
      "cell_type": "code",
      "source": [],
      "metadata": {
        "id": "Dxn9_HLnHwE0"
      },
      "execution_count": null,
      "outputs": []
    },
    {
      "cell_type": "code",
      "source": [],
      "metadata": {
        "id": "kqbgi0A4GrRB"
      },
      "execution_count": null,
      "outputs": []
    }
  ]
}