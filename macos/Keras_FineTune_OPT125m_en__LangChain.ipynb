{
 "cells": [
  {
   "cell_type": "code",
   "execution_count": null,
   "id": "89141b96-e60c-4909-91ee-37aaa7383adf",
   "metadata": {},
   "outputs": [],
   "source": [
    "# This notebook demonstrates the following:\n",
    "# * Shows how to fine-tune an LLM via Keras\n",
    "# * Uses a small causal model (opt_125m_en)\n",
    "# * Doesn't require GPU/TPU ( it's fast on my macbook )\n",
    "# * Integrates with LangChain"
   ]
  },
  {
   "cell_type": "code",
   "execution_count": null,
   "id": "d2b68d11-29a0-4c0e-aa52-54b21b16d229",
   "metadata": {},
   "outputs": [],
   "source": [
    "# package imports\n",
    "# Notes:\n",
    "# * Make sure you install the packages in require\n",
    "import keras\n",
    "import keras_nlp\n",
    "from keras_nlp.models import GemmaBackbone, BertBackbone\n",
    "from keras.models import load_model\n",
    "import kagglehub"
   ]
  }
 ],
 "metadata": {
  "kernelspec": {
   "display_name": "Python 3 (ipykernel)",
   "language": "python",
   "name": "python3"
  },
  "language_info": {
   "codemirror_mode": {
    "name": "ipython",
    "version": 3
   },
   "file_extension": ".py",
   "mimetype": "text/x-python",
   "name": "python",
   "nbconvert_exporter": "python",
   "pygments_lexer": "ipython3",
   "version": "3.10.14"
  }
 },
 "nbformat": 4,
 "nbformat_minor": 5
}
