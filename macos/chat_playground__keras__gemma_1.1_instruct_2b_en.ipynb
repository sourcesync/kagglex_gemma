{
 "cells": [
  {
   "cell_type": "code",
   "execution_count": 1,
   "id": "a6e76aaa-28c1-4d11-970e-589c3520a972",
   "metadata": {},
   "outputs": [],
   "source": [
    "#\n",
    "#  This notebook demonstrates the following:\n",
    "#  * Use the Keras built-in Gemma instruction fine-tuned model ('gemma_instruct_2b_en')\n",
    "#  * Experiments with ways to integrate conversation history\n",
    "#"
   ]
  },
  {
   "cell_type": "code",
   "execution_count": 2,
   "id": "68978ced-5eec-411e-8ab2-cccf41b99fa2",
   "metadata": {},
   "outputs": [],
   "source": [
    "#  Python imports\n",
    "#\n",
    "#  Notes:\n",
    "#  * Make sure you install the packages in requirements.txt\n",
    "#  * Make sure you setup your KAGGLE secrets via env vars.\n",
    "#\n",
    "import os\n",
    "import keras\n",
    "import keras_nlp\n",
    "from keras_nlp.models import GemmaBackbone, BertBackbone\n",
    "from keras.models import load_model\n",
    "import kagglehub\n",
    "from langchain.schema.runnable import Runnable\n",
    "from typing import Any, Optional\n",
    "import tensorflow as tf\n",
    "from keras.config import disable_interactive_logging\n",
    "import gc\n",
    "from IPython.display import Markdown\n",
    "import textwrap"
   ]
  },
  {
   "cell_type": "code",
   "execution_count": 16,
   "id": "cd576401-98e8-4a07-881d-9a1424b4595f",
   "metadata": {},
   "outputs": [],
   "source": [
    "# Useful functions\n",
    "#\n",
    "def display_chat(prompt, text):\n",
    "  formatted_prompt = \"<font size='+1' color='brown'>🙋‍♂️<blockquote>\" + prompt + \"</blockquote></font>\"\n",
    "  text = text.replace('•', '  *')\n",
    "  text = textwrap.indent(text, '> ', predicate=lambda _: True)\n",
    "  formatted_text = \"<font size='+1' color='teal'>🤖<blockquote>\" + text + \"</blockquote></font>\"\n",
    "  return Markdown(formatted_prompt+formatted_text)\n",
    "def to_markdown(text):\n",
    "  text = text.replace('•', '  *')\n",
    "  return Markdown(textwrap.indent(text, '> ', predicate=lambda _: True))\n",
    "def makebold(txt):\n",
    "    return '\\x1b[1;30m'+txt+'\\x1b[0m'\n",
    "def makeblue(txt):\n",
    "    return '\\x1b[1;34m'+txt+'\\x1b[0m'\n",
    "def makegreen(txt):\n",
    "    return '\\x1b[1;32m'+txt+'\\x1b[0m'\n",
    "def makered(txt):\n",
    "    return '\\x1b[1;33m'+txt+'\\x1b[0m'"
   ]
  },
  {
   "cell_type": "code",
   "execution_count": 17,
   "id": "f1f6ac62-a729-4f9a-aca0-96d96d1e4f0b",
   "metadata": {},
   "outputs": [],
   "source": [
    "# Abstract interaction with the Gemma model\n",
    "#\n",
    "class ChatState():\n",
    "  \"\"\"\n",
    "  Manages the conversation history for a turn-based chatbot\n",
    "  Follows the turn-based conversation guidelines for the Gemma family of models\n",
    "  documented at https://ai.google.dev/gemma/docs/formatting\n",
    "  \"\"\"\n",
    "\n",
    "  __START_TURN_USER__ = \"<start_of_turn>user\\n\"\n",
    "  __START_TURN_MODEL__ = \"<start_of_turn>model\\n\"\n",
    "  __END_TURN__ = \"<end_of_turn>\\n\"\n",
    "\n",
    "  def __init__(self, model, system=\"\"):\n",
    "    \"\"\"\n",
    "    Initializes the chat state.\n",
    "\n",
    "    Args:\n",
    "        model: The language model to use for generating responses.\n",
    "        system: (Optional) System instructions or bot description.\n",
    "    \"\"\"\n",
    "    self.model = model\n",
    "    self.system = system\n",
    "    self.history = []\n",
    "\n",
    "  def add_to_history_as_user(self, message):\n",
    "      \"\"\"\n",
    "      Adds a user message to the history with start/end turn markers.\n",
    "      \"\"\"\n",
    "      self.history.append(self.__START_TURN_USER__ + message + self.__END_TURN__)\n",
    "\n",
    "  def add_to_history_as_model(self, message):\n",
    "      \"\"\"\n",
    "      Adds a model response to the history with start/end turn markers.\n",
    "      \"\"\"\n",
    "      self.history.append(self.__START_TURN_MODEL__ + message + self.__END_TURN__)\n",
    "\n",
    "  def get_history(self):\n",
    "      \"\"\"\n",
    "      Returns the entire chat history as a single string.\n",
    "      \"\"\"\n",
    "      return \"\".join([*self.history])\n",
    "\n",
    "  def get_full_prompt(self):\n",
    "    \"\"\"\n",
    "    Builds the prompt for the language model, including history and system description.\n",
    "    \"\"\"\n",
    "    prompt = self.get_history() + self.__START_TURN_MODEL__\n",
    "    if len(self.system)>0:\n",
    "      prompt = self.system + \"\\n\" + prompt\n",
    "    return prompt\n",
    "\n",
    "  def send_message(self, message):\n",
    "    \"\"\"\n",
    "    Handles sending a user message and getting a model response.\n",
    "\n",
    "    Args:\n",
    "        message: The user's message.\n",
    "\n",
    "    Returns:\n",
    "        The model's response.\n",
    "    \"\"\"\n",
    "    self.add_to_history_as_user(message)\n",
    "    prompt = self.get_full_prompt()\n",
    "    #print(makebold(\"Raw Prompt:\\n\") + makered(\"\\\"\" + prompt + \"\\\"\"))\n",
    "    response = self.model.generate(prompt, max_length=1024)\n",
    "    result = response.replace(prompt, \"\")  # Extract only the new response    \n",
    "    #print(makebold(\"Raw Response:\\n\") + makeblue(\"\\\"\" + response + \"\\\"\"))\n",
    "    self.add_to_history_as_model(result)\n",
    "    return result"
   ]
  },
  {
   "cell_type": "code",
   "execution_count": 18,
   "id": "839bb522-fc84-4e28-93df-c4a9762daf90",
   "metadata": {},
   "outputs": [],
   "source": [
    "gemma_lm = keras_nlp.models.GemmaCausalLM.from_preset(\"gemma_1.1_instruct_2b_en\")\n",
    "chat = ChatState(gemma_lm)"
   ]
  },
  {
   "cell_type": "code",
   "execution_count": 19,
   "id": "0cc9a79b-f99f-4f89-ba5f-db39b2266e9f",
   "metadata": {},
   "outputs": [
    {
     "data": {
      "text/markdown": [
       "<font size='+1' color='brown'>🙋‍♂️<blockquote>My name is Daniel.</blockquote></font><font size='+1' color='teal'>🤖<blockquote>> Hello Daniel! It's a pleasure to meet you. What would you like to talk about today?</blockquote></font>"
      ],
      "text/plain": [
       "<IPython.core.display.Markdown object>"
      ]
     },
     "execution_count": 19,
     "metadata": {},
     "output_type": "execute_result"
    }
   ],
   "source": [
    "message = \"My name is Daniel.\"\n",
    "display_chat(message, chat.send_message(message))"
   ]
  },
  {
   "cell_type": "code",
   "execution_count": 7,
   "id": "23b7663c-e689-4130-9c52-3b7ed1759624",
   "metadata": {},
   "outputs": [
    {
     "data": {
      "text/markdown": [
       "<font size='+1' color='brown'>🙋‍♂️<blockquote>What is my name?</blockquote></font><font size='+1' color='teal'>🤖<blockquote>\n",
       "\n",
       "> I do not have access to personal information or user data, including names. Therefore, I am unable to provide information regarding your name.\n",
       "</blockquote></font>"
      ],
      "text/plain": [
       "<IPython.core.display.Markdown object>"
      ]
     },
     "execution_count": 7,
     "metadata": {},
     "output_type": "execute_result"
    }
   ],
   "source": [
    "message = \"What is my name?\"\n",
    "display_chat(message, chat.send_message(message))"
   ]
  },
  {
   "cell_type": "code",
   "execution_count": 8,
   "id": "96eac0a6-6805-413d-be7d-bed081491227",
   "metadata": {},
   "outputs": [
    {
     "data": {
      "text/markdown": [
       "<font size='+1' color='brown'>🙋‍♂️<blockquote>Tell me a story.</blockquote></font><font size='+1' color='teal'>🤖<blockquote>\n",
       "\n",
       "> I would be happy to listen and tell a story if you wish. What kind of story would you like to hear?\n",
       "</blockquote></font>"
      ],
      "text/plain": [
       "<IPython.core.display.Markdown object>"
      ]
     },
     "execution_count": 8,
     "metadata": {},
     "output_type": "execute_result"
    }
   ],
   "source": [
    "message = \"Tell me a story.\"\n",
    "display_chat(message, chat.send_message(message))"
   ]
  },
  {
   "cell_type": "code",
   "execution_count": 9,
   "id": "bdd9eb0a-9970-404b-a4be-3944dcc3d4b9",
   "metadata": {},
   "outputs": [
    {
     "data": {
      "text/markdown": [
       "<font size='+1' color='brown'>🙋‍♂️<blockquote>Tell me a story about a dog.</blockquote></font><font size='+1' color='teal'>🤖<blockquote>\n",
       "\n",
       "> In a quaint village nestled amidst rolling hills, there lived an extraordinary dog named Sparky. With fur as black as night and eyes that sparkled like stars, he possessed a heart of gold and a playful spirit that brought joy to all who knew him.\n",
       "> \n",
       "> One sunny afternoon, as Sparky bounded through the park, his tail wagging furiously, he stumbled upon a group of children playing. Their laughter and shouts caught his attention, and he couldn't resist joining in the fun. As he chased after a ball, he encountered a group of puppies who were too small to see. With gentle nudges and playful nips, he helped them up and encouraged them to play.\n",
       "> \n",
       "> Through his unwavering loyalty and infectious enthusiasm, Sparky became the beloved pet of the village. Children and adults alike flocked to him for his companionship and wisdom. He taught them the importance of kindness, compassion, and the joy of giving.\n",
       "> \n",
       "> And so, Sparky's legacy lived on, inspiring generations to come. His story spread far and wide, reminding everyone that even the smallest of creatures can make a big difference.\n",
       "</blockquote></font>"
      ],
      "text/plain": [
       "<IPython.core.display.Markdown object>"
      ]
     },
     "execution_count": 9,
     "metadata": {},
     "output_type": "execute_result"
    }
   ],
   "source": [
    "message = \"Tell me a story about a dog.\"\n",
    "display_chat(message, chat.send_message(message))"
   ]
  },
  {
   "cell_type": "code",
   "execution_count": 10,
   "id": "73377985-b7b2-479a-9199-7e2cf49a26cf",
   "metadata": {},
   "outputs": [
    {
     "data": {
      "text/markdown": [
       "<font size='+1' color='brown'>🙋‍♂️<blockquote>What is my name?</blockquote></font><font size='+1' color='teal'>🤖<blockquote>\n",
       "\n",
       "> I do not have access to personal information or user data, including names. Therefore, I am unable to provide information regarding your name.\n",
       "</blockquote></font>"
      ],
      "text/plain": [
       "<IPython.core.display.Markdown object>"
      ]
     },
     "execution_count": 10,
     "metadata": {},
     "output_type": "execute_result"
    }
   ],
   "source": [
    "message = \"What is my name?\"\n",
    "display_chat(message, chat.send_message(message))"
   ]
  },
  {
   "cell_type": "code",
   "execution_count": 11,
   "id": "994087fe-6b06-4159-b4c9-d4b3a4164bed",
   "metadata": {},
   "outputs": [
    {
     "data": {
      "text/markdown": [
       "<font size='+1' color='brown'>🙋‍♂️<blockquote>Continue telling the story.</blockquote></font><font size='+1' color='teal'>🤖<blockquote>\n",
       "\n",
       "> The sun began its golden descent, casting long shadows across the rolling hills. As the last rays of sunlight faded, a group of friends gathered around a crackling bonfire, their faces illuminated by the flickering flames.\n",
       "> \n",
       "> \"Let's tell a story,\" said Emily, her voice warm and inviting. \"A story about a brave knight who saved the kingdom from a dark and evil sorcerer.\"\n",
       "> \n",
       "> The friends listened intently, their eyes wide with anticipation. Emily began her tale, describing the knight's journey, his courage, and his unwavering determination. She spoke of his battles, his triumphs, and the sacrifices he made for the greater good.\n",
       "> \n",
       "> As Emily's voice faded into the night, the friends were left with a sense of wonder and awe. They had never heard a story like this before, a story that combined adventure, magic, and the power of human spirit.\n",
       "> \n",
       "> And so, the friends sat together, lost in the world of the story, their minds racing with possibilities and their hearts filled with inspiration.\n",
       "</blockquote></font>"
      ],
      "text/plain": [
       "<IPython.core.display.Markdown object>"
      ]
     },
     "execution_count": 11,
     "metadata": {},
     "output_type": "execute_result"
    }
   ],
   "source": [
    "message = \"Continue telling the story.\"\n",
    "display_chat(message, chat.send_message(message))"
   ]
  },
  {
   "cell_type": "code",
   "execution_count": 12,
   "id": "b08ca01b-40a9-44bf-b49c-f16e1ef6351c",
   "metadata": {},
   "outputs": [
    {
     "data": {
      "text/markdown": [
       "<font size='+1' color='brown'>🙋‍♂️<blockquote>What is a library?</blockquote></font><font size='+1' color='teal'>🤖<blockquote>\n",
       "\n",
       "> A library is a building or online resource center that contains a large collection of books, journals, and other printed materials, made available to the public for free or at a reduced cost. Libraries provide access to information, education, and entertainment to individuals from all walks of life.\n",
       "> \n",
       "> Libraries offer a wide range of services, including:\n",
       "> \n",
       "> - Lending books and other materials\n",
       "> - Providing access to online resources\n",
       "> - Hosting events and programs\n",
       "> - Offering research assistance\n",
       "> - Providing meeting and study spaces\n",
       "> \n",
       "> Libraries play a vital role in promoting literacy, fostering a love of learning, and providing a space for community gathering.\n",
       "</blockquote></font>"
      ],
      "text/plain": [
       "<IPython.core.display.Markdown object>"
      ]
     },
     "execution_count": 12,
     "metadata": {},
     "output_type": "execute_result"
    }
   ],
   "source": [
    "message = \"What is a library?\"\n",
    "display_chat(message, chat.send_message(message))"
   ]
  },
  {
   "cell_type": "code",
   "execution_count": 13,
   "id": "f66f1d1b-c985-4432-817d-f80ca103b90b",
   "metadata": {},
   "outputs": [
    {
     "data": {
      "text/markdown": [
       "<font size='+1' color='brown'>🙋‍♂️<blockquote>Continue telling the story.</blockquote></font><font size='+1' color='teal'>🤖<blockquote>\n",
       "\n",
       "> The library was a beacon of knowledge and inspiration, bathed in the warm glow of countless windows. Rows upon rows of towering bookshelves held stories of every kind, from ancient classics to modern bestsellers. The air was thick with the scent of old paper and the faintest hint of old wood.\n",
       "> \n",
       "> As I wandered through the stacks, I was greeted by the warm smiles of librarians and the gentle murmur of conversations. I found a cozy corner to sit and lose myself in a book.\n",
       "> \n",
       "> With each turn of the page, I was transported to different worlds and time periods. I discovered the joys of adventure in tales of knights and dragons, the wisdom of history in the chronicles of ancient civilizations, and the power of love in the stories of romance.\n",
       "> \n",
       "> And as I sat there, lost in the pages, I felt a sense of peace and connection. The library was more than just a place to borrow books; it was a place where I could find solace, inspiration, and a community of readers.\n",
       "</blockquote></font>"
      ],
      "text/plain": [
       "<IPython.core.display.Markdown object>"
      ]
     },
     "execution_count": 13,
     "metadata": {},
     "output_type": "execute_result"
    }
   ],
   "source": [
    "message = \"Continue telling the story.\"\n",
    "display_chat(message, chat.send_message(message))"
   ]
  },
  {
   "cell_type": "code",
   "execution_count": 15,
   "id": "97105248-8f87-4ff7-bf2f-a8d251ae62ce",
   "metadata": {},
   "outputs": [
    {
     "data": {
      "text/plain": [
       "0"
      ]
     },
     "execution_count": 15,
     "metadata": {},
     "output_type": "execute_result"
    }
   ],
   "source": [
    "# Free up resources\n",
    "chat = None\n",
    "gemma_lm = None\n",
    "gc.collect()"
   ]
  },
  {
   "cell_type": "code",
   "execution_count": null,
   "id": "87c55489-8442-46a6-a206-cbc5f4a2b8db",
   "metadata": {},
   "outputs": [],
   "source": []
  }
 ],
 "metadata": {
  "kernelspec": {
   "display_name": "Python 3 (ipykernel)",
   "language": "python",
   "name": "python3"
  },
  "language_info": {
   "codemirror_mode": {
    "name": "ipython",
    "version": 3
   },
   "file_extension": ".py",
   "mimetype": "text/x-python",
   "name": "python",
   "nbconvert_exporter": "python",
   "pygments_lexer": "ipython3",
   "version": "3.10.14"
  }
 },
 "nbformat": 4,
 "nbformat_minor": 5
}
