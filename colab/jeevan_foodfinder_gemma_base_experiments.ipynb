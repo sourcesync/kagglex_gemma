{
  "nbformat": 4,
  "nbformat_minor": 0,
  "metadata": {
    "colab": {
      "provenance": [],
      "machine_shape": "hm",
      "gpuType": "A100",
      "mount_file_id": "1kDPfTNcOwKi6_yaXoTLlX-_J4mJj3Eo4",
      "authorship_tag": "ABX9TyMhASgs7iKHa9ARJr8uwX05",
      "include_colab_link": true
    },
    "kernelspec": {
      "name": "python3",
      "display_name": "Python 3"
    },
    "language_info": {
      "name": "python"
    },
    "accelerator": "GPU"
  },
  "cells": [
    {
      "cell_type": "markdown",
      "metadata": {
        "id": "view-in-github",
        "colab_type": "text"
      },
      "source": [
        "<a href=\"https://colab.research.google.com/github/sourcesync/kagglex_gemma/blob/gw%2Finitial/colab/jeevan_foodfinder_gemma_base_experiments.ipynb\" target=\"_parent\"><img src=\"https://colab.research.google.com/assets/colab-badge.svg\" alt=\"Open In Colab\"/></a>"
      ]
    },
    {
      "cell_type": "markdown",
      "source": [
        "# This notebook demonstrates the following:\n",
        "* leverages a custom web-scraped dataset created by Jeevan from KaggleX\n",
        "* fine tuning experiments on various gemma datasets"
      ],
      "metadata": {
        "id": "3VXCJp_xI_xH"
      }
    },
    {
      "cell_type": "markdown",
      "source": [
        "# Get access to Gemma via your Kaggle account:\n",
        "* Log into your Kaggle account\n",
        "* Request access to Gemma models using your Kaggle account. You can follow these instructions here: https://www.kaggle.com/code/nilaychauhan/get-started-with-gemma-using-kerasnlp\n",
        "* You need to wait for confirmation. Note that this didn't take too long for me.\n",
        "* Create an API key in your Kaggle account you will need later. You can follow these instructions here: https://christianjmills.com/posts/kaggle-obtain-api-key-tutorial/"
      ],
      "metadata": {
        "id": "rBC3tx6JJDbt"
      }
    },
    {
      "cell_type": "markdown",
      "source": [
        "# Ensure your Colab notebook can access Gemma:\n",
        "* Add the Kaggle API key into your COLAB secrets. You can follow these instructions here: https://drlee.io/how-to-use-secrets-in-google-colab-for-api-key-protection-a-guide-for-openai-huggingface-and-c1ec9e1277e0"
      ],
      "metadata": {
        "id": "jHRZudFcJSfy"
      }
    },
    {
      "cell_type": "markdown",
      "source": [
        "# Select an AI hardware accelerator\n",
        "* Select hardware options near the top right of your Colab notebook\n",
        "* I tested with A100 and it worked well. Note that I have a Colab Pro subscription."
      ],
      "metadata": {
        "id": "GfdouztyJZ2h"
      }
    },
    {
      "cell_type": "markdown",
      "source": [
        "# Install required packages"
      ],
      "metadata": {
        "id": "NsRyurnMJjS_"
      }
    },
    {
      "cell_type": "code",
      "execution_count": 1,
      "metadata": {
        "colab": {
          "base_uri": "https://localhost:8080/"
        },
        "id": "9o60hy5SIZa6",
        "outputId": "c1978c9e-3498-495b-ff3e-1d72d6e67d7a"
      },
      "outputs": [
        {
          "output_type": "stream",
          "name": "stdout",
          "text": [
            "CPU times: user 31.5 ms, sys: 5.57 ms, total: 37.1 ms\n",
            "Wall time: 4.92 s\n"
          ]
        }
      ],
      "source": [
        "%%time\n",
        "!pip install -q -U keras-nlp\n",
        "!pip install -q -U \"keras>=3.3.3\""
      ]
    },
    {
      "cell_type": "markdown",
      "source": [
        "# Import required packages\n"
      ],
      "metadata": {
        "id": "igfb7XJsJqdT"
      }
    },
    {
      "cell_type": "code",
      "source": [
        "import os\n",
        "import keras\n",
        "import keras_nlp\n",
        "from keras_nlp.models import GemmaBackbone, BertBackbone\n",
        "from keras.models import load_model\n",
        "from keras import backend as K\n",
        "import tensorflow\n",
        "from IPython.display import Markdown\n",
        "import textwrap\n",
        "from google.colab import userdata\n",
        "import json\n",
        "import pandas as pd\n",
        "import gc"
      ],
      "metadata": {
        "id": "eYk3CYLQJsOq"
      },
      "execution_count": 2,
      "outputs": []
    },
    {
      "cell_type": "markdown",
      "source": [
        "# Configure this notebook\n",
        "* set up KERAS parameters recommended by Google\n",
        "* integrate KAGGLE API secret key"
      ],
      "metadata": {
        "id": "saiHimexJvbI"
      }
    },
    {
      "cell_type": "code",
      "source": [
        "# set up KERAS parameters recommended by Google\n",
        "os.environ[\"KERAS_BACKEND\"] = \"jax\"  # Or \"torch\" or \"tensorflow\".\n",
        "os.environ[\"XLA_PYTHON_CLIENT_MEM_FRACTION\"]=\"1.00\" # Avoid memory fragmentation on JAX backend.\n",
        "\n",
        "# integrate KAGGLE API secret key\n",
        "os.environ[\"KAGGLE_USERNAME\"] = userdata.get('KAGGLE_USERNAME') # Link to KAGGLE API secret key\n",
        "os.environ[\"KAGGLE_KEY\"] = userdata.get('KAGGLE_KEY') # Link to KAGGLE API secret key"
      ],
      "metadata": {
        "id": "fnMUa4HUJ1c2"
      },
      "execution_count": 3,
      "outputs": []
    },
    {
      "cell_type": "markdown",
      "source": [
        "# Retrieve the fine-tuning dataset\n",
        "* You will need to first copy it to your gdrive\n",
        "* Then you need to mount your gdrive on the left side panel in your colab notebook\n",
        "* You will likely need to change the path to where you copied it in your gdrive"
      ],
      "metadata": {
        "id": "jbWJH_W6J8Za"
      }
    },
    {
      "cell_type": "code",
      "source": [
        "%%time\n",
        "# make sure we can access the dataset\n",
        "CSV_PATH=\"/content/drive/MyDrive/Kaggle_X/Jeevan_FoodFinder/qa_pairs_df.csv\"\n",
        "if not os.path.exists(CSV_PATH):\n",
        "  raise Exception(\"Could not find the dataset.\")\n",
        "else:\n",
        "  print(\"Found the dataset.\")\n",
        "\n",
        "# load it via pandas and summarize\n",
        "pd.set_option('display.max_colwidth', None)\n",
        "df = pd.read_csv(CSV_PATH)\n",
        "df.describe()"
      ],
      "metadata": {
        "colab": {
          "base_uri": "https://localhost:8080/",
          "height": 228
        },
        "id": "MitVkq-aKKtL",
        "outputId": "e580c437-15db-47c5-893b-cb050ffa6d1c"
      },
      "execution_count": 4,
      "outputs": [
        {
          "output_type": "stream",
          "name": "stdout",
          "text": [
            "Found the dataset.\n",
            "CPU times: user 13.7 ms, sys: 3.03 ms, total: 16.7 ms\n",
            "Wall time: 18.5 ms\n"
          ]
        },
        {
          "output_type": "execute_result",
          "data": {
            "text/plain": [
              "                                                                     question  \\\n",
              "count                                                                    1121   \n",
              "unique                                                                    717   \n",
              "top     What are the overall views of the customers on Sushi Zai in location?   \n",
              "freq                                                                        5   \n",
              "\n",
              "                                           answer  \n",
              "count                                        1121  \n",
              "unique                                        772  \n",
              "top     Sake (Nihonshu),Shochu (Japanese spirits)  \n",
              "freq                                           39  "
            ],
            "text/html": [
              "\n",
              "  <div id=\"df-e2dd4b9f-8879-4867-8675-14b91db93603\" class=\"colab-df-container\">\n",
              "    <div>\n",
              "<style scoped>\n",
              "    .dataframe tbody tr th:only-of-type {\n",
              "        vertical-align: middle;\n",
              "    }\n",
              "\n",
              "    .dataframe tbody tr th {\n",
              "        vertical-align: top;\n",
              "    }\n",
              "\n",
              "    .dataframe thead th {\n",
              "        text-align: right;\n",
              "    }\n",
              "</style>\n",
              "<table border=\"1\" class=\"dataframe\">\n",
              "  <thead>\n",
              "    <tr style=\"text-align: right;\">\n",
              "      <th></th>\n",
              "      <th>question</th>\n",
              "      <th>answer</th>\n",
              "    </tr>\n",
              "  </thead>\n",
              "  <tbody>\n",
              "    <tr>\n",
              "      <th>count</th>\n",
              "      <td>1121</td>\n",
              "      <td>1121</td>\n",
              "    </tr>\n",
              "    <tr>\n",
              "      <th>unique</th>\n",
              "      <td>717</td>\n",
              "      <td>772</td>\n",
              "    </tr>\n",
              "    <tr>\n",
              "      <th>top</th>\n",
              "      <td>What are the overall views of the customers on Sushi Zai in location?</td>\n",
              "      <td>Sake (Nihonshu),Shochu (Japanese spirits)</td>\n",
              "    </tr>\n",
              "    <tr>\n",
              "      <th>freq</th>\n",
              "      <td>5</td>\n",
              "      <td>39</td>\n",
              "    </tr>\n",
              "  </tbody>\n",
              "</table>\n",
              "</div>\n",
              "    <div class=\"colab-df-buttons\">\n",
              "\n",
              "  <div class=\"colab-df-container\">\n",
              "    <button class=\"colab-df-convert\" onclick=\"convertToInteractive('df-e2dd4b9f-8879-4867-8675-14b91db93603')\"\n",
              "            title=\"Convert this dataframe to an interactive table.\"\n",
              "            style=\"display:none;\">\n",
              "\n",
              "  <svg xmlns=\"http://www.w3.org/2000/svg\" height=\"24px\" viewBox=\"0 -960 960 960\">\n",
              "    <path d=\"M120-120v-720h720v720H120Zm60-500h600v-160H180v160Zm220 220h160v-160H400v160Zm0 220h160v-160H400v160ZM180-400h160v-160H180v160Zm440 0h160v-160H620v160ZM180-180h160v-160H180v160Zm440 0h160v-160H620v160Z\"/>\n",
              "  </svg>\n",
              "    </button>\n",
              "\n",
              "  <style>\n",
              "    .colab-df-container {\n",
              "      display:flex;\n",
              "      gap: 12px;\n",
              "    }\n",
              "\n",
              "    .colab-df-convert {\n",
              "      background-color: #E8F0FE;\n",
              "      border: none;\n",
              "      border-radius: 50%;\n",
              "      cursor: pointer;\n",
              "      display: none;\n",
              "      fill: #1967D2;\n",
              "      height: 32px;\n",
              "      padding: 0 0 0 0;\n",
              "      width: 32px;\n",
              "    }\n",
              "\n",
              "    .colab-df-convert:hover {\n",
              "      background-color: #E2EBFA;\n",
              "      box-shadow: 0px 1px 2px rgba(60, 64, 67, 0.3), 0px 1px 3px 1px rgba(60, 64, 67, 0.15);\n",
              "      fill: #174EA6;\n",
              "    }\n",
              "\n",
              "    .colab-df-buttons div {\n",
              "      margin-bottom: 4px;\n",
              "    }\n",
              "\n",
              "    [theme=dark] .colab-df-convert {\n",
              "      background-color: #3B4455;\n",
              "      fill: #D2E3FC;\n",
              "    }\n",
              "\n",
              "    [theme=dark] .colab-df-convert:hover {\n",
              "      background-color: #434B5C;\n",
              "      box-shadow: 0px 1px 3px 1px rgba(0, 0, 0, 0.15);\n",
              "      filter: drop-shadow(0px 1px 2px rgba(0, 0, 0, 0.3));\n",
              "      fill: #FFFFFF;\n",
              "    }\n",
              "  </style>\n",
              "\n",
              "    <script>\n",
              "      const buttonEl =\n",
              "        document.querySelector('#df-e2dd4b9f-8879-4867-8675-14b91db93603 button.colab-df-convert');\n",
              "      buttonEl.style.display =\n",
              "        google.colab.kernel.accessAllowed ? 'block' : 'none';\n",
              "\n",
              "      async function convertToInteractive(key) {\n",
              "        const element = document.querySelector('#df-e2dd4b9f-8879-4867-8675-14b91db93603');\n",
              "        const dataTable =\n",
              "          await google.colab.kernel.invokeFunction('convertToInteractive',\n",
              "                                                    [key], {});\n",
              "        if (!dataTable) return;\n",
              "\n",
              "        const docLinkHtml = 'Like what you see? Visit the ' +\n",
              "          '<a target=\"_blank\" href=https://colab.research.google.com/notebooks/data_table.ipynb>data table notebook</a>'\n",
              "          + ' to learn more about interactive tables.';\n",
              "        element.innerHTML = '';\n",
              "        dataTable['output_type'] = 'display_data';\n",
              "        await google.colab.output.renderOutput(dataTable, element);\n",
              "        const docLink = document.createElement('div');\n",
              "        docLink.innerHTML = docLinkHtml;\n",
              "        element.appendChild(docLink);\n",
              "      }\n",
              "    </script>\n",
              "  </div>\n",
              "\n",
              "\n",
              "<div id=\"df-01406766-a2db-42d4-8c3f-4467054ebe1f\">\n",
              "  <button class=\"colab-df-quickchart\" onclick=\"quickchart('df-01406766-a2db-42d4-8c3f-4467054ebe1f')\"\n",
              "            title=\"Suggest charts\"\n",
              "            style=\"display:none;\">\n",
              "\n",
              "<svg xmlns=\"http://www.w3.org/2000/svg\" height=\"24px\"viewBox=\"0 0 24 24\"\n",
              "     width=\"24px\">\n",
              "    <g>\n",
              "        <path d=\"M19 3H5c-1.1 0-2 .9-2 2v14c0 1.1.9 2 2 2h14c1.1 0 2-.9 2-2V5c0-1.1-.9-2-2-2zM9 17H7v-7h2v7zm4 0h-2V7h2v10zm4 0h-2v-4h2v4z\"/>\n",
              "    </g>\n",
              "</svg>\n",
              "  </button>\n",
              "\n",
              "<style>\n",
              "  .colab-df-quickchart {\n",
              "      --bg-color: #E8F0FE;\n",
              "      --fill-color: #1967D2;\n",
              "      --hover-bg-color: #E2EBFA;\n",
              "      --hover-fill-color: #174EA6;\n",
              "      --disabled-fill-color: #AAA;\n",
              "      --disabled-bg-color: #DDD;\n",
              "  }\n",
              "\n",
              "  [theme=dark] .colab-df-quickchart {\n",
              "      --bg-color: #3B4455;\n",
              "      --fill-color: #D2E3FC;\n",
              "      --hover-bg-color: #434B5C;\n",
              "      --hover-fill-color: #FFFFFF;\n",
              "      --disabled-bg-color: #3B4455;\n",
              "      --disabled-fill-color: #666;\n",
              "  }\n",
              "\n",
              "  .colab-df-quickchart {\n",
              "    background-color: var(--bg-color);\n",
              "    border: none;\n",
              "    border-radius: 50%;\n",
              "    cursor: pointer;\n",
              "    display: none;\n",
              "    fill: var(--fill-color);\n",
              "    height: 32px;\n",
              "    padding: 0;\n",
              "    width: 32px;\n",
              "  }\n",
              "\n",
              "  .colab-df-quickchart:hover {\n",
              "    background-color: var(--hover-bg-color);\n",
              "    box-shadow: 0 1px 2px rgba(60, 64, 67, 0.3), 0 1px 3px 1px rgba(60, 64, 67, 0.15);\n",
              "    fill: var(--button-hover-fill-color);\n",
              "  }\n",
              "\n",
              "  .colab-df-quickchart-complete:disabled,\n",
              "  .colab-df-quickchart-complete:disabled:hover {\n",
              "    background-color: var(--disabled-bg-color);\n",
              "    fill: var(--disabled-fill-color);\n",
              "    box-shadow: none;\n",
              "  }\n",
              "\n",
              "  .colab-df-spinner {\n",
              "    border: 2px solid var(--fill-color);\n",
              "    border-color: transparent;\n",
              "    border-bottom-color: var(--fill-color);\n",
              "    animation:\n",
              "      spin 1s steps(1) infinite;\n",
              "  }\n",
              "\n",
              "  @keyframes spin {\n",
              "    0% {\n",
              "      border-color: transparent;\n",
              "      border-bottom-color: var(--fill-color);\n",
              "      border-left-color: var(--fill-color);\n",
              "    }\n",
              "    20% {\n",
              "      border-color: transparent;\n",
              "      border-left-color: var(--fill-color);\n",
              "      border-top-color: var(--fill-color);\n",
              "    }\n",
              "    30% {\n",
              "      border-color: transparent;\n",
              "      border-left-color: var(--fill-color);\n",
              "      border-top-color: var(--fill-color);\n",
              "      border-right-color: var(--fill-color);\n",
              "    }\n",
              "    40% {\n",
              "      border-color: transparent;\n",
              "      border-right-color: var(--fill-color);\n",
              "      border-top-color: var(--fill-color);\n",
              "    }\n",
              "    60% {\n",
              "      border-color: transparent;\n",
              "      border-right-color: var(--fill-color);\n",
              "    }\n",
              "    80% {\n",
              "      border-color: transparent;\n",
              "      border-right-color: var(--fill-color);\n",
              "      border-bottom-color: var(--fill-color);\n",
              "    }\n",
              "    90% {\n",
              "      border-color: transparent;\n",
              "      border-bottom-color: var(--fill-color);\n",
              "    }\n",
              "  }\n",
              "</style>\n",
              "\n",
              "  <script>\n",
              "    async function quickchart(key) {\n",
              "      const quickchartButtonEl =\n",
              "        document.querySelector('#' + key + ' button');\n",
              "      quickchartButtonEl.disabled = true;  // To prevent multiple clicks.\n",
              "      quickchartButtonEl.classList.add('colab-df-spinner');\n",
              "      try {\n",
              "        const charts = await google.colab.kernel.invokeFunction(\n",
              "            'suggestCharts', [key], {});\n",
              "      } catch (error) {\n",
              "        console.error('Error during call to suggestCharts:', error);\n",
              "      }\n",
              "      quickchartButtonEl.classList.remove('colab-df-spinner');\n",
              "      quickchartButtonEl.classList.add('colab-df-quickchart-complete');\n",
              "    }\n",
              "    (() => {\n",
              "      let quickchartButtonEl =\n",
              "        document.querySelector('#df-01406766-a2db-42d4-8c3f-4467054ebe1f button');\n",
              "      quickchartButtonEl.style.display =\n",
              "        google.colab.kernel.accessAllowed ? 'block' : 'none';\n",
              "    })();\n",
              "  </script>\n",
              "</div>\n",
              "\n",
              "    </div>\n",
              "  </div>\n"
            ],
            "application/vnd.google.colaboratory.intrinsic+json": {
              "type": "dataframe",
              "summary": "{\n  \"name\": \"get_ipython()\",\n  \"rows\": 4,\n  \"fields\": [\n    {\n      \"column\": \"question\",\n      \"properties\": {\n        \"dtype\": \"string\",\n        \"num_unique_values\": 4,\n        \"samples\": [\n          717,\n          \"5\",\n          \"1121\"\n        ],\n        \"semantic_type\": \"\",\n        \"description\": \"\"\n      }\n    },\n    {\n      \"column\": \"answer\",\n      \"properties\": {\n        \"dtype\": \"string\",\n        \"num_unique_values\": 4,\n        \"samples\": [\n          772,\n          \"39\",\n          \"1121\"\n        ],\n        \"semantic_type\": \"\",\n        \"description\": \"\"\n      }\n    }\n  ]\n}"
            }
          },
          "metadata": {},
          "execution_count": 4
        }
      ]
    },
    {
      "cell_type": "markdown",
      "source": [
        "# Define some useful functions"
      ],
      "metadata": {
        "id": "lqHQAMNTMzWV"
      }
    },
    {
      "cell_type": "code",
      "source": [
        "def display_chat(prompt, response):\n",
        "  '''Displays an LLM prompt and response in a pretty way.'''\n",
        "  prompt = prompt.replace('\\n\\n','<br><br>')\n",
        "  prompt = prompt.replace('\\n','<br>')\n",
        "  formatted_prompt = \"<font size='+1' color='brown'>🙋‍♂️<blockquote>\" + prompt + \"</blockquote></font>\"\n",
        "  response = response.replace('•', '  *')\n",
        "  response = textwrap.indent(response, '', predicate=lambda _: True)\n",
        "  response = response.replace('\\n\\n','<br><br>')\n",
        "  response = response.replace('\\n','<br>')\n",
        "  response = response.replace(\"```\",\"\")\n",
        "  formatted_text = \"<font size='+1' color='teal'>🤖<blockquote>\" + response + \"</blockquote></font>\"\n",
        "  return Markdown(formatted_prompt+formatted_text)"
      ],
      "metadata": {
        "id": "3BztTot9M13E"
      },
      "execution_count": 4,
      "outputs": []
    },
    {
      "cell_type": "markdown",
      "source": [
        "# Before fine-tuning, let's try various Gemma models\n",
        "* using models listed here: https://keras.io/api/keras_nlp/models/gemma/gemma_backbone/#gemmabackbone-class\n",
        "* note that not all models listed fit into 1 A100 GPU provided by colab\n"
      ],
      "metadata": {
        "id": "K0_eBy4tN89P"
      }
    },
    {
      "cell_type": "code",
      "source": [
        "# Here is the prompt we will try\n",
        "prompt = \"What should I eat in Japan?\""
      ],
      "metadata": {
        "id": "QCMRF0v9QL6k"
      },
      "execution_count": 5,
      "outputs": []
    },
    {
      "cell_type": "markdown",
      "source": [
        "# Load Gemma 2B base"
      ],
      "metadata": {
        "id": "vRzQ__Z5KIPQ"
      }
    },
    {
      "cell_type": "code",
      "source": [
        "%%time\n",
        "gemma_lm = keras_nlp.models.GemmaCausalLM.from_preset(\"gemma_2b_en\")"
      ],
      "metadata": {
        "colab": {
          "base_uri": "https://localhost:8080/"
        },
        "id": "ucQenFqCMsoI",
        "outputId": "786ffdba-8f32-4a17-d409-eb1ce81892f4"
      },
      "execution_count": 7,
      "outputs": [
        {
          "output_type": "stream",
          "name": "stdout",
          "text": [
            "CPU times: user 9.42 s, sys: 10.1 s, total: 19.5 s\n",
            "Wall time: 48 s\n"
          ]
        }
      ]
    },
    {
      "cell_type": "markdown",
      "source": [
        "# Test a simple query on Gemma 2B base"
      ],
      "metadata": {
        "id": "dokS5SuTNLty"
      }
    },
    {
      "cell_type": "code",
      "source": [
        "%%time\n",
        "completion = gemma_lm.generate(prompt,max_length=1024)\n",
        "response = completion.replace(prompt, \"\")\n",
        "display_chat(prompt, response)\n"
      ],
      "metadata": {
        "colab": {
          "base_uri": "https://localhost:8080/",
          "height": 1000
        },
        "id": "UO9_G_mxNPVG",
        "outputId": "3282ca03-5ff4-4ee5-f337-f05ce75308c2"
      },
      "execution_count": 8,
      "outputs": [
        {
          "output_type": "stream",
          "name": "stdout",
          "text": [
            "CPU times: user 1min 8s, sys: 1 s, total: 1min 9s\n",
            "Wall time: 35.5 s\n"
          ]
        },
        {
          "output_type": "execute_result",
          "data": {
            "text/plain": [
              "<IPython.core.display.Markdown object>"
            ],
            "text/markdown": "<font size='+1' color='brown'>🙋‍♂️<blockquote>What should I eat in Japan?</blockquote></font><font size='+1' color='teal'>🤖<blockquote><br><br>This is a question that many people ask when they visit Japan. There are many different types of food in Japan, and it can be difficult to know what to eat. In this article, we will discuss some of the most popular foods in Japan and what you should eat in Japan.<br><br><h2>What is the most popular food in Japan?</h2><br><br>There are many different types of food in Japan, but some of the most popular include sushi, ramen, and okonomiyaki. Sushi is a type of Japanese cuisine that consists of rice and fish or other ingredients that have been rolled into a ball and then dipped in a sauce. Ramen is a type of noodle soup that is typically made with pork or chicken broth, noodles, and vegetables. Okonomiyaki is a type of Japanese pancake that is made with flour, eggs, and various other ingredients.<br><br><h2>What is the most popular drink in Japan?</h2><br><br>There are many different types of drinks in Japan, but some of the most popular include coffee, tea, and beer. Coffee is a popular drink in Japan, and there are many different types of coffee shops to choose from. Tea is also a popular drink in Japan, and there are many different types of tea to choose from. Beer is a popular drink in Japan, and there are many different types of beer to choose from.<br><br><h2>What is the most popular dessert in Japan?</h2><br><br>There are many different types of desserts in Japan, but some of the most popular include mochi, ice cream, and cheesecake. Mochi is a type of Japanese rice cake that is typically made with glutinous rice and is often served with ice cream or other toppings. Ice cream is a popular dessert in Japan, and there are many different types of ice cream to choose from. Cheesecake is a type of cake that is typically made with cream cheese and is often served with fruit or other toppings.<br><br><h2>What is the most popular food in Japan?</h2><br><br>There are many different types of food in Japan, but some of the most popular include sushi, ramen, and okonomiyaki. Sushi is a type of Japanese cuisine that consists of rice and fish or other ingredients that have been rolled into a ball and then dipped in a sauce. Ramen is a type of noodle soup that is typically made with pork or chicken broth, noodles, and vegetables. Okonomiyaki is a type of Japanese pancake that is made with flour, eggs, and various other ingredients.<br><br><h2>What is the most popular drink in Japan?</h2><br><br>There are many different types of drinks in Japan, but some of the most popular include coffee, tea, and beer. Coffee is a popular drink in Japan, and there are many different types of coffee shops to choose from. Tea is also a popular drink in Japan, and there are many different types of tea to choose from. Beer is a popular drink in Japan, and there are many different types of beer to choose from.<br><br><h2>What is the most popular dessert in Japan?</h2><br><br>There are many different types of desserts in Japan, but some of the most popular include mochi, ice cream, and cheesecake. Mochi is a type of Japanese rice cake that is typically made with glutinous rice and is often served with ice cream or other toppings. Ice cream is a popular dessert in Japan, and there are many different types of ice cream to choose from. Cheesecake is a type of cake that is typically made with cream cheese and is often served with fruit or other toppings.<br><br><h2>What is the most popular food in the world?</h2><br><br>There is no definitive answer to this question as it depends on personal preferences and cultural influences. However, some of the most popular foods in the world include pizza, sushi, and tacos.<br><br><h2>What is the most popular drink in the world?</h2><br><br>There is no definitive answer to this question as it depends on personal preferences and cultural influences. However, some of the most popular drinks in the world include coffee, tea, and beer.<br><br><h2>What is the most popular food in the world?</h2><br><br>There is no definitive answer to this question as it depends on personal preferences and cultural influences. However, some of the most popular foods in the world include pizza, sushi, and tacos.<br><br><h2>What is the most popular drink in the world?</h2><br><br>There is no definitive answer to this question as it depends on personal preferences and cultural influences. However, some of the most popular drinks in the world include coffee, tea, and beer.<br><br><h2>What is the most popular food in the world?</h2><br><br>There is no definitive answer to this question as it depends on personal preferences and cultural influences. However, some of the most popular foods in the world include pizza, sushi, and tacos.<br><br><h2>What is the most popular drink in the world?</h2><br><br>There is no definitive answer to this question as it depends on personal preferences and cultural influences. However, some of the most popular drinks in the world include coffee, tea, and beer.<br><br><h2></blockquote></font>"
          },
          "metadata": {},
          "execution_count": 8
        }
      ]
    },
    {
      "cell_type": "markdown",
      "source": [
        "# Load Gemma 2B instruct"
      ],
      "metadata": {
        "id": "wpkyp-HjPDHo"
      }
    },
    {
      "cell_type": "code",
      "source": [
        "%%time\n",
        "# release prevous model's (GPU) memory resources\n",
        "gemma_lm = None\n",
        "gc.collect()\n",
        "# load the new model\n",
        "gemma_lm = keras_nlp.models.GemmaCausalLM.from_preset(\"gemma_instruct_2b_en\")"
      ],
      "metadata": {
        "colab": {
          "base_uri": "https://localhost:8080/"
        },
        "id": "JH9VhzbbPoxp",
        "outputId": "1b71c729-b173-4c71-fd96-cf2bc7595f0b"
      },
      "execution_count": 9,
      "outputs": [
        {
          "output_type": "stream",
          "name": "stdout",
          "text": [
            "CPU times: user 8.45 s, sys: 7.14 s, total: 15.6 s\n",
            "Wall time: 16.3 s\n"
          ]
        }
      ]
    },
    {
      "cell_type": "markdown",
      "source": [
        "# Test a simple query on Gemma 2B instruct"
      ],
      "metadata": {
        "id": "TRPTQcfmPyF7"
      }
    },
    {
      "cell_type": "code",
      "source": [
        "%%time\n",
        "completion = gemma_lm.generate(prompt,max_length=1024)\n",
        "response = completion.replace(prompt, \"\")\n",
        "display_chat(prompt, response)"
      ],
      "metadata": {
        "colab": {
          "base_uri": "https://localhost:8080/",
          "height": 1000
        },
        "id": "A5xq6OXRPvDd",
        "outputId": "9d8fe1d8-70e8-4f0f-fbc5-b2eae59b2fe3"
      },
      "execution_count": 10,
      "outputs": [
        {
          "output_type": "stream",
          "name": "stdout",
          "text": [
            "CPU times: user 22.7 s, sys: 577 ms, total: 23.3 s\n",
            "Wall time: 22.6 s\n"
          ]
        },
        {
          "output_type": "execute_result",
          "data": {
            "text/plain": [
              "<IPython.core.display.Markdown object>"
            ],
            "text/markdown": "<font size='+1' color='brown'>🙋‍♂️<blockquote>What should I eat in Japan?</blockquote></font><font size='+1' color='teal'>🤖<blockquote><br><br>**Popular Japanese Cuisine:**<br><br>* **Sushi:** Raw fish served with rice and soy sauce.<br>* **Sashimi:** Raw fish served with soy sauce.<br>* **Tempura:** Deep-fried seafood or vegetables.<br>* **Yakitori:** Grilled skewers of chicken or vegetables.<br>* **Ramen:** Noodle soup with a variety of toppings.<br>* **Udon:** Noodle soup with wheat noodles.<br>* **Congee:** Noodle soup with rice noodles.<br>* **Sukiyaki:** A hot pot dish with meat, vegetables, and noodles.<br><br>**Other Traditional Japanese Dishes:**<br><br>* **Takoyaki:** Octopus balls in a savory sauce.<br>* **Kimchi:** Fermented cabbage with a spicy and sour flavor.<br>* **Unagi:** Grilled eel.<br>* **Tsukune:** Grilled pork belly.<br>* **Yakimochi:** Rice cakes filled with meat or seafood.<br><br>**Modern Japanese Cuisine:**<br><br>* **Sushi:** Modernized sushi with creative and innovative dishes.<br>* **Ramen:** Innovative ramen dishes with unique flavors and toppings.<br>* **Kaiten-zushi:** Sushi that is served on a plate with a variety of toppings.<br>* **Shabu-shabu:** Hot pot with simmering broth and vegetables.<br>* **Tempura:** Modernized tempura with a focus on quality and presentation.<br><br>**Regional Specialties:**<br><br>* **Okonomiyaki:** Savory pancake made with flour, eggs, and vegetables.<br>* **Kushikatsu:** Deep-fried skewers of meat or vegetables.<br>* **Yakisoba:** Noodles with a pork-based sauce.<br>* **Takoyaki:** A popular street food in Osaka and other cities.<br><br>**Tips for Eating in Japan:**<br><br>* **Be mindful of your portion sizes.** Japanese food is often very filling, so it's important to pace yourself.<br>* **Use chopsticks and a spoon together.** This is the traditional way to eat Japanese food.<br>* **Don't be afraid to ask for recommendations.** The staff in Japanese restaurants are often happy to help you choose a dish that you will enjoy.<br>* **Be aware of the hygiene standards in Japanese restaurants.** Food is handled very carefully, and you should always wash your hands before eating.<br>* **Enjoy the experience!** Eating in Japan is a unique and cultural experience, so relax and enjoy the food and the company.</blockquote></font>"
          },
          "metadata": {},
          "execution_count": 10
        }
      ]
    },
    {
      "cell_type": "markdown",
      "source": [
        "# Load Gemma 1.1 2B instruct"
      ],
      "metadata": {
        "id": "ByN5dEJEP229"
      }
    },
    {
      "cell_type": "code",
      "source": [
        "%%time\n",
        "# release prevous model's (GPU) memory resources\n",
        "gemma_lm = None\n",
        "gc.collect()\n",
        "# load the new model\n",
        "gemma_lm = keras_nlp.models.GemmaCausalLM.from_preset(\"gemma_1.1_instruct_2b_en\")"
      ],
      "metadata": {
        "colab": {
          "base_uri": "https://localhost:8080/"
        },
        "id": "SN7JTXk1P-tO",
        "outputId": "bbfb7813-a99e-445c-f484-734f4b12500b"
      },
      "execution_count": 11,
      "outputs": [
        {
          "output_type": "stream",
          "name": "stdout",
          "text": [
            "CPU times: user 9.34 s, sys: 5.29 s, total: 14.6 s\n",
            "Wall time: 40.9 s\n"
          ]
        }
      ]
    },
    {
      "cell_type": "markdown",
      "source": [
        "# Test a simple query on Gemma 1.1 2B instruct"
      ],
      "metadata": {
        "id": "k8njIvUrQVaz"
      }
    },
    {
      "cell_type": "code",
      "source": [
        "%%time\n",
        "completion = gemma_lm.generate(prompt,max_length=1024)\n",
        "response = completion.replace(prompt, \"\")\n",
        "display_chat(prompt, response)"
      ],
      "metadata": {
        "colab": {
          "base_uri": "https://localhost:8080/",
          "height": 1000
        },
        "id": "xALQDmqvQi6D",
        "outputId": "293aa016-ff10-412d-9862-7068b959d1d9"
      },
      "execution_count": 12,
      "outputs": [
        {
          "output_type": "stream",
          "name": "stdout",
          "text": [
            "CPU times: user 21.3 s, sys: 417 ms, total: 21.7 s\n",
            "Wall time: 21.1 s\n"
          ]
        },
        {
          "output_type": "execute_result",
          "data": {
            "text/plain": [
              "<IPython.core.display.Markdown object>"
            ],
            "text/markdown": "<font size='+1' color='brown'>🙋‍♂️<blockquote>What should I eat in Japan?</blockquote></font><font size='+1' color='teal'>🤖<blockquote><br><br>**Popular Dishes:**<br><br>* Sushi<br>* Ramen<br>* Tempura<br>* Soba<br>* Yakitori<br>* Tempura<br>* Okonomiyaki<br><br>**Regional Specialties:**<br><br>* Hokkaido: Seafood dishes<br>* Kansai: Okonomiyaki and takoyaki<br>* Okinawa: Okonomiyaki and sweet potato dishes<br>* Hiroshima: Hiroshima ramen<br>* Fukuoka: Hakata ramen<br>* Hokkaido: Miso soup<br><br>**Dietary Preferences:**<br><br>* Vegetarian: Tofu, vegetables, miso soup<br>* Vegan: Tofu, vegetables, seaweed, sweet potatoes<br><br>**Tips:**<br><br>* Explore local markets for fresh ingredients.<br>* Try street food for authentic experiences.<br>* Consider a set meal for convenience.<br>* Learn basic Japanese phrases for better dining experience.<br><br><br>**Additional Recommendations:**<br><br>* **Sushi:** Edomae sushi (raw sushi), nigiri sushi (rolled sushi), sashimi<br>* **Ramen:** Different regional variations, often spicy<br>* **Tempura:** Deep-fried seafood and vegetables<br>* **Okonomiyaki:** Savory pancake with various fillings<br>* **Yakitori:** Grilled skewers of meat and vegetables<br>* **Soba:** Wheat noodles with various toppings<br>* **Hiroshima Ramen:** Thick, flavorful broth with pork belly<br>* **Hakata Ramen:** Spicy and flavorful broth with pork belly<br><br><br>**Tips for Vegetarians:**<br><br>* Tofu is a staple ingredient in Japanese cuisine.<br>* Vegetables are widely available and delicious.<br>* Miso soup is a hearty and flavorful vegetarian dish.<br>* Tofu dishes are often seasoned with soy sauce, ginger, and garlic.<br><br><br>**Additional Tips:**<br><br>* Drink Japanese tea or coffee with meals.<br>* Use chopsticks to eat.<br>* Learn basic Japanese etiquette before dining.</blockquote></font>"
          },
          "metadata": {},
          "execution_count": 12
        }
      ]
    },
    {
      "cell_type": "markdown",
      "source": [
        "# Load Gemma 2 2B base"
      ],
      "metadata": {
        "id": "DLIRqvv4QpxQ"
      }
    },
    {
      "cell_type": "code",
      "source": [
        "%%time\n",
        "# release prevous model's (GPU) memory resources\n",
        "gemma_lm = None\n",
        "gc.collect()\n",
        "# load the new model\n",
        "gemma_lm = keras_nlp.models.GemmaCausalLM.from_preset(\"gemma2_2b_en\")"
      ],
      "metadata": {
        "colab": {
          "base_uri": "https://localhost:8080/"
        },
        "id": "hOB5i1h4Qwrg",
        "outputId": "ba8d3df3-065c-4853-a34f-681d16bc9a97"
      },
      "execution_count": 13,
      "outputs": [
        {
          "output_type": "stream",
          "name": "stdout",
          "text": [
            "CPU times: user 9.82 s, sys: 9.2 s, total: 19 s\n",
            "Wall time: 47.5 s\n"
          ]
        }
      ]
    },
    {
      "cell_type": "markdown",
      "source": [
        "# Test a simple query on Gemma 2 2B base"
      ],
      "metadata": {
        "id": "VZPrnXR-Q4on"
      }
    },
    {
      "cell_type": "code",
      "source": [
        "%%time\n",
        "completion = gemma_lm.generate(prompt,max_length=1024)\n",
        "response = completion.replace(prompt, \"\")\n",
        "display_chat(prompt, response)"
      ],
      "metadata": {
        "colab": {
          "base_uri": "https://localhost:8080/",
          "height": 837
        },
        "id": "XVwsZCZBQ8ce",
        "outputId": "9c897a57-7555-4131-d023-0dd373a9f739"
      },
      "execution_count": 14,
      "outputs": [
        {
          "output_type": "stream",
          "name": "stdout",
          "text": [
            "CPU times: user 2min 11s, sys: 1.03 s, total: 2min 12s\n",
            "Wall time: 1min\n"
          ]
        },
        {
          "output_type": "execute_result",
          "data": {
            "text/plain": [
              "<IPython.core.display.Markdown object>"
            ],
            "text/markdown": "<font size='+1' color='brown'>🙋‍♂️<blockquote>What should I eat in Japan?</blockquote></font><font size='+1' color='teal'>🤖<blockquote><br><br>[User 0001]<br><br>I'm going to Japan in a few weeks and I'm wondering what I should eat while I'm there. I'm not a big fan of sushi, but I'm sure I'll eat it. I'm also not a big fan of ramen, but I'm sure I'll eat it. I'm also not a big fan of curry, but I'm sure I'll eat it. I'm also not a big fan of tempura, but I'm sure I'll eat it. I'm also not a big fan of yakitori, but I'm sure I'll eat it. I'm also not a big fan of okonomiyaki, but I'm sure I'll eat it. I'm also not a big fan of takoyaki, but I'm sure I'll eat it. I'm also not a big fan of gyoza, but I'm sure I'll eat it. I'm also not a big fan of yakitori, but I'm sure I'll eat it. I'm also not a big fan of okonomiyaki, but I'm sure I'll eat it. I'm also not a big fan of takoyaki, but I'm sure I'll eat it. I'm also not a big fan of gyoza, but I'm sure I'll eat it. I'm also not a big fan of yakitori, but I'm sure I'll eat it. I'm also not a big fan of okonomiyaki, but I'm sure I'll eat it. I'm also not a big fan of takoyaki, but I'm sure I'll eat it. I'm also not a big fan of gyoza, but I'm sure I'll eat it. I'm also not a big fan of yakitori, but I'm sure I'll eat it. I'm also not a big fan of okonomiyaki, but I'm sure I'll eat it. I'm also not a big fan of takoyaki, but I'm sure I'll eat it. I'm also not a big fan of gyoza, but I'm sure I'll eat it. I'm also not a big fan of yakitori, but I'm sure I'll eat it. I'm also not a big fan of okonomiyaki, but I'm sure I'll eat it. I'm also not a big fan of takoyaki, but I'm sure I'll eat it. I'm also not a big fan of gyoza, but I'm sure I'll eat it. I'm also not a big fan of yakitori, but I'm sure I'll eat it. I'm also not a big fan of okonomiyaki, but I'm sure I'll eat it. I'm also not a big fan of takoyaki, but I'm sure I'll eat it. I'm also not a big fan of gyoza, but I'm sure I'll eat it. I'm also not a big fan of yakitori, but I'm sure I'll eat it. I'm also not a big fan of okonomiyaki, but I'm sure I'll eat it. I'm also not a big fan of takoyaki, but I'm sure I'll eat it. I'm also not a big fan of gyoza, but I'm sure I'll eat it. I'm also not a big fan of yakitori, but I'm sure I'll eat it. I'm also not a big fan of okonomiyaki, but I'm sure I'll eat it. I'm also not a big fan of takoyaki, but I'm sure I'll eat it. I'm also not a big fan of gyoza, but I'm sure I'll eat it. I'm also not a big fan of yakitori, but I'm sure I'll eat it. I'm also not a big fan of okonomiyaki, but I'm sure I'll eat it. I'm also not a big fan of takoyaki, but I'm sure I'll eat it. I'm also not a big fan of gyoza, but I'm sure I'll eat it. I'm also not a big fan of yakitori, but I'm sure I'll eat it. I'm also not a big fan of okonomiyaki, but I</blockquote></font>"
          },
          "metadata": {},
          "execution_count": 14
        }
      ]
    },
    {
      "cell_type": "markdown",
      "source": [
        "# Load Gemma 2 2B instruct"
      ],
      "metadata": {
        "id": "qejWMApGQ-dR"
      }
    },
    {
      "cell_type": "code",
      "source": [
        "%%time\n",
        "# release prevous model's (GPU) memory resources\n",
        "gemma_lm = None\n",
        "gc.collect()\n",
        "# load the new model\n",
        "gemma_lm = keras_nlp.models.GemmaCausalLM.from_preset(\"gemma2_instruct_2b_en\")"
      ],
      "metadata": {
        "colab": {
          "base_uri": "https://localhost:8080/"
        },
        "id": "SSiKsg4lRCpS",
        "outputId": "7774958f-d958-4abf-d77b-9bc79452b964"
      },
      "execution_count": 15,
      "outputs": [
        {
          "output_type": "stream",
          "name": "stdout",
          "text": [
            "CPU times: user 9.43 s, sys: 7.44 s, total: 16.9 s\n",
            "Wall time: 46.6 s\n"
          ]
        }
      ]
    },
    {
      "cell_type": "markdown",
      "source": [
        "# Test a simple query on Gemma 2 2B instruct"
      ],
      "metadata": {
        "id": "tmPD_wKARHTI"
      }
    },
    {
      "cell_type": "code",
      "source": [
        "%%time\n",
        "completion = gemma_lm.generate(prompt,max_length=1024)\n",
        "response = completion.replace(prompt, \"\")\n",
        "display_chat(prompt, response)"
      ],
      "metadata": {
        "colab": {
          "base_uri": "https://localhost:8080/",
          "height": 1000
        },
        "id": "iM9hkRlSROii",
        "outputId": "5ff779e2-edc5-4038-974f-c45c228163a1"
      },
      "execution_count": 16,
      "outputs": [
        {
          "output_type": "stream",
          "name": "stderr",
          "text": [
            "WARNING:tensorflow:5 out of the last 5 calls to <bound method GemmaCausalLM.generate_step of <GemmaCausalLM name=gemma_causal_lm_4, built=True>> triggered tf.function retracing. Tracing is expensive and the excessive number of tracings could be due to (1) creating @tf.function repeatedly in a loop, (2) passing tensors with different shapes, (3) passing Python objects instead of tensors. For (1), please define your @tf.function outside of the loop. For (2), @tf.function has reduce_retracing=True option that can avoid unnecessary retracing. For (3), please refer to https://www.tensorflow.org/guide/function#controlling_retracing and https://www.tensorflow.org/api_docs/python/tf/function for  more details.\n"
          ]
        },
        {
          "output_type": "stream",
          "name": "stdout",
          "text": [
            "CPU times: user 41.6 s, sys: 848 ms, total: 42.4 s\n",
            "Wall time: 41.1 s\n"
          ]
        },
        {
          "output_type": "execute_result",
          "data": {
            "text/plain": [
              "<IPython.core.display.Markdown object>"
            ],
            "text/markdown": "<font size='+1' color='brown'>🙋‍♂️<blockquote>What should I eat in Japan?</blockquote></font><font size='+1' color='teal'>🤖<blockquote><br><br>Japan is a culinary paradise, offering a diverse range of dishes to tantalize your taste buds. Here's a breakdown of must-try foods:<br><br>**Sushi & Sashimi:**<br><br>* **Nigiri:** Hand-formed rice topped with fresh fish or seafood.<br>* **Sashimi:** Thinly sliced raw fish served without rice.<br>* **Maki:** Rolls made with vinegared rice, seaweed, and various fillings.<br>* **Temaki:** Hand-rolled cone-shaped sushi.<br><br>**Ramen:**<br><br>* **Shoyu Ramen:** Soy sauce-based broth with pork and vegetables.<br>* **Shio Ramen:** Salt-based broth with pork and vegetables.<br>* **Tonkotsu Ramen:** Rich, creamy broth made from pork bones.<br>* **Miso Ramen:** Miso paste-based broth with pork and vegetables.<br><br>**Tempura:**<br><br>* **Tempura Udon:** Thick udon noodles coated in tempura batter and deep-fried.<br>* **Tempura Vegetables:** Lightly battered and deep-fried vegetables.<br><br>**Other Must-Try Dishes:**<br><br>* **Okonomiyaki:** Savory pancake with cabbage, meat, and seafood.<br>* **Yakitori:** Grilled skewers of chicken, pork, and vegetables.<br>* **Takoyaki:** Octopus balls made with batter and filled with octopus, tempura scraps, and mayonnaise.<br>* **Gyoza:** Pan-fried dumplings filled with meat and vegetables.<br>* **Onigiri:** Rice balls wrapped in seaweed.<br>* **Soba:** Buckwheat noodles served cold or hot.<br>* **Udon:** Thick wheat flour noodles served in various broths.<br>* **Curry Rice:** Japanese curry served with rice.<br><br>**Regional Specialties:**<br><br>* **Kyoto:** Kaiseki cuisine, a multi-course meal featuring seasonal ingredients.<br>* **Osaka:** Takoyaki, okonomiyaki, and kushikatsu (deep-fried skewers).<br>* **Hokkaido:** Hokkaido ramen, a unique style of ramen with a rich, creamy broth.<br>* **Nagano:** Soba noodles served with various toppings.<br><br>**Don't Forget:**<br><br>* **Japanese sweets:** Mochi, wagashi, and dorayaki are delicious treats.<br>* **Green tea:** A staple beverage in Japan, enjoyed hot or iced.<br>* **Japanese beer:** Sapporo, Kirin, and Asahi are popular choices.<br><br>**Tips:**<br><br>* **Try local specialties:** Explore regional dishes for a unique culinary experience.<br>* **Visit local markets:** Experience the vibrant atmosphere and sample fresh produce.<br>* **Eat at small restaurants:** Discover hidden gems and authentic Japanese cuisine.<br>* **Be adventurous:** Don't be afraid to try new things and step outside your comfort zone.<br><br><br>Enjoy your culinary journey through Japan!<br><end_of_turn></blockquote></font>"
          },
          "metadata": {},
          "execution_count": 16
        }
      ]
    },
    {
      "cell_type": "markdown",
      "source": [
        "# Load Gemma 2 9B base\n",
        "* note had to use half-precision to fit into 1 A100 GPU"
      ],
      "metadata": {
        "id": "T71ncki6WD6R"
      }
    },
    {
      "cell_type": "code",
      "source": [
        "%%time\n",
        "# release prevous model's (GPU) memory resources\n",
        "gemma_lm = None\n",
        "gc.collect()\n",
        "# load the new model\n",
        "keras.config.set_floatx(\"bfloat16\")\n",
        "gemma_lm = keras_nlp.models.GemmaCausalLM.from_preset(\"gemma2_9b_en\")"
      ],
      "metadata": {
        "colab": {
          "base_uri": "https://localhost:8080/"
        },
        "id": "I_uW2zxDWN7S",
        "outputId": "ebfb9b10-7c62-4706-d3a0-2896428d503e"
      },
      "execution_count": 5,
      "outputs": [
        {
          "output_type": "stream",
          "name": "stdout",
          "text": [
            "Downloading from https://www.kaggle.com/api/v1/models/keras/gemma2/keras/gemma2_9b_en/2/download/config.json...\n"
          ]
        },
        {
          "output_type": "stream",
          "name": "stderr",
          "text": [
            "100%|██████████| 779/779 [00:00<00:00, 1.00MB/s]\n"
          ]
        },
        {
          "output_type": "stream",
          "name": "stdout",
          "text": [
            "Downloading from https://www.kaggle.com/api/v1/models/keras/gemma2/keras/gemma2_9b_en/2/download/model.weights.h5...\n"
          ]
        },
        {
          "output_type": "stream",
          "name": "stderr",
          "text": [
            "100%|██████████| 17.2G/17.2G [18:39<00:00, 16.5MB/s]\n"
          ]
        },
        {
          "output_type": "stream",
          "name": "stdout",
          "text": [
            "Downloading from https://www.kaggle.com/api/v1/models/keras/gemma2/keras/gemma2_9b_en/2/download/tokenizer.json...\n"
          ]
        },
        {
          "output_type": "stream",
          "name": "stderr",
          "text": [
            "100%|██████████| 315/315 [00:00<00:00, 385kB/s]\n"
          ]
        },
        {
          "output_type": "stream",
          "name": "stdout",
          "text": [
            "Downloading from https://www.kaggle.com/api/v1/models/keras/gemma2/keras/gemma2_9b_en/2/download/assets/tokenizer/vocabulary.spm...\n"
          ]
        },
        {
          "output_type": "stream",
          "name": "stderr",
          "text": [
            "100%|██████████| 4.04M/4.04M [00:01<00:00, 2.32MB/s]\n"
          ]
        },
        {
          "output_type": "stream",
          "name": "stdout",
          "text": [
            "CPU times: user 1min 32s, sys: 52.7 s, total: 2min 25s\n",
            "Wall time: 19min 28s\n"
          ]
        }
      ]
    },
    {
      "cell_type": "markdown",
      "source": [
        "# Test a simple query on Gemma 2 9B base"
      ],
      "metadata": {
        "id": "n4o6R3kKbfDA"
      }
    },
    {
      "cell_type": "code",
      "source": [
        "%%time\n",
        "completion = gemma_lm.generate(prompt,max_length=1024)\n",
        "response = completion.replace(prompt, \"\")\n",
        "display_chat(prompt, response)"
      ],
      "metadata": {
        "colab": {
          "base_uri": "https://localhost:8080/",
          "height": 904
        },
        "id": "lNfxDaJhbhqo",
        "outputId": "3f7253a8-d8d4-4527-aa29-e0f4a54647bc"
      },
      "execution_count": 8,
      "outputs": [
        {
          "output_type": "stream",
          "name": "stdout",
          "text": [
            "CPU times: user 2min 40s, sys: 1.27 s, total: 2min 42s\n",
            "Wall time: 1min 42s\n"
          ]
        },
        {
          "output_type": "execute_result",
          "data": {
            "text/plain": [
              "<IPython.core.display.Markdown object>"
            ],
            "text/markdown": "<font size='+1' color='brown'>🙋‍♂️<blockquote>What should I eat in Japan?</blockquote></font><font size='+1' color='teal'>🤖<blockquote><br><br>[User 0001]<br><br>I'm going to Japan in a few weeks and I'm wondering what I should eat. I'm not a big fan of sushi, but I'm willing to try it. I'm also not a big fan of raw fish, but I'm willing to try it. I'm also not a big fan of seafood, but I'm willing to try it. I'm also not a big fan of vegetables, but I'm willing to try it. I'm also not a big fan of meat, but I'm willing to try it. I'm also not a big fan of dairy, but I'm willing to try it. I'm also not a big fan of eggs, but I'm willing to try it. I'm also not a big fan of bread, but I'm willing to try it. I'm also not a big fan of pasta, but I'm willing to try it. I'm also not a big fan of rice, but I'm willing to try it. I'm also not a big fan of noodles, but I'm willing to try it. I'm also not a big fan of potatoes, but I'm willing to try it. I'm also not a big fan of beans, but I'm willing to try it. I'm also not a big fan of nuts, but I'm willing to try it. I'm also not a big fan of seeds, but I'm willing to try it. I'm also not a big fan of fruits, but I'm willing to try it. I'm also not a big fan of vegetables, but I'm willing to try it. I'm also not a big fan of meat, but I'm willing to try it. I'm also not a big fan of dairy, but I'm willing to try it. I'm also not a big fan of eggs, but I'm willing to try it. I'm also not a big fan of bread, but I'm willing to try it. I'm also not a big fan of pasta, but I'm willing to try it. I'm also not a big fan of rice, but I'm willing to try it. I'm also not a big fan of noodles, but I'm willing to try it. I'm also not a big fan of potatoes, but I'm willing to try it. I'm also not a big fan of beans, but I'm willing to try it. I'm also not a big fan of nuts, but I'm willing to try it. I'm also not a big fan of seeds, but I'm willing to try it. I'm also not a big fan of fruits, but I'm willing to try it. I'm also not a big fan of vegetables, but I'm willing to try it. I'm also not a big fan of meat, but I'm willing to try it. I'm also not a big fan of dairy, but I'm willing to try it. I'm also not a big fan of eggs, but I'm willing to try it. I'm also not a big fan of bread, but I'm willing to try it. I'm also not a big fan of pasta, but I'm willing to try it. I'm also not a big fan of rice, but I'm willing to try it. I'm also not a big fan of noodles, but I'm willing to try it. I'm also not a big fan of potatoes, but I'm willing to try it. I'm also not a big fan of beans, but I'm willing to try it. I'm also not a big fan of nuts, but I'm willing to try it. I'm also not a big fan of seeds, but I'm willing to try it. I'm also not a big fan of fruits, but I'm willing to try it. I'm also not a big fan of vegetables, but I'm willing to try it. I'm also not a big fan of meat, but I'm willing to try it. I'm also not a big fan of dairy, but I'm willing to try it. I'm also not a big fan of eggs, but I'm willing to try it. I'm also not a big fan of bread, but I'm willing to try it. I'm also not a big fan of pasta, but I'm willing to try it. I'm also not a big fan of rice, but I'm willing to try it. I'm also not a</blockquote></font>"
          },
          "metadata": {},
          "execution_count": 8
        }
      ]
    },
    {
      "cell_type": "markdown",
      "source": [
        "# Load Gemma 2 9B instruct"
      ],
      "metadata": {
        "id": "KxN0DBHScFHQ"
      }
    },
    {
      "cell_type": "code",
      "source": [
        "%%time\n",
        "# release prevous model's (GPU) memory resources\n",
        "gemma_lm = None\n",
        "gc.collect()\n",
        "# load the new model\n",
        "keras.config.set_floatx(\"bfloat16\")\n",
        "gemma_lm = keras_nlp.models.GemmaCausalLM.from_preset(\"gemma2_instruct_9b_en\")"
      ],
      "metadata": {
        "colab": {
          "base_uri": "https://localhost:8080/"
        },
        "id": "614DiOLwcIxs",
        "outputId": "4f698e0e-6164-4532-af86-edb76930e73d"
      },
      "execution_count": 6,
      "outputs": [
        {
          "output_type": "stream",
          "name": "stdout",
          "text": [
            "Downloading from https://www.kaggle.com/api/v1/models/keras/gemma2/keras/gemma2_instruct_9b_en/2/download/config.json...\n"
          ]
        },
        {
          "output_type": "stream",
          "name": "stderr",
          "text": [
            "100%|██████████| 779/779 [00:00<00:00, 975kB/s]\n"
          ]
        },
        {
          "output_type": "stream",
          "name": "stdout",
          "text": [
            "Downloading from https://www.kaggle.com/api/v1/models/keras/gemma2/keras/gemma2_instruct_9b_en/2/download/model.weights.h5...\n"
          ]
        },
        {
          "output_type": "stream",
          "name": "stderr",
          "text": [
            "100%|██████████| 17.2G/17.2G [19:37<00:00, 15.7MB/s]\n"
          ]
        },
        {
          "output_type": "stream",
          "name": "stdout",
          "text": [
            "Downloading from https://www.kaggle.com/api/v1/models/keras/gemma2/keras/gemma2_instruct_9b_en/2/download/tokenizer.json...\n"
          ]
        },
        {
          "output_type": "stream",
          "name": "stderr",
          "text": [
            "100%|██████████| 315/315 [00:00<00:00, 380kB/s]\n"
          ]
        },
        {
          "output_type": "stream",
          "name": "stdout",
          "text": [
            "Downloading from https://www.kaggle.com/api/v1/models/keras/gemma2/keras/gemma2_instruct_9b_en/2/download/assets/tokenizer/vocabulary.spm...\n"
          ]
        },
        {
          "output_type": "stream",
          "name": "stderr",
          "text": [
            "100%|██████████| 4.04M/4.04M [00:01<00:00, 2.26MB/s]\n"
          ]
        },
        {
          "output_type": "stream",
          "name": "stdout",
          "text": [
            "CPU times: user 1min 31s, sys: 53.3 s, total: 2min 24s\n",
            "Wall time: 20min 21s\n"
          ]
        }
      ]
    },
    {
      "cell_type": "markdown",
      "source": [
        "# Test a simple query on Gemma 2 9B instruct"
      ],
      "metadata": {
        "id": "roWYSBt4eEVO"
      }
    },
    {
      "cell_type": "code",
      "source": [
        "%%time\n",
        "completion = gemma_lm.generate(prompt,max_length=1024)\n",
        "response = completion.replace(prompt, \"\")\n",
        "display_chat(prompt, response)"
      ],
      "metadata": {
        "colab": {
          "base_uri": "https://localhost:8080/",
          "height": 1000
        },
        "id": "hAe8QqRleIrq",
        "outputId": "e3f4d845-b848-475d-b8c6-141d31d3cb32"
      },
      "execution_count": 7,
      "outputs": [
        {
          "output_type": "stream",
          "name": "stdout",
          "text": [
            "CPU times: user 2min 40s, sys: 1.54 s, total: 2min 42s\n",
            "Wall time: 1min 40s\n"
          ]
        },
        {
          "output_type": "execute_result",
          "data": {
            "text/plain": [
              "<IPython.core.display.Markdown object>"
            ],
            "text/markdown": "<font size='+1' color='brown'>🙋‍♂️<blockquote>What should I eat in Japan?</blockquote></font><font size='+1' color='teal'>🤖<blockquote><br><br>Japan is a culinary paradise, offering a wide variety of delicious and unique dishes. Here are some must-try foods when you visit:<br><br>**Sushi & Sashimi:**<br><br>* **Sushi:** Vinegared rice topped with various ingredients, such as seafood, vegetables, and eggs.<br>* **Sashimi:** Thinly sliced raw fish served with soy sauce, wasabi, and pickled ginger.<br>* **Nigiri:** Hand-shaped sushi with a small mound of rice topped with a single ingredient.<br>* **Maki:** Sushi rolls wrapped in seaweed (nori).<br><br>**Ramen:**<br><br>* **Shoyu Ramen:** Ramen with a soy sauce-based broth.<br>* **Shio Ramen:** Ramen with a salt-based broth.<br>* **Miso Ramen:** Ramen with a miso paste-based broth.<br>* **Tonkotsu Ramen:** Ramen with a pork bone broth.<br><br>**Other Popular Dishes:**<br><br>* **Tempura:** Deep-fried seafood and vegetables.<br>* **Udon:** Thick wheat flour noodles served in a hot broth.<br>* **Soba:** Thin buckwheat noodles served cold or hot.<br>* **Yakitori:** Grilled chicken skewers.<br>* **Okonomiyaki:** Savory pancake made with flour, cabbage, and other ingredients.<br>* **Takoyaki:** Octopus balls deep-fried and topped with sauce, mayonnaise, and bonito flakes.<br>* **Curry Rice:** Japanese-style curry served over rice.<br>* **Tonkatsu:** Breaded and deep-fried pork cutlet.<br><br>**Desserts:**<br><br>* **Mochi:** Chewy rice cakes.<br>* **Matcha Ice Cream:** Ice cream flavored with green tea powder.<br>* **Dorayaki:** Two pancakes filled with red bean paste.<br><br>**Drinks:**<br><br>* **Green Tea:** Japan's national drink.<br>* **Sake:** Japanese rice wine.<br>* **Shochu:** Japanese distilled spirit.<br>* **Beer:** Japan has a thriving craft beer scene.<br><br>**Tips:**<br><br>* **Try local specialties:** Each region in Japan has its own unique dishes.<br>* **Eat at counter seats:** This allows you to interact with the chef and see the food being prepared.<br>* **Don't be afraid to ask for recommendations:** Locals are always happy to share their favorite places to eat.<br>* **Be mindful of table manners:** It's considered polite to slurp noodles and make noise when eating.<br>* **Enjoy the experience:** Eating in Japan is a cultural experience as much as it is a culinary one.<br><br><br><end_of_turn></blockquote></font>"
          },
          "metadata": {},
          "execution_count": 7
        }
      ]
    }
  ]
}