{
  "nbformat": 4,
  "nbformat_minor": 0,
  "metadata": {
    "colab": {
      "provenance": [],
      "authorship_tag": "ABX9TyNNxJEk/hVKgLZRfpAydaKp",
      "include_colab_link": true
    },
    "kernelspec": {
      "name": "python3",
      "display_name": "Python 3"
    },
    "language_info": {
      "name": "python"
    }
  },
  "cells": [
    {
      "cell_type": "markdown",
      "metadata": {
        "id": "view-in-github",
        "colab_type": "text"
      },
      "source": [
        "<a href=\"https://colab.research.google.com/github/sourcesync/kagglex_gemma/blob/gw%2Finitial/colab/Jorge_vertexai.ipynb\" target=\"_parent\"><img src=\"https://colab.research.google.com/assets/colab-badge.svg\" alt=\"Open In Colab\"/></a>"
      ]
    },
    {
      "cell_type": "markdown",
      "source": [
        "# This notebook demonstrates\n",
        "* Colab notebook authenticating to a GCP account (with specific project_id and region )\n",
        "* Tests prompting Gemini models via VertexAI\n",
        "* Test QA on a PDF sent with prompt\n"
      ],
      "metadata": {
        "id": "tXF13RVnbxeb"
      }
    },
    {
      "cell_type": "markdown",
      "source": [
        "# Install required packages"
      ],
      "metadata": {
        "id": "2wktWDwzZiGM"
      }
    },
    {
      "cell_type": "code",
      "execution_count": 36,
      "metadata": {
        "colab": {
          "base_uri": "https://localhost:8080/"
        },
        "id": "SihfvvEAP7f5",
        "outputId": "a5992718-5e26-4fdb-be66-d2b11a63a1c8"
      },
      "outputs": [
        {
          "output_type": "stream",
          "name": "stdout",
          "text": [
            "Requirement already satisfied: google-cloud-aiplatform in /usr/local/lib/python3.10/dist-packages (1.69.0)\n",
            "Requirement already satisfied: google-api-core!=2.0.*,!=2.1.*,!=2.2.*,!=2.3.*,!=2.4.*,!=2.5.*,!=2.6.*,!=2.7.*,<3.0.0dev,>=1.34.1 in /usr/local/lib/python3.10/dist-packages (from google-api-core[grpc]!=2.0.*,!=2.1.*,!=2.2.*,!=2.3.*,!=2.4.*,!=2.5.*,!=2.6.*,!=2.7.*,<3.0.0dev,>=1.34.1->google-cloud-aiplatform) (2.19.2)\n",
            "Requirement already satisfied: google-auth<3.0.0dev,>=2.14.1 in /usr/local/lib/python3.10/dist-packages (from google-cloud-aiplatform) (2.27.0)\n",
            "Requirement already satisfied: proto-plus<2.0.0dev,>=1.22.3 in /usr/local/lib/python3.10/dist-packages (from google-cloud-aiplatform) (1.24.0)\n",
            "Requirement already satisfied: protobuf!=4.21.0,!=4.21.1,!=4.21.2,!=4.21.3,!=4.21.4,!=4.21.5,<6.0.0dev,>=3.20.2 in /usr/local/lib/python3.10/dist-packages (from google-cloud-aiplatform) (3.20.3)\n",
            "Requirement already satisfied: packaging>=14.3 in /usr/local/lib/python3.10/dist-packages (from google-cloud-aiplatform) (24.1)\n",
            "Requirement already satisfied: google-cloud-storage<3.0.0dev,>=1.32.0 in /usr/local/lib/python3.10/dist-packages (from google-cloud-aiplatform) (2.8.0)\n",
            "Requirement already satisfied: google-cloud-bigquery!=3.20.0,<4.0.0dev,>=1.15.0 in /usr/local/lib/python3.10/dist-packages (from google-cloud-aiplatform) (3.25.0)\n",
            "Requirement already satisfied: google-cloud-resource-manager<3.0.0dev,>=1.3.3 in /usr/local/lib/python3.10/dist-packages (from google-cloud-aiplatform) (1.12.5)\n",
            "Requirement already satisfied: shapely<3.0.0dev in /usr/local/lib/python3.10/dist-packages (from google-cloud-aiplatform) (2.0.6)\n",
            "Requirement already satisfied: pydantic<3 in /usr/local/lib/python3.10/dist-packages (from google-cloud-aiplatform) (2.9.2)\n",
            "Requirement already satisfied: docstring-parser<1 in /usr/local/lib/python3.10/dist-packages (from google-cloud-aiplatform) (0.16)\n",
            "Requirement already satisfied: googleapis-common-protos<2.0.dev0,>=1.56.2 in /usr/local/lib/python3.10/dist-packages (from google-api-core!=2.0.*,!=2.1.*,!=2.2.*,!=2.3.*,!=2.4.*,!=2.5.*,!=2.6.*,!=2.7.*,<3.0.0dev,>=1.34.1->google-api-core[grpc]!=2.0.*,!=2.1.*,!=2.2.*,!=2.3.*,!=2.4.*,!=2.5.*,!=2.6.*,!=2.7.*,<3.0.0dev,>=1.34.1->google-cloud-aiplatform) (1.65.0)\n",
            "Requirement already satisfied: requests<3.0.0.dev0,>=2.18.0 in /usr/local/lib/python3.10/dist-packages (from google-api-core!=2.0.*,!=2.1.*,!=2.2.*,!=2.3.*,!=2.4.*,!=2.5.*,!=2.6.*,!=2.7.*,<3.0.0dev,>=1.34.1->google-api-core[grpc]!=2.0.*,!=2.1.*,!=2.2.*,!=2.3.*,!=2.4.*,!=2.5.*,!=2.6.*,!=2.7.*,<3.0.0dev,>=1.34.1->google-cloud-aiplatform) (2.32.3)\n",
            "Requirement already satisfied: grpcio<2.0dev,>=1.33.2 in /usr/local/lib/python3.10/dist-packages (from google-api-core[grpc]!=2.0.*,!=2.1.*,!=2.2.*,!=2.3.*,!=2.4.*,!=2.5.*,!=2.6.*,!=2.7.*,<3.0.0dev,>=1.34.1->google-cloud-aiplatform) (1.64.1)\n",
            "Requirement already satisfied: grpcio-status<2.0.dev0,>=1.33.2 in /usr/local/lib/python3.10/dist-packages (from google-api-core[grpc]!=2.0.*,!=2.1.*,!=2.2.*,!=2.3.*,!=2.4.*,!=2.5.*,!=2.6.*,!=2.7.*,<3.0.0dev,>=1.34.1->google-cloud-aiplatform) (1.48.2)\n",
            "Requirement already satisfied: cachetools<6.0,>=2.0.0 in /usr/local/lib/python3.10/dist-packages (from google-auth<3.0.0dev,>=2.14.1->google-cloud-aiplatform) (5.5.0)\n",
            "Requirement already satisfied: pyasn1-modules>=0.2.1 in /usr/local/lib/python3.10/dist-packages (from google-auth<3.0.0dev,>=2.14.1->google-cloud-aiplatform) (0.4.1)\n",
            "Requirement already satisfied: rsa<5,>=3.1.4 in /usr/local/lib/python3.10/dist-packages (from google-auth<3.0.0dev,>=2.14.1->google-cloud-aiplatform) (4.9)\n",
            "Requirement already satisfied: google-cloud-core<3.0.0dev,>=1.6.0 in /usr/local/lib/python3.10/dist-packages (from google-cloud-bigquery!=3.20.0,<4.0.0dev,>=1.15.0->google-cloud-aiplatform) (2.4.1)\n",
            "Requirement already satisfied: google-resumable-media<3.0dev,>=0.6.0 in /usr/local/lib/python3.10/dist-packages (from google-cloud-bigquery!=3.20.0,<4.0.0dev,>=1.15.0->google-cloud-aiplatform) (2.7.2)\n",
            "Requirement already satisfied: python-dateutil<3.0dev,>=2.7.2 in /usr/local/lib/python3.10/dist-packages (from google-cloud-bigquery!=3.20.0,<4.0.0dev,>=1.15.0->google-cloud-aiplatform) (2.8.2)\n",
            "Requirement already satisfied: grpc-google-iam-v1<1.0.0dev,>=0.12.4 in /usr/local/lib/python3.10/dist-packages (from google-cloud-resource-manager<3.0.0dev,>=1.3.3->google-cloud-aiplatform) (0.13.1)\n",
            "Requirement already satisfied: annotated-types>=0.6.0 in /usr/local/lib/python3.10/dist-packages (from pydantic<3->google-cloud-aiplatform) (0.7.0)\n",
            "Requirement already satisfied: pydantic-core==2.23.4 in /usr/local/lib/python3.10/dist-packages (from pydantic<3->google-cloud-aiplatform) (2.23.4)\n",
            "Requirement already satisfied: typing-extensions>=4.6.1 in /usr/local/lib/python3.10/dist-packages (from pydantic<3->google-cloud-aiplatform) (4.12.2)\n",
            "Requirement already satisfied: numpy<3,>=1.14 in /usr/local/lib/python3.10/dist-packages (from shapely<3.0.0dev->google-cloud-aiplatform) (1.26.4)\n",
            "Requirement already satisfied: google-crc32c<2.0dev,>=1.0 in /usr/local/lib/python3.10/dist-packages (from google-resumable-media<3.0dev,>=0.6.0->google-cloud-bigquery!=3.20.0,<4.0.0dev,>=1.15.0->google-cloud-aiplatform) (1.6.0)\n",
            "Requirement already satisfied: pyasn1<0.7.0,>=0.4.6 in /usr/local/lib/python3.10/dist-packages (from pyasn1-modules>=0.2.1->google-auth<3.0.0dev,>=2.14.1->google-cloud-aiplatform) (0.6.1)\n",
            "Requirement already satisfied: six>=1.5 in /usr/local/lib/python3.10/dist-packages (from python-dateutil<3.0dev,>=2.7.2->google-cloud-bigquery!=3.20.0,<4.0.0dev,>=1.15.0->google-cloud-aiplatform) (1.16.0)\n",
            "Requirement already satisfied: charset-normalizer<4,>=2 in /usr/local/lib/python3.10/dist-packages (from requests<3.0.0.dev0,>=2.18.0->google-api-core!=2.0.*,!=2.1.*,!=2.2.*,!=2.3.*,!=2.4.*,!=2.5.*,!=2.6.*,!=2.7.*,<3.0.0dev,>=1.34.1->google-api-core[grpc]!=2.0.*,!=2.1.*,!=2.2.*,!=2.3.*,!=2.4.*,!=2.5.*,!=2.6.*,!=2.7.*,<3.0.0dev,>=1.34.1->google-cloud-aiplatform) (3.3.2)\n",
            "Requirement already satisfied: idna<4,>=2.5 in /usr/local/lib/python3.10/dist-packages (from requests<3.0.0.dev0,>=2.18.0->google-api-core!=2.0.*,!=2.1.*,!=2.2.*,!=2.3.*,!=2.4.*,!=2.5.*,!=2.6.*,!=2.7.*,<3.0.0dev,>=1.34.1->google-api-core[grpc]!=2.0.*,!=2.1.*,!=2.2.*,!=2.3.*,!=2.4.*,!=2.5.*,!=2.6.*,!=2.7.*,<3.0.0dev,>=1.34.1->google-cloud-aiplatform) (3.10)\n",
            "Requirement already satisfied: urllib3<3,>=1.21.1 in /usr/local/lib/python3.10/dist-packages (from requests<3.0.0.dev0,>=2.18.0->google-api-core!=2.0.*,!=2.1.*,!=2.2.*,!=2.3.*,!=2.4.*,!=2.5.*,!=2.6.*,!=2.7.*,<3.0.0dev,>=1.34.1->google-api-core[grpc]!=2.0.*,!=2.1.*,!=2.2.*,!=2.3.*,!=2.4.*,!=2.5.*,!=2.6.*,!=2.7.*,<3.0.0dev,>=1.34.1->google-cloud-aiplatform) (2.2.3)\n",
            "Requirement already satisfied: certifi>=2017.4.17 in /usr/local/lib/python3.10/dist-packages (from requests<3.0.0.dev0,>=2.18.0->google-api-core!=2.0.*,!=2.1.*,!=2.2.*,!=2.3.*,!=2.4.*,!=2.5.*,!=2.6.*,!=2.7.*,<3.0.0dev,>=1.34.1->google-api-core[grpc]!=2.0.*,!=2.1.*,!=2.2.*,!=2.3.*,!=2.4.*,!=2.5.*,!=2.6.*,!=2.7.*,<3.0.0dev,>=1.34.1->google-cloud-aiplatform) (2024.8.30)\n",
            "Requirement already satisfied: google-colab in /usr/local/lib/python3.10/dist-packages (1.0.0)\n",
            "Requirement already satisfied: google-auth==2.27.0 in /usr/local/lib/python3.10/dist-packages (from google-colab) (2.27.0)\n",
            "Requirement already satisfied: ipykernel==5.5.6 in /usr/local/lib/python3.10/dist-packages (from google-colab) (5.5.6)\n",
            "Requirement already satisfied: ipyparallel==8.8.0 in /usr/local/lib/python3.10/dist-packages (from google-colab) (8.8.0)\n",
            "Requirement already satisfied: ipython==7.34.0 in /usr/local/lib/python3.10/dist-packages (from google-colab) (7.34.0)\n",
            "Requirement already satisfied: notebook==6.5.5 in /usr/local/lib/python3.10/dist-packages (from google-colab) (6.5.5)\n",
            "Requirement already satisfied: pandas==2.2.2 in /usr/local/lib/python3.10/dist-packages (from google-colab) (2.2.2)\n",
            "Requirement already satisfied: portpicker==1.5.2 in /usr/local/lib/python3.10/dist-packages (from google-colab) (1.5.2)\n",
            "Requirement already satisfied: requests==2.32.3 in /usr/local/lib/python3.10/dist-packages (from google-colab) (2.32.3)\n",
            "Requirement already satisfied: tornado==6.3.3 in /usr/local/lib/python3.10/dist-packages (from google-colab) (6.3.3)\n",
            "Requirement already satisfied: cachetools<6.0,>=2.0.0 in /usr/local/lib/python3.10/dist-packages (from google-auth==2.27.0->google-colab) (5.5.0)\n",
            "Requirement already satisfied: pyasn1-modules>=0.2.1 in /usr/local/lib/python3.10/dist-packages (from google-auth==2.27.0->google-colab) (0.4.1)\n",
            "Requirement already satisfied: rsa<5,>=3.1.4 in /usr/local/lib/python3.10/dist-packages (from google-auth==2.27.0->google-colab) (4.9)\n",
            "Requirement already satisfied: ipython-genutils in /usr/local/lib/python3.10/dist-packages (from ipykernel==5.5.6->google-colab) (0.2.0)\n",
            "Requirement already satisfied: traitlets>=4.1.0 in /usr/local/lib/python3.10/dist-packages (from ipykernel==5.5.6->google-colab) (5.7.1)\n",
            "Requirement already satisfied: jupyter-client in /usr/local/lib/python3.10/dist-packages (from ipykernel==5.5.6->google-colab) (6.1.12)\n",
            "Requirement already satisfied: decorator in /usr/local/lib/python3.10/dist-packages (from ipyparallel==8.8.0->google-colab) (4.4.2)\n",
            "Requirement already satisfied: entrypoints in /usr/local/lib/python3.10/dist-packages (from ipyparallel==8.8.0->google-colab) (0.4)\n",
            "Requirement already satisfied: psutil in /usr/local/lib/python3.10/dist-packages (from ipyparallel==8.8.0->google-colab) (5.9.5)\n",
            "Requirement already satisfied: python-dateutil>=2.1 in /usr/local/lib/python3.10/dist-packages (from ipyparallel==8.8.0->google-colab) (2.8.2)\n",
            "Requirement already satisfied: pyzmq>=18 in /usr/local/lib/python3.10/dist-packages (from ipyparallel==8.8.0->google-colab) (24.0.1)\n",
            "Requirement already satisfied: tqdm in /usr/local/lib/python3.10/dist-packages (from ipyparallel==8.8.0->google-colab) (4.66.5)\n",
            "Requirement already satisfied: setuptools>=18.5 in /usr/local/lib/python3.10/dist-packages (from ipython==7.34.0->google-colab) (71.0.4)\n",
            "Requirement already satisfied: jedi>=0.16 in /usr/local/lib/python3.10/dist-packages (from ipython==7.34.0->google-colab) (0.19.1)\n",
            "Requirement already satisfied: pickleshare in /usr/local/lib/python3.10/dist-packages (from ipython==7.34.0->google-colab) (0.7.5)\n",
            "Requirement already satisfied: prompt-toolkit!=3.0.0,!=3.0.1,<3.1.0,>=2.0.0 in /usr/local/lib/python3.10/dist-packages (from ipython==7.34.0->google-colab) (3.0.48)\n",
            "Requirement already satisfied: pygments in /usr/local/lib/python3.10/dist-packages (from ipython==7.34.0->google-colab) (2.18.0)\n",
            "Requirement already satisfied: backcall in /usr/local/lib/python3.10/dist-packages (from ipython==7.34.0->google-colab) (0.2.0)\n",
            "Requirement already satisfied: matplotlib-inline in /usr/local/lib/python3.10/dist-packages (from ipython==7.34.0->google-colab) (0.1.7)\n",
            "Requirement already satisfied: pexpect>4.3 in /usr/local/lib/python3.10/dist-packages (from ipython==7.34.0->google-colab) (4.9.0)\n",
            "Requirement already satisfied: jinja2 in /usr/local/lib/python3.10/dist-packages (from notebook==6.5.5->google-colab) (3.1.4)\n",
            "Requirement already satisfied: argon2-cffi in /usr/local/lib/python3.10/dist-packages (from notebook==6.5.5->google-colab) (23.1.0)\n",
            "Requirement already satisfied: jupyter-core>=4.6.1 in /usr/local/lib/python3.10/dist-packages (from notebook==6.5.5->google-colab) (5.7.2)\n",
            "Requirement already satisfied: nbformat in /usr/local/lib/python3.10/dist-packages (from notebook==6.5.5->google-colab) (5.10.4)\n",
            "Requirement already satisfied: nbconvert>=5 in /usr/local/lib/python3.10/dist-packages (from notebook==6.5.5->google-colab) (6.5.4)\n",
            "Requirement already satisfied: nest-asyncio>=1.5 in /usr/local/lib/python3.10/dist-packages (from notebook==6.5.5->google-colab) (1.6.0)\n",
            "Requirement already satisfied: Send2Trash>=1.8.0 in /usr/local/lib/python3.10/dist-packages (from notebook==6.5.5->google-colab) (1.8.3)\n",
            "Requirement already satisfied: terminado>=0.8.3 in /usr/local/lib/python3.10/dist-packages (from notebook==6.5.5->google-colab) (0.18.1)\n",
            "Requirement already satisfied: prometheus-client in /usr/local/lib/python3.10/dist-packages (from notebook==6.5.5->google-colab) (0.21.0)\n",
            "Requirement already satisfied: nbclassic>=0.4.7 in /usr/local/lib/python3.10/dist-packages (from notebook==6.5.5->google-colab) (1.1.0)\n",
            "Requirement already satisfied: numpy>=1.22.4 in /usr/local/lib/python3.10/dist-packages (from pandas==2.2.2->google-colab) (1.26.4)\n",
            "Requirement already satisfied: pytz>=2020.1 in /usr/local/lib/python3.10/dist-packages (from pandas==2.2.2->google-colab) (2024.2)\n",
            "Requirement already satisfied: tzdata>=2022.7 in /usr/local/lib/python3.10/dist-packages (from pandas==2.2.2->google-colab) (2024.2)\n",
            "Requirement already satisfied: charset-normalizer<4,>=2 in /usr/local/lib/python3.10/dist-packages (from requests==2.32.3->google-colab) (3.3.2)\n",
            "Requirement already satisfied: idna<4,>=2.5 in /usr/local/lib/python3.10/dist-packages (from requests==2.32.3->google-colab) (3.10)\n",
            "Requirement already satisfied: urllib3<3,>=1.21.1 in /usr/local/lib/python3.10/dist-packages (from requests==2.32.3->google-colab) (2.2.3)\n",
            "Requirement already satisfied: certifi>=2017.4.17 in /usr/local/lib/python3.10/dist-packages (from requests==2.32.3->google-colab) (2024.8.30)\n",
            "Requirement already satisfied: parso<0.9.0,>=0.8.3 in /usr/local/lib/python3.10/dist-packages (from jedi>=0.16->ipython==7.34.0->google-colab) (0.8.4)\n",
            "Requirement already satisfied: platformdirs>=2.5 in /usr/local/lib/python3.10/dist-packages (from jupyter-core>=4.6.1->notebook==6.5.5->google-colab) (4.3.6)\n",
            "Requirement already satisfied: notebook-shim>=0.2.3 in /usr/local/lib/python3.10/dist-packages (from nbclassic>=0.4.7->notebook==6.5.5->google-colab) (0.2.4)\n",
            "Requirement already satisfied: lxml in /usr/local/lib/python3.10/dist-packages (from nbconvert>=5->notebook==6.5.5->google-colab) (4.9.4)\n",
            "Requirement already satisfied: beautifulsoup4 in /usr/local/lib/python3.10/dist-packages (from nbconvert>=5->notebook==6.5.5->google-colab) (4.12.3)\n",
            "Requirement already satisfied: bleach in /usr/local/lib/python3.10/dist-packages (from nbconvert>=5->notebook==6.5.5->google-colab) (6.1.0)\n",
            "Requirement already satisfied: defusedxml in /usr/local/lib/python3.10/dist-packages (from nbconvert>=5->notebook==6.5.5->google-colab) (0.7.1)\n",
            "Requirement already satisfied: jupyterlab-pygments in /usr/local/lib/python3.10/dist-packages (from nbconvert>=5->notebook==6.5.5->google-colab) (0.3.0)\n",
            "Requirement already satisfied: MarkupSafe>=2.0 in /usr/local/lib/python3.10/dist-packages (from nbconvert>=5->notebook==6.5.5->google-colab) (2.1.5)\n",
            "Requirement already satisfied: mistune<2,>=0.8.1 in /usr/local/lib/python3.10/dist-packages (from nbconvert>=5->notebook==6.5.5->google-colab) (0.8.4)\n",
            "Requirement already satisfied: nbclient>=0.5.0 in /usr/local/lib/python3.10/dist-packages (from nbconvert>=5->notebook==6.5.5->google-colab) (0.10.0)\n",
            "Requirement already satisfied: packaging in /usr/local/lib/python3.10/dist-packages (from nbconvert>=5->notebook==6.5.5->google-colab) (24.1)\n",
            "Requirement already satisfied: pandocfilters>=1.4.1 in /usr/local/lib/python3.10/dist-packages (from nbconvert>=5->notebook==6.5.5->google-colab) (1.5.1)\n",
            "Requirement already satisfied: tinycss2 in /usr/local/lib/python3.10/dist-packages (from nbconvert>=5->notebook==6.5.5->google-colab) (1.3.0)\n",
            "Requirement already satisfied: fastjsonschema>=2.15 in /usr/local/lib/python3.10/dist-packages (from nbformat->notebook==6.5.5->google-colab) (2.20.0)\n",
            "Requirement already satisfied: jsonschema>=2.6 in /usr/local/lib/python3.10/dist-packages (from nbformat->notebook==6.5.5->google-colab) (4.23.0)\n",
            "Requirement already satisfied: ptyprocess>=0.5 in /usr/local/lib/python3.10/dist-packages (from pexpect>4.3->ipython==7.34.0->google-colab) (0.7.0)\n",
            "Requirement already satisfied: wcwidth in /usr/local/lib/python3.10/dist-packages (from prompt-toolkit!=3.0.0,!=3.0.1,<3.1.0,>=2.0.0->ipython==7.34.0->google-colab) (0.2.13)\n",
            "Requirement already satisfied: pyasn1<0.7.0,>=0.4.6 in /usr/local/lib/python3.10/dist-packages (from pyasn1-modules>=0.2.1->google-auth==2.27.0->google-colab) (0.6.1)\n",
            "Requirement already satisfied: six>=1.5 in /usr/local/lib/python3.10/dist-packages (from python-dateutil>=2.1->ipyparallel==8.8.0->google-colab) (1.16.0)\n",
            "Requirement already satisfied: argon2-cffi-bindings in /usr/local/lib/python3.10/dist-packages (from argon2-cffi->notebook==6.5.5->google-colab) (21.2.0)\n",
            "Requirement already satisfied: attrs>=22.2.0 in /usr/local/lib/python3.10/dist-packages (from jsonschema>=2.6->nbformat->notebook==6.5.5->google-colab) (24.2.0)\n",
            "Requirement already satisfied: jsonschema-specifications>=2023.03.6 in /usr/local/lib/python3.10/dist-packages (from jsonschema>=2.6->nbformat->notebook==6.5.5->google-colab) (2023.12.1)\n",
            "Requirement already satisfied: referencing>=0.28.4 in /usr/local/lib/python3.10/dist-packages (from jsonschema>=2.6->nbformat->notebook==6.5.5->google-colab) (0.35.1)\n",
            "Requirement already satisfied: rpds-py>=0.7.1 in /usr/local/lib/python3.10/dist-packages (from jsonschema>=2.6->nbformat->notebook==6.5.5->google-colab) (0.20.0)\n",
            "Requirement already satisfied: jupyter-server<3,>=1.8 in /usr/local/lib/python3.10/dist-packages (from notebook-shim>=0.2.3->nbclassic>=0.4.7->notebook==6.5.5->google-colab) (1.24.0)\n",
            "Requirement already satisfied: cffi>=1.0.1 in /usr/local/lib/python3.10/dist-packages (from argon2-cffi-bindings->argon2-cffi->notebook==6.5.5->google-colab) (1.17.1)\n",
            "Requirement already satisfied: soupsieve>1.2 in /usr/local/lib/python3.10/dist-packages (from beautifulsoup4->nbconvert>=5->notebook==6.5.5->google-colab) (2.6)\n",
            "Requirement already satisfied: webencodings in /usr/local/lib/python3.10/dist-packages (from bleach->nbconvert>=5->notebook==6.5.5->google-colab) (0.5.1)\n",
            "Requirement already satisfied: pycparser in /usr/local/lib/python3.10/dist-packages (from cffi>=1.0.1->argon2-cffi-bindings->argon2-cffi->notebook==6.5.5->google-colab) (2.22)\n",
            "Requirement already satisfied: anyio<4,>=3.1.0 in /usr/local/lib/python3.10/dist-packages (from jupyter-server<3,>=1.8->notebook-shim>=0.2.3->nbclassic>=0.4.7->notebook==6.5.5->google-colab) (3.7.1)\n",
            "Requirement already satisfied: websocket-client in /usr/local/lib/python3.10/dist-packages (from jupyter-server<3,>=1.8->notebook-shim>=0.2.3->nbclassic>=0.4.7->notebook==6.5.5->google-colab) (1.8.0)\n",
            "Requirement already satisfied: sniffio>=1.1 in /usr/local/lib/python3.10/dist-packages (from anyio<4,>=3.1.0->jupyter-server<3,>=1.8->notebook-shim>=0.2.3->nbclassic>=0.4.7->notebook==6.5.5->google-colab) (1.3.1)\n",
            "Requirement already satisfied: exceptiongroup in /usr/local/lib/python3.10/dist-packages (from anyio<4,>=3.1.0->jupyter-server<3,>=1.8->notebook-shim>=0.2.3->nbclassic>=0.4.7->notebook==6.5.5->google-colab) (1.2.2)\n",
            "CPU times: user 141 ms, sys: 23.9 ms, total: 165 ms\n",
            "Wall time: 11.4 s\n"
          ]
        }
      ],
      "source": [
        "%%time\n",
        "!pip install --upgrade google-cloud-aiplatform\n",
        "!pip install google-colab\n",
        "!pip install -q  loguru"
      ]
    },
    {
      "cell_type": "markdown",
      "source": [
        "# Import required packages"
      ],
      "metadata": {
        "id": "v2aLFzmlZlYG"
      }
    },
    {
      "cell_type": "code",
      "source": [
        "from google.colab import userdata\n",
        "from google.colab import auth\n",
        "from google.cloud import aiplatform"
      ],
      "metadata": {
        "id": "waBqkphJUIDx"
      },
      "execution_count": 37,
      "outputs": []
    },
    {
      "cell_type": "markdown",
      "source": [
        "# Authenticate to GCP account"
      ],
      "metadata": {
        "id": "YMBFrbENZqi5"
      }
    },
    {
      "cell_type": "code",
      "source": [
        "%%time\n",
        "PROJECT_ID = \"occamai-205217\" # Set this to a valid project id in your google cloud account\n",
        "REGION = 'us-central1' # Set this to the GCP region you want to use\n",
        "auth.authenticate_user(project_id=PROJECT_ID) # First time, this might prompt you to login to your google cloud account\n",
        "!gcloud config get core/account # This will validate if your authentication was successful and echo the login email\n",
        "!gcloud config get-value project # Verify by echo'ing the project config\n",
        "!gcloud config set compute/region {REGION} # Set the region\n",
        "!gcloud config get-value compute/region # Verify by echo'ing the region config"
      ],
      "metadata": {
        "colab": {
          "base_uri": "https://localhost:8080/"
        },
        "id": "Y9_YccRaTpk1",
        "outputId": "066b1be6-0c25-435d-d0ab-c1658330c615"
      },
      "execution_count": 38,
      "outputs": [
        {
          "output_type": "stream",
          "name": "stdout",
          "text": [
            "George.Williams@gmail.com\n",
            "occamai-205217\n",
            "\u001b[1;33mWARNING:\u001b[0m Property validation for compute/region was skipped.\n",
            "Updated property [compute/region].\n",
            "us-central1\n",
            "CPU times: user 106 ms, sys: 16.3 ms, total: 122 ms\n",
            "Wall time: 6.61 s\n"
          ]
        }
      ]
    },
    {
      "cell_type": "markdown",
      "source": [
        "# Send a prompt and PDF To Gemini 1.5"
      ],
      "metadata": {
        "id": "SfXKN6paa79H"
      }
    },
    {
      "cell_type": "code",
      "source": [
        "%%time\n",
        "import base64\n",
        "import vertexai\n",
        "from vertexai.generative_models import GenerativeModel, SafetySetting, Part\n",
        "from loguru import logger\n",
        "import json\n",
        "def multiturn_generate_content():\n",
        "    # JORGE - vertexai.init(project=\"generated-mote-434518-u9\", location=\"us-central1\")\n",
        "    vertexai.init(project=PROJECT_ID, location=REGION)\n",
        "    model = GenerativeModel(\n",
        "        \"gemini-1.5-flash-002\",\n",
        "        system_instruction=[LLM_instructions]\n",
        "    )\n",
        "\n",
        "    chat = model.start_chat()\n",
        "\n",
        "    dataset_size = 0\n",
        "    iteration = 0\n",
        "    while dataset_size <100:\n",
        "\n",
        "      # Sending call to api?\n",
        "      chat = model.start_chat()\n",
        "      response = chat.send_message(\n",
        "              [document, prompt],\n",
        "              generation_config=generation_config,\n",
        "      )\n",
        "\n",
        "      ## postprocessing\n",
        "      q_a_data = response.text.replace('jsonl','').replace(\"```\",'').strip().splitlines()\n",
        "      dataset_size = len(q_a_data)\n",
        "      iteration += 1\n",
        "      # logger.info(f'Iteration {iteration}, Amount of q-a sets: {dataset_size} ')\n",
        "\n",
        "      # Specify the file path\n",
        "      file_path = \"output.jsonl\"\n",
        "\n",
        "      # Open the file in write mode\n",
        "      with open(file_path, \"a\") as f:\n",
        "          # Iterate over the generator and write each item as a JSON string\n",
        "\n",
        "          for item in q_a_data:\n",
        "            # logger.debug(f'item: {item}')\n",
        "            json_item = json.loads(item)\n",
        "            json.dump(item, f)\n",
        "            f.write(\"\\n\")\n",
        "      # Reopen the file in read mode to check the size\n",
        "      with open(file_path, \"r\") as f:\n",
        "          lines = f.readlines()\n",
        "          dataset_size = len(lines)\n",
        "\n",
        "      logger.info(f\"Current dataset size: {dataset_size}\")\n",
        "\n",
        "    # Outputting chat metadata?\n",
        "    #logger.info( f\"\"\" \\n MetaData:\\n{response}  \"\"\")\n",
        "\n",
        "    # Outputting Gemini Response\n",
        "    logger.info(f\"\\n Gemini Ouput:\\n{response.text}\")\n",
        "\n",
        "    # TODO:\n",
        "    #   How do convert string data to json file?\n",
        "    #     - Split on each newline or \"{\" then convert that one line into a jsonl then write to a file\n",
        "    #     - What about the text before the json? Could use replace or strip function\n",
        "    #   How do I get a full 1000 q-a sets\n",
        "    #     - Probelm is output token limit. Must loop over calls and append to json file\n",
        "    #     - Check length of json file or store it in dictionary convert it at end\n",
        "    #   Prompt limit size\n",
        "    #     - Needle probelm llm usually considers top and bottom as important\n",
        "    #     - Chunk the pdf into chapters generate 200 q-a prompts for that chapter\n",
        "    #     - Append it to the json  file  (20 chapters = 4000  Q-A)\n",
        "    #\n",
        "    return response\n",
        "\n",
        "# Encoding pdf\n",
        "encoded_pdf = base64.b64encode( open(\"/content/deflection-and-stiffness.pdf\", \"rb\").read() ).decode(\"utf-8\")\n",
        "\n",
        "document = Part.from_data(data=base64.b64decode(encoded_pdf),\n",
        "    mime_type=\"application/pdf\",\n",
        ")\n",
        "prompt = \"\"\"Create a diverse question-answer dataset on deflection and stiffness, covering basic to complex concepts. The dataset will train an engineering assistant bot, ensuring the questions reflect real-world scenarios engineers typically encounter. Generate 50 sets\"\"\"\n",
        "LLM_instructions = \"\"\"Generate high-quality question-answer sets from input files (PDFs, CSV, text) for finetuning a model following these steps:\n",
        "\n",
        "1. **Input Processing**:\n",
        "  - Extract key concepts from text, PDFs, or data files.\n",
        "  - Focus on important themes, facts, and trends.\n",
        "\n",
        "2. **Question Formulation**:\n",
        "  - Create clear, concise, and diverse questions (fact-based, inferential, etc.).\n",
        "  - Ensure each question is relevant to core ideas in the input.\n",
        "\n",
        "3. **Answer Generation**:\n",
        "  - Provide accurate, concise answers that align with the context of the input.\n",
        "  - Avoid generic or overly long responses.\n",
        "\n",
        "4. **Quality Control**:\n",
        "  - Ensure full coverage of key points.\n",
        "  - Review for consistency, and eliminate redundant questions.\n",
        "\n",
        "5. **Output Format (JSONL)**:\n",
        "  - Use the format:\n",
        "   ```\n",
        "   {\"question\": \"Question\", \"answer\": \"Answer\"}\n",
        "   ```\n",
        "  - Each Q-A pair should be on a new line.\n",
        "\n",
        "6. **Special Cases**:\n",
        "  - Extract key insights from tables, diagrams, and multilingual text.\n",
        "  - Generate appropriate Q-A pairs based on these elements.\n",
        "\n",
        "7. **Refinement**:\n",
        "  - Review and refine Q-A sets for improvement in complexity and coverage.\"\"\"\n",
        "\n",
        "generation_config = {\n",
        "    \"max_output_tokens\": 8192,\n",
        "    \"temperature\": 1.6,\n",
        "    \"top_p\": 0.95,\n",
        "}\n",
        "\n",
        "\n",
        "data = multiturn_generate_content()"
      ],
      "metadata": {
        "colab": {
          "base_uri": "https://localhost:8080/"
        },
        "id": "6F_VI2JGQYhb",
        "outputId": "02f388d6-c282-476f-ce30-617e12b29df9"
      },
      "execution_count": 39,
      "outputs": [
        {
          "output_type": "stream",
          "name": "stderr",
          "text": [
            "\u001b[32m2024-10-05 02:26:49.687\u001b[0m | \u001b[1mINFO    \u001b[0m | \u001b[36m__main__\u001b[0m:\u001b[36mmultiturn_generate_content\u001b[0m:\u001b[36m50\u001b[0m - \u001b[1mCurrent dataset size: 315\u001b[0m\n",
            "\u001b[32m2024-10-05 02:26:49.690\u001b[0m | \u001b[1mINFO    \u001b[0m | \u001b[36m__main__\u001b[0m:\u001b[36mmultiturn_generate_content\u001b[0m:\u001b[36m56\u001b[0m - \u001b[1m\n",
            " Gemini Ouput:\n",
            "```jsonl\n",
            "{\"question\": \"What is the fundamental relationship between force and deflection in a linear spring?\", \"answer\": \"Force is directly proportional to deflection: F = ky, where k is the spring constant.\"}\n",
            "{\"question\": \"A cantilever beam is subjected to a point load at its free end.  How does the deflection at the free end change as the load increases?\", \"answer\": \"The deflection increases proportionally to the applied load, assuming the elastic limit isn't exceeded.\"}\n",
            "{\"question\": \"Explain the concept of 'spring rate' and provide its unit in the English system.\", \"answer\": \"Spring rate (k) is the change in force required per unit deflection.  The unit is lb/in or lbf/in.\"}\n",
            "{\"question\": \"A simply supported beam experiences a uniformly distributed load.  How would you use superposition to analyze its deflection if it also carried a concentrated load at midspan?\", \"answer\": \"You would analyze the deflection caused by each load independently (uniformly distributed load and concentrated midspan load).  Then, sum the individual deflections to get the total deflection at any point along the beam.\"}\n",
            "{\"question\": \"What are singularity functions and how are they beneficial in structural analysis?\", \"answer\": \"Singularity functions represent discontinuities in loading, allowing us to represent a wide variety of loading conditions (point loads, distributed loads, moments) with a single equation and then directly integrating to get the deflection.\"}\n",
            "{\"question\": \"What is Castigliano's theorem, and how can it be applied in structural analysis?\", \"answer\": \"Castigliano's theorem states that the partial derivative of total strain energy with respect to a force (or moment) gives the displacement at the point of application of that force (or the angle of rotation). This allows direct calculation of deflections even with complicated systems.\"}\n",
            "{\"question\": \"How does the strain energy of a beam subjected to bending change as its moment increases?\", \"answer\": \"The strain energy increases proportionally to the square of the bending moment.\"}\n",
            "{\"question\": \"Distinguish between statically determinate and statically indeterminate structures. Provide examples.\", \"answer\": \"Statically determinate structures have support reactions solvable only with equilibrium equations.  Statically indeterminate structures require additional equations based on compatibility (e.g., deflection equations). Examples: A simply supported beam (determinate); a fixed-fixed beam (indeterminate).\"}\n",
            "{\"question\": \"What are the key differences between long columns and short compression members in buckling analysis?\", \"answer\": \"Long columns' buckling is primarily governed by Euler's equation (critical load directly proportional to I/L²), ignoring material strength. Short members' buckling considers material properties, such as yield strength, via formulas that accommodate eccentric loading and/or initial imperfections. Intermediate-length columns fall between these categories and use modified formulae such as Johnson's parabola.\"}\n",
            "{\"question\": \"What is the effect of eccentricity in column loading on its buckling capacity and stress distribution?\", \"answer\": \"Eccentric loading reduces a column's buckling capacity because it creates bending moments, exacerbating instability. It results in non-uniform stress distribution: higher stress occurs on the side of the column closer to the load axis and increases with deflection.\"}\n",
            "{\"question\": \"What does it mean for a beam to be 'statically determinate', and what does this imply for calculating reactions and deflections?\", \"answer\": \"A statically determinate beam is one where all support reactions can be found by using only the equations of static equilibrium (sum of forces and moments equal zero).  Calculations of reactions and deflections are relatively straightforward using basic equilibrium and beam deflection formulas.\"}\n",
            "{\"question\": \"How does the slenderness ratio of a column influence the choice of appropriate buckling formula (Euler vs. Johnson)?\", \"answer\": \"Slenderness ratio (L/k) affects choice of formula.  For higher L/k values, Euler's formula dominates, focusing only on column geometry and modulus of elasticity (material stiffness is unimportant at the buckling failure point). For lower L/k values, material strength factors into Johnson's formula, as yielding occurs before buckling failure.\"}\n",
            "{\"question\": \"What is the significance of the end conditions (e.g., pinned, fixed) of a column when analyzing its buckling behavior?\", \"answer\": \"End conditions affect a column's effective length and hence, its critical buckling load.  Different end conditions modify the equivalent length used in the Euler or similar buckling formula through a constant coefficient, e.g., a fixed-fixed column effectively has half the length of a pinned-pinned column.\"}\n",
            "{\"question\": \"How do you use superposition in beam deflection analysis?  Give an example.\", \"answer\": \"Superposition calculates a structure's response to multiple loads by summing their individual responses. Example: A beam with a concentrated load at one end and a distributed load – the deflections from each are calculated separately then added for the total deflection at each point.\"}\n",
            "{\"question\": \"What is the concept of 'elastic stability', and why is it crucial in structural design?\", \"answer\": \"Elastic stability is a structure's resistance to sudden, catastrophic failure under compressive loading due to buckling.  Designing for stability involves understanding the critical loads at which sudden structural collapse occurs, and considering factors such as slenderness ratios and imperfections.\"}\n",
            "{\"question\": \"Explain how the energy method (Castigliano's theorem) determines beam deflections and provide its primary advantage over the double integration method.\", \"answer\": \"Castigliano's theorem equates partial derivatives of strain energy with respect to applied loads or moments to the resulting deflections. It’s advantageous for complex systems where internal forces/moments are intricate, and can find deflections at points without direct loading.\"}\n",
            "{\"question\": \"Describe two approaches for solving statically indeterminate beam problems.\", \"answer\": \"Two key methods are: 1) Choose a redundant reaction, determine remaining reactions based on equilibrium, establish a deflection equation for the redundant based on superposition, compatibility (zero displacement). Then solve for all reactions.  2) Directly write deflection equations, apply boundary conditions dictated by restraints to obtain equations;  then solve simultaneous equations of equilibrium and displacement constraints for support reactions.\"}\n",
            "{\"question\": \"Explain how to calculate the deflection of a curved beam.\", \"answer\": \"Calculating curved beam deflection typically involves Castigliano's theorem using integral expressions incorporating curvature effects that accounts for coupled bending and axial load effects. Simplified equations exist for beams with R/h >> 10, ignoring shear and eccentricities.\"}\n",
            "{\"question\": \"What are the key differences in analysis and design consideration for a short strut versus a long column subjected to compressive loads?\", \"answer\": \"A short strut's design focuses primarily on the maximum compressive stress, using formulae accounting for eccentricity of loading, considering its stress will likely reach its elastic limit (or yield strength) before buckling occurs.  A long column's design considers Euler's (or other suitable) buckling equations, concentrating on achieving a critical load higher than anticipated operational load.\"}\n",
            "{\"question\": \"What are some common sources of uncertainties or inaccuracies introduced when applying linear elastic beam theory to real-world structures?\", \"answer\": \"Real-world imperfections not accounted for in ideal beam theory, like initial curvature, uneven supports, residual stresses from manufacturing, and varying load placement. Further inaccuracies come from non-linear materials and plasticity effects (not addressed by linear beam theory).\"}\n",
            "{\"question\": \"Describe how to deal with impact loads in structural analysis.\", \"answer\": \"Impact analysis is generally performed using energy methods, typically accounting for the energy change from potential energy prior to impact to strain energy after impact at its maximum deflection, involving an additional term for the momentum change after impact (particularly critical with moving objects/impacts). Simplified formulae are available if treating impacting member as a spring (neglecting the impacting member's mass and momentum).\" }\n",
            "{\"question\": \"How would you analyze the deflection of a beam that has both a concentrated load and a distributed load?\", \"answer\": \"You’d use superposition: 1) Determine the deflection caused by the concentrated load separately, using an appropriate beam deflection formula or table.  2) Determine the deflection caused by the uniformly distributed load. 3) Add these two deflections together to get the combined deflection at each point on the beam.\"}\n",
            "{\"question\": \"What is the significance of the modulus of elasticity (E) and shear modulus (G) in deflection analysis?\", \"answer\": \"Modulus of elasticity (E) represents material stiffness during tensile/compressive stress. Shear modulus (G) represents material resistance to shear deformations, typically appearing in torsion equations or calculations with shear stresses, such as thin-walled beams. Both contribute directly to beam deflection calculations through material constants in deflection equations.\"}\n",
            "{\"question\": \"A simply supported beam has a span of 10 meters and carries a uniform load of 10 kN/m. What is the maximum bending moment and its location?\", \"answer\": \"The maximum bending moment for a simply supported beam under uniform load is (wL²)/8, where w is the load per unit length (10 kN/m), and L is the beam length (10m).  Maximum bending moment = 125 kN·m located at midspan.\"}\n",
            "{\"question\": \"Explain how to determine the critical buckling load for a column using Euler's formula.\", \"answer\": \"Euler's formula (Pcr = (π²EI)/(KL)²) determines the critical buckling load. Pcr is critical load, E is modulus of elasticity, I is area moment of inertia (dependent on column cross-section), L is column length, and K is an effective length factor accounting for column end conditions (e.g., K=0.5 for one end fixed and one end free; K=1 for pinned-pinned).\" }\n",
            "{\"question\": \"How does the selection of a material with a higher yield strength affect the design of a column for a given load?\", \"answer\": \"A higher yield strength material typically increases the load-carrying capacity of the column.  Higher yield strength permits a reduced column size or larger load before the material yields or experiences buckling failure.\"}\n",
            "{\"question\": \"A stepped shaft is subjected to torsional loading. Explain how you'd calculate the total angle of twist.\", \"answer\": \"For a stepped shaft under torsion, calculate the angle of twist for each shaft segment individually, using θ = TL/(JG). Then, sum the individual twist angles of the segments to obtain the total angle of twist for the stepped shaft.\"}\n",
            "{\"question\": \"What are the main factors influencing the torsional stiffness of a shaft?\", \"answer\": \"Shaft stiffness (resistance to twisting) depends on material properties (shear modulus, G), geometry (shaft diameter, d, length, L, and area moment of inertia J, often a function of cross-section shape).  Larger J implies higher torsional stiffness. Thicker, shorter shafts are stiffer.\"}\n",
            "{\"question\": \"How would you approach determining the deflection of a beam with multiple supports?\", \"answer\": \"For statically determinate multiple support systems: use statics to find support reactions, then utilize the appropriate beam deflection equation for that support system and loading. For statically indeterminate beams, more equations are needed beyond equilibrium: superposition, compatibility (deflections), energy methods (Castigliano's) are often used to account for redundancies.\"}\n",
            "{\"question\": \"What design considerations need to be considered for columns subjected to both axial compression and bending?\", \"answer\": \"For eccentrically loaded columns, the design considers both compressive stresses due to axial load and bending stresses induced by moment due to eccentricity of loading. You'll use methods accounting for these, such as secant formula or interaction equations to prevent failure either by yielding or buckling.\"}\n",
            "{\"question\": \"A beam is made from a non-linear material, following a power law relationship between stress and strain (σ = kεⁿ). How does this affect deflection calculations?\", \"answer\": \"Linear beam theory is inadequate.  You'll need non-linear methods for accurate predictions because material's stress-strain behavior deviates from linearity. Non-linear finite-element analysis is a standard tool for accurately predicting deflection in such situations.\"}\n",
            "{\"question\": \"Explain the concept of 'effective length' in column buckling.\", \"answer\": \"Effective length is a virtual length representing how a real column, with various end-conditions (fixed, pinned, free) behaves, replacing the effect of supports with the equivalent simple model of pinned-pinned column. Effective length is multiplied by the constant factor ‘K’ (a function of end conditions, ranges between 0.5 to 2), used in the Euler formula to get an adjusted buckling load equivalent to the actual one.\"}\n",
            "{\"question\": \"What is the difference between 'global' and 'local' buckling of a structural member?\", \"answer\": \"Global buckling is large-scale instability, usually affecting the entire structure, with sudden catastrophic failure (like buckling of a long, slender column). Local buckling is a small scale collapse within a specific part of a structure, with limited consequences – e.g., a small flange in a beam may wrinkle but not compromise the entire beam.\"}\n",
            "{\"question\": \"How can the finite element method (FEM) be used for analyzing deflections in complex structures?\", \"answer\": \"FEM models the structure as many interconnected simple elements. It numerically approximates and solves equilibrium equations at these elemental nodes, with loads or boundary conditions at each point. The solutions include displacements for the elements forming an overall approximation of the structural deflection across the complex structure.  Software solves these sets of algebraic or differential equations automatically.\"}\n",
            "{\"question\": \"A simply supported beam is subjected to an impact load. How do you analyze its response?\", \"answer\": \"Employing energy conservation, equating the impact's kinetic energy to the strain energy (maximum) from deflection helps estimate the beam's maximum deflection caused by the impact. This simplified model ignores beam mass, considering only elastic deflections (and the strain energy increase related). More detailed modelling requires using impulse and momentum theorems accounting for the impacted body's dynamics.\"}\n",
            "{\"question\": \"How is the concept of shock and its associated analyses differ from regular load application?\", \"answer\": \"Shock loading applies a rapid, significant change in load. Typical structural analysis assumes slowly applied static loading. Shock needs transient analysis to account for dynamic aspects (mass inertia, momentum, velocity changes), often requiring more complex solutions using advanced techniques beyond standard static beam deflection calculation.\"}\n",
            "{\"question\": \"A cantilever beam has a rectangular cross-section. How would you calculate the maximum shear stress?\", \"answer\": \"Maximum shear stress (τmax) in a rectangular cross-section cantilever beam occurs at the neutral axis.  Its magnitude is given by τmax = (3V)/(2A), where V is the maximum shear force (equal to the end concentrated load in a cantilever beam) and A is the cross-sectional area.\"}\n",
            "{\"question\": \"Explain how you determine the deflection of a beam with varying cross-section.\", \"answer\": \"For variable cross-sections: using methods accommodating varying material properties (E) and geometry (I) are required. Direct integration of bending moment equations (M/EI = curvature) is generally avoided; numerical methods, finite-element approaches, or dedicated beam software designed for such analysis are the more effective means.\"}\n",
            "{\"question\": \"How can the principle of virtual work be utilized in determining beam deflections?\", \"answer\": \"The principle of virtual work (PVW) states: virtual work (external force multiplied by virtual displacement) must equal internal work. Apply by selecting a hypothetical (virtual) load system, compute the resulting external and internal work. The virtual work equilibrium equations can resolve specific deflection points if choosing specific load systems.\"}\n",
            "{\"question\": \"How do you consider the effects of damping in structural dynamics problems related to shock and impact loading?\", \"answer\": \"For analysis incorporating shock loads (suddenly applied forces or impact), damping effects are generally represented via damping coefficients (c) added to the dynamic equation, representing resistance to motion related to velocity or acceleration.  Advanced methods like modal analysis (identifying structural frequencies and damping in each mode) are typically employed in advanced structural dynamics modeling software.\"}\n",
            "{\"question\": \"What is the role of the design factor in engineering design and specifically how does it impact analysis of beam deflections?\", \"answer\": \"The design factor (also known as the factor of safety) multiplies a system's expected or nominal stresses/loads by a coefficient (design factor) exceeding 1, to guarantee the structural integrity, by making sure stress/loads are far from yield points. For deflection calculation, design loads multiply the expected load by the safety factor and those deflections calculated accordingly.\"}\n",
            "{\"question\": \"What are some of the limitations associated with applying simple beam theory to real-world scenarios?\", \"answer\": \"Beam theory's simplifications include: ignoring shear deformations (often insignificant, but not always); only using linear stress-strain materials (real world materials rarely exhibit linear elastic properties throughout their use).  Further limitations involve assuming that the beam’s section geometry and material properties are consistent over its span.\"}\n",
            "{\"question\": \"How do you approach determining the minimum shaft diameter for a given set of operating conditions that also satisfies bearing life requirements?\", \"answer\": \"A typical shaft design method: (1) determine bending moments and torsion from the shaft’s load conditions. (2) Select the shaft’s material to suit operational temperatures. (3) Apply failure criteria, such as maximum allowable shear or bending stresses (often combined stress analyses considering simultaneous loads), ensuring that stresses are within safety factors considering bearing fatigue. (4) Iteratively adjust shaft diameters to fulfil conditions, usually with shaft diameter calculation via the flexure equation (using appropriate end-conditions coefficients).\" }\n",
            "{\"question\": \"What advanced numerical techniques are useful in determining beam deflections with complex geometries and/or material properties?\", \"answer\": \"Finite element methods (FEM) provide solutions across a wide range of conditions by breaking down complex geometries into simple elements. Finite difference methods discretize differential equations representing behavior (like beam deflection). Other advanced methods include boundary element techniques, or spectral methods; all offering flexibility and capabilities for problems that simple formulae cannot adequately handle.\"}\n",
            "```\u001b[0m\n"
          ]
        },
        {
          "output_type": "stream",
          "name": "stdout",
          "text": [
            "CPU times: user 346 ms, sys: 60.7 ms, total: 407 ms\n",
            "Wall time: 47.9 s\n"
          ]
        }
      ]
    }
  ]
}