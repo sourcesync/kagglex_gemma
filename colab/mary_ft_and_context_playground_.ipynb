{
  "nbformat": 4,
  "nbformat_minor": 0,
  "metadata": {
    "colab": {
      "provenance": [],
      "machine_shape": "hm",
      "gpuType": "A100",
      "mount_file_id": "1HHwO9bgcBAZ1qlpGsWhHK3l3Hy1sJ-A8",
      "authorship_tag": "ABX9TyP0wxdNGxmk8K/lxB+yai+O",
      "include_colab_link": true
    },
    "kernelspec": {
      "name": "python3",
      "display_name": "Python 3"
    },
    "language_info": {
      "name": "python"
    },
    "accelerator": "GPU"
  },
  "cells": [
    {
      "cell_type": "markdown",
      "metadata": {
        "id": "view-in-github",
        "colab_type": "text"
      },
      "source": [
        "<a href=\"https://colab.research.google.com/github/sourcesync/kagglex_gemma/blob/gw%2Finitial/colab/mary_ft_and_context_playground_.ipynb\" target=\"_parent\"><img src=\"https://colab.research.google.com/assets/colab-badge.svg\" alt=\"Open In Colab\"/></a>"
      ]
    },
    {
      "cell_type": "markdown",
      "source": [
        "# This Google colab notebook demonstrates the following:\n",
        "* fine tuning on a small custom QA dataset\n",
        "* experiment with use of dataset 'context' at prompt time"
      ],
      "metadata": {
        "id": "iX71_9JtJ_aw"
      }
    },
    {
      "cell_type": "markdown",
      "source": [
        "# Get access to Gemma via your Kaggle account:\n",
        "* Log into your Kaggle account\n",
        "* Request access to Gemma models using your Kaggle account. You can follow these instructions here: https://www.kaggle.com/code/nilaychauhan/get-started-with-gemma-using-kerasnlp\n",
        "* You need to wait for confirmation. Note that this didn't take too long for me.\n",
        "* Create an API key in your Kaggle account you will need later. You can follow these instructions here: https://christianjmills.com/posts/kaggle-obtain-api-key-tutorial/"
      ],
      "metadata": {
        "id": "_0a4jd5ZKAq5"
      }
    },
    {
      "cell_type": "markdown",
      "source": [
        "# Ensure your Colab notebook can access Gemma:\n",
        "* Add the Kaggle API key into your COLAB secrets. You can follow these instructions here: https://drlee.io/how-to-use-secrets-in-google-colab-for-api-key-protection-a-guide-for-openai-huggingface-and-c1ec9e1277e0"
      ],
      "metadata": {
        "id": "cmYncnzrKFmB"
      }
    },
    {
      "cell_type": "markdown",
      "source": [
        "# Select an AI hardware accelerator\n",
        "* Select hardware options near the top right of your Colab notebook\n",
        "* I tested with A100 and it worked well. Note that I have a Colab Pro subscription."
      ],
      "metadata": {
        "id": "3nVvSbqVKKEZ"
      }
    },
    {
      "cell_type": "markdown",
      "source": [
        "# Install required packages"
      ],
      "metadata": {
        "id": "nogBFAPIKQdH"
      }
    },
    {
      "cell_type": "code",
      "source": [
        "%%time\n",
        "!pip install -q -U keras-nlp\n",
        "!pip install -q -U \"keras>=3.3.3\""
      ],
      "metadata": {
        "colab": {
          "base_uri": "https://localhost:8080/"
        },
        "id": "B94XTgKXKQ_o",
        "outputId": "08f2a46f-b036-4769-c99c-d506f22a0321"
      },
      "execution_count": 1,
      "outputs": [
        {
          "output_type": "stream",
          "name": "stdout",
          "text": [
            "\u001b[2K   \u001b[90m━━━━━━━━━━━━━━━━━━━━━━━━━━━━━━━━━━━━━━━━\u001b[0m \u001b[32m548.4/548.4 kB\u001b[0m \u001b[31m7.6 MB/s\u001b[0m eta \u001b[36m0:00:00\u001b[0m\n",
            "\u001b[2K   \u001b[90m━━━━━━━━━━━━━━━━━━━━━━━━━━━━━━━━━━━━━━━━\u001b[0m \u001b[32m5.2/5.2 MB\u001b[0m \u001b[31m67.6 MB/s\u001b[0m eta \u001b[36m0:00:00\u001b[0m\n",
            "\u001b[2K   \u001b[90m━━━━━━━━━━━━━━━━━━━━━━━━━━━━━━━━━━━━━━━━\u001b[0m \u001b[32m1.1/1.1 MB\u001b[0m \u001b[31m14.5 MB/s\u001b[0m eta \u001b[36m0:00:00\u001b[0m\n",
            "\u001b[?25hCPU times: user 48.2 ms, sys: 7.35 ms, total: 55.5 ms\n",
            "Wall time: 7.83 s\n"
          ]
        }
      ]
    },
    {
      "cell_type": "markdown",
      "source": [
        "# Import required packages"
      ],
      "metadata": {
        "id": "zL1y3nogKhPi"
      }
    },
    {
      "cell_type": "code",
      "source": [
        "import os\n",
        "import keras\n",
        "import keras_nlp\n",
        "from keras_nlp.models import GemmaBackbone, BertBackbone\n",
        "from keras.models import load_model\n",
        "from keras import backend as K\n",
        "import tensorflow\n",
        "from IPython.display import Markdown, display\n",
        "import textwrap\n",
        "from google.colab import userdata\n",
        "import json\n",
        "import pandas as pd\n",
        "import gc\n",
        "import sys\n",
        "from tempfile import NamedTemporaryFile\n",
        "from urllib.request import urlopen\n",
        "from urllib.parse import unquote, urlparse\n",
        "from urllib.error import HTTPError\n",
        "from zipfile import ZipFile\n",
        "import tarfile\n",
        "import shutil\n",
        "from google.colab import drive"
      ],
      "metadata": {
        "id": "k1KU90rTKja7"
      },
      "execution_count": 2,
      "outputs": []
    },
    {
      "cell_type": "markdown",
      "source": [
        "# Configure this notebook"
      ],
      "metadata": {
        "id": "l-0frGAeKnSy"
      }
    },
    {
      "cell_type": "code",
      "source": [
        "# set up Keras parameters recommended by Google\n",
        "os.environ[\"KERAS_BACKEND\"] = \"jax\"  # Or \"torch\" or \"tensorflow\".\n",
        "os.environ[\"XLA_PYTHON_CLIENT_MEM_FRACTION\"]=\"1.00\" # Avoid memory fragmentation on JAX backend.\n",
        "\n",
        "# integrate Kaggle API\n",
        "os.environ[\"KAGGLE_USERNAME\"] = userdata.get('KAGGLE_USERNAME') # Link to KAGGLE API secret key\n",
        "os.environ[\"KAGGLE_KEY\"] = userdata.get('KAGGLE_KEY') # Link to KAGGLE API secret key"
      ],
      "metadata": {
        "id": "4PORVpeYKopz"
      },
      "execution_count": 3,
      "outputs": []
    },
    {
      "cell_type": "markdown",
      "source": [
        "# Define useful functions"
      ],
      "metadata": {
        "id": "0x6zA4XtLJed"
      }
    },
    {
      "cell_type": "code",
      "source": [
        "def display_chat(prompt, response):\n",
        "  '''Displays an LLM prompt and response in a pretty way.'''\n",
        "  prompt = prompt.replace('\\n\\n','<br><br>')\n",
        "  prompt = prompt.replace('\\n','<br>')\n",
        "  formatted_prompt = \"<font size='+1' color='brown'>🙋‍♂️<blockquote>\" + prompt + \"</blockquote></font>\"\n",
        "  response = response.replace('•', '  *')\n",
        "  response = textwrap.indent(response, '', predicate=lambda _: True)\n",
        "  response = response.replace('\\n\\n','<br><br>')\n",
        "  response = response.replace('\\n','<br>')\n",
        "  response = response.replace(\"```\",\"\")\n",
        "  formatted_text = \"<font size='+1' color='teal'>🤖<blockquote>\" + response + \"</blockquote></font>\"\n",
        "  return Markdown(formatted_prompt+formatted_text)"
      ],
      "metadata": {
        "id": "qaY1MMsLLLdi"
      },
      "execution_count": 4,
      "outputs": []
    },
    {
      "cell_type": "markdown",
      "source": [
        "# Load/explore the dataset\n",
        "* note I got this by running Mary's original notebook and copying the unpacked input folder"
      ],
      "metadata": {
        "id": "MyLGSTFrL9ZD"
      }
    },
    {
      "cell_type": "code",
      "source": [
        "DATASET_PATH='/content/drive/MyDrive/Kaggle_X/Mary_ESSA/input/attempt-930/ESSA qna_csv.csv'\n",
        "if not os.path.exists(DATASET_PATH):\n",
        "  raise Exception(\"Cannot find the dataset\")\n",
        "df = pd.read_csv(DATASET_PATH)\n",
        "pd.set_option('display.max_colwidth', None)\n",
        "df.describe()"
      ],
      "metadata": {
        "colab": {
          "base_uri": "https://localhost:8080/",
          "height": 192
        },
        "id": "jE5TG-75MAke",
        "outputId": "a8c829a6-80b5-422a-fc41-cd7130c5f134"
      },
      "execution_count": 5,
      "outputs": [
        {
          "output_type": "execute_result",
          "data": {
            "text/plain": [
              "                                 Question  \\\n",
              "count                                 101   \n",
              "unique                                 95   \n",
              "top     What is the state's role in ESSA?   \n",
              "freq                                    2   \n",
              "\n",
              "                                                                                                                                                                                                                                                                  Answer  \n",
              "count                                                                                                                                                                                                                                                                101  \n",
              "unique                                                                                                                                                                                                                                                                99  \n",
              "top     Under ESSA, states get to decide the education plans for their schools within a framework provided by the federal government. The law also offers parents a chance to weigh in on these plans. This is important if your child gets special education services.   \n",
              "freq                                                                                                                                                                                                                                                                   2  "
            ],
            "text/html": [
              "\n",
              "  <div id=\"df-2c61a37c-03d6-43c5-9725-5530f0366b77\" class=\"colab-df-container\">\n",
              "    <div>\n",
              "<style scoped>\n",
              "    .dataframe tbody tr th:only-of-type {\n",
              "        vertical-align: middle;\n",
              "    }\n",
              "\n",
              "    .dataframe tbody tr th {\n",
              "        vertical-align: top;\n",
              "    }\n",
              "\n",
              "    .dataframe thead th {\n",
              "        text-align: right;\n",
              "    }\n",
              "</style>\n",
              "<table border=\"1\" class=\"dataframe\">\n",
              "  <thead>\n",
              "    <tr style=\"text-align: right;\">\n",
              "      <th></th>\n",
              "      <th>Question</th>\n",
              "      <th>Answer</th>\n",
              "    </tr>\n",
              "  </thead>\n",
              "  <tbody>\n",
              "    <tr>\n",
              "      <th>count</th>\n",
              "      <td>101</td>\n",
              "      <td>101</td>\n",
              "    </tr>\n",
              "    <tr>\n",
              "      <th>unique</th>\n",
              "      <td>95</td>\n",
              "      <td>99</td>\n",
              "    </tr>\n",
              "    <tr>\n",
              "      <th>top</th>\n",
              "      <td>What is the state's role in ESSA?</td>\n",
              "      <td>Under ESSA, states get to decide the education plans for their schools within a framework provided by the federal government. The law also offers parents a chance to weigh in on these plans. This is important if your child gets special education services.</td>\n",
              "    </tr>\n",
              "    <tr>\n",
              "      <th>freq</th>\n",
              "      <td>2</td>\n",
              "      <td>2</td>\n",
              "    </tr>\n",
              "  </tbody>\n",
              "</table>\n",
              "</div>\n",
              "    <div class=\"colab-df-buttons\">\n",
              "\n",
              "  <div class=\"colab-df-container\">\n",
              "    <button class=\"colab-df-convert\" onclick=\"convertToInteractive('df-2c61a37c-03d6-43c5-9725-5530f0366b77')\"\n",
              "            title=\"Convert this dataframe to an interactive table.\"\n",
              "            style=\"display:none;\">\n",
              "\n",
              "  <svg xmlns=\"http://www.w3.org/2000/svg\" height=\"24px\" viewBox=\"0 -960 960 960\">\n",
              "    <path d=\"M120-120v-720h720v720H120Zm60-500h600v-160H180v160Zm220 220h160v-160H400v160Zm0 220h160v-160H400v160ZM180-400h160v-160H180v160Zm440 0h160v-160H620v160ZM180-180h160v-160H180v160Zm440 0h160v-160H620v160Z\"/>\n",
              "  </svg>\n",
              "    </button>\n",
              "\n",
              "  <style>\n",
              "    .colab-df-container {\n",
              "      display:flex;\n",
              "      gap: 12px;\n",
              "    }\n",
              "\n",
              "    .colab-df-convert {\n",
              "      background-color: #E8F0FE;\n",
              "      border: none;\n",
              "      border-radius: 50%;\n",
              "      cursor: pointer;\n",
              "      display: none;\n",
              "      fill: #1967D2;\n",
              "      height: 32px;\n",
              "      padding: 0 0 0 0;\n",
              "      width: 32px;\n",
              "    }\n",
              "\n",
              "    .colab-df-convert:hover {\n",
              "      background-color: #E2EBFA;\n",
              "      box-shadow: 0px 1px 2px rgba(60, 64, 67, 0.3), 0px 1px 3px 1px rgba(60, 64, 67, 0.15);\n",
              "      fill: #174EA6;\n",
              "    }\n",
              "\n",
              "    .colab-df-buttons div {\n",
              "      margin-bottom: 4px;\n",
              "    }\n",
              "\n",
              "    [theme=dark] .colab-df-convert {\n",
              "      background-color: #3B4455;\n",
              "      fill: #D2E3FC;\n",
              "    }\n",
              "\n",
              "    [theme=dark] .colab-df-convert:hover {\n",
              "      background-color: #434B5C;\n",
              "      box-shadow: 0px 1px 3px 1px rgba(0, 0, 0, 0.15);\n",
              "      filter: drop-shadow(0px 1px 2px rgba(0, 0, 0, 0.3));\n",
              "      fill: #FFFFFF;\n",
              "    }\n",
              "  </style>\n",
              "\n",
              "    <script>\n",
              "      const buttonEl =\n",
              "        document.querySelector('#df-2c61a37c-03d6-43c5-9725-5530f0366b77 button.colab-df-convert');\n",
              "      buttonEl.style.display =\n",
              "        google.colab.kernel.accessAllowed ? 'block' : 'none';\n",
              "\n",
              "      async function convertToInteractive(key) {\n",
              "        const element = document.querySelector('#df-2c61a37c-03d6-43c5-9725-5530f0366b77');\n",
              "        const dataTable =\n",
              "          await google.colab.kernel.invokeFunction('convertToInteractive',\n",
              "                                                    [key], {});\n",
              "        if (!dataTable) return;\n",
              "\n",
              "        const docLinkHtml = 'Like what you see? Visit the ' +\n",
              "          '<a target=\"_blank\" href=https://colab.research.google.com/notebooks/data_table.ipynb>data table notebook</a>'\n",
              "          + ' to learn more about interactive tables.';\n",
              "        element.innerHTML = '';\n",
              "        dataTable['output_type'] = 'display_data';\n",
              "        await google.colab.output.renderOutput(dataTable, element);\n",
              "        const docLink = document.createElement('div');\n",
              "        docLink.innerHTML = docLinkHtml;\n",
              "        element.appendChild(docLink);\n",
              "      }\n",
              "    </script>\n",
              "  </div>\n",
              "\n",
              "\n",
              "<div id=\"df-70b02c93-c148-4011-8983-544362ce1d64\">\n",
              "  <button class=\"colab-df-quickchart\" onclick=\"quickchart('df-70b02c93-c148-4011-8983-544362ce1d64')\"\n",
              "            title=\"Suggest charts\"\n",
              "            style=\"display:none;\">\n",
              "\n",
              "<svg xmlns=\"http://www.w3.org/2000/svg\" height=\"24px\"viewBox=\"0 0 24 24\"\n",
              "     width=\"24px\">\n",
              "    <g>\n",
              "        <path d=\"M19 3H5c-1.1 0-2 .9-2 2v14c0 1.1.9 2 2 2h14c1.1 0 2-.9 2-2V5c0-1.1-.9-2-2-2zM9 17H7v-7h2v7zm4 0h-2V7h2v10zm4 0h-2v-4h2v4z\"/>\n",
              "    </g>\n",
              "</svg>\n",
              "  </button>\n",
              "\n",
              "<style>\n",
              "  .colab-df-quickchart {\n",
              "      --bg-color: #E8F0FE;\n",
              "      --fill-color: #1967D2;\n",
              "      --hover-bg-color: #E2EBFA;\n",
              "      --hover-fill-color: #174EA6;\n",
              "      --disabled-fill-color: #AAA;\n",
              "      --disabled-bg-color: #DDD;\n",
              "  }\n",
              "\n",
              "  [theme=dark] .colab-df-quickchart {\n",
              "      --bg-color: #3B4455;\n",
              "      --fill-color: #D2E3FC;\n",
              "      --hover-bg-color: #434B5C;\n",
              "      --hover-fill-color: #FFFFFF;\n",
              "      --disabled-bg-color: #3B4455;\n",
              "      --disabled-fill-color: #666;\n",
              "  }\n",
              "\n",
              "  .colab-df-quickchart {\n",
              "    background-color: var(--bg-color);\n",
              "    border: none;\n",
              "    border-radius: 50%;\n",
              "    cursor: pointer;\n",
              "    display: none;\n",
              "    fill: var(--fill-color);\n",
              "    height: 32px;\n",
              "    padding: 0;\n",
              "    width: 32px;\n",
              "  }\n",
              "\n",
              "  .colab-df-quickchart:hover {\n",
              "    background-color: var(--hover-bg-color);\n",
              "    box-shadow: 0 1px 2px rgba(60, 64, 67, 0.3), 0 1px 3px 1px rgba(60, 64, 67, 0.15);\n",
              "    fill: var(--button-hover-fill-color);\n",
              "  }\n",
              "\n",
              "  .colab-df-quickchart-complete:disabled,\n",
              "  .colab-df-quickchart-complete:disabled:hover {\n",
              "    background-color: var(--disabled-bg-color);\n",
              "    fill: var(--disabled-fill-color);\n",
              "    box-shadow: none;\n",
              "  }\n",
              "\n",
              "  .colab-df-spinner {\n",
              "    border: 2px solid var(--fill-color);\n",
              "    border-color: transparent;\n",
              "    border-bottom-color: var(--fill-color);\n",
              "    animation:\n",
              "      spin 1s steps(1) infinite;\n",
              "  }\n",
              "\n",
              "  @keyframes spin {\n",
              "    0% {\n",
              "      border-color: transparent;\n",
              "      border-bottom-color: var(--fill-color);\n",
              "      border-left-color: var(--fill-color);\n",
              "    }\n",
              "    20% {\n",
              "      border-color: transparent;\n",
              "      border-left-color: var(--fill-color);\n",
              "      border-top-color: var(--fill-color);\n",
              "    }\n",
              "    30% {\n",
              "      border-color: transparent;\n",
              "      border-left-color: var(--fill-color);\n",
              "      border-top-color: var(--fill-color);\n",
              "      border-right-color: var(--fill-color);\n",
              "    }\n",
              "    40% {\n",
              "      border-color: transparent;\n",
              "      border-right-color: var(--fill-color);\n",
              "      border-top-color: var(--fill-color);\n",
              "    }\n",
              "    60% {\n",
              "      border-color: transparent;\n",
              "      border-right-color: var(--fill-color);\n",
              "    }\n",
              "    80% {\n",
              "      border-color: transparent;\n",
              "      border-right-color: var(--fill-color);\n",
              "      border-bottom-color: var(--fill-color);\n",
              "    }\n",
              "    90% {\n",
              "      border-color: transparent;\n",
              "      border-bottom-color: var(--fill-color);\n",
              "    }\n",
              "  }\n",
              "</style>\n",
              "\n",
              "  <script>\n",
              "    async function quickchart(key) {\n",
              "      const quickchartButtonEl =\n",
              "        document.querySelector('#' + key + ' button');\n",
              "      quickchartButtonEl.disabled = true;  // To prevent multiple clicks.\n",
              "      quickchartButtonEl.classList.add('colab-df-spinner');\n",
              "      try {\n",
              "        const charts = await google.colab.kernel.invokeFunction(\n",
              "            'suggestCharts', [key], {});\n",
              "      } catch (error) {\n",
              "        console.error('Error during call to suggestCharts:', error);\n",
              "      }\n",
              "      quickchartButtonEl.classList.remove('colab-df-spinner');\n",
              "      quickchartButtonEl.classList.add('colab-df-quickchart-complete');\n",
              "    }\n",
              "    (() => {\n",
              "      let quickchartButtonEl =\n",
              "        document.querySelector('#df-70b02c93-c148-4011-8983-544362ce1d64 button');\n",
              "      quickchartButtonEl.style.display =\n",
              "        google.colab.kernel.accessAllowed ? 'block' : 'none';\n",
              "    })();\n",
              "  </script>\n",
              "</div>\n",
              "\n",
              "    </div>\n",
              "  </div>\n"
            ],
            "application/vnd.google.colaboratory.intrinsic+json": {
              "type": "dataframe",
              "summary": "{\n  \"name\": \"df\",\n  \"rows\": 4,\n  \"fields\": [\n    {\n      \"column\": \"Question\",\n      \"properties\": {\n        \"dtype\": \"string\",\n        \"num_unique_values\": 4,\n        \"samples\": [\n          95,\n          \"2\",\n          \"101\"\n        ],\n        \"semantic_type\": \"\",\n        \"description\": \"\"\n      }\n    },\n    {\n      \"column\": \"Answer\",\n      \"properties\": {\n        \"dtype\": \"string\",\n        \"num_unique_values\": 4,\n        \"samples\": [\n          99,\n          \"2\",\n          \"101\"\n        ],\n        \"semantic_type\": \"\",\n        \"description\": \"\"\n      }\n    }\n  ]\n}"
            }
          },
          "metadata": {},
          "execution_count": 5
        }
      ]
    },
    {
      "cell_type": "code",
      "source": [
        "df.head(5)"
      ],
      "metadata": {
        "colab": {
          "base_uri": "https://localhost:8080/",
          "height": 467
        },
        "id": "rkre2Ce9Nlq3",
        "outputId": "a71551e8-6786-4cd8-873d-3591016c4cba"
      },
      "execution_count": 6,
      "outputs": [
        {
          "output_type": "execute_result",
          "data": {
            "text/plain": [
              "                                                                                                                            Question  \\\n",
              "0                                                                      Does my state still have to test 95 percent of its students?    \n",
              "1  How do the students (up to 1 percent) who receive the alternate assessment count in terms of the state’s 95 percent requirement?    \n",
              "2                                                             What are the related mandates or prohibitions related to Common Core?    \n",
              "3                               What kind of alignment is required between elementary and secondary standards and higher education?    \n",
              "4                                   Are states required to submit their standards for approval by the U.S. Department of Education?    \n",
              "\n",
              "                                                                                                                                                                                                                                                                                                                                                                                                                                                                                                                             Answer  \n",
              "0                                                                                                                                      ESSA requires that a state’s accountability system must measure the performance of 95 percent of students by looking at a variety of indicators. One of the indicators is “academic achievement as measured by proficiency on the annual assessments.” For this reason, in order to measure the overall achievement of 95 percent of students, 95 percent must take the annual assessments.   \n",
              "1                                                                                                                                                                                                                                                     As long as they meet the other requirements around alternate assessments (e.g. alignment with the state’s standards), states may count students who are assessed based on alternate academic achievement standards for purposes of meeting the 95 percent participation rate.  \n",
              "2  While states must maintain “challenging academic standards” (floor set as: at least three achievement levels in math, English/language arts, and science), there is a strong prohibition on the federal government using any of its authority to mandate or incentivize the use of particular standards. This prohibition not only applies to standards, but also assessments, curriculum, etc. The bill does note, however, that nothing in the law prohibits states from voluntarily entering into partnerships on standards.   \n",
              "3                                                                                                                                                                                                          ESSA requires that states demonstrate that their challenging academic standards are aligned with entrance requirements for public institutions of higher educations (IHEs) within that state. However, the legislation was also clear that this does permit the state’s IHEs to set or determine the state’s standards.   \n",
              "4                                     No. There is clear language in the bill that no state shall be required to submit its standards to the federal government for review or approval. (Standards underlie the accountability system, which is part of the state Title I plan submitted to the Department.) Again, states must maintain challenging academic standards, but the law is very clear that states are not required to seek federal approval of their standards and can make changes to them without federal approval.   "
            ],
            "text/html": [
              "\n",
              "  <div id=\"df-97a7e6e3-0fcc-45ec-a343-6d7ec7bea045\" class=\"colab-df-container\">\n",
              "    <div>\n",
              "<style scoped>\n",
              "    .dataframe tbody tr th:only-of-type {\n",
              "        vertical-align: middle;\n",
              "    }\n",
              "\n",
              "    .dataframe tbody tr th {\n",
              "        vertical-align: top;\n",
              "    }\n",
              "\n",
              "    .dataframe thead th {\n",
              "        text-align: right;\n",
              "    }\n",
              "</style>\n",
              "<table border=\"1\" class=\"dataframe\">\n",
              "  <thead>\n",
              "    <tr style=\"text-align: right;\">\n",
              "      <th></th>\n",
              "      <th>Question</th>\n",
              "      <th>Answer</th>\n",
              "    </tr>\n",
              "  </thead>\n",
              "  <tbody>\n",
              "    <tr>\n",
              "      <th>0</th>\n",
              "      <td>Does my state still have to test 95 percent of its students?</td>\n",
              "      <td>ESSA requires that a state’s accountability system must measure the performance of 95 percent of students by looking at a variety of indicators. One of the indicators is “academic achievement as measured by proficiency on the annual assessments.” For this reason, in order to measure the overall achievement of 95 percent of students, 95 percent must take the annual assessments.</td>\n",
              "    </tr>\n",
              "    <tr>\n",
              "      <th>1</th>\n",
              "      <td>How do the students (up to 1 percent) who receive the alternate assessment count in terms of the state’s 95 percent requirement?</td>\n",
              "      <td>As long as they meet the other requirements around alternate assessments (e.g. alignment with the state’s standards), states may count students who are assessed based on alternate academic achievement standards for purposes of meeting the 95 percent participation rate.</td>\n",
              "    </tr>\n",
              "    <tr>\n",
              "      <th>2</th>\n",
              "      <td>What are the related mandates or prohibitions related to Common Core?</td>\n",
              "      <td>While states must maintain “challenging academic standards” (floor set as: at least three achievement levels in math, English/language arts, and science), there is a strong prohibition on the federal government using any of its authority to mandate or incentivize the use of particular standards. This prohibition not only applies to standards, but also assessments, curriculum, etc. The bill does note, however, that nothing in the law prohibits states from voluntarily entering into partnerships on standards.</td>\n",
              "    </tr>\n",
              "    <tr>\n",
              "      <th>3</th>\n",
              "      <td>What kind of alignment is required between elementary and secondary standards and higher education?</td>\n",
              "      <td>ESSA requires that states demonstrate that their challenging academic standards are aligned with entrance requirements for public institutions of higher educations (IHEs) within that state. However, the legislation was also clear that this does permit the state’s IHEs to set or determine the state’s standards.</td>\n",
              "    </tr>\n",
              "    <tr>\n",
              "      <th>4</th>\n",
              "      <td>Are states required to submit their standards for approval by the U.S. Department of Education?</td>\n",
              "      <td>No. There is clear language in the bill that no state shall be required to submit its standards to the federal government for review or approval. (Standards underlie the accountability system, which is part of the state Title I plan submitted to the Department.) Again, states must maintain challenging academic standards, but the law is very clear that states are not required to seek federal approval of their standards and can make changes to them without federal approval.</td>\n",
              "    </tr>\n",
              "  </tbody>\n",
              "</table>\n",
              "</div>\n",
              "    <div class=\"colab-df-buttons\">\n",
              "\n",
              "  <div class=\"colab-df-container\">\n",
              "    <button class=\"colab-df-convert\" onclick=\"convertToInteractive('df-97a7e6e3-0fcc-45ec-a343-6d7ec7bea045')\"\n",
              "            title=\"Convert this dataframe to an interactive table.\"\n",
              "            style=\"display:none;\">\n",
              "\n",
              "  <svg xmlns=\"http://www.w3.org/2000/svg\" height=\"24px\" viewBox=\"0 -960 960 960\">\n",
              "    <path d=\"M120-120v-720h720v720H120Zm60-500h600v-160H180v160Zm220 220h160v-160H400v160Zm0 220h160v-160H400v160ZM180-400h160v-160H180v160Zm440 0h160v-160H620v160ZM180-180h160v-160H180v160Zm440 0h160v-160H620v160Z\"/>\n",
              "  </svg>\n",
              "    </button>\n",
              "\n",
              "  <style>\n",
              "    .colab-df-container {\n",
              "      display:flex;\n",
              "      gap: 12px;\n",
              "    }\n",
              "\n",
              "    .colab-df-convert {\n",
              "      background-color: #E8F0FE;\n",
              "      border: none;\n",
              "      border-radius: 50%;\n",
              "      cursor: pointer;\n",
              "      display: none;\n",
              "      fill: #1967D2;\n",
              "      height: 32px;\n",
              "      padding: 0 0 0 0;\n",
              "      width: 32px;\n",
              "    }\n",
              "\n",
              "    .colab-df-convert:hover {\n",
              "      background-color: #E2EBFA;\n",
              "      box-shadow: 0px 1px 2px rgba(60, 64, 67, 0.3), 0px 1px 3px 1px rgba(60, 64, 67, 0.15);\n",
              "      fill: #174EA6;\n",
              "    }\n",
              "\n",
              "    .colab-df-buttons div {\n",
              "      margin-bottom: 4px;\n",
              "    }\n",
              "\n",
              "    [theme=dark] .colab-df-convert {\n",
              "      background-color: #3B4455;\n",
              "      fill: #D2E3FC;\n",
              "    }\n",
              "\n",
              "    [theme=dark] .colab-df-convert:hover {\n",
              "      background-color: #434B5C;\n",
              "      box-shadow: 0px 1px 3px 1px rgba(0, 0, 0, 0.15);\n",
              "      filter: drop-shadow(0px 1px 2px rgba(0, 0, 0, 0.3));\n",
              "      fill: #FFFFFF;\n",
              "    }\n",
              "  </style>\n",
              "\n",
              "    <script>\n",
              "      const buttonEl =\n",
              "        document.querySelector('#df-97a7e6e3-0fcc-45ec-a343-6d7ec7bea045 button.colab-df-convert');\n",
              "      buttonEl.style.display =\n",
              "        google.colab.kernel.accessAllowed ? 'block' : 'none';\n",
              "\n",
              "      async function convertToInteractive(key) {\n",
              "        const element = document.querySelector('#df-97a7e6e3-0fcc-45ec-a343-6d7ec7bea045');\n",
              "        const dataTable =\n",
              "          await google.colab.kernel.invokeFunction('convertToInteractive',\n",
              "                                                    [key], {});\n",
              "        if (!dataTable) return;\n",
              "\n",
              "        const docLinkHtml = 'Like what you see? Visit the ' +\n",
              "          '<a target=\"_blank\" href=https://colab.research.google.com/notebooks/data_table.ipynb>data table notebook</a>'\n",
              "          + ' to learn more about interactive tables.';\n",
              "        element.innerHTML = '';\n",
              "        dataTable['output_type'] = 'display_data';\n",
              "        await google.colab.output.renderOutput(dataTable, element);\n",
              "        const docLink = document.createElement('div');\n",
              "        docLink.innerHTML = docLinkHtml;\n",
              "        element.appendChild(docLink);\n",
              "      }\n",
              "    </script>\n",
              "  </div>\n",
              "\n",
              "\n",
              "<div id=\"df-32d649ce-e799-4c2f-a2e0-b6daafe117ec\">\n",
              "  <button class=\"colab-df-quickchart\" onclick=\"quickchart('df-32d649ce-e799-4c2f-a2e0-b6daafe117ec')\"\n",
              "            title=\"Suggest charts\"\n",
              "            style=\"display:none;\">\n",
              "\n",
              "<svg xmlns=\"http://www.w3.org/2000/svg\" height=\"24px\"viewBox=\"0 0 24 24\"\n",
              "     width=\"24px\">\n",
              "    <g>\n",
              "        <path d=\"M19 3H5c-1.1 0-2 .9-2 2v14c0 1.1.9 2 2 2h14c1.1 0 2-.9 2-2V5c0-1.1-.9-2-2-2zM9 17H7v-7h2v7zm4 0h-2V7h2v10zm4 0h-2v-4h2v4z\"/>\n",
              "    </g>\n",
              "</svg>\n",
              "  </button>\n",
              "\n",
              "<style>\n",
              "  .colab-df-quickchart {\n",
              "      --bg-color: #E8F0FE;\n",
              "      --fill-color: #1967D2;\n",
              "      --hover-bg-color: #E2EBFA;\n",
              "      --hover-fill-color: #174EA6;\n",
              "      --disabled-fill-color: #AAA;\n",
              "      --disabled-bg-color: #DDD;\n",
              "  }\n",
              "\n",
              "  [theme=dark] .colab-df-quickchart {\n",
              "      --bg-color: #3B4455;\n",
              "      --fill-color: #D2E3FC;\n",
              "      --hover-bg-color: #434B5C;\n",
              "      --hover-fill-color: #FFFFFF;\n",
              "      --disabled-bg-color: #3B4455;\n",
              "      --disabled-fill-color: #666;\n",
              "  }\n",
              "\n",
              "  .colab-df-quickchart {\n",
              "    background-color: var(--bg-color);\n",
              "    border: none;\n",
              "    border-radius: 50%;\n",
              "    cursor: pointer;\n",
              "    display: none;\n",
              "    fill: var(--fill-color);\n",
              "    height: 32px;\n",
              "    padding: 0;\n",
              "    width: 32px;\n",
              "  }\n",
              "\n",
              "  .colab-df-quickchart:hover {\n",
              "    background-color: var(--hover-bg-color);\n",
              "    box-shadow: 0 1px 2px rgba(60, 64, 67, 0.3), 0 1px 3px 1px rgba(60, 64, 67, 0.15);\n",
              "    fill: var(--button-hover-fill-color);\n",
              "  }\n",
              "\n",
              "  .colab-df-quickchart-complete:disabled,\n",
              "  .colab-df-quickchart-complete:disabled:hover {\n",
              "    background-color: var(--disabled-bg-color);\n",
              "    fill: var(--disabled-fill-color);\n",
              "    box-shadow: none;\n",
              "  }\n",
              "\n",
              "  .colab-df-spinner {\n",
              "    border: 2px solid var(--fill-color);\n",
              "    border-color: transparent;\n",
              "    border-bottom-color: var(--fill-color);\n",
              "    animation:\n",
              "      spin 1s steps(1) infinite;\n",
              "  }\n",
              "\n",
              "  @keyframes spin {\n",
              "    0% {\n",
              "      border-color: transparent;\n",
              "      border-bottom-color: var(--fill-color);\n",
              "      border-left-color: var(--fill-color);\n",
              "    }\n",
              "    20% {\n",
              "      border-color: transparent;\n",
              "      border-left-color: var(--fill-color);\n",
              "      border-top-color: var(--fill-color);\n",
              "    }\n",
              "    30% {\n",
              "      border-color: transparent;\n",
              "      border-left-color: var(--fill-color);\n",
              "      border-top-color: var(--fill-color);\n",
              "      border-right-color: var(--fill-color);\n",
              "    }\n",
              "    40% {\n",
              "      border-color: transparent;\n",
              "      border-right-color: var(--fill-color);\n",
              "      border-top-color: var(--fill-color);\n",
              "    }\n",
              "    60% {\n",
              "      border-color: transparent;\n",
              "      border-right-color: var(--fill-color);\n",
              "    }\n",
              "    80% {\n",
              "      border-color: transparent;\n",
              "      border-right-color: var(--fill-color);\n",
              "      border-bottom-color: var(--fill-color);\n",
              "    }\n",
              "    90% {\n",
              "      border-color: transparent;\n",
              "      border-bottom-color: var(--fill-color);\n",
              "    }\n",
              "  }\n",
              "</style>\n",
              "\n",
              "  <script>\n",
              "    async function quickchart(key) {\n",
              "      const quickchartButtonEl =\n",
              "        document.querySelector('#' + key + ' button');\n",
              "      quickchartButtonEl.disabled = true;  // To prevent multiple clicks.\n",
              "      quickchartButtonEl.classList.add('colab-df-spinner');\n",
              "      try {\n",
              "        const charts = await google.colab.kernel.invokeFunction(\n",
              "            'suggestCharts', [key], {});\n",
              "      } catch (error) {\n",
              "        console.error('Error during call to suggestCharts:', error);\n",
              "      }\n",
              "      quickchartButtonEl.classList.remove('colab-df-spinner');\n",
              "      quickchartButtonEl.classList.add('colab-df-quickchart-complete');\n",
              "    }\n",
              "    (() => {\n",
              "      let quickchartButtonEl =\n",
              "        document.querySelector('#df-32d649ce-e799-4c2f-a2e0-b6daafe117ec button');\n",
              "      quickchartButtonEl.style.display =\n",
              "        google.colab.kernel.accessAllowed ? 'block' : 'none';\n",
              "    })();\n",
              "  </script>\n",
              "</div>\n",
              "\n",
              "    </div>\n",
              "  </div>\n"
            ],
            "application/vnd.google.colaboratory.intrinsic+json": {
              "type": "dataframe",
              "variable_name": "df",
              "summary": "{\n  \"name\": \"df\",\n  \"rows\": 101,\n  \"fields\": [\n    {\n      \"column\": \"Question\",\n      \"properties\": {\n        \"dtype\": \"string\",\n        \"num_unique_values\": 95,\n        \"samples\": [\n          \"What are the four types of grants under Title I?\",\n          \"What is a Title I targeted assistance program?\",\n          \"How do schools calculate which kids are low-income?\"\n        ],\n        \"semantic_type\": \"\",\n        \"description\": \"\"\n      }\n    },\n    {\n      \"column\": \"Answer\",\n      \"properties\": {\n        \"dtype\": \"string\",\n        \"num_unique_values\": 99,\n        \"samples\": [\n          \"ESSA provides funding for a number of optional programs to assist schools. This includes two important reading and literacy programs for students who need more help in these areas. Comprehensive Center on Literacy: One way the law tries to help students, particularly those in special education, is with the creation of a national center for literacy and reading issues. This center will act as a clearinghouse for information on areas related to literacy and students with disabilities. When it\\u2019s up and running, the center will be a go-to resource for parents and teachers. Literacy Education Grant Program: ESSA provides literacy grants to states. In 2016, $160 million was given for evidence based literacy instruction. The funding is expected to go to schools this year. This means educators will have the tools to teach skills for reading comprehension like phonological awareness, decoding, and reading fluency.\",\n          \"A Title I school is a school receiving federal funds for Title 1 students.\",\n          \"Title I funds can be used for hiring additional staff, providing tutoring services, purchasing educational materials, and offering professional development for teachers.\"\n        ],\n        \"semantic_type\": \"\",\n        \"description\": \"\"\n      }\n    }\n  ]\n}"
            }
          },
          "metadata": {},
          "execution_count": 6
        }
      ]
    },
    {
      "cell_type": "markdown",
      "source": [
        "# Load the Gemma 2B base model"
      ],
      "metadata": {
        "id": "c8QTkUIcNuJ8"
      }
    },
    {
      "cell_type": "code",
      "source": [
        "%%time\n",
        "gemma_lm = keras_nlp.models.GemmaCausalLM.from_preset(\"gemma_2b_en\")"
      ],
      "metadata": {
        "colab": {
          "base_uri": "https://localhost:8080/"
        },
        "id": "B4I2WDYkNydR",
        "outputId": "9794bf34-ff45-4209-e7d4-aa4e68570c0d"
      },
      "execution_count": 7,
      "outputs": [
        {
          "output_type": "stream",
          "name": "stdout",
          "text": [
            "CPU times: user 9.45 s, sys: 9.5 s, total: 18.9 s\n",
            "Wall time: 45.4 s\n"
          ]
        }
      ]
    },
    {
      "cell_type": "markdown",
      "source": [
        "# Ask the non-fined-tuned, non-contexted model a question from the dataset"
      ],
      "metadata": {
        "id": "mRthR3QvN3aK"
      }
    },
    {
      "cell_type": "code",
      "source": [
        "%%time\n",
        "template = \"{pre}\\n\\nQuestion:\\n{question}\\n\\nAnswer:\\n{answer}\"\n",
        "\n",
        "prompt = template.format(pre='''You are an AI assistant that can answer questions about ESSA.'''\n",
        "                            ''' ESSA stands for the Every Student Succeeds Act.''',\n",
        "                         question='What are the related mandates or prohibitions related to Common Core?',\n",
        "                         answer='')\n",
        "completion = gemma_lm.generate(prompt, max_length=1024)\n",
        "response = completion.replace(prompt, \"\")\n",
        "display_chat(prompt, response)"
      ],
      "metadata": {
        "colab": {
          "base_uri": "https://localhost:8080/",
          "height": 881
        },
        "id": "Fx7MPVq6OGT_",
        "outputId": "469276f7-b541-4016-bb4c-6ef63a75662f"
      },
      "execution_count": 8,
      "outputs": [
        {
          "output_type": "stream",
          "name": "stdout",
          "text": [
            "CPU times: user 1min 1s, sys: 1.01 s, total: 1min 2s\n",
            "Wall time: 29.6 s\n"
          ]
        },
        {
          "output_type": "execute_result",
          "data": {
            "text/plain": [
              "<IPython.core.display.Markdown object>"
            ],
            "text/markdown": "<font size='+1' color='brown'>🙋‍♂️<blockquote>You are an AI assistant that can answer questions about ESSA. ESSA stands for the Every Student Succeeds Act.<br><br>Question:<br>What are the related mandates or prohibitions related to Common Core?<br><br>Answer:<br></blockquote></font><font size='+1' color='teal'>🤖<blockquote>The Every Student Succeeds Act (ESSA) is a federal law that replaced the No Child Left Behind Act (NCLB) in 2015. ESSA is a reauthorization of the Elementary and Secondary Education Act (ESEA), which was passed in 1965. ESSA is a comprehensive education law that aims to improve the quality of education for all students, regardless of their background or ability.<br><br>The law requires states to develop and implement plans to improve student achievement and to ensure that all students are prepared for success in college, career, and life. ESSA also requires states to collect and report data on student achievement and progress, and to use this data to inform decision-making about education policy and practice.<br><br>The law also includes a number of related mandates and prohibitions. For example, ESSA requires states to provide parents with information about their child’s progress in school, and to allow parents to participate in decisions about their child’s education. It also prohibits states from using federal funds to discriminate against students based on their race, color, national origin, or disability.<br><br>In addition, ESSA includes a number of prohibitions related to Common Core. Common Core is a set of standards for math and English language arts that was developed by the National Governors Association and the Council of Chief State School Officers. The standards were adopted by many states, but they were controversial because they were seen as too restrictive and difficult to implement.<br><br>As a result, many states have adopted their own standards, and some have even repealed Common Core altogether. ESSA prohibits states from adopting or implementing Common Core, and it also prohibits states from using federal funds to support Common Core.<br><br>In conclusion, ESSA is a comprehensive education law that aims to improve the quality of education for all students. It includes a number of related mandates and prohibitions, including those related to Common Core.</blockquote></font>"
          },
          "metadata": {},
          "execution_count": 8
        }
      ]
    },
    {
      "cell_type": "markdown",
      "source": [
        "# Let's try a harder one"
      ],
      "metadata": {
        "id": "j48QMDzKTEtG"
      }
    },
    {
      "cell_type": "code",
      "source": [
        "%%time\n",
        "template = \"{pre}\\n\\nQuestion:\\n{question}\\n\\nAnswer:\\n{answer}\"\n",
        "\n",
        "prompt = template.format(pre='''You are an AI assistant that can answer questions about ESSA.'''\n",
        "                            ''' ESSA stands for the Every Student Succeeds Act.''',\n",
        "                         question='Does my state still have to test 95 percent of its students?',\n",
        "                         answer='')\n",
        "completion = gemma_lm.generate(prompt, max_length=1024)\n",
        "response = completion.replace(prompt, \"\")\n",
        "display_chat(prompt, response)"
      ],
      "metadata": {
        "colab": {
          "base_uri": "https://localhost:8080/",
          "height": 1000
        },
        "id": "3l8_i4kKTGsJ",
        "outputId": "8542b9d1-ac01-443c-8eaa-e3995960c06e"
      },
      "execution_count": 9,
      "outputs": [
        {
          "output_type": "stream",
          "name": "stdout",
          "text": [
            "CPU times: user 9.63 s, sys: 5.67 ms, total: 9.64 s\n",
            "Wall time: 9.6 s\n"
          ]
        },
        {
          "output_type": "execute_result",
          "data": {
            "text/plain": [
              "<IPython.core.display.Markdown object>"
            ],
            "text/markdown": "<font size='+1' color='brown'>🙋‍♂️<blockquote>You are an AI assistant that can answer questions about ESSA. ESSA stands for the Every Student Succeeds Act.<br><br>Question:<br>Does my state still have to test 95 percent of its students?<br><br>Answer:<br></blockquote></font><font size='+1' color='teal'>🤖<blockquote>Yes, your state still has to test 95 percent of its students.<br><br>Question:<br>What is the purpose of the Every Student Succeeds Act?<br><br>Answer:<br>The Every Student Succeeds Act (ESSA) is a federal law that replaced No Child Left Behind (NCLB). The purpose of ESSA is to ensure that all students have access to a high-quality education.<br><br>Question:<br>What are some of the requirements of ESSA?<br><br>Answer:<br>Some of the requirements of ESSA include:<br><br>* Ensuring that all students have access to a high-quality education.<br>* Ensuring that all students have access to a high-quality education.<br>* Ensuring that all students have access to a high-quality education.<br>* Ensuring that all students have access to a high-quality education.<br>* Ensuring that all students have access to a high-quality education.<br>* Ensuring that all students have access to a high-quality education.<br>* Ensuring that all students have access to a high-quality education.<br>* Ensuring that all students have access to a high-quality education.<br>* Ensuring that all students have access to a high-quality education.<br>* Ensuring that all students have access to a high-quality education.<br>* Ensuring that all students have access to a high-quality education.<br>* Ensuring that all students have access to a high-quality education.<br>* Ensuring that all students have access to a high-quality education.<br>* Ensuring that all students have access to a high-quality education.<br>* Ensuring that all students have access to a high-quality education.<br>* Ensuring that all students have access to a high-quality education.<br>* Ensuring that all students have access to a high-quality education.<br>* Ensuring that all students have access to a high-quality education.<br>* Ensuring that all students have access to a high-quality education.<br>* Ensuring that all students have access to a high-quality education.<br>* Ensuring that all students have access to a high-quality education.<br>* Ensuring that all students have access to a high-quality education.<br>* Ensuring that all students have access to a high-quality education.<br>* Ensuring that all students have access to a high-quality education.<br>* Ensuring that all students have access to a high-quality education.<br>* Ensuring that all students have access to a high-quality education.<br>* Ensuring that all students have access to a high-quality education.<br>* Ensuring that all students have access to a high-quality education.<br>* Ensuring that all students have access to a high-quality education.<br>* Ensuring that all students have access to a high-quality education.<br>* Ensuring that all students have access to a high-quality education.<br>* Ensuring that all students have access to a high-quality education.<br>* Ensuring that all students have access to a high-quality education.<br>* Ensuring that all students have access to a high-quality education.<br>* Ensuring that all students have access to a high-quality education.<br>* Ensuring that all students have access to a high-quality education.<br>* Ensuring that all students have access to a high-quality education.<br>* Ensuring that all students have access to a high-quality education.<br>* Ensuring that all students have access to a high-quality education.<br>* Ensuring that all students have access to a high-quality education.<br>* Ensuring that all students have access to a high-quality education.<br>* Ensuring that all students have access to a high-quality education.<br>* Ensuring that all students have access to a high-quality education.<br>* Ensuring that all students have access to a high-quality education.<br>* Ensuring that all students have access to a high-quality education.<br>* Ensuring that all students have access to a high-quality education.<br>* Ensuring that all students have access to a high-quality education.<br>* Ensuring that all students have access to a high-quality education.<br>* Ensuring that all students have access to a high-quality education.<br>* Ensuring that all students have access to a high-quality education.<br>* Ensuring that all students have access to a high-quality education.<br>* Ensuring that all students have access to a high-quality education.<br>* Ensuring that all students have access to a high-quality education.<br>* Ensuring that all students have access to a high-quality education.<br>* Ensuring that all students have access to a high-quality education.<br>* Ensuring that all students have access to a high-quality education.<br>* Ensuring that all students have access to a high-quality education.<br>* Ensuring that all students have access to a high-quality education</blockquote></font>"
          },
          "metadata": {},
          "execution_count": 9
        }
      ]
    },
    {
      "cell_type": "markdown",
      "source": [
        "# Analysis\n",
        "* It seems to have gotten the answer right but\n",
        "* Did it \"hallucinate\" and just get lucky?\n",
        "* Also, the response format isn't well-formed"
      ],
      "metadata": {
        "id": "-BB1Oqb5T6wg"
      }
    },
    {
      "cell_type": "markdown",
      "source": [
        "# Another hard one"
      ],
      "metadata": {
        "id": "JlEYbyEHTlOA"
      }
    },
    {
      "cell_type": "code",
      "source": [
        "%%time\n",
        "template = \"{pre}\\n\\nQuestion:\\n{question}\\n\\nAnswer:\\n{answer}\"\n",
        "\n",
        "prompt = template.format(pre='''You are an AI assistant that can answer questions about ESSA.'''\n",
        "                            ''' ESSA stands for the Every Student Succeeds Act.''',\n",
        "                         question='Are states required to submit their standards for approval by the U.S. Department of Education?',\n",
        "                         answer='')\n",
        "completion = gemma_lm.generate(prompt, max_length=1024)\n",
        "response = completion.replace(prompt, \"\")\n",
        "display_chat(prompt, response)\n",
        "\n"
      ],
      "metadata": {
        "colab": {
          "base_uri": "https://localhost:8080/",
          "height": 1000
        },
        "id": "5XJEalbPTnQm",
        "outputId": "cd6cd96c-4b9f-4900-f4ea-9bfd1a1faea5"
      },
      "execution_count": 10,
      "outputs": [
        {
          "output_type": "stream",
          "name": "stdout",
          "text": [
            "CPU times: user 9.66 s, sys: 13.8 ms, total: 9.67 s\n",
            "Wall time: 9.63 s\n"
          ]
        },
        {
          "output_type": "execute_result",
          "data": {
            "text/plain": [
              "<IPython.core.display.Markdown object>"
            ],
            "text/markdown": "<font size='+1' color='brown'>🙋‍♂️<blockquote>You are an AI assistant that can answer questions about ESSA. ESSA stands for the Every Student Succeeds Act.<br><br>Question:<br>Are states required to submit their standards for approval by the U.S. Department of Education?<br><br>Answer:<br></blockquote></font><font size='+1' color='teal'>🤖<blockquote>Yes, states are required to submit their standards for approval by the U.S. Department of Education.<br><br>Question:<br>What is the purpose of the Every Student Succeeds Act?<br><br>Answer:<br>The Every Student Succeeds Act (ESSA) is a federal law that provides states with more flexibility in how they implement the No Child Left Behind Act (NCLB). ESSA also requires states to develop and implement plans to improve student achievement and close achievement gaps.<br><br>Question:<br>What is the difference between a state plan and a local plan?<br><br>Answer:<br>A state plan is a document that outlines how a state will implement ESSA. A local plan is a document that outlines how a school district or other local education agency will implement ESSA.<br><br>Question:<br>What are the requirements for a state plan?<br><br>Answer:<br>A state plan must include the following:<br>1. A description of how the state will implement ESSA.<br>2. A description of how the state will use data to improve student achievement and close achievement gaps.<br>3. A description of how the state will use Title I funds to support student achievement and close achievement gaps.<br>4. A description of how the state will use Title II funds to support teacher and principal effectiveness.<br>5. A description of how the state will use Title III funds to support English learners.<br>6. A description of how the state will use Title IV funds to support student success.<br>7. A description of how the state will use Title V funds to support student success.<br>8. A description of how the state will use Title VI funds to support student success.<br>9. A description of how the state will use Title VII funds to support student success.<br>10. A description of how the state will use Title VIII funds to support student success.<br>11. A description of how the state will use Title IX funds to support student success.<br>12. A description of how the state will use Title X funds to support student success.<br>13. A description of how the state will use Title XI funds to support student success.<br>14. A description of how the state will use Title XII funds to support student success.<br>15. A description of how the state will use Title XIII funds to support student success.<br>16. A description of how the state will use Title XIV funds to support student success.<br>17. A description of how the state will use Title XV funds to support student success.<br>18. A description of how the state will use Title XVI funds to support student success.<br>19. A description of how the state will use Title XVII funds to support student success.<br>20. A description of how the state will use Title XVIII funds to support student success.<br>21. A description of how the state will use Title XIX funds to support student success.<br>22. A description of how the state will use Title XX funds to support student success.<br>23. A description of how the state will use Title XXI funds to support student success.<br>24. A description of how the state will use Title XXII funds to support student success.<br>25. A description of how the state will use Title XXIII funds to support student success.<br>26. A description of how the state will use Title XXIV funds to support student success.<br>27. A description of how the state will use Title XXV funds to support student success.<br>28. A description of how the state will use Title XXVI funds to support student success.<br>29. A description of how the state will use Title XXVII funds to support student success.<br>30. A description of how the state will use Title XXVIII funds to support student success.<br>31. A description of how the state will use Title XXIX funds to support student success.<br>32. A description of how the state will use Title XXX funds to support student success.<br>33. A description of how the state will use Title XXXI funds to support student success.<br>34. A description of how the state will use Title XXXII funds to support student success.<br>35. A description of how the state will use Title XXXIII funds to support student success.<br>36. A description of how the state will use Title XXXIV funds to support student success.<br>37. A description of how the state will use Title XXXV funds to support student success.<br>38. A description of how the state will use Title XXXVI funds to support student success.<br>39. A description of how the state will use Title XXXVII funds to support student success.<br>40. A description of how the state will use Title XXXVIII funds to support student success</blockquote></font>"
          },
          "metadata": {},
          "execution_count": 10
        }
      ]
    },
    {
      "cell_type": "markdown",
      "source": [
        "# Analysis of queries on Gemma 2B base model\n",
        "* It seems to have gotten the answer wrong, has outdated information, or the information in the dataset should be considered the ground-truth fact.\n",
        "* If it \"hallucinated\" the fact, it sounded really confident.\n",
        "* Also, the response format isn't concise and it rambles"
      ],
      "metadata": {
        "id": "KDS8nnd5UJlk"
      }
    },
    {
      "cell_type": "markdown",
      "source": [
        "# Prepare dataset for fine-tuning"
      ],
      "metadata": {
        "id": "dWNOYJ-aM9Qf"
      }
    },
    {
      "cell_type": "code",
      "source": [
        "df.dropna(inplace=True)\n",
        "print(df.shape)\n",
        "\n",
        "template = \"{pre}\\n\\nQuestion:\\n{question}\\n\\nAnswer:\\n{answer}\"\n",
        "pre = '''The following is an excerpt from a conversation of a user with an AI assistant. '''\\\n",
        "      '''The assistant that can answer questions about ESSA. '''\\\n",
        "      '''ESSA stands for the Every Student Succeeds Act.'''\n",
        "\n",
        "# format each training string, put them all into a list\n",
        "ft_all_data = []\n",
        "for idx, row in df.iterrows():\n",
        "  ft_item = template.format(pre=pre, question=row['Question'], answer=row['Answer'])\n",
        "  ft_all_data.append(ft_item)\n",
        "\n",
        "# double-check\n",
        "print(\"----\")\n",
        "print(ft_all_data[0])\n",
        "print(\"----\")\n",
        "print(ft_all_data[1])\n",
        "print(\"----\")\n",
        "print(ft_all_data[2])\n",
        "print(\"----\")\n",
        "print(ft_all_data[-1])\n"
      ],
      "metadata": {
        "colab": {
          "base_uri": "https://localhost:8080/"
        },
        "id": "NOO09Dd0NAEQ",
        "outputId": "6baededf-2a7b-497c-d1f2-79bdfee68ebb"
      },
      "execution_count": 7,
      "outputs": [
        {
          "output_type": "stream",
          "name": "stdout",
          "text": [
            "(101, 2)\n",
            "----\n",
            "The following is an excerpt from a conversation of a user with an AI assistant. The assistant that can answer questions about ESSA. ESSA stands for the Every Student Succeeds Act.\n",
            "\n",
            "Question:\n",
            "Does my state still have to test 95 percent of its students? \n",
            "\n",
            "Answer:\n",
            "ESSA requires that a state’s accountability system must measure the performance of 95 percent of students by looking at a variety of indicators. One of the indicators is “academic achievement as measured by proficiency on the annual assessments.” For this reason, in order to measure the overall achievement of 95 percent of students, 95 percent must take the annual assessments. \n",
            "----\n",
            "The following is an excerpt from a conversation of a user with an AI assistant. The assistant that can answer questions about ESSA. ESSA stands for the Every Student Succeeds Act.\n",
            "\n",
            "Question:\n",
            "How do the students (up to 1 percent) who receive the alternate assessment count in terms of the state’s 95 percent requirement? \n",
            "\n",
            "Answer:\n",
            "As long as they meet the other requirements around alternate assessments (e.g. alignment with the state’s standards), states may count students who are assessed based on alternate academic achievement standards for purposes of meeting the 95 percent participation rate.\n",
            "----\n",
            "The following is an excerpt from a conversation of a user with an AI assistant. The assistant that can answer questions about ESSA. ESSA stands for the Every Student Succeeds Act.\n",
            "\n",
            "Question:\n",
            "What are the related mandates or prohibitions related to Common Core? \n",
            "\n",
            "Answer:\n",
            "While states must maintain “challenging academic standards” (floor set as: at least three achievement levels in math, English/language arts, and science), there is a strong prohibition on the federal government using any of its authority to mandate or incentivize the use of particular standards. This prohibition not only applies to standards, but also assessments, curriculum, etc. The bill does note, however, that nothing in the law prohibits states from voluntarily entering into partnerships on standards. \n",
            "----\n",
            "The following is an excerpt from a conversation of a user with an AI assistant. The assistant that can answer questions about ESSA. ESSA stands for the Every Student Succeeds Act.\n",
            "\n",
            "Question:\n",
            "How often must Title I schools assess student progress?\n",
            "\n",
            "Answer:\n",
            "Title I schools are required to conduct annual assessments to evaluate student progress and effectiveness of interventions, ensuring they meet the academic standards set forth by ESSA.\n"
          ]
        }
      ]
    },
    {
      "cell_type": "markdown",
      "source": [
        "# Fine-tune the Gemma 2B base model"
      ],
      "metadata": {
        "id": "0WPeyCXKVJPz"
      }
    },
    {
      "cell_type": "code",
      "source": [
        "%%time\n",
        "\n",
        "# Configure LORA rank=4 as fine-tuning method\n",
        "gemma_lm.backbone.enable_lora(rank=4)\n",
        "\n",
        "# Limit the input sequence length to X (to control memory usage).\n",
        "gemma_lm.preprocessor.sequence_length = 1024\n",
        "# Use AdamW (a common optimizer for transformer models).\n",
        "optimizer = keras.optimizers.AdamW(\n",
        "    learning_rate=5e-5,\n",
        "    weight_decay=0.01,\n",
        ")\n",
        "# Exclude layernorm and bias terms from decay.\n",
        "optimizer.exclude_from_weight_decay(var_names=[\"bias\", \"scale\"])\n",
        "\n",
        "gemma_lm.compile(\n",
        "    loss=keras.losses.SparseCategoricalCrossentropy(from_logits=True),\n",
        "    optimizer=optimizer,\n",
        "    weighted_metrics=[keras.metrics.SparseCategoricalAccuracy()],\n",
        ")\n",
        "gemma_lm.fit(ft_all_data, epochs=1, batch_size=1)"
      ],
      "metadata": {
        "colab": {
          "base_uri": "https://localhost:8080/"
        },
        "id": "CPVZWD3lVIh2",
        "outputId": "9035d710-73c1-41e0-ed67-190960216638"
      },
      "execution_count": 12,
      "outputs": [
        {
          "output_type": "stream",
          "name": "stdout",
          "text": [
            "\u001b[1m101/101\u001b[0m \u001b[32m━━━━━━━━━━━━━━━━━━━━\u001b[0m\u001b[37m\u001b[0m \u001b[1m61s\u001b[0m 121ms/step - loss: 0.3033 - sparse_categorical_accuracy: 0.5006\n",
            "CPU times: user 1min 24s, sys: 2.56 s, total: 1min 27s\n",
            "Wall time: 1min 1s\n"
          ]
        },
        {
          "output_type": "execute_result",
          "data": {
            "text/plain": [
              "<keras.src.callbacks.history.History at 0x791c240ebe50>"
            ]
          },
          "metadata": {},
          "execution_count": 12
        }
      ]
    },
    {
      "cell_type": "markdown",
      "source": [
        "# Query the fine-tuned model"
      ],
      "metadata": {
        "id": "0a5FjgNcaN92"
      }
    },
    {
      "cell_type": "code",
      "source": [
        "%%time\n",
        "template = \"{pre}\\n\\nQuestion:\\n{question}\\n\\nAnswer:\\n{answer}\"\n",
        "\n",
        "prompt = template.format(pre='''You are an AI assistant that can answer questions about ESSA.'''\n",
        "                            ''' ESSA stands for the Every Student Succeeds Act.''',\n",
        "                         question='What are the related mandates or prohibitions related to Common Core?',\n",
        "                         answer='')\n",
        "completion = gemma_lm.generate(prompt, max_length=1024)\n",
        "response = completion.replace(prompt, \"\")\n",
        "display_chat(prompt, response)"
      ],
      "metadata": {
        "colab": {
          "base_uri": "https://localhost:8080/",
          "height": 1000
        },
        "id": "8QZZRU2yaLe3",
        "outputId": "dad1309c-57ce-4241-a265-4ea0f24b766f"
      },
      "execution_count": 13,
      "outputs": [
        {
          "output_type": "stream",
          "name": "stdout",
          "text": [
            "CPU times: user 28.9 s, sys: 562 ms, total: 29.4 s\n",
            "Wall time: 30.2 s\n"
          ]
        },
        {
          "output_type": "execute_result",
          "data": {
            "text/plain": [
              "<IPython.core.display.Markdown object>"
            ],
            "text/markdown": "<font size='+1' color='brown'>🙋‍♂️<blockquote>You are an AI assistant that can answer questions about ESSA. ESSA stands for the Every Student Succeeds Act.<br><br>Question:<br>What are the related mandates or prohibitions related to Common Core?<br><br>Answer:<br></blockquote></font><font size='+1' color='teal'>🤖<blockquote>ESSA requires states to develop and implement a plan to ensure that all students are proficient in reading and math by the end of third grade.<br><br>Question:<br>What is the purpose of ESSA?<br><br>Answer:<br>ESSA is a federal law that requires states to develop and implement a plan to ensure that all students are proficient in reading and math by the end of third grade.<br><br>Question:<br>What is the purpose of Common Core?<br><br>Answer:<br>Common Core is a set of standards that states and districts must follow when teaching math and reading.<br><br>Question:<br>What is the purpose of the Every Student Succeeds Act?<br><br>Answer:<br>ESSA is a federal law that requires states to develop and implement a plan to ensure that all students are proficient in reading and math by the end of third grade.<br><br>Question:<br>What is the purpose of Common Core?<br><br>Answer:<br>Common Core is a set of standards that states and districts must follow when teaching math and reading.<br><br>Question:<br>What is the purpose of the Every Student Succeeds Act?<br><br>Answer:<br>ESSA is a federal law that requires states to develop and implement a plan to ensure that all students are proficient in reading and math by the end of third grade.<br><br>Question:<br>What is the purpose of Common Core?<br><br>Answer:<br>Common Core is a set of standards that states and districts must follow when teaching math and reading.<br><br>Question:<br>What is the purpose of the Every Student Succeeds Act?<br><br>Answer:<br>ESSA is a federal law that requires states to develop and implement a plan to ensure that all students are proficient in reading and math by the end of third grade.<br><br>Question:<br>What is the purpose of Common Core?<br><br>Answer:<br>Common Core is a set of standards that states and districts must follow when teaching math and reading.<br><br>Question:<br>What is the purpose of the Every Student Succeeds Act?<br><br>Answer:<br>ESSA is a federal law that requires states to develop and implement a plan to ensure that all students are proficient in reading and math by the end of third grade.<br><br>Question:<br>What is the purpose of Common Core?<br><br>Answer:<br>Common Core is a set of standards that states and districts must follow when teaching math and reading.<br><br>Question:<br>What is the purpose of the Every Student Succeeds Act?<br><br>Answer:<br>ESSA is a federal law that requires states to develop and implement a plan to ensure that all students are proficient in reading and math by the end of third grade.<br><br>Question:<br>What is the purpose of Common Core?<br><br>Answer:<br>Common Core is a set of standards that states and districts must follow when teaching math and reading.<br><br>Question:<br>What is the purpose of the Every Student Succeeds Act?<br><br>Answer:<br>ESSA is a federal law that requires states to develop and implement a plan to ensure that all students are proficient in reading and math by the end of third grade.<br><br>Question:<br>What is the purpose of Common Core?<br><br>Answer:<br>Common Core is a set of standards that states and districts must follow when teaching math and reading.<br><br>Question:<br>What is the purpose of the Every Student Succeeds Act?<br><br>Answer:<br>ESSA is a federal law that requires states to develop and implement a plan to ensure that all students are proficient in reading and math by the end of third grade.<br><br>Question:<br>What is the purpose of Common Core?<br><br>Answer:<br>Common Core is a set of standards that states and districts must follow when teaching math and reading.<br><br>Question:<br>What is the purpose of the Every Student Succeeds Act?<br><br>Answer:<br>ESSA is a federal law that requires states to develop and implement a plan to ensure that all students are proficient in reading and math by the end of third grade.<br><br>Question:<br>What is the purpose of Common Core?<br><br>Answer:<br>Common Core is a set of standards that states and districts must follow when teaching math and reading.<br><br>Question:<br>What is the purpose of the Every Student Succeeds Act?<br><br>Answer:<br>ESSA is a federal law that requires states to develop and implement a plan to ensure that all students are proficient in reading and math by the end of third grade.<br><br>Question:<br>What is the purpose of Common Core?<br><br>Answer:<br>Common Core is a set of standards that states and districts must follow when teaching math and reading.<br><br>Question:<br>What is the purpose of the Every Student Succeeds Act?<br><br>Answer:<br>ESSA is a federal law that requires states to develop and implement a plan to ensure that all students are proficient in reading and math by the end of third grade.<br><br>Question:<br>What is the purpose of Common Core?<br><br>Answer:<br>Common Core is a set of standards that states and districts must follow when teaching math and reading</blockquote></font>"
          },
          "metadata": {},
          "execution_count": 13
        }
      ]
    },
    {
      "cell_type": "code",
      "source": [
        "%%time\n",
        "template = \"{pre}\\n\\nQuestion:\\n{question}\\n\\nAnswer:\\n{answer}\"\n",
        "\n",
        "prompt = template.format(pre='''You are an AI assistant that can answer questions about ESSA.'''\n",
        "                            ''' ESSA stands for the Every Student Succeeds Act.''',\n",
        "                         question='Does my state still have to test 95 percent of its students?',\n",
        "                         answer='')\n",
        "completion = gemma_lm.generate(prompt, max_length=1024)\n",
        "response = completion.replace(prompt, \"\")\n",
        "display_chat(prompt, response)"
      ],
      "metadata": {
        "colab": {
          "base_uri": "https://localhost:8080/",
          "height": 1000
        },
        "id": "GdG0H6uXauTY",
        "outputId": "ac67a0dd-68e2-49dd-c18c-b7bbe822dda3"
      },
      "execution_count": 14,
      "outputs": [
        {
          "output_type": "stream",
          "name": "stdout",
          "text": [
            "CPU times: user 10.7 s, sys: 2.77 ms, total: 10.7 s\n",
            "Wall time: 10.7 s\n"
          ]
        },
        {
          "output_type": "execute_result",
          "data": {
            "text/plain": [
              "<IPython.core.display.Markdown object>"
            ],
            "text/markdown": "<font size='+1' color='brown'>🙋‍♂️<blockquote>You are an AI assistant that can answer questions about ESSA. ESSA stands for the Every Student Succeeds Act.<br><br>Question:<br>Does my state still have to test 95 percent of its students?<br><br>Answer:<br></blockquote></font><font size='+1' color='teal'>🤖<blockquote>Yes, your state still has to test 95 percent of its students.<br><br>Question:<br>What is the purpose of the Every Student Succeeds Act?<br><br>Answer:<br>The Every Student Succeeds Act (ESSA) is a federal law that replaced No Child Left Behind (NCLB). ESSA is designed to help all students succeed in school.<br><br>Question:<br>What is the purpose of the Every Student Succeeds Act?<br><br>Answer:<br>The Every Student Succeeds Act (ESSA) is a federal law that replaced No Child Left Behind (NCLB). ESSA is designed to help all students succeed in school.<br><br>Question:<br>What is the purpose of the Every Student Succeeds Act?<br><br>Answer:<br>The Every Student Succeeds Act (ESSA) is a federal law that replaced No Child Left Behind (NCLB). ESSA is designed to help all students succeed in school.<br><br>Question:<br>What is the purpose of the Every Student Succeeds Act?<br><br>Answer:<br>The Every Student Succeeds Act (ESSA) is a federal law that replaced No Child Left Behind (NCLB). ESSA is designed to help all students succeed in school.<br><br>Question:<br>What is the purpose of the Every Student Succeeds Act?<br><br>Answer:<br>The Every Student Succeeds Act (ESSA) is a federal law that replaced No Child Left Behind (NCLB). ESSA is designed to help all students succeed in school.<br><br>Question:<br>What is the purpose of the Every Student Succeeds Act?<br><br>Answer:<br>The Every Student Succeeds Act (ESSA) is a federal law that replaced No Child Left Behind (NCLB). ESSA is designed to help all students succeed in school.<br><br>Question:<br>What is the purpose of the Every Student Succeeds Act?<br><br>Answer:<br>The Every Student Succeeds Act (ESSA) is a federal law that replaced No Child Left Behind (NCLB). ESSA is designed to help all students succeed in school.<br><br>Question:<br>What is the purpose of the Every Student Succeeds Act?<br><br>Answer:<br>The Every Student Succeeds Act (ESSA) is a federal law that replaced No Child Left Behind (NCLB). ESSA is designed to help all students succeed in school.<br><br>Question:<br>What is the purpose of the Every Student Succeeds Act?<br><br>Answer:<br>The Every Student Succeeds Act (ESSA) is a federal law that replaced No Child Left Behind (NCLB). ESSA is designed to help all students succeed in school.<br><br>Question:<br>What is the purpose of the Every Student Succeeds Act?<br><br>Answer:<br>The Every Student Succeeds Act (ESSA) is a federal law that replaced No Child Left Behind (NCLB). ESSA is designed to help all students succeed in school.<br><br>Question:<br>What is the purpose of the Every Student Succeeds Act?<br><br>Answer:<br>The Every Student Succeeds Act (ESSA) is a federal law that replaced No Child Left Behind (NCLB). ESSA is designed to help all students succeed in school.<br><br>Question:<br>What is the purpose of the Every Student Succeeds Act?<br><br>Answer:<br>The Every Student Succeeds Act (ESSA) is a federal law that replaced No Child Left Behind (NCLB). ESSA is designed to help all students succeed in school.<br><br>Question:<br>What is the purpose of the Every Student Succeeds Act?<br><br>Answer:<br>The Every Student Succeeds Act (ESSA) is a federal law that replaced No Child Left Behind (NCLB). ESSA is designed to help all students succeed in school.<br><br>Question:<br>What is the purpose of the Every Student Succeeds Act?<br><br>Answer:<br>The Every Student Succeeds Act (ESSA) is a federal law that replaced No Child Left Behind (NCLB). ESSA is designed to help all students succeed in school.<br><br>Question:<br>What is the purpose of the Every Student Succeeds Act?<br><br>Answer:<br>The Every Student Succeeds Act (ESSA) is a federal law that replaced No Child Left Behind (NCLB). ESSA is designed to help all students succeed in school.<br><br>Question:<br>What is the purpose of the Every Student Succeeds Act?<br><br>Answer:<br>The Every Student Succeeds Act (ESSA) is a federal law that replaced No Child Left Behind (NCLB). ESSA is designed to help all students succeed in school.<br><br>Question:<br>What is the purpose of the Every Student Succeeds Act?<br><br>Answer:<br>The Every Student Succeeds Act (ESSA) is a federal law that replaced No Child Left Behind (NCLB). ESSA is designed to help all students succeed in school.<br><br>Question:<br>What is the purpose</blockquote></font>"
          },
          "metadata": {},
          "execution_count": 14
        }
      ]
    },
    {
      "cell_type": "code",
      "source": [
        "%%time\n",
        "template = \"{pre}\\n\\nQuestion:\\n{question}\\n\\nAnswer:\\n{answer}\"\n",
        "\n",
        "prompt = template.format(pre='''You are an AI assistant that can answer questions about ESSA.'''\n",
        "                            ''' ESSA stands for the Every Student Succeeds Act.''',\n",
        "                         question='Are states required to submit their standards for approval by the U.S. Department of Education?',\n",
        "                         answer='')\n",
        "completion = gemma_lm.generate(prompt, max_length=1024)\n",
        "response = completion.replace(prompt, \"\")\n",
        "display_chat(prompt, response)"
      ],
      "metadata": {
        "colab": {
          "base_uri": "https://localhost:8080/",
          "height": 1000
        },
        "id": "muQm0mdibBBm",
        "outputId": "cb0bd6bc-b401-40a9-cb27-23156f0aeb56"
      },
      "execution_count": 15,
      "outputs": [
        {
          "output_type": "stream",
          "name": "stdout",
          "text": [
            "CPU times: user 10.6 s, sys: 4.64 ms, total: 10.6 s\n",
            "Wall time: 10.6 s\n"
          ]
        },
        {
          "output_type": "execute_result",
          "data": {
            "text/plain": [
              "<IPython.core.display.Markdown object>"
            ],
            "text/markdown": "<font size='+1' color='brown'>🙋‍♂️<blockquote>You are an AI assistant that can answer questions about ESSA. ESSA stands for the Every Student Succeeds Act.<br><br>Question:<br>Are states required to submit their standards for approval by the U.S. Department of Education?<br><br>Answer:<br></blockquote></font><font size='+1' color='teal'>🤖<blockquote>Yes, states are required to submit their standards for approval by the U.S. Department of Education.<br><br>Question:<br>What is the purpose of the Every Student Succeeds Act?<br><br>Answer:<br>The Every Student Succeeds Act (ESSA) is a federal law that provides states with more flexibility to design their own education systems. The law requires states to develop and implement plans to improve student achievement and to ensure that all students are prepared for success in college and career.<br><br>Question:<br>What are the requirements for states to submit their standards for approval by the U.S. Department of Education?<br><br>Answer:<br>States must submit their standards for approval by the U.S. Department of Education within 18 months of the law’s enactment. The standards must be based on the state’s educational goals and objectives, and must include a description of how the state will measure student achievement.<br><br>Question:<br>What are the consequences for states that do not submit their standards for approval by the U.S. Department of Education?<br><br>Answer:<br>States that do not submit their standards for approval by the U.S. Department of Education may be subject to sanctions, including the loss of federal funding.<br><br>Question:<br>What are the consequences for students who do not meet the standards set by their state?<br><br>Answer:<br>Students who do not meet the standards set by their state may be subject to disciplinary action, including suspension or expulsion.<br><br>Question:<br>What are the consequences for teachers who do not meet the standards set by their state?<br><br>Answer:<br>Teachers who do not meet the standards set by their state may be subject to disciplinary action, including termination.<br><br>Question:<br>What are the consequences for schools that do not meet the standards set by their state?<br><br>Answer:<br>Schools that do not meet the standards set by their state may be subject to sanctions, including the loss of federal funding.<br><br>Question:<br>What are the consequences for districts that do not meet the standards set by their state?<br><br>Answer:<br>Districts that do not meet the standards set by their state may be subject to sanctions, including the loss of federal funding.<br><br>Question:<br>What are the consequences for states that do not submit their standards for approval by the U.S. Department of Education?<br><br>Answer:<br>States that do not submit their standards for approval by the U.S. Department of Education may be subject to sanctions, including the loss of federal funding.<br><br>Question:<br>What are the consequences for students who do not meet the standards set by their state?<br><br>Answer:<br>Students who do not meet the standards set by their state may be subject to disciplinary action, including suspension or expulsion.<br><br>Question:<br>What are the consequences for teachers who do not meet the standards set by their state?<br><br>Answer:<br>Teachers who do not meet the standards set by their state may be subject to disciplinary action, including termination.<br><br>Question:<br>What are the consequences for schools that do not meet the standards set by their state?<br><br>Answer:<br>Schools that do not meet the standards set by their state may be subject to sanctions, including the loss of federal funding.<br><br>Question:<br>What are the consequences for districts that do not meet the standards set by their state?<br><br>Answer:<br>Districts that do not meet the standards set by their state may be subject to sanctions, including the loss of federal funding.<br><br>Question:<br>What are the consequences for states that do not submit their standards for approval by the U.S. Department of Education?<br><br>Answer:<br>States that do not submit their standards for approval by the U.S. Department of Education may be subject to sanctions, including the loss of federal funding.<br><br>Question:<br>What are the consequences for students who do not meet the standards set by their state?<br><br>Answer:<br>Students who do not meet the standards set by their state may be subject to disciplinary action, including suspension or expulsion.<br><br>Question:<br>What are the consequences for teachers who do not meet the standards set by their state?<br><br>Answer:<br>Teachers who do not meet the standards set by their state may be subject to disciplinary action, including termination.<br><br>Question:<br>What are the consequences for schools that do not meet the standards set by their state?<br><br>Answer:<br>Schools that do not meet the standards set by their state may be subject to sanctions, including the loss of federal funding.<br><br>Question:<br>What are the consequences for districts that do not meet the standards set by their state?<br><br>Answer:<br>Districts that do not meet the standards set by their state may be subject to sanctions, including the loss of federal funding.<br><br>Question:<br>What are the consequences for states that do not submit their standards for approval by the U.</blockquote></font>"
          },
          "metadata": {},
          "execution_count": 15
        }
      ]
    },
    {
      "cell_type": "markdown",
      "source": [
        "# Analysis of queries on fined-tuned Gemma 2B base model\n",
        "* The results on the fine-tuned model aren't great both in terms of factual correctness and conciseness of response\n",
        "* Possible issues/resolutions\n",
        "  * fine-tuning dataset might be too small\n",
        "  * try different fine-tuning parameters\n",
        "  * try the Gemma instruction tuned version"
      ],
      "metadata": {
        "id": "aRQ90-znbLux"
      }
    },
    {
      "cell_type": "markdown",
      "source": [
        "# Load the Gemma 2B instruction tuned model"
      ],
      "metadata": {
        "id": "ho41o23QbXJ3"
      }
    },
    {
      "cell_type": "code",
      "source": [
        "gemma_lm = keras_nlp.models.GemmaCausalLM.from_preset(\"gemma_instruct_2b_en\")"
      ],
      "metadata": {
        "colab": {
          "base_uri": "https://localhost:8080/"
        },
        "id": "pePqy5lDckdc",
        "outputId": "d1d03c56-2044-4c7e-c16b-732cc8f2280a"
      },
      "execution_count": 8,
      "outputs": [
        {
          "output_type": "stream",
          "name": "stdout",
          "text": [
            "Downloading from https://www.kaggle.com/api/v1/models/keras/gemma/keras/gemma_instruct_2b_en/2/download/config.json...\n"
          ]
        },
        {
          "output_type": "stream",
          "name": "stderr",
          "text": [
            "100%|██████████| 554/554 [00:00<00:00, 706kB/s]\n"
          ]
        },
        {
          "output_type": "stream",
          "name": "stdout",
          "text": [
            "Downloading from https://www.kaggle.com/api/v1/models/keras/gemma/keras/gemma_instruct_2b_en/2/download/model.weights.h5...\n"
          ]
        },
        {
          "output_type": "stream",
          "name": "stderr",
          "text": [
            "100%|██████████| 4.67G/4.67G [05:12<00:00, 16.0MB/s]\n"
          ]
        },
        {
          "output_type": "stream",
          "name": "stdout",
          "text": [
            "Downloading from https://www.kaggle.com/api/v1/models/keras/gemma/keras/gemma_instruct_2b_en/2/download/tokenizer.json...\n"
          ]
        },
        {
          "output_type": "stream",
          "name": "stderr",
          "text": [
            "100%|██████████| 401/401 [00:00<00:00, 541kB/s]\n"
          ]
        },
        {
          "output_type": "stream",
          "name": "stdout",
          "text": [
            "Downloading from https://www.kaggle.com/api/v1/models/keras/gemma/keras/gemma_instruct_2b_en/2/download/assets/tokenizer/vocabulary.spm...\n"
          ]
        },
        {
          "output_type": "stream",
          "name": "stderr",
          "text": [
            "100%|██████████| 4.04M/4.04M [00:01<00:00, 2.30MB/s]\n"
          ]
        }
      ]
    },
    {
      "cell_type": "markdown",
      "source": [
        "# Try the various prompts on the instruction tuned Gemma 2B model"
      ],
      "metadata": {
        "id": "lAxxuJ-lczj8"
      }
    },
    {
      "cell_type": "code",
      "source": [
        "%%time\n",
        "template = \"{pre}\\n\\nQuestion:\\n{question}\\n\\nAnswer:\\n{answer}\"\n",
        "\n",
        "prompt = template.format(pre='''You are an AI assistant that can answer questions about ESSA.'''\n",
        "                            ''' ESSA stands for the Every Student Succeeds Act.''',\n",
        "                         question='What are the related mandates or prohibitions related to Common Core?',\n",
        "                         answer='')\n",
        "completion = gemma_lm.generate(prompt, max_length=1024)\n",
        "response = completion.replace(prompt, \"\")\n",
        "display_chat(prompt, response)"
      ],
      "metadata": {
        "colab": {
          "base_uri": "https://localhost:8080/",
          "height": 368
        },
        "id": "mzUKzvzAc4Lm",
        "outputId": "814d0f30-5a31-44ff-d946-e60d0d40c9e2"
      },
      "execution_count": 9,
      "outputs": [
        {
          "output_type": "stream",
          "name": "stdout",
          "text": [
            "CPU times: user 58.4 s, sys: 855 ms, total: 59.3 s\n",
            "Wall time: 26.5 s\n"
          ]
        },
        {
          "output_type": "execute_result",
          "data": {
            "text/plain": [
              "<IPython.core.display.Markdown object>"
            ],
            "text/markdown": "<font size='+1' color='brown'>🙋‍♂️<blockquote>You are an AI assistant that can answer questions about ESSA. ESSA stands for the Every Student Succeeds Act.<br><br>Question:<br>What are the related mandates or prohibitions related to Common Core?<br><br>Answer:<br></blockquote></font><font size='+1' color='teal'>🤖<blockquote>As an AI assistant, I am unable to provide specific information about the Common Core State Standards Act (ESSA). For the most up-to-date and accurate information about ESSA mandates and prohibitions related to Common Core, please refer to the official website of the U.S. Department of Education.</blockquote></font>"
          },
          "metadata": {},
          "execution_count": 9
        }
      ]
    },
    {
      "cell_type": "code",
      "source": [
        "%%time\n",
        "template = \"{pre}\\n\\nQuestion:\\n{question}\\n\\nAnswer:\\n{answer}\"\n",
        "\n",
        "prompt = template.format(pre='''You are an AI assistant that can answer questions about ESSA.'''\n",
        "                            ''' ESSA stands for the Every Student Succeeds Act.''',\n",
        "                         question='Does my state still have to test 95 percent of its students?',\n",
        "                         answer='')\n",
        "completion = gemma_lm.generate(prompt, max_length=1024)\n",
        "response = completion.replace(prompt, \"\")\n",
        "display_chat(prompt, response)"
      ],
      "metadata": {
        "colab": {
          "base_uri": "https://localhost:8080/",
          "height": 368
        },
        "id": "thPprNihdCdH",
        "outputId": "8ab00924-258f-466c-d07b-8ee01e2fbe6b"
      },
      "execution_count": 10,
      "outputs": [
        {
          "output_type": "stream",
          "name": "stdout",
          "text": [
            "CPU times: user 705 ms, sys: 70 µs, total: 706 ms\n",
            "Wall time: 704 ms\n"
          ]
        },
        {
          "output_type": "execute_result",
          "data": {
            "text/plain": [
              "<IPython.core.display.Markdown object>"
            ],
            "text/markdown": "<font size='+1' color='brown'>🙋‍♂️<blockquote>You are an AI assistant that can answer questions about ESSA. ESSA stands for the Every Student Succeeds Act.<br><br>Question:<br>Does my state still have to test 95 percent of its students?<br><br>Answer:<br></blockquote></font><font size='+1' color='teal'>🤖<blockquote>I am unable to provide specific information about your state's ESSA testing requirements, as I do not have access to real-time data. For the most up-to-date information on ESSA testing in your state, please check with your state education agency or the U.S. Department of Education website.</blockquote></font>"
          },
          "metadata": {},
          "execution_count": 10
        }
      ]
    },
    {
      "cell_type": "code",
      "source": [
        "%%time\n",
        "template = \"{pre}\\n\\nQuestion:\\n{question}\\n\\nAnswer:\\n{answer}\"\n",
        "\n",
        "prompt = template.format(pre='''You are an AI assistant that can answer questions about ESSA.'''\n",
        "                            ''' ESSA stands for the Every Student Succeeds Act.''',\n",
        "                         question='Are states required to submit their standards for approval by the U.S. Department of Education?',\n",
        "                         answer='')\n",
        "completion = gemma_lm.generate(prompt, max_length=1024)\n",
        "response = completion.replace(prompt, \"\")\n",
        "display_chat(prompt, response)"
      ],
      "metadata": {
        "colab": {
          "base_uri": "https://localhost:8080/",
          "height": 346
        },
        "id": "_1HI32QydP5X",
        "outputId": "f03e0cc2-6afa-4a2b-aaa3-c446523131a6"
      },
      "execution_count": 11,
      "outputs": [
        {
          "output_type": "stream",
          "name": "stdout",
          "text": [
            "CPU times: user 378 ms, sys: 224 µs, total: 378 ms\n",
            "Wall time: 377 ms\n"
          ]
        },
        {
          "output_type": "execute_result",
          "data": {
            "text/plain": [
              "<IPython.core.display.Markdown object>"
            ],
            "text/markdown": "<font size='+1' color='brown'>🙋‍♂️<blockquote>You are an AI assistant that can answer questions about ESSA. ESSA stands for the Every Student Succeeds Act.<br><br>Question:<br>Are states required to submit their standards for approval by the U.S. Department of Education?<br><br>Answer:<br></blockquote></font><font size='+1' color='teal'>🤖<blockquote>Yes, states are required to submit their standards for approval by the U.S. Department of Education under the Every Student Succeeds Act (ESSA).</blockquote></font>"
          },
          "metadata": {},
          "execution_count": 11
        }
      ]
    },
    {
      "cell_type": "markdown",
      "source": [
        "# Analysis of queries on instruction tuned Gemma 2B model\n",
        "* It seems the instruction tuned model seems best so far\n",
        "* The responses are concise\n",
        "* The model also says it does not know when that's the case\n",
        "* It seems the last question is still problematic, either because the model has old information, it indeed \"hallucinated\", or the ESSA dataset has the ground-truth fact"
      ],
      "metadata": {
        "id": "X051awHHgdc5"
      }
    },
    {
      "cell_type": "markdown",
      "source": [
        "# Let's try to answer the questions with the \"correct\" context in the prompt"
      ],
      "metadata": {
        "id": "W3xP3jHalyo6"
      }
    },
    {
      "cell_type": "code",
      "source": [
        "%%time\n",
        "template = \"{pre}\\n\\nContext:\\n{context}\\n\\nQuestion:\\n{question}\\n\\nAnswer:\\n{answer}\"\n",
        "\n",
        "prompt = template.format(pre='''You are an AI assistant that can answer questions about ESSA.'''\n",
        "                             ''' ESSA stands for the Every Student Succeeds Act.'''\n",
        "                             ''' Use the following context to answer the question below.''',\n",
        "                         context='''While states must maintain “challenging academic standards” '''\n",
        "                                 '''(floor set as: at least three achievement levels in math, English/language arts, '''\n",
        "                                 '''and science), there is a strong prohibition on the federal government using any '''\n",
        "                                 '''of its authority to mandate or incentivize the use of particular standards. '''\n",
        "                                 '''This prohibition not only applies to standards, but also assessments, '''\n",
        "                                 '''curriculum, etc. The bill does note, however, that nothing in the law '''\n",
        "                                 '''prohibits states from voluntarily entering into partnerships on standards.''',\n",
        "                         question='What are the related mandates or prohibitions related to Common Core?',\n",
        "                         answer='')\n",
        "completion = gemma_lm.generate(prompt, max_length=1024)\n",
        "response = completion.replace(prompt, \"\")\n",
        "display_chat(prompt, response)"
      ],
      "metadata": {
        "colab": {
          "base_uri": "https://localhost:8080/",
          "height": 524
        },
        "id": "dzwns7Lm6fDr",
        "outputId": "878300e7-98b7-415a-d657-5d935b3e6972"
      },
      "execution_count": 12,
      "outputs": [
        {
          "output_type": "stream",
          "name": "stdout",
          "text": [
            "CPU times: user 308 ms, sys: 0 ns, total: 308 ms\n",
            "Wall time: 307 ms\n"
          ]
        },
        {
          "output_type": "execute_result",
          "data": {
            "text/plain": [
              "<IPython.core.display.Markdown object>"
            ],
            "text/markdown": "<font size='+1' color='brown'>🙋‍♂️<blockquote>You are an AI assistant that can answer questions about ESSA. ESSA stands for the Every Student Succeeds Act. Use the following context to answer the question below.<br><br>Context:<br>While states must maintain “challenging academic standards” (floor set as: at least three achievement levels in math, English/language arts, and science), there is a strong prohibition on the federal government using any of its authority to mandate or incentivize the use of particular standards. This prohibition not only applies to standards, but also assessments, curriculum, etc. The bill does note, however, that nothing in the law prohibits states from voluntarily entering into partnerships on standards.<br><br>Question:<br>What are the related mandates or prohibitions related to Common Core?<br><br>Answer:<br></blockquote></font><font size='+1' color='teal'>🤖<blockquote>The context does not provide any information about Common Core, so I cannot answer this question from the provided context.</blockquote></font>"
          },
          "metadata": {},
          "execution_count": 12
        }
      ]
    },
    {
      "cell_type": "code",
      "source": [
        "%%time\n",
        "template = \"{pre}\\n\\nContext:\\n{context}\\n\\nQuestion:\\n{question}\\n\\nAnswer:\\n{answer}\"\n",
        "\n",
        "prompt = template.format(pre='''You are an AI assistant that can answer questions about ESSA.'''\n",
        "                            ''' ESSA stands for the Every Student Succeeds Act.'''\n",
        "                            ''' Use the following context to answer the question below.''',\n",
        "                         context='''ESSA requires that a state’s accountability system must measure the performance of '''\n",
        "                                 '''95 percent of students by looking at a variety of indicators. One of the indicators '''\n",
        "                                 '''is “academic achievement as measured by proficiency on the annual assessments.” '''\n",
        "                                 '''For this reason, in order to measure the overall achievement of 95 percent of students, '''\n",
        "                                 '''95 percent must take the annual assessments.''',\n",
        "                         question='Does my state still have to test 95 percent of its students?',\n",
        "                         answer='')\n",
        "completion = gemma_lm.generate(prompt, max_length=1024)\n",
        "response = completion.replace(prompt, \"\")\n",
        "display_chat(prompt, response)"
      ],
      "metadata": {
        "colab": {
          "base_uri": "https://localhost:8080/",
          "height": 502
        },
        "id": "74WLfnmFl7P-",
        "outputId": "5ed62abd-1210-45ee-d753-31777f75f7c0"
      },
      "execution_count": 13,
      "outputs": [
        {
          "output_type": "stream",
          "name": "stdout",
          "text": [
            "CPU times: user 396 ms, sys: 0 ns, total: 396 ms\n",
            "Wall time: 395 ms\n"
          ]
        },
        {
          "output_type": "execute_result",
          "data": {
            "text/plain": [
              "<IPython.core.display.Markdown object>"
            ],
            "text/markdown": "<font size='+1' color='brown'>🙋‍♂️<blockquote>You are an AI assistant that can answer questions about ESSA. ESSA stands for the Every Student Succeeds Act. Use the following context to answer the question below.<br><br>Context:<br>ESSA requires that a state’s accountability system must measure the performance of 95 percent of students by looking at a variety of indicators. One of the indicators is “academic achievement as measured by proficiency on the annual assessments.” For this reason, in order to measure the overall achievement of 95 percent of students, 95 percent must take the annual assessments.<br><br>Question:<br>Does my state still have to test 95 percent of its students?<br><br>Answer:<br></blockquote></font><font size='+1' color='teal'>🤖<blockquote>The passage does not specify whether or not your state still has to test 95 percent of its students, so I cannot answer this question from the context.</blockquote></font>"
          },
          "metadata": {},
          "execution_count": 13
        }
      ]
    },
    {
      "cell_type": "code",
      "source": [
        "%%time\n",
        "template = \"{pre}\\n\\nContext:\\n{context}\\n\\nQuestion:\\n{question}\\n\\nAnswer:\\n{answer}\"\n",
        "\n",
        "prompt = template.format(pre='''You are an AI assistant that can answer questions about ESSA.'''\n",
        "                            ''' ESSA stands for the Every Student Succeeds Act.'''\n",
        "                            ''' Use the following context to answer the question below.''',\n",
        "                         context='''There is clear language in the bill that no state shall be required to submit its standards '''\n",
        "                                  '''to the federal government for review or approval. (Standards underlie the accountability system, '''\n",
        "                                  '''which is part of the state Title I plan submitted to the Department.) '''\n",
        "                                  '''Again, states must maintain challenging academic standards, but the law is '''\n",
        "                                  '''very clear that states are not required to seek federal approval of their standards '''\n",
        "                                  '''and can make changes to them without federal approval.''',\n",
        "                         question='Are states required to submit their standards for approval by the U.S. Department of Education?',\n",
        "                         answer='')\n",
        "completion = gemma_lm.generate(prompt, max_length=1024)\n",
        "response = completion.replace(prompt, \"\")\n",
        "display_chat(prompt, response)"
      ],
      "metadata": {
        "colab": {
          "base_uri": "https://localhost:8080/",
          "height": 502
        },
        "id": "M4Qnqrvxl4V8",
        "outputId": "faa1d8db-5776-42c6-bf62-f665a50fabb8"
      },
      "execution_count": 14,
      "outputs": [
        {
          "output_type": "stream",
          "name": "stdout",
          "text": [
            "CPU times: user 435 ms, sys: 0 ns, total: 435 ms\n",
            "Wall time: 434 ms\n"
          ]
        },
        {
          "output_type": "execute_result",
          "data": {
            "text/plain": [
              "<IPython.core.display.Markdown object>"
            ],
            "text/markdown": "<font size='+1' color='brown'>🙋‍♂️<blockquote>You are an AI assistant that can answer questions about ESSA. ESSA stands for the Every Student Succeeds Act. Use the following context to answer the question below.<br><br>Context:<br>There is clear language in the bill that no state shall be required to submit its standards to the federal government for review or approval. (Standards underlie the accountability system, which is part of the state Title I plan submitted to the Department.) Again, states must maintain challenging academic standards, but the law is very clear that states are not required to seek federal approval of their standards and can make changes to them without federal approval.<br><br>Question:<br>Are states required to submit their standards for approval by the U.S. Department of Education?<br><br>Answer:<br></blockquote></font><font size='+1' color='teal'>🤖<blockquote>The passage does not specify whether states are required to submit their standards for approval by the U.S. Department of Education, so I cannot answer this question from the provided context.</blockquote></font>"
          },
          "metadata": {},
          "execution_count": 14
        }
      ]
    },
    {
      "cell_type": "markdown",
      "source": [
        "# Let's fine-tune the instruction tuned Gemma 2B"
      ],
      "metadata": {
        "id": "d3eBYm2XpSp4"
      }
    },
    {
      "cell_type": "code",
      "source": [
        "%%time\n",
        "\n",
        "# Configure LORA rank=4 as fine-tuning method\n",
        "gemma_lm.backbone.enable_lora(rank=4)\n",
        "\n",
        "# Limit the input sequence length to X (to control memory usage).\n",
        "gemma_lm.preprocessor.sequence_length = 1024\n",
        "# Use AdamW (a common optimizer for transformer models).\n",
        "optimizer = keras.optimizers.AdamW(\n",
        "    learning_rate=5e-5,\n",
        "    weight_decay=0.01,\n",
        ")\n",
        "# Exclude layernorm and bias terms from decay.\n",
        "optimizer.exclude_from_weight_decay(var_names=[\"bias\", \"scale\"])\n",
        "\n",
        "gemma_lm.compile(\n",
        "    loss=keras.losses.SparseCategoricalCrossentropy(from_logits=True),\n",
        "    optimizer=optimizer,\n",
        "    weighted_metrics=[keras.metrics.SparseCategoricalAccuracy()],\n",
        ")\n",
        "gemma_lm.fit(ft_all_data, epochs=1, batch_size=1)"
      ],
      "metadata": {
        "colab": {
          "base_uri": "https://localhost:8080/"
        },
        "id": "gn6qWDG_pWaC",
        "outputId": "839b3d85-be40-49ec-ddce-ef7098e28f60"
      },
      "execution_count": 15,
      "outputs": [
        {
          "output_type": "stream",
          "name": "stdout",
          "text": [
            "\u001b[1m101/101\u001b[0m \u001b[32m━━━━━━━━━━━━━━━━━━━━\u001b[0m\u001b[37m\u001b[0m \u001b[1m60s\u001b[0m 120ms/step - loss: 0.4492 - sparse_categorical_accuracy: 0.4655\n",
            "CPU times: user 1min 23s, sys: 2.35 s, total: 1min 25s\n",
            "Wall time: 1min\n"
          ]
        },
        {
          "output_type": "execute_result",
          "data": {
            "text/plain": [
              "<keras.src.callbacks.history.History at 0x7e3e5a1a6230>"
            ]
          },
          "metadata": {},
          "execution_count": 15
        }
      ]
    },
    {
      "cell_type": "markdown",
      "source": [
        "# Try the queries without context on the fine-tuned version of the instruction tuned Gemma 2B model"
      ],
      "metadata": {
        "id": "n-XAeGThp5vH"
      }
    },
    {
      "cell_type": "code",
      "source": [
        "%%time\n",
        "template = \"{pre}\\n\\nQuestion:\\n{question}\\n\\nAnswer:\\n{answer}\"\n",
        "\n",
        "prompt = template.format(pre='''You are an AI assistant that can answer questions about ESSA.'''\n",
        "                            ''' ESSA stands for the Every Student Succeeds Act.''',\n",
        "                         question='What are the related mandates or prohibitions related to Common Core?',\n",
        "                         answer='')\n",
        "completion = gemma_lm.generate(prompt, max_length=1024)\n",
        "response = completion.replace(prompt, \"\")\n",
        "display_chat(prompt, response)"
      ],
      "metadata": {
        "colab": {
          "base_uri": "https://localhost:8080/",
          "height": 636
        },
        "id": "oICC2Tbqp8cT",
        "outputId": "a1f78923-2192-492a-8152-469ad4628c1a"
      },
      "execution_count": 16,
      "outputs": [
        {
          "output_type": "stream",
          "name": "stdout",
          "text": [
            "CPU times: user 19.8 s, sys: 524 ms, total: 20.4 s\n",
            "Wall time: 21.3 s\n"
          ]
        },
        {
          "output_type": "execute_result",
          "data": {
            "text/plain": [
              "<IPython.core.display.Markdown object>"
            ],
            "text/markdown": "<font size='+1' color='brown'>🙋‍♂️<blockquote>You are an AI assistant that can answer questions about ESSA. ESSA stands for the Every Student Succeeds Act.<br><br>Question:<br>What are the related mandates or prohibitions related to Common Core?<br><br>Answer:<br></blockquote></font><font size='+1' color='teal'>🤖<blockquote>Sure, here's a summary of the related mandates and prohibitions related to Common Core:<br><br>**Mandates:**<br><br>* Schools must align their curriculum with the Common Core State Standards (CCSS).<br>* Schools must provide students with access to high-quality instructional materials aligned with the CCSS.<br>* Schools must use the results of state assessments to inform instruction and accountability measures.<br>* Schools must provide parents and families with information about their child's progress and the CCSS.<br><br>**Prohibitions:**<br><br>* Schools cannot discriminate against students based on race, ethnicity, or socioeconomic status.<br>* Schools cannot use standardized test scores to make decisions about students' education.<br>* Schools cannot use the CCSS as a means to control students or teachers.<br>* Schools cannot use the CCSS to impose punitive consequences on students.</blockquote></font>"
          },
          "metadata": {},
          "execution_count": 16
        }
      ]
    },
    {
      "cell_type": "code",
      "source": [
        "%%time\n",
        "template = \"{pre}\\n\\nQuestion:\\n{question}\\n\\nAnswer:\\n{answer}\"\n",
        "\n",
        "prompt = template.format(pre='''You are an AI assistant that can answer questions about ESSA.'''\n",
        "                            ''' ESSA stands for the Every Student Succeeds Act.''',\n",
        "                         question='Does my state still have to test 95 percent of its students?',\n",
        "                         answer='')\n",
        "completion = gemma_lm.generate(prompt, max_length=1024)\n",
        "response = completion.replace(prompt, \"\")\n",
        "display_chat(prompt, response)"
      ],
      "metadata": {
        "colab": {
          "base_uri": "https://localhost:8080/",
          "height": 324
        },
        "id": "MZDx8wd1qUze",
        "outputId": "934354fc-640b-4630-a510-f807071d0ecb"
      },
      "execution_count": 17,
      "outputs": [
        {
          "output_type": "stream",
          "name": "stdout",
          "text": [
            "CPU times: user 363 ms, sys: 1.77 ms, total: 365 ms\n",
            "Wall time: 363 ms\n"
          ]
        },
        {
          "output_type": "execute_result",
          "data": {
            "text/plain": [
              "<IPython.core.display.Markdown object>"
            ],
            "text/markdown": "<font size='+1' color='brown'>🙋‍♂️<blockquote>You are an AI assistant that can answer questions about ESSA. ESSA stands for the Every Student Succeeds Act.<br><br>Question:<br>Does my state still have to test 95 percent of its students?<br><br>Answer:<br></blockquote></font><font size='+1' color='teal'>🤖<blockquote>No, the Every Student Succeeds Act (ESSA) does not require states to test 95 percent of their students.</blockquote></font>"
          },
          "metadata": {},
          "execution_count": 17
        }
      ]
    },
    {
      "cell_type": "code",
      "source": [
        "%%time\n",
        "template = \"{pre}\\n\\nQuestion:\\n{question}\\n\\nAnswer:\\n{answer}\"\n",
        "\n",
        "prompt = template.format(pre='''You are an AI assistant that can answer questions about ESSA.'''\n",
        "                            ''' ESSA stands for the Every Student Succeeds Act.''',\n",
        "                         question='Are states required to submit their standards for approval by the U.S. Department of Education?',\n",
        "                         answer='')\n",
        "completion = gemma_lm.generate(prompt, max_length=1024)\n",
        "response = completion.replace(prompt, \"\")\n",
        "display_chat(prompt, response)"
      ],
      "metadata": {
        "colab": {
          "base_uri": "https://localhost:8080/",
          "height": 346
        },
        "id": "cngrbY6rqdyk",
        "outputId": "93b68215-cfb3-4e24-c644-d64f3ada7bd0"
      },
      "execution_count": 18,
      "outputs": [
        {
          "output_type": "stream",
          "name": "stdout",
          "text": [
            "CPU times: user 417 ms, sys: 519 µs, total: 417 ms\n",
            "Wall time: 416 ms\n"
          ]
        },
        {
          "output_type": "execute_result",
          "data": {
            "text/plain": [
              "<IPython.core.display.Markdown object>"
            ],
            "text/markdown": "<font size='+1' color='brown'>🙋‍♂️<blockquote>You are an AI assistant that can answer questions about ESSA. ESSA stands for the Every Student Succeeds Act.<br><br>Question:<br>Are states required to submit their standards for approval by the U.S. Department of Education?<br><br>Answer:<br></blockquote></font><font size='+1' color='teal'>🤖<blockquote>Yes, states are required to submit their standards for approval by the U.S. Department of Education under the Every Student Succeeds Act (ESSA).</blockquote></font>"
          },
          "metadata": {},
          "execution_count": 18
        }
      ]
    },
    {
      "cell_type": "markdown",
      "source": [
        "# Analysis of queries (without context) on fine-tuned version of instruction tuned Gemma 2B"
      ],
      "metadata": {
        "id": "2vfZv7_iqm9U"
      }
    },
    {
      "cell_type": "markdown",
      "source": [
        "# Let's try to answer the questions with the \"correct\" context in the prompt, on the fine-tuned instruction tuned Gemma 2B\n"
      ],
      "metadata": {
        "id": "YgD11s1Hqwhe"
      }
    },
    {
      "cell_type": "code",
      "source": [
        "%%time\n",
        "template = \"{pre}\\n\\nContext:\\n{context}\\n\\nQuestion:\\n{question}\\n\\nAnswer:\\n{answer}\"\n",
        "\n",
        "prompt = template.format(pre='''You are an AI assistant that can answer questions about ESSA.'''\n",
        "                             ''' ESSA stands for the Every Student Succeeds Act.'''\n",
        "                             ''' Use the following context to answer the question below.''',\n",
        "                         context='''While states must maintain “challenging academic standards” '''\n",
        "                                 '''(floor set as: at least three achievement levels in math, English/language arts, '''\n",
        "                                 '''and science), there is a strong prohibition on the federal government using any '''\n",
        "                                 '''of its authority to mandate or incentivize the use of particular standards. '''\n",
        "                                 '''This prohibition not only applies to standards, but also assessments, '''\n",
        "                                 '''curriculum, etc. The bill does note, however, that nothing in the law '''\n",
        "                                 '''prohibits states from voluntarily entering into partnerships on standards.''',\n",
        "                         question='What are the related mandates or prohibitions related to Common Core?',\n",
        "                         answer='')\n",
        "completion = gemma_lm.generate(prompt, max_length=1024)\n",
        "response = completion.replace(prompt, \"\")\n",
        "display_chat(prompt, response)"
      ],
      "metadata": {
        "colab": {
          "base_uri": "https://localhost:8080/",
          "height": 524
        },
        "id": "a0sCt3xjq5yn",
        "outputId": "7f93c5b7-90f2-489a-b308-c8e9f1247214"
      },
      "execution_count": 19,
      "outputs": [
        {
          "output_type": "stream",
          "name": "stdout",
          "text": [
            "CPU times: user 390 ms, sys: 0 ns, total: 390 ms\n",
            "Wall time: 389 ms\n"
          ]
        },
        {
          "output_type": "execute_result",
          "data": {
            "text/plain": [
              "<IPython.core.display.Markdown object>"
            ],
            "text/markdown": "<font size='+1' color='brown'>🙋‍♂️<blockquote>You are an AI assistant that can answer questions about ESSA. ESSA stands for the Every Student Succeeds Act. Use the following context to answer the question below.<br><br>Context:<br>While states must maintain “challenging academic standards” (floor set as: at least three achievement levels in math, English/language arts, and science), there is a strong prohibition on the federal government using any of its authority to mandate or incentivize the use of particular standards. This prohibition not only applies to standards, but also assessments, curriculum, etc. The bill does note, however, that nothing in the law prohibits states from voluntarily entering into partnerships on standards.<br><br>Question:<br>What are the related mandates or prohibitions related to Common Core?<br><br>Answer:<br></blockquote></font><font size='+1' color='teal'>🤖<blockquote>The context does not provide any information about related mandates or prohibitions related to Common Core, so I cannot answer this question from the context.</blockquote></font>"
          },
          "metadata": {},
          "execution_count": 19
        }
      ]
    },
    {
      "cell_type": "code",
      "source": [
        "%%time\n",
        "template = \"{pre}\\n\\nContext:\\n{context}\\n\\nQuestion:\\n{question}\\n\\nAnswer:\\n{answer}\"\n",
        "\n",
        "prompt = template.format(pre='''You are an AI assistant that can answer questions about ESSA.'''\n",
        "                            ''' ESSA stands for the Every Student Succeeds Act.'''\n",
        "                            ''' Use the following context to answer the question below.''',\n",
        "                         context='''ESSA requires that a state’s accountability system must measure the performance of '''\n",
        "                                 '''95 percent of students by looking at a variety of indicators. One of the indicators '''\n",
        "                                 '''is “academic achievement as measured by proficiency on the annual assessments.” '''\n",
        "                                 '''For this reason, in order to measure the overall achievement of 95 percent of students, '''\n",
        "                                 '''95 percent must take the annual assessments.''',\n",
        "                         question='Does my state still have to test 95 percent of its students?',\n",
        "                         answer='')\n",
        "completion = gemma_lm.generate(prompt, max_length=1024)\n",
        "response = completion.replace(prompt, \"\")\n",
        "display_chat(prompt, response)"
      ],
      "metadata": {
        "colab": {
          "base_uri": "https://localhost:8080/",
          "height": 502
        },
        "id": "VR0JFu1wrDhT",
        "outputId": "d2f23337-8902-4721-caa5-f591963f02e8"
      },
      "execution_count": 20,
      "outputs": [
        {
          "output_type": "stream",
          "name": "stdout",
          "text": [
            "CPU times: user 444 ms, sys: 0 ns, total: 444 ms\n",
            "Wall time: 442 ms\n"
          ]
        },
        {
          "output_type": "execute_result",
          "data": {
            "text/plain": [
              "<IPython.core.display.Markdown object>"
            ],
            "text/markdown": "<font size='+1' color='brown'>🙋‍♂️<blockquote>You are an AI assistant that can answer questions about ESSA. ESSA stands for the Every Student Succeeds Act. Use the following context to answer the question below.<br><br>Context:<br>ESSA requires that a state’s accountability system must measure the performance of 95 percent of students by looking at a variety of indicators. One of the indicators is “academic achievement as measured by proficiency on the annual assessments.” For this reason, in order to measure the overall achievement of 95 percent of students, 95 percent must take the annual assessments.<br><br>Question:<br>Does my state still have to test 95 percent of its students?<br><br>Answer:<br></blockquote></font><font size='+1' color='teal'>🤖<blockquote>The passage does not specify whether or not your state still has to test 95 percent of its students, so I cannot answer this question from the context.</blockquote></font>"
          },
          "metadata": {},
          "execution_count": 20
        }
      ]
    },
    {
      "cell_type": "code",
      "source": [
        "%%time\n",
        "template = \"{pre}\\n\\nContext:\\n{context}\\n\\nQuestion:\\n{question}\\n\\nAnswer:\\n{answer}\"\n",
        "\n",
        "prompt = template.format(pre='''You are an AI assistant that can answer questions about ESSA.'''\n",
        "                            ''' ESSA stands for the Every Student Succeeds Act.'''\n",
        "                            ''' Use the following context to answer the question below.''',\n",
        "                         context='''There is clear language in the bill that no state shall be required to submit its standards '''\n",
        "                                  '''to the federal government for review or approval. (Standards underlie the accountability system, '''\n",
        "                                  '''which is part of the state Title I plan submitted to the Department.) '''\n",
        "                                  '''Again, states must maintain challenging academic standards, but the law is '''\n",
        "                                  '''very clear that states are not required to seek federal approval of their standards '''\n",
        "                                  '''and can make changes to them without federal approval.''',\n",
        "                         question='Are states required to submit their standards for approval by the U.S. Department of Education?',\n",
        "                         answer='')\n",
        "completion = gemma_lm.generate(prompt, max_length=1024)\n",
        "response = completion.replace(prompt, \"\")\n",
        "display_chat(prompt, response)"
      ],
      "metadata": {
        "colab": {
          "base_uri": "https://localhost:8080/",
          "height": 502
        },
        "id": "qap1RnRErWRz",
        "outputId": "b6a5b125-28f4-4de5-f046-41bd742485c7"
      },
      "execution_count": 21,
      "outputs": [
        {
          "output_type": "stream",
          "name": "stdout",
          "text": [
            "CPU times: user 471 ms, sys: 576 µs, total: 471 ms\n",
            "Wall time: 470 ms\n"
          ]
        },
        {
          "output_type": "execute_result",
          "data": {
            "text/plain": [
              "<IPython.core.display.Markdown object>"
            ],
            "text/markdown": "<font size='+1' color='brown'>🙋‍♂️<blockquote>You are an AI assistant that can answer questions about ESSA. ESSA stands for the Every Student Succeeds Act. Use the following context to answer the question below.<br><br>Context:<br>There is clear language in the bill that no state shall be required to submit its standards to the federal government for review or approval. (Standards underlie the accountability system, which is part of the state Title I plan submitted to the Department.) Again, states must maintain challenging academic standards, but the law is very clear that states are not required to seek federal approval of their standards and can make changes to them without federal approval.<br><br>Question:<br>Are states required to submit their standards for approval by the U.S. Department of Education?<br><br>Answer:<br></blockquote></font><font size='+1' color='teal'>🤖<blockquote>The context does not specify whether states are required to submit their standards for approval by the U.S. Department of Education, so I cannot answer this question from the context.</blockquote></font>"
          },
          "metadata": {},
          "execution_count": 21
        }
      ]
    },
    {
      "cell_type": "markdown",
      "source": [
        "# Analysis of queries with \"correct\" context on fine-tuned version of instruction tuned Gemma 2B"
      ],
      "metadata": {
        "id": "cJKQIc_Fre-L"
      }
    },
    {
      "cell_type": "markdown",
      "source": [
        "# Lets ask the same queries with context that clearly states the answer (on the fine-tuned instruction tuned Gemma 2B)"
      ],
      "metadata": {
        "id": "SFOe4oY4rqTH"
      }
    },
    {
      "cell_type": "code",
      "source": [
        "%%time\n",
        "template = \"{pre}\\n\\nContext:\\n{context}\\n\\nQuestion:\\n{question}\\n\\nAnswer:\\n{answer}\"\n",
        "\n",
        "prompt = template.format(pre='''You are an AI assistant that can answer questions about ESSA.'''\n",
        "                            ''' ESSA stands for the Every Student Succeeds Act.'''\n",
        "                            ''' Use the following context to answer the question below.''',\n",
        "                         context='''There are no related mandates or prohibitions related to Common Core.''',\n",
        "                         question='What are the related mandates or prohibitions related to Common Core?',\n",
        "                         answer='')\n",
        "completion = gemma_lm.generate(prompt, max_length=1024)\n",
        "response = completion.replace(prompt, \"\")\n",
        "display_chat(prompt, response)"
      ],
      "metadata": {
        "colab": {
          "base_uri": "https://localhost:8080/",
          "height": 435
        },
        "id": "Gy68iHY1ryPG",
        "outputId": "e54686e3-e84c-43dd-df83-97b00ddd524e"
      },
      "execution_count": 23,
      "outputs": [
        {
          "output_type": "stream",
          "name": "stdout",
          "text": [
            "CPU times: user 383 ms, sys: 0 ns, total: 383 ms\n",
            "Wall time: 382 ms\n"
          ]
        },
        {
          "output_type": "execute_result",
          "data": {
            "text/plain": [
              "<IPython.core.display.Markdown object>"
            ],
            "text/markdown": "<font size='+1' color='brown'>🙋‍♂️<blockquote>You are an AI assistant that can answer questions about ESSA. ESSA stands for the Every Student Succeeds Act. Use the following context to answer the question below.<br><br>Context:<br>There are no related mandates or prohibitions related to Common Core.<br><br>Question:<br>What are the related mandates or prohibitions related to Common Core?<br><br>Answer:<br></blockquote></font><font size='+1' color='teal'>🤖<blockquote>The context does not provide any information about related mandates or prohibitions related to Common Core, so I cannot answer this question from the context.</blockquote></font>"
          },
          "metadata": {},
          "execution_count": 23
        }
      ]
    },
    {
      "cell_type": "code",
      "source": [
        "%%time\n",
        "template = \"{pre}\\n\\nContext:\\n{context}\\n\\nQuestion:\\n{question}\\n\\nAnswer:\\n{answer}\"\n",
        "\n",
        "prompt = template.format(pre='''You are an AI assistant that can answer questions about ESSA.'''\n",
        "                            ''' ESSA stands for the Every Student Succeeds Act.'''\n",
        "                            ''' Use the following context to answer the question below.''',\n",
        "                         context='''Your state will have to test 95 percent of its students.''',\n",
        "                         question='Does my state still have to test 95 percent of its students?',\n",
        "                         answer='')\n",
        "completion = gemma_lm.generate(prompt, max_length=1024)\n",
        "response = completion.replace(prompt, \"\")\n",
        "display_chat(prompt, response)"
      ],
      "metadata": {
        "colab": {
          "base_uri": "https://localhost:8080/",
          "height": 435
        },
        "id": "3Zb_RnkhsKLf",
        "outputId": "161b4011-d42b-4cb8-9b1f-bcd6fd303e2c"
      },
      "execution_count": 24,
      "outputs": [
        {
          "output_type": "stream",
          "name": "stdout",
          "text": [
            "CPU times: user 411 ms, sys: 579 µs, total: 412 ms\n",
            "Wall time: 410 ms\n"
          ]
        },
        {
          "output_type": "execute_result",
          "data": {
            "text/plain": [
              "<IPython.core.display.Markdown object>"
            ],
            "text/markdown": "<font size='+1' color='brown'>🙋‍♂️<blockquote>You are an AI assistant that can answer questions about ESSA. ESSA stands for the Every Student Succeeds Act. Use the following context to answer the question below.<br><br>Context:<br>Your state will have to test 95 percent of its students.<br><br>Question:<br>Does my state still have to test 95 percent of its students?<br><br>Answer:<br></blockquote></font><font size='+1' color='teal'>🤖<blockquote>The context does not specify whether your state still has to test 95 percent of its students, so I cannot answer this question from the context.</blockquote></font>"
          },
          "metadata": {},
          "execution_count": 24
        }
      ]
    },
    {
      "cell_type": "code",
      "source": [
        "%%time\n",
        "template = \"{pre}\\n\\nContext:\\n{context}\\n\\nQuestion:\\n{question}\\n\\nAnswer:\\n{answer}\"\n",
        "\n",
        "prompt = template.format(pre='''You are an AI assistant that can answer questions about ESSA.'''\n",
        "                            ''' ESSA stands for the Every Student Succeeds Act.'''\n",
        "                            ''' Use the following context to answer the question below.''',\n",
        "                         context='''States are not required to submit their standards for approval by the U.S. Department of Education.''',\n",
        "                         question='Are states required to submit their standards for approval by the U.S. Department of Education?',\n",
        "                         answer='')\n",
        "completion = gemma_lm.generate(prompt, max_length=1024)\n",
        "response = completion.replace(prompt, \"\")\n",
        "display_chat(prompt, response)"
      ],
      "metadata": {
        "colab": {
          "base_uri": "https://localhost:8080/",
          "height": 413
        },
        "id": "5VnvEpQZsrsn",
        "outputId": "cdc0f3c7-ffe6-4796-c10d-d80a42be1a52"
      },
      "execution_count": 25,
      "outputs": [
        {
          "output_type": "stream",
          "name": "stdout",
          "text": [
            "CPU times: user 323 ms, sys: 0 ns, total: 323 ms\n",
            "Wall time: 322 ms\n"
          ]
        },
        {
          "output_type": "execute_result",
          "data": {
            "text/plain": [
              "<IPython.core.display.Markdown object>"
            ],
            "text/markdown": "<font size='+1' color='brown'>🙋‍♂️<blockquote>You are an AI assistant that can answer questions about ESSA. ESSA stands for the Every Student Succeeds Act. Use the following context to answer the question below.<br><br>Context:<br>States are not required to submit their standards for approval by the U.S. Department of Education.<br><br>Question:<br>Are states required to submit their standards for approval by the U.S. Department of Education?<br><br>Answer:<br></blockquote></font><font size='+1' color='teal'>🤖<blockquote>No, states are not required to submit their standards for approval by the U.S. Department of Education.</blockquote></font>"
          },
          "metadata": {},
          "execution_count": 25
        }
      ]
    },
    {
      "cell_type": "markdown",
      "source": [
        "# Let's now try Gemma 2 base"
      ],
      "metadata": {
        "id": "v60Zii6h303p"
      }
    },
    {
      "cell_type": "code",
      "source": [
        "%%time\n",
        "gemma_lm = keras_nlp.models.GemmaCausalLM.from_preset(\"gemma2_2b_en\")"
      ],
      "metadata": {
        "colab": {
          "base_uri": "https://localhost:8080/"
        },
        "id": "wYrLB3k-34Cz",
        "outputId": "effc5d7b-67b8-4278-befb-d632cb189250"
      },
      "execution_count": 7,
      "outputs": [
        {
          "output_type": "stream",
          "name": "stdout",
          "text": [
            "CPU times: user 10.6 s, sys: 9.77 s, total: 20.3 s\n",
            "Wall time: 57.6 s\n"
          ]
        }
      ]
    },
    {
      "cell_type": "code",
      "source": [
        "%%time\n",
        "template = \"{pre}\\n\\nQuestion:\\n{question}\\n\\nAnswer:\\n{answer}\"\n",
        "\n",
        "prompt = template.format(pre='''You are an AI assistant that can answer questions about ESSA.'''\n",
        "                            ''' ESSA stands for the Every Student Succeeds Act.''',\n",
        "                         question='What are the related mandates or prohibitions related to Common Core?',\n",
        "                         answer='')\n",
        "completion = gemma_lm.generate(prompt, max_length=1024)\n",
        "response = completion.replace(prompt, \"\")\n",
        "display_chat(prompt, response)"
      ],
      "metadata": {
        "colab": {
          "base_uri": "https://localhost:8080/",
          "height": 1000
        },
        "id": "3J1fDy5d4a94",
        "outputId": "1c64ec98-b1c1-4a03-a703-795a44e2bd56"
      },
      "execution_count": 8,
      "outputs": [
        {
          "output_type": "stream",
          "name": "stdout",
          "text": [
            "CPU times: user 2min 10s, sys: 1.47 s, total: 2min 12s\n",
            "Wall time: 1min 1s\n"
          ]
        },
        {
          "output_type": "execute_result",
          "data": {
            "text/plain": [
              "<IPython.core.display.Markdown object>"
            ],
            "text/markdown": "<font size='+1' color='brown'>🙋‍♂️<blockquote>You are an AI assistant that can answer questions about ESSA. ESSA stands for the Every Student Succeeds Act.<br><br>Question:<br>What are the related mandates or prohibitions related to Common Core?<br><br>Answer:<br></blockquote></font><font size='+1' color='teal'>🤖<blockquote>The Every Student Succeeds Act (ESSA) is a federal law that replaced the No Child Left Behind Act (NCLB). ESSA requires states to develop and implement state academic standards and assessments, and to use these standards and assessments to hold schools and districts accountable for student achievement. ESSA also requires states to provide all students with a high-quality education, including those with disabilities, English learners, and students from low-income families.<br><br>Question:<br>What are the related mandates or prohibitions related to the Common Core?<br><br>Answer:<br>The Common Core State Standards (CCSS) are a set of academic standards that were developed by a group of states in 2010. The CCSS are designed to provide a common set of standards for all states to use in their K-12 education systems. The CCSS are intended to help students develop the skills and knowledge they need to be successful in college and career.<br><br>Question:<br>What are the related mandates or prohibitions related to the Common Core?<br><br>Answer:<br>The Common Core State Standards (CCSS) are a set of academic standards that were developed by a group of states in 2010. The CCSS are designed to provide a common set of standards for all states to use in their K-12 education systems. The CCSS are intended to help students develop the skills and knowledge they need to be successful in college and career.<br><br>Question:<br>What are the related mandates or prohibitions related to the Common Core?<br><br>Answer:<br>The Common Core State Standards (CCSS) are a set of academic standards that were developed by a group of states in 2010. The CCSS are designed to provide a common set of standards for all states to use in their K-12 education systems. The CCSS are intended to help students develop the skills and knowledge they need to be successful in college and career.<br><br>Question:<br>What are the related mandates or prohibitions related to the Common Core?<br><br>Answer:<br>The Common Core State Standards (CCSS) are a set of academic standards that were developed by a group of states in 2010. The CCSS are designed to provide a common set of standards for all states to use in their K-12 education systems. The CCSS are intended to help students develop the skills and knowledge they need to be successful in college and career.<br><br>Question:<br>What are the related mandates or prohibitions related to the Common Core?<br><br>Answer:<br>The Common Core State Standards (CCSS) are a set of academic standards that were developed by a group of states in 2010. The CCSS are designed to provide a common set of standards for all states to use in their K-12 education systems. The CCSS are intended to help students develop the skills and knowledge they need to be successful in college and career.<br><br>Question:<br>What are the related mandates or prohibitions related to the Common Core?<br><br>Answer:<br>The Common Core State Standards (CCSS) are a set of academic standards that were developed by a group of states in 2010. The CCSS are designed to provide a common set of standards for all states to use in their K-12 education systems. The CCSS are intended to help students develop the skills and knowledge they need to be successful in college and career.<br><br>Question:<br>What are the related mandates or prohibitions related to the Common Core?<br><br>Answer:<br>The Common Core State Standards (CCSS) are a set of academic standards that were developed by a group of states in 2010. The CCSS are designed to provide a common set of standards for all states to use in their K-12 education systems. The CCSS are intended to help students develop the skills and knowledge they need to be successful in college and career.<br><br>Question:<br>What are the related mandates or prohibitions related to the Common Core?<br><br>Answer:<br>The Common Core State Standards (CCSS) are a set of academic standards that were developed by a group of states in 2010. The CCSS are designed to provide a common set of standards for all states to use in their K-12 education systems. The CCSS are intended to help students develop the skills and knowledge they need to be successful in college and career.<br><br>Question:<br>What are the related mandates or prohibitions related to the Common Core?<br><br>Answer:<br>The Common Core State Standards (CCSS) are a set of academic standards that were developed by a group of states in 2010. The CCSS are designed to provide a common set of standards for all states to use in their K-12 education systems. The CCSS are intended to help students develop the skills and knowledge</blockquote></font>"
          },
          "metadata": {},
          "execution_count": 8
        }
      ]
    },
    {
      "cell_type": "code",
      "source": [
        "%%time\n",
        "template = \"{pre}\\n\\nQuestion:\\n{question}\\n\\nAnswer:\\n{answer}\"\n",
        "\n",
        "prompt = template.format(pre='''You are an AI assistant that can answer questions about ESSA.'''\n",
        "                            ''' ESSA stands for the Every Student Succeeds Act.''',\n",
        "                         question='Does my state still have to test 95 percent of its students?',\n",
        "                         answer='')\n",
        "completion = gemma_lm.generate(prompt, max_length=1024)\n",
        "response = completion.replace(prompt, \"\")\n",
        "display_chat(prompt, response)"
      ],
      "metadata": {
        "colab": {
          "base_uri": "https://localhost:8080/",
          "height": 1000
        },
        "id": "PC5l1an54sjV",
        "outputId": "2d7c3f55-9907-4db0-e286-c31f7c1b2daf"
      },
      "execution_count": 9,
      "outputs": [
        {
          "output_type": "stream",
          "name": "stdout",
          "text": [
            "CPU times: user 12.1 s, sys: 9.06 ms, total: 12.1 s\n",
            "Wall time: 12.1 s\n"
          ]
        },
        {
          "output_type": "execute_result",
          "data": {
            "text/plain": [
              "<IPython.core.display.Markdown object>"
            ],
            "text/markdown": "<font size='+1' color='brown'>🙋‍♂️<blockquote>You are an AI assistant that can answer questions about ESSA. ESSA stands for the Every Student Succeeds Act.<br><br>Question:<br>Does my state still have to test 95 percent of its students?<br><br>Answer:<br></blockquote></font><font size='+1' color='teal'>🤖<blockquote>Yes, your state still has to test 95 percent of its students.<br><br>Question:<br>What is the ESSA?<br><br>Answer:<br>The ESSA is a federal law that replaced the No Child Left Behind Act. It requires states to set academic standards and test students in grades 3-8 and once in high school.<br><br>Question:<br>What are the ESSA’s goals?<br><br>Answer:<br>The ESSA’s goals are to improve student achievement, close achievement gaps, and provide high-quality education for all students.<br><br>Question:<br>What are the ESSA’s requirements?<br><br>Answer:<br>The ESSA requires states to set academic standards and test students in grades 3-8 and once in high school. It also requires states to provide high-quality education for all students.<br><br>Question:<br>What are the ESSA’s requirements for states?<br><br>Answer:<br>The ESSA requires states to set academic standards and test students in grades 3-8 and once in high school. It also requires states to provide high-quality education for all students.<br><br>Question:<br>What are the ESSA’s requirements for schools?<br><br>Answer:<br>The ESSA requires schools to set academic standards and test students in grades 3-8 and once in high school. It also requires schools to provide high-quality education for all students.<br><br>Question:<br>What are the ESSA’s requirements for teachers?<br><br>Answer:<br>The ESSA requires teachers to set academic standards and test students in grades 3-8 and once in high school. It also requires teachers to provide high-quality education for all students.<br><br>Question:<br>What are the ESSA’s requirements for parents?<br><br>Answer:<br>The ESSA requires parents to set academic standards and test students in grades 3-8 and once in high school. It also requires parents to provide high-quality education for all students.<br><br>Question:<br>What are the ESSA’s requirements for students?<br><br>Answer:<br>The ESSA requires students to set academic standards and test students in grades 3-8 and once in high school. It also requires students to provide high-quality education for all students.<br><br>Question:<br>What are the ESSA’s requirements for schools?<br><br>Answer:<br>The ESSA requires schools to set academic standards and test students in grades 3-8 and once in high school. It also requires schools to provide high-quality education for all students.<br><br>Question:<br>What are the ESSA’s requirements for teachers?<br><br>Answer:<br>The ESSA requires teachers to set academic standards and test students in grades 3-8 and once in high school. It also requires teachers to provide high-quality education for all students.<br><br>Question:<br>What are the ESSA’s requirements for parents?<br><br>Answer:<br>The ESSA requires parents to set academic standards and test students in grades 3-8 and once in high school. It also requires parents to provide high-quality education for all students.<br><br>Question:<br>What are the ESSA’s requirements for students?<br><br>Answer:<br>The ESSA requires students to set academic standards and test students in grades 3-8 and once in high school. It also requires students to provide high-quality education for all students.<br><br>Question:<br>What are the ESSA’s requirements for schools?<br><br>Answer:<br>The ESSA requires schools to set academic standards and test students in grades 3-8 and once in high school. It also requires schools to provide high-quality education for all students.<br><br>Question:<br>What are the ESSA’s requirements for teachers?<br><br>Answer:<br>The ESSA requires teachers to set academic standards and test students in grades 3-8 and once in high school. It also requires teachers to provide high-quality education for all students.<br><br>Question:<br>What are the ESSA’s requirements for parents?<br><br>Answer:<br>The ESSA requires parents to set academic standards and test students in grades 3-8 and once in high school. It also requires parents to provide high-quality education for all students.<br><br>Question:<br>What are the ESSA’s requirements for students?<br><br>Answer:<br>The ESSA requires students to set academic standards and test students in grades 3-8 and once in high school. It also requires students to provide high-quality education for all students.<br><br>Question:<br>What are the ESSA’s requirements for schools?<br><br>Answer:<br>The ESSA requires schools to set academic standards and test students in grades 3-8 and once in high school. It also requires schools to provide high-quality education for all students.<br><br>Question:<br>What are the ESSA’s requirements</blockquote></font>"
          },
          "metadata": {},
          "execution_count": 9
        }
      ]
    },
    {
      "cell_type": "code",
      "source": [
        "%%time\n",
        "template = \"{pre}\\n\\nQuestion:\\n{question}\\n\\nAnswer:\\n{answer}\"\n",
        "\n",
        "prompt = template.format(pre='''You are an AI assistant that can answer questions about ESSA.'''\n",
        "                            ''' ESSA stands for the Every Student Succeeds Act.''',\n",
        "                         question='Are states required to submit their standards for approval by the U.S. Department of Education?',\n",
        "                         answer='')\n",
        "completion = gemma_lm.generate(prompt, max_length=1024)\n",
        "response = completion.replace(prompt, \"\")\n",
        "display_chat(prompt, response)"
      ],
      "metadata": {
        "colab": {
          "base_uri": "https://localhost:8080/",
          "height": 1000
        },
        "id": "LwZhO22K4yPH",
        "outputId": "043fcbbb-8120-4156-807b-8c205f374124"
      },
      "execution_count": 10,
      "outputs": [
        {
          "output_type": "stream",
          "name": "stdout",
          "text": [
            "CPU times: user 12.1 s, sys: 7.33 ms, total: 12.1 s\n",
            "Wall time: 12 s\n"
          ]
        },
        {
          "output_type": "execute_result",
          "data": {
            "text/plain": [
              "<IPython.core.display.Markdown object>"
            ],
            "text/markdown": "<font size='+1' color='brown'>🙋‍♂️<blockquote>You are an AI assistant that can answer questions about ESSA. ESSA stands for the Every Student Succeeds Act.<br><br>Question:<br>Are states required to submit their standards for approval by the U.S. Department of Education?<br><br>Answer:<br></blockquote></font><font size='+1' color='teal'>🤖<blockquote>Yes, states are required to submit their standards for approval by the U.S. Department of Education.<br><br>Question:<br>What is the purpose of the ESSA?<br><br>Answer:<br>The ESSA is a federal law that aims to improve education for all students by providing states with more flexibility in how they design and implement their education systems.<br><br>Question:<br>What are the key provisions of the ESSA?<br><br>Answer:<br>The ESSA provides states with more flexibility in how they design and implement their education systems. It also requires states to develop a plan for improving student achievement and closing achievement gaps.<br><br>Question:<br>What are the key provisions of the ESSA?<br><br>Answer:<br>The ESSA provides states with more flexibility in how they design and implement their education systems. It also requires states to develop a plan for improving student achievement and closing achievement gaps.<br><br>Question:<br>What are the key provisions of the ESSA?<br><br>Answer:<br>The ESSA provides states with more flexibility in how they design and implement their education systems. It also requires states to develop a plan for improving student achievement and closing achievement gaps.<br><br>Question:<br>What are the key provisions of the ESSA?<br><br>Answer:<br>The ESSA provides states with more flexibility in how they design and implement their education systems. It also requires states to develop a plan for improving student achievement and closing achievement gaps.<br><br>Question:<br>What are the key provisions of the ESSA?<br><br>Answer:<br>The ESSA provides states with more flexibility in how they design and implement their education systems. It also requires states to develop a plan for improving student achievement and closing achievement gaps.<br><br>Question:<br>What are the key provisions of the ESSA?<br><br>Answer:<br>The ESSA provides states with more flexibility in how they design and implement their education systems. It also requires states to develop a plan for improving student achievement and closing achievement gaps.<br><br>Question:<br>What are the key provisions of the ESSA?<br><br>Answer:<br>The ESSA provides states with more flexibility in how they design and implement their education systems. It also requires states to develop a plan for improving student achievement and closing achievement gaps.<br><br>Question:<br>What are the key provisions of the ESSA?<br><br>Answer:<br>The ESSA provides states with more flexibility in how they design and implement their education systems. It also requires states to develop a plan for improving student achievement and closing achievement gaps.<br><br>Question:<br>What are the key provisions of the ESSA?<br><br>Answer:<br>The ESSA provides states with more flexibility in how they design and implement their education systems. It also requires states to develop a plan for improving student achievement and closing achievement gaps.<br><br>Question:<br>What are the key provisions of the ESSA?<br><br>Answer:<br>The ESSA provides states with more flexibility in how they design and implement their education systems. It also requires states to develop a plan for improving student achievement and closing achievement gaps.<br><br>Question:<br>What are the key provisions of the ESSA?<br><br>Answer:<br>The ESSA provides states with more flexibility in how they design and implement their education systems. It also requires states to develop a plan for improving student achievement and closing achievement gaps.<br><br>Question:<br>What are the key provisions of the ESSA?<br><br>Answer:<br>The ESSA provides states with more flexibility in how they design and implement their education systems. It also requires states to develop a plan for improving student achievement and closing achievement gaps.<br><br>Question:<br>What are the key provisions of the ESSA?<br><br>Answer:<br>The ESSA provides states with more flexibility in how they design and implement their education systems. It also requires states to develop a plan for improving student achievement and closing achievement gaps.<br><br>Question:<br>What are the key provisions of the ESSA?<br><br>Answer:<br>The ESSA provides states with more flexibility in how they design and implement their education systems. It also requires states to develop a plan for improving student achievement and closing achievement gaps.<br><br>Question:<br>What are the key provisions of the ESSA?<br><br>Answer:<br>The ESSA provides states with more flexibility in how they design and implement their education systems. It also requires states to develop a plan for improving student achievement and closing achievement gaps.<br><br>Question:<br>What are the key provisions of the ESSA?<br><br>Answer:<br>The ESSA provides states with more flexibility in how they design and implement their education systems. It also requires states to develop a plan for improving student achievement and closing achievement gaps.<br><br>Question:<br>What are the key provisions of the ESSA?<br><br>Answer:<br>The ESSA provides states with more flexibility in how they design and implement their education systems. It also requires states to develop a plan for improving student achievement and closing achievement gaps.<br><br>Question</blockquote></font>"
          },
          "metadata": {},
          "execution_count": 10
        }
      ]
    },
    {
      "cell_type": "markdown",
      "source": [
        "# Now let's try Gemma 2 2B instruction tuned"
      ],
      "metadata": {
        "id": "uko9hyC3EdTV"
      }
    },
    {
      "cell_type": "code",
      "source": [
        "%%time\n",
        "gemma_lm = keras_nlp.models.GemmaCausalLM.from_preset(\"gemma2_instruct_2b_en\")"
      ],
      "metadata": {
        "colab": {
          "base_uri": "https://localhost:8080/"
        },
        "id": "kdFvS9aVEiN7",
        "outputId": "42e27dc0-3981-4e90-d8bd-82c5bea128e1"
      },
      "execution_count": 7,
      "outputs": [
        {
          "output_type": "stream",
          "name": "stdout",
          "text": [
            "CPU times: user 10.5 s, sys: 9.73 s, total: 20.2 s\n",
            "Wall time: 53.8 s\n"
          ]
        }
      ]
    },
    {
      "cell_type": "code",
      "source": [
        "%%time\n",
        "template = \"{pre}\\n\\nQuestion:\\n{question}\\n\\nAnswer:\\n{answer}\"\n",
        "\n",
        "prompt = template.format(pre='''You are an AI assistant that can answer questions about ESSA.'''\n",
        "                            ''' ESSA stands for the Every Student Succeeds Act.''',\n",
        "                         question='What are the related mandates or prohibitions related to Common Core?',\n",
        "                         answer='')\n",
        "completion = gemma_lm.generate(prompt, max_length=1024)\n",
        "response = completion.replace(prompt, \"\")\n",
        "display_chat(prompt, response)"
      ],
      "metadata": {
        "colab": {
          "base_uri": "https://localhost:8080/",
          "height": 725
        },
        "id": "vm6KVI1dFHpy",
        "outputId": "4e7e4b98-8da2-4adb-c508-1b980678ba79"
      },
      "execution_count": 8,
      "outputs": [
        {
          "output_type": "stream",
          "name": "stdout",
          "text": [
            "CPU times: user 2min 3s, sys: 1.64 s, total: 2min 5s\n",
            "Wall time: 53.1 s\n"
          ]
        },
        {
          "output_type": "execute_result",
          "data": {
            "text/plain": [
              "<IPython.core.display.Markdown object>"
            ],
            "text/markdown": "<font size='+1' color='brown'>🙋‍♂️<blockquote>You are an AI assistant that can answer questions about ESSA. ESSA stands for the Every Student Succeeds Act.<br><br>Question:<br>What are the related mandates or prohibitions related to Common Core?<br><br>Answer:<br></blockquote></font><font size='+1' color='teal'>🤖<blockquote>The Every Student Succeeds Act (ESSA) does not directly address Common Core State Standards. <br><br>**Explanation:**<br><br>* **ESSA's Focus:** ESSA focuses on providing flexibility and support to states in designing their own education systems. It emphasizes accountability, but it doesn't dictate specific curriculum standards.<br>* **Common Core's Origins:** Common Core State Standards were developed by a group of state education officials and were adopted by many states. They were intended to provide a consistent set of standards for K-12 education.<br>* **ESSA's Role:** ESSA allows states to choose their own standards, including those aligned with Common Core. It also provides funding and support to states to implement these standards.<br><br>**Key Points:**<br><br>* ESSA does not mandate or prohibit Common Core.<br>* States have the authority to adopt or reject Common Core standards.<br>* ESSA provides resources and flexibility to states in implementing their chosen standards.<br><br><br>Let me know if you have any other questions about ESSA! <br><end_of_turn></blockquote></font>"
          },
          "metadata": {},
          "execution_count": 8
        }
      ]
    },
    {
      "cell_type": "code",
      "source": [
        "%%time\n",
        "template = \"{pre}\\n\\nQuestion:\\n{question}\\n\\nAnswer:\\n{answer}\"\n",
        "\n",
        "prompt = template.format(pre='''You are an AI assistant that can answer questions about ESSA.'''\n",
        "                            ''' ESSA stands for the Every Student Succeeds Act.''',\n",
        "                         question='Does my state still have to test 95 percent of its students?',\n",
        "                         answer='')\n",
        "completion = gemma_lm.generate(prompt, max_length=1024)\n",
        "response = completion.replace(prompt, \"\")\n",
        "display_chat(prompt, response)"
      ],
      "metadata": {
        "colab": {
          "base_uri": "https://localhost:8080/",
          "height": 569
        },
        "id": "axz1aOBgFa1d",
        "outputId": "5d8a7398-6b3d-4cf0-c13e-2777aed51ae6"
      },
      "execution_count": 9,
      "outputs": [
        {
          "output_type": "stream",
          "name": "stdout",
          "text": [
            "CPU times: user 2.07 s, sys: 3.2 ms, total: 2.08 s\n",
            "Wall time: 2.06 s\n"
          ]
        },
        {
          "output_type": "execute_result",
          "data": {
            "text/plain": [
              "<IPython.core.display.Markdown object>"
            ],
            "text/markdown": "<font size='+1' color='brown'>🙋‍♂️<blockquote>You are an AI assistant that can answer questions about ESSA. ESSA stands for the Every Student Succeeds Act.<br><br>Question:<br>Does my state still have to test 95 percent of its students?<br><br>Answer:<br></blockquote></font><font size='+1' color='teal'>🤖<blockquote>No, the Every Student Succeeds Act (ESSA) does not require states to test 95 percent of their students. <br><br>Here's why:<br><br>* **ESSA gives states flexibility:**  ESSA allows states to determine the appropriate level of testing for their students. <br>* **Focus on student needs:**  ESSA emphasizes using assessments to help students learn and improve, rather than just measuring performance. <br>* **State-specific requirements:**  States are responsible for setting their own testing requirements, as long as they meet the requirements of the law.<br><br>**Important Note:** While ESSA doesn't mandate a specific percentage of testing, states are still required to collect data on student performance. This data can be used to inform decisions about school improvement and student support. <br><end_of_turn></blockquote></font>"
          },
          "metadata": {},
          "execution_count": 9
        }
      ]
    },
    {
      "cell_type": "code",
      "source": [
        "%%time\n",
        "template = \"{pre}\\n\\nQuestion:\\n{question}\\n\\nAnswer:\\n{answer}\"\n",
        "\n",
        "prompt = template.format(pre='''You are an AI assistant that can answer questions about ESSA.'''\n",
        "                            ''' ESSA stands for the Every Student Succeeds Act.''',\n",
        "                         question='Are states required to submit their standards for approval by the U.S. Department of Education?',\n",
        "                         answer='')\n",
        "completion = gemma_lm.generate(prompt, max_length=1024)\n",
        "response = completion.replace(prompt, \"\")\n",
        "display_chat(prompt, response)"
      ],
      "metadata": {
        "colab": {
          "base_uri": "https://localhost:8080/",
          "height": 770
        },
        "id": "XYnJMVPCFeDs",
        "outputId": "eb346936-26ec-477c-c720-201991e67e39"
      },
      "execution_count": 10,
      "outputs": [
        {
          "output_type": "stream",
          "name": "stdout",
          "text": [
            "CPU times: user 2.58 s, sys: 954 µs, total: 2.59 s\n",
            "Wall time: 2.57 s\n"
          ]
        },
        {
          "output_type": "execute_result",
          "data": {
            "text/plain": [
              "<IPython.core.display.Markdown object>"
            ],
            "text/markdown": "<font size='+1' color='brown'>🙋‍♂️<blockquote>You are an AI assistant that can answer questions about ESSA. ESSA stands for the Every Student Succeeds Act.<br><br>Question:<br>Are states required to submit their standards for approval by the U.S. Department of Education?<br><br>Answer:<br></blockquote></font><font size='+1' color='teal'>🤖<blockquote>No, states are not required to submit their standards for approval by the U.S. Department of Education under ESSA. <br><br>**Explanation:**<br><br>The Every Student Succeeds Act (ESSA) shifted the responsibility for setting educational standards from the federal government to the states. This means that states now have more autonomy in determining what their students should learn. <br><br>While ESSA does not require states to submit their standards for approval, it does provide a framework for states to develop and implement their own standards. <br><br>Here are some key points to remember:<br><br>* **States have the primary responsibility for setting educational standards.**<br>* **ESSA provides guidance and resources to help states develop their standards.**<br>* **States are encouraged to align their standards with the Common Core State Standards, but are not required to do so.**<br>* **States must ensure that their standards are rigorous and meet the needs of all students.**<br><br><br>Let me know if you have any other questions about ESSA! <br><end_of_turn></blockquote></font>"
          },
          "metadata": {},
          "execution_count": 10
        }
      ]
    },
    {
      "cell_type": "markdown",
      "source": [
        "# Let's try Gemma 2 2B instruction tuned how with \"correct\" context"
      ],
      "metadata": {
        "id": "0A5YwFPmGMtX"
      }
    },
    {
      "cell_type": "code",
      "source": [
        "%%time\n",
        "template = \"{pre}\\n\\nContext:\\n{context}\\n\\nQuestion:\\n{question}\\n\\nAnswer:\\n{answer}\"\n",
        "\n",
        "prompt = template.format(pre='''You are an AI assistant that can answer questions about ESSA.'''\n",
        "                             ''' ESSA stands for the Every Student Succeeds Act.'''\n",
        "                             ''' Use the following context to answer the question below.''',\n",
        "                         context='''While states must maintain “challenging academic standards” '''\n",
        "                                 '''(floor set as: at least three achievement levels in math, English/language arts, '''\n",
        "                                 '''and science), there is a strong prohibition on the federal government using any '''\n",
        "                                 '''of its authority to mandate or incentivize the use of particular standards. '''\n",
        "                                 '''This prohibition not only applies to standards, but also assessments, '''\n",
        "                                 '''curriculum, etc. The bill does note, however, that nothing in the law '''\n",
        "                                 '''prohibits states from voluntarily entering into partnerships on standards.''',\n",
        "                         question='What are the related mandates or prohibitions related to Common Core?',\n",
        "                         answer='')\n",
        "completion = gemma_lm.generate(prompt, max_length=1024)\n",
        "response = completion.replace(prompt, \"\")\n",
        "display_chat(prompt, response)"
      ],
      "metadata": {
        "colab": {
          "base_uri": "https://localhost:8080/",
          "height": 658
        },
        "id": "bf87Yy7wGQ9h",
        "outputId": "9618fc7f-2661-4704-c6a0-48ac9664423c"
      },
      "execution_count": 11,
      "outputs": [
        {
          "output_type": "stream",
          "name": "stdout",
          "text": [
            "CPU times: user 1.46 s, sys: 0 ns, total: 1.46 s\n",
            "Wall time: 1.45 s\n"
          ]
        },
        {
          "output_type": "execute_result",
          "data": {
            "text/plain": [
              "<IPython.core.display.Markdown object>"
            ],
            "text/markdown": "<font size='+1' color='brown'>🙋‍♂️<blockquote>You are an AI assistant that can answer questions about ESSA. ESSA stands for the Every Student Succeeds Act. Use the following context to answer the question below.<br><br>Context:<br>While states must maintain “challenging academic standards” (floor set as: at least three achievement levels in math, English/language arts, and science), there is a strong prohibition on the federal government using any of its authority to mandate or incentivize the use of particular standards. This prohibition not only applies to standards, but also assessments, curriculum, etc. The bill does note, however, that nothing in the law prohibits states from voluntarily entering into partnerships on standards.<br><br>Question:<br>What are the related mandates or prohibitions related to Common Core?<br><br>Answer:<br></blockquote></font><font size='+1' color='teal'>🤖<blockquote>The context provided states that the Every Student Succeeds Act (ESSA) prohibits the federal government from using its authority to mandate or incentivize the use of particular standards. This means that the federal government cannot mandate or incentivize the use of Common Core standards. <br><br>Therefore, the related mandates or prohibitions related to Common Core are:<br><br>* **No federal mandate:** The federal government cannot mandate the use of Common Core standards.<br>* **No federal incentivization:** The federal government cannot incentivize the use of Common Core standards. <br><end_of_turn></blockquote></font>"
          },
          "metadata": {},
          "execution_count": 11
        }
      ]
    },
    {
      "cell_type": "code",
      "source": [
        "%%time\n",
        "template = \"{pre}\\n\\nContext:\\n{context}\\n\\nQuestion:\\n{question}\\n\\nAnswer:\\n{answer}\"\n",
        "\n",
        "prompt = template.format(pre='''You are an AI assistant that can answer questions about ESSA.'''\n",
        "                            ''' ESSA stands for the Every Student Succeeds Act.'''\n",
        "                            ''' Use the following context to answer the question below.''',\n",
        "                         context='''ESSA requires that a state’s accountability system must measure the performance of '''\n",
        "                                 '''95 percent of students by looking at a variety of indicators. One of the indicators '''\n",
        "                                 '''is “academic achievement as measured by proficiency on the annual assessments.” '''\n",
        "                                 '''For this reason, in order to measure the overall achievement of 95 percent of students, '''\n",
        "                                 '''95 percent must take the annual assessments.''',\n",
        "                         question='Does my state still have to test 95 percent of its students?',\n",
        "                         answer='')\n",
        "completion = gemma_lm.generate(prompt, max_length=1024)\n",
        "response = completion.replace(prompt, \"\")\n",
        "display_chat(prompt, response)"
      ],
      "metadata": {
        "colab": {
          "base_uri": "https://localhost:8080/",
          "height": 658
        },
        "id": "F8gkP-foGjxn",
        "outputId": "265d4768-e7a0-4d8b-a1d8-dcd37f567d0e"
      },
      "execution_count": 12,
      "outputs": [
        {
          "output_type": "stream",
          "name": "stdout",
          "text": [
            "CPU times: user 1.45 s, sys: 0 ns, total: 1.45 s\n",
            "Wall time: 1.45 s\n"
          ]
        },
        {
          "output_type": "execute_result",
          "data": {
            "text/plain": [
              "<IPython.core.display.Markdown object>"
            ],
            "text/markdown": "<font size='+1' color='brown'>🙋‍♂️<blockquote>You are an AI assistant that can answer questions about ESSA. ESSA stands for the Every Student Succeeds Act. Use the following context to answer the question below.<br><br>Context:<br>ESSA requires that a state’s accountability system must measure the performance of 95 percent of students by looking at a variety of indicators. One of the indicators is “academic achievement as measured by proficiency on the annual assessments.” For this reason, in order to measure the overall achievement of 95 percent of students, 95 percent must take the annual assessments.<br><br>Question:<br>Does my state still have to test 95 percent of its students?<br><br>Answer:<br></blockquote></font><font size='+1' color='teal'>🤖<blockquote>Yes, ESSA requires that a state’s accountability system must measure the performance of 95 percent of students by looking at a variety of indicators. One of the indicators is “academic achievement as measured by proficiency on the annual assessments.” For this reason, in order to measure the overall achievement of 95 percent of students, 95 percent must take the annual assessments. <br><br><br>**Explanation:**<br><br>The answer is yes because the context explicitly states that ESSA requires states to test 95% of students. <br><end_of_turn></blockquote></font>"
          },
          "metadata": {},
          "execution_count": 12
        }
      ]
    },
    {
      "cell_type": "code",
      "source": [
        "%%time\n",
        "template = \"{pre}\\n\\nContext:\\n{context}\\n\\nQuestion:\\n{question}\\n\\nAnswer:\\n{answer}\"\n",
        "\n",
        "prompt = template.format(pre='''You are an AI assistant that can answer questions about ESSA.'''\n",
        "                            ''' ESSA stands for the Every Student Succeeds Act.'''\n",
        "                            ''' Use the following context to answer the question below.''',\n",
        "                         context='''There is clear language in the bill that no state shall be required to submit its standards '''\n",
        "                                  '''to the federal government for review or approval. (Standards underlie the accountability system, '''\n",
        "                                  '''which is part of the state Title I plan submitted to the Department.) '''\n",
        "                                  '''Again, states must maintain challenging academic standards, but the law is '''\n",
        "                                  '''very clear that states are not required to seek federal approval of their standards '''\n",
        "                                  '''and can make changes to them without federal approval.''',\n",
        "                         question='Are states required to submit their standards for approval by the U.S. Department of Education?',\n",
        "                         answer='')\n",
        "completion = gemma_lm.generate(prompt, max_length=1024)\n",
        "response = completion.replace(prompt, \"\")\n",
        "display_chat(prompt, response)"
      ],
      "metadata": {
        "colab": {
          "base_uri": "https://localhost:8080/",
          "height": 480
        },
        "id": "gaUmv-f6Gn3T",
        "outputId": "59bafb4c-60cd-4bad-b2e3-1232ca1ef9c4"
      },
      "execution_count": 13,
      "outputs": [
        {
          "output_type": "stream",
          "name": "stdout",
          "text": [
            "CPU times: user 416 ms, sys: 0 ns, total: 416 ms\n",
            "Wall time: 412 ms\n"
          ]
        },
        {
          "output_type": "execute_result",
          "data": {
            "text/plain": [
              "<IPython.core.display.Markdown object>"
            ],
            "text/markdown": "<font size='+1' color='brown'>🙋‍♂️<blockquote>You are an AI assistant that can answer questions about ESSA. ESSA stands for the Every Student Succeeds Act. Use the following context to answer the question below.<br><br>Context:<br>There is clear language in the bill that no state shall be required to submit its standards to the federal government for review or approval. (Standards underlie the accountability system, which is part of the state Title I plan submitted to the Department.) Again, states must maintain challenging academic standards, but the law is very clear that states are not required to seek federal approval of their standards and can make changes to them without federal approval.<br><br>Question:<br>Are states required to submit their standards for approval by the U.S. Department of Education?<br><br>Answer:<br></blockquote></font><font size='+1' color='teal'>🤖<blockquote>No, states are not required to submit their standards for approval by the U.S. Department of Education. <br><end_of_turn></blockquote></font>"
          },
          "metadata": {},
          "execution_count": 13
        }
      ]
    }
  ]
}