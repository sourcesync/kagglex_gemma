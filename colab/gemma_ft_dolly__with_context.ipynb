{
  "cells": [
    {
      "cell_type": "markdown",
      "metadata": {
        "id": "view-in-github",
        "colab_type": "text"
      },
      "source": [
        "<a href=\"https://colab.research.google.com/github/sourcesync/kagglex_gemma/blob/gw%2Finitial/colab/gemma_ft_dolly__with_context_3.ipynb\" target=\"_parent\"><img src=\"https://colab.research.google.com/assets/colab-badge.svg\" alt=\"Open In Colab\"/></a>"
      ]
    },
    {
      "cell_type": "markdown",
      "source": [
        "\n",
        "#  This notebook demonstrates the following:\n",
        "   * fine tuning \"gemma2_2b_en\" on the dolly dataset\n",
        "   * shows prompt completion before and after fine-tuning this model\n",
        "   * it runs successfully in COLAB"
      ],
      "metadata": {
        "id": "QGephukVL9Ih"
      },
      "id": "QGephukVL9Ih"
    },
    {
      "cell_type": "markdown",
      "source": [
        "\n",
        "# Get access to Gemma via your Kaggle account:\n",
        "  * Log into your Kaggle account\n",
        "  * Request access to Gemma models using your Kaggle account.  You can follow these instructions here: https://www.kaggle.com/code/nilaychauhan/get-started-with-gemma-using-kerasnlp\n",
        "  * You need to wait for confirmation.  Note that this didn't take too long for me.\n",
        "  * Create an API key in your Kaggle account you will need later.  You can follow these instructions here: https://christianjmills.com/posts/kaggle-obtain-api-key-tutorial/\n",
        "\n"
      ],
      "metadata": {
        "id": "p3JTh7rWMKOv"
      },
      "id": "p3JTh7rWMKOv"
    },
    {
      "cell_type": "markdown",
      "source": [
        "# Ensure your Colab account can access Gemma:\n",
        "  * Add the Kaggle API key into your COLAB secrets.  You can follow these instructions here: https://drlee.io/how-to-use-secrets-in-google-colab-for-api-key-protection-a-guide-for-openai-huggingface-and-c1ec9e1277e0\n",
        "\n"
      ],
      "metadata": {
        "id": "zrWQ3nyEMiEE"
      },
      "id": "zrWQ3nyEMiEE"
    },
    {
      "cell_type": "markdown",
      "source": [
        "# Select an AI hardware accelerator\n",
        "  * Select hardware options near the top right of your Colab notebook\n",
        "  * I tested with A100 and it worked well.  Note that I have a Colab Pro subscription.\n"
      ],
      "metadata": {
        "id": "HeSHIKfXMtYF"
      },
      "id": "HeSHIKfXMtYF"
    },
    {
      "cell_type": "markdown",
      "source": [
        "# Install required python packages"
      ],
      "metadata": {
        "id": "sA5tc0WbNasG"
      },
      "id": "sA5tc0WbNasG"
    },
    {
      "cell_type": "code",
      "source": [
        "%%time\n",
        "!pip install -q -U keras-nlp\n",
        "!pip install -q -U \"keras>=3\""
      ],
      "metadata": {
        "id": "vG9X2r8yNIIh",
        "outputId": "157bf7f2-cbf3-4651-ad45-ed2079a8eca9",
        "colab": {
          "base_uri": "https://localhost:8080/"
        }
      },
      "id": "vG9X2r8yNIIh",
      "execution_count": 1,
      "outputs": [
        {
          "output_type": "stream",
          "name": "stdout",
          "text": [
            "\u001b[?25l   \u001b[90m━━━━━━━━━━━━━━━━━━━━━━━━━━━━━━━━━━━━━━━━\u001b[0m \u001b[32m0.0/548.4 kB\u001b[0m \u001b[31m?\u001b[0m eta \u001b[36m-:--:--\u001b[0m\r\u001b[2K   \u001b[90m━━━━━━━━━━━━━━━━━━━━━━━━━━━━━━━━━━━━━━━━\u001b[0m \u001b[32m548.4/548.4 kB\u001b[0m \u001b[31m25.1 MB/s\u001b[0m eta \u001b[36m0:00:00\u001b[0m\n",
            "\u001b[2K   \u001b[90m━━━━━━━━━━━━━━━━━━━━━━━━━━━━━━━━━━━━━━━━\u001b[0m \u001b[32m5.2/5.2 MB\u001b[0m \u001b[31m103.2 MB/s\u001b[0m eta \u001b[36m0:00:00\u001b[0m\n",
            "\u001b[2K   \u001b[90m━━━━━━━━━━━━━━━━━━━━━━━━━━━━━━━━━━━━━━━━\u001b[0m \u001b[32m1.1/1.1 MB\u001b[0m \u001b[31m42.3 MB/s\u001b[0m eta \u001b[36m0:00:00\u001b[0m\n",
            "\u001b[?25hCPU times: user 46.7 ms, sys: 11.9 ms, total: 58.6 ms\n",
            "Wall time: 8.33 s\n"
          ]
        }
      ]
    },
    {
      "cell_type": "markdown",
      "source": [
        "# Import required python packages"
      ],
      "metadata": {
        "id": "7wYTJ1HMNjYK"
      },
      "id": "7wYTJ1HMNjYK"
    },
    {
      "cell_type": "code",
      "execution_count": 1,
      "id": "47ec2212-9c95-4a99-aede-ae4f86d0b82b",
      "metadata": {
        "id": "47ec2212-9c95-4a99-aede-ae4f86d0b82b"
      },
      "outputs": [],
      "source": [
        "import os\n",
        "import keras\n",
        "import keras_nlp\n",
        "from keras_nlp.models import GemmaBackbone, BertBackbone\n",
        "from keras.models import load_model\n",
        "from IPython.display import Markdown\n",
        "import textwrap\n",
        "from google.colab import userdata\n",
        "import json\n",
        "import random\n",
        "import pprint\n",
        "import gc"
      ]
    },
    {
      "cell_type": "markdown",
      "source": [
        "# Configure this notebook\n",
        "* set up KERAS parameters recommended by Google\n",
        "* integrate KAGGLE API secret key"
      ],
      "metadata": {
        "id": "KoWM5VdCO5FH"
      },
      "id": "KoWM5VdCO5FH"
    },
    {
      "cell_type": "code",
      "source": [
        "os.environ[\"KERAS_BACKEND\"] = \"jax\"  # Or \"torch\" or \"tensorflow\".\n",
        "os.environ[\"XLA_PYTHON_CLIENT_MEM_FRACTION\"]=\"1.00\" # Avoid memory fragmentation on JAX backend.\n",
        "os.environ[\"KAGGLE_USERNAME\"] = userdata.get('KAGGLE_USERNAME') # Link to KAGGLE API secret key\n",
        "os.environ[\"KAGGLE_KEY\"] = userdata.get('KAGGLE_KEY') # Link to KAGGLE API secret key"
      ],
      "metadata": {
        "id": "e1dF1v8EsJaE"
      },
      "id": "e1dF1v8EsJaE",
      "execution_count": 2,
      "outputs": []
    },
    {
      "cell_type": "markdown",
      "source": [
        "# Retrieve the fine-tuning dataset"
      ],
      "metadata": {
        "id": "N3HWIrRKPfFQ"
      },
      "id": "N3HWIrRKPfFQ"
    },
    {
      "cell_type": "code",
      "source": [
        "%%time\n",
        "!wget -O databricks-dolly-15k.jsonl https://huggingface.co/datasets/databricks/databricks-dolly-15k/resolve/main/databricks-dolly-15k.jsonl\n",
        "!pwd\n",
        "!ls"
      ],
      "metadata": {
        "colab": {
          "base_uri": "https://localhost:8080/"
        },
        "id": "EITskbJJihBY",
        "outputId": "4a11f5c8-ad53-4496-aa8f-95a58331e10e"
      },
      "id": "EITskbJJihBY",
      "execution_count": 4,
      "outputs": [
        {
          "output_type": "stream",
          "name": "stdout",
          "text": [
            "--2024-09-27 18:23:58--  https://huggingface.co/datasets/databricks/databricks-dolly-15k/resolve/main/databricks-dolly-15k.jsonl\n",
            "Resolving huggingface.co (huggingface.co)... 13.35.210.114, 13.35.210.66, 13.35.210.77, ...\n",
            "Connecting to huggingface.co (huggingface.co)|13.35.210.114|:443... connected.\n",
            "HTTP request sent, awaiting response... 302 Found\n",
            "Location: https://cdn-lfs.hf.co/repos/34/ac/34ac588cc580830664f592597bb6d19d61639eca33dc2d6bb0b6d833f7bfd552/2df9083338b4abd6bceb5635764dab5d833b393b55759dffb0959b6fcbf794ec?response-content-disposition=inline%3B+filename*%3DUTF-8%27%27databricks-dolly-15k.jsonl%3B+filename%3D%22databricks-dolly-15k.jsonl%22%3B&Expires=1727720638&Policy=eyJTdGF0ZW1lbnQiOlt7IkNvbmRpdGlvbiI6eyJEYXRlTGVzc1RoYW4iOnsiQVdTOkVwb2NoVGltZSI6MTcyNzcyMDYzOH19LCJSZXNvdXJjZSI6Imh0dHBzOi8vY2RuLWxmcy5oZi5jby9yZXBvcy8zNC9hYy8zNGFjNTg4Y2M1ODA4MzA2NjRmNTkyNTk3YmI2ZDE5ZDYxNjM5ZWNhMzNkYzJkNmJiMGI2ZDgzM2Y3YmZkNTUyLzJkZjkwODMzMzhiNGFiZDZiY2ViNTYzNTc2NGRhYjVkODMzYjM5M2I1NTc1OWRmZmIwOTU5YjZmY2JmNzk0ZWM%7EcmVzcG9uc2UtY29udGVudC1kaXNwb3NpdGlvbj0qIn1dfQ__&Signature=FLiUUEzmHXNIBbWtIkSJ0Ovk10Eo6mkjlpNfu2Os2uda99AEiLYkn43lXJvSUMEYfDTyBDh8j4I1m6XkyiqVWLm8siwvFwNCuokdL6hmc1Lsw-bVgctvU0LVraoq0AKfOCWrfvVVhtpBxXUpdr%7EcoSys0qePan3ForyyjEL6DyZ7QadLLZ6OCd4MB6FNUnQbGHaDwcIKj6ZC3hSYrxrO4x5ZkYoC5aP5KTP%7EeTGSRG0W0jK-ANN33UbAAdgIiigDtBIVO4nJc3EbbZVAt5mwU5yXLsXVnIu8CZS5N8g8hNHXgIQJkdgQLoedhotNHv1PN7RiJk9N0d8yAdeNTnWTUw__&Key-Pair-Id=K3RPWS32NSSJCE [following]\n",
            "--2024-09-27 18:23:58--  https://cdn-lfs.hf.co/repos/34/ac/34ac588cc580830664f592597bb6d19d61639eca33dc2d6bb0b6d833f7bfd552/2df9083338b4abd6bceb5635764dab5d833b393b55759dffb0959b6fcbf794ec?response-content-disposition=inline%3B+filename*%3DUTF-8%27%27databricks-dolly-15k.jsonl%3B+filename%3D%22databricks-dolly-15k.jsonl%22%3B&Expires=1727720638&Policy=eyJTdGF0ZW1lbnQiOlt7IkNvbmRpdGlvbiI6eyJEYXRlTGVzc1RoYW4iOnsiQVdTOkVwb2NoVGltZSI6MTcyNzcyMDYzOH19LCJSZXNvdXJjZSI6Imh0dHBzOi8vY2RuLWxmcy5oZi5jby9yZXBvcy8zNC9hYy8zNGFjNTg4Y2M1ODA4MzA2NjRmNTkyNTk3YmI2ZDE5ZDYxNjM5ZWNhMzNkYzJkNmJiMGI2ZDgzM2Y3YmZkNTUyLzJkZjkwODMzMzhiNGFiZDZiY2ViNTYzNTc2NGRhYjVkODMzYjM5M2I1NTc1OWRmZmIwOTU5YjZmY2JmNzk0ZWM%7EcmVzcG9uc2UtY29udGVudC1kaXNwb3NpdGlvbj0qIn1dfQ__&Signature=FLiUUEzmHXNIBbWtIkSJ0Ovk10Eo6mkjlpNfu2Os2uda99AEiLYkn43lXJvSUMEYfDTyBDh8j4I1m6XkyiqVWLm8siwvFwNCuokdL6hmc1Lsw-bVgctvU0LVraoq0AKfOCWrfvVVhtpBxXUpdr%7EcoSys0qePan3ForyyjEL6DyZ7QadLLZ6OCd4MB6FNUnQbGHaDwcIKj6ZC3hSYrxrO4x5ZkYoC5aP5KTP%7EeTGSRG0W0jK-ANN33UbAAdgIiigDtBIVO4nJc3EbbZVAt5mwU5yXLsXVnIu8CZS5N8g8hNHXgIQJkdgQLoedhotNHv1PN7RiJk9N0d8yAdeNTnWTUw__&Key-Pair-Id=K3RPWS32NSSJCE\n",
            "Resolving cdn-lfs.hf.co (cdn-lfs.hf.co)... 18.155.68.37, 18.155.68.85, 18.155.68.87, ...\n",
            "Connecting to cdn-lfs.hf.co (cdn-lfs.hf.co)|18.155.68.37|:443... connected.\n",
            "HTTP request sent, awaiting response... 200 OK\n",
            "Length: 13085339 (12M) [text/plain]\n",
            "Saving to: ‘databricks-dolly-15k.jsonl’\n",
            "\n",
            "databricks-dolly-15 100%[===================>]  12.48M  --.-KB/s    in 0.04s   \n",
            "\n",
            "2024-09-27 18:23:59 (285 MB/s) - ‘databricks-dolly-15k.jsonl’ saved [13085339/13085339]\n",
            "\n",
            "/content\n",
            "databricks-dolly-15k.jsonl  sample_data\n",
            "CPU times: user 17.3 ms, sys: 5.1 ms, total: 22.4 ms\n",
            "Wall time: 916 ms\n"
          ]
        }
      ]
    },
    {
      "cell_type": "markdown",
      "source": [
        "# Define some useful functions used later\n",
        "* display_chat() function"
      ],
      "metadata": {
        "id": "WeZVI33rQCRP"
      },
      "id": "WeZVI33rQCRP"
    },
    {
      "cell_type": "code",
      "execution_count": 3,
      "id": "fab0264d-bc3a-47e2-8ad2-fc91f9a63a7f",
      "metadata": {
        "id": "fab0264d-bc3a-47e2-8ad2-fc91f9a63a7f"
      },
      "outputs": [],
      "source": [
        "def display_chat(prompt, response):\n",
        "  '''Displays an LLM prompt and response in a pretty way.'''\n",
        "  prompt = prompt.replace('\\n\\n','<br><br>')\n",
        "  prompt = prompt.replace('\\n','<br>')\n",
        "  formatted_prompt = \"<font size='+1' color='brown'>🙋‍♂️<blockquote>\" + prompt + \"</blockquote></font>\"\n",
        "  response = response.replace('•', '  *')\n",
        "  response = textwrap.indent(response, '', predicate=lambda _: True)\n",
        "  response = response.replace('\\n\\n','<br><br>')\n",
        "  response = response.replace('\\n','<br>')\n",
        "  response = response.replace(\"```\",\"\")\n",
        "  formatted_text = \"<font size='+1' color='teal'>🤖<blockquote>\" + response + \"</blockquote></font>\"\n",
        "  return Markdown(formatted_prompt+formatted_text)"
      ]
    },
    {
      "cell_type": "markdown",
      "source": [
        "# Load the fine-tuning dataset"
      ],
      "metadata": {
        "id": "RDkvoFJ4QQKx"
      },
      "id": "RDkvoFJ4QQKx"
    },
    {
      "cell_type": "code",
      "source": [
        "ft_dataset_all = []\n",
        "with open(\"/content/databricks-dolly-15k.jsonl\") as file:\n",
        "    ft_dataset_all = [ json.loads(ln) for ln in file.readlines()]"
      ],
      "metadata": {
        "id": "ijNavgkwfMQg"
      },
      "id": "ijNavgkwfMQg",
      "execution_count": 14,
      "outputs": []
    },
    {
      "cell_type": "markdown",
      "source": [
        "# Decide on how much fine-tuning data to use\n",
        "* Often this is determined experimentally\n",
        "* I've found at least 1000 data points suffice in general"
      ],
      "metadata": {
        "id": "kBM7_4STRAyH"
      },
      "id": "kBM7_4STRAyH"
    },
    {
      "cell_type": "code",
      "execution_count": 16,
      "id": "69498cf3-20af-4dd5-abe4-d0ac432ff73b",
      "metadata": {
        "id": "69498cf3-20af-4dd5-abe4-d0ac432ff73b"
      },
      "outputs": [],
      "source": [
        "ft_data = ft_dataset_all[:1000]"
      ]
    },
    {
      "cell_type": "markdown",
      "source": [
        "# Randomly sample one of the fine-tuning dataset items.  We will focus our prompt experiments on this one.\n"
      ],
      "metadata": {
        "id": "PA5QBVFc2_Mb"
      },
      "id": "PA5QBVFc2_Mb"
    },
    {
      "cell_type": "code",
      "source": [
        "ran_choice = random.choice(range(len(ft_data)))\n",
        "ft_record = ft_data[ran_choice]\n",
        "print(\"ran choice=\", ran_choice)\n",
        "pprint.pp(ft_record)"
      ],
      "metadata": {
        "id": "Nc8mYhNC2_eY",
        "outputId": "2aa03680-bf1c-4ffb-ac33-704833474b91",
        "colab": {
          "base_uri": "https://localhost:8080/"
        }
      },
      "id": "Nc8mYhNC2_eY",
      "execution_count": 27,
      "outputs": [
        {
          "output_type": "stream",
          "name": "stdout",
          "text": [
            "ran choice= 314\n",
            "{'instruction': 'From the passage provided, extract the languages in which '\n",
            "                'Kishore Kumar provided his vocals as a playback singer. '\n",
            "                'Separate them with a comma.',\n",
            " 'context': 'Kishore Kumar (born Abhas Kumar Ganguly; pronunciation '\n",
            "            '(help·info); 4 August 1929 – 13 October 1987) was an Indian '\n",
            "            'playback singer and actor. He is widely regarded as one of the '\n",
            "            'greatest, most influential and dynamic singers in the history of '\n",
            "            'Indian music. He was one of the most popular singers in the '\n",
            "            'Indian subcontinent, notable for his yodeling and ability to sing '\n",
            "            'songs in different voices. He used to sing in different genres '\n",
            "            'but some of his rare compositions, considered classics, were lost '\n",
            "            'in time. According to his brother and legendary actor Ashok '\n",
            "            'Kumar, Kishore Kumar was successful as a singer because his '\n",
            "            '\"voice hits the mike, straight, at its most sensitive point\".\\n'\n",
            "            '\\n'\n",
            "            'Besides Hindi, he sang in many other Indian languages, including '\n",
            "            'Bengali, Marathi, Assamese, Gujarati, Kannada, Bhojpuri, '\n",
            "            'Malayalam, Odia and Urdu. He also released a few non-film albums '\n",
            "            'in multiple languages, especially in Bengali, which are noted as '\n",
            "            'all-time classics.\\n'\n",
            "            '\\n'\n",
            "            'He won 8 Filmfare Awards for Best Male Playback Singer and holds '\n",
            "            'the record for winning the most Filmfare Awards in that category. '\n",
            "            'He was awarded the Lata Mangeshkar Award by the Madhya Pradesh '\n",
            "            'government in 1985.',\n",
            " 'response': 'Hindi, Bengali, Marathi, Assamese, Gujarati, Kannada, Bhojpuri, '\n",
            "             'Malayalam, Odia, Urdu',\n",
            " 'category': 'information_extraction'}\n"
          ]
        }
      ]
    },
    {
      "cell_type": "markdown",
      "source": [
        "# Load the Gemma model"
      ],
      "metadata": {
        "id": "aKx7ylr8RSBL"
      },
      "id": "aKx7ylr8RSBL"
    },
    {
      "cell_type": "code",
      "execution_count": 28,
      "id": "2ed12d69-cec3-4fca-90a1-5c57b7aa4f4d",
      "metadata": {
        "colab": {
          "base_uri": "https://localhost:8080/"
        },
        "id": "2ed12d69-cec3-4fca-90a1-5c57b7aa4f4d",
        "outputId": "372e1e70-d9de-4180-8c2a-ffd29e35ca4e"
      },
      "outputs": [
        {
          "output_type": "stream",
          "name": "stdout",
          "text": [
            "CPU times: user 10.3 s, sys: 10.2 s, total: 20.4 s\n",
            "Wall time: 41.8 s\n"
          ]
        }
      ],
      "source": [
        "%%time\n",
        "gemma_lm = keras_nlp.models.GemmaCausalLM.from_preset(\"gemma2_2b_en\")\n",
        "# uncomment the following lines to \"sample the softmax probabilities of the model\"\n",
        "#sampler = keras_nlp.samplers.TopKSampler(k=5, seed=2)\n",
        "#gemma_lm.compile(sampler=sampler)"
      ]
    },
    {
      "cell_type": "markdown",
      "source": [
        "# Ask the model something related to the random record\n",
        "* If its not general knowledge (or in the pre-training of Gemma), we would not expect the model to \"know\" anything about it, or at least, may not be faithful to the record's context."
      ],
      "metadata": {
        "id": "Fdy0sG8Oi0Q2"
      },
      "id": "Fdy0sG8Oi0Q2"
    },
    {
      "cell_type": "code",
      "execution_count": 30,
      "id": "85799e29-8acd-4da3-830a-e9c2791969fe",
      "metadata": {
        "colab": {
          "base_uri": "https://localhost:8080/",
          "height": 1000
        },
        "id": "85799e29-8acd-4da3-830a-e9c2791969fe",
        "outputId": "91008384-bad7-4083-ed19-33201635ceab"
      },
      "outputs": [
        {
          "output_type": "stream",
          "name": "stdout",
          "text": [
            "CPU times: user 12.6 s, sys: 13.9 ms, total: 12.6 s\n",
            "Wall time: 12.5 s\n"
          ]
        },
        {
          "output_type": "execute_result",
          "data": {
            "text/plain": [
              "<IPython.core.display.Markdown object>"
            ],
            "text/markdown": "<font size='+1' color='brown'>🙋‍♂️<blockquote>What languages in which did Kishore Kumar provide his vocals as a playback singer?  Separate them with a comma.</blockquote></font><font size='+1' color='teal'>🤖<blockquote><br><br>What is the name of the song in which Kishore Kumar sang the song “<em>Aaj ki raat hoon tumse pyar karne ko</em>” in the movie “<em>Aradhana</em>”?<br><br>What is the name of the song in which Kishore Kumar sang the song “<em>Aaj ki raat hoon tumse pyar karne ko</em>” in the movie “<em>Aradhana</em>”?<br><br>What is the name of the song in which Kishore Kumar sang the song “<em>Aaj ki raat hoon tumse pyar karne ko</em>” in the movie “<em>Aradhana</em>”?<br><br>What is the name of the song in which Kishore Kumar sang the song “<em>Aaj ki raat hoon tumse pyar karne ko</em>” in the movie “<em>Aradhana</em>”?<br><br>What is the name of the song in which Kishore Kumar sang the song “<em>Aaj ki raat hoon tumse pyar karne ko</em>” in the movie “<em>Aradhana</em>”?<br><br>What is the name of the song in which Kishore Kumar sang the song “<em>Aaj ki raat hoon tumse pyar karne ko</em>” in the movie “<em>Aradhana</em>”?<br><br>What is the name of the song in which Kishore Kumar sang the song “<em>Aaj ki raat hoon tumse pyar karne ko</em>” in the movie “<em>Aradhana</em>”?<br><br>What is the name of the song in which Kishore Kumar sang the song “<em>Aaj ki raat hoon tumse pyar karne ko</em>” in the movie “<em>Aradhana</em>”?<br><br>What is the name of the song in which Kishore Kumar sang the song “<em>Aaj ki raat hoon tumse pyar karne ko</em>” in the movie “<em>Aradhana</em>”?<br><br>What is the name of the song in which Kishore Kumar sang the song “<em>Aaj ki raat hoon tumse pyar karne ko</em>” in the movie “<em>Aradhana</em>”?<br><br>What is the name of the song in which Kishore Kumar sang the song “<em>Aaj ki raat hoon tumse pyar karne ko</em>” in the movie “<em>Aradhana</em>”?<br><br>What is the name of the song in which Kishore Kumar sang the song “<em>Aaj ki raat hoon tumse pyar karne ko</em>” in the movie “<em>Aradhana</em>”?<br><br>What is the name of the song in which Kishore Kumar sang the song “<em>Aaj ki raat hoon tumse pyar karne ko</em>” in the movie “<em>Aradhana</em>”?<br><br>What is the name of the song in which Kishore Kumar sang the song “<em>Aaj ki raat hoon tumse pyar karne ko</em>” in the movie “<em>Aradhana</em>”?<br><br>What is the name of the song in which Kishore Kumar sang the song “<em>Aaj ki raat hoon tumse pyar karne ko</em>” in the movie “<em>Aradhana</em>”?<br><br>What is the name of the song in which Kishore Kumar sang the song “<em>Aaj ki raat hoon tumse pyar karne ko</em>” in the movie “<em>Aradhana</em>”?<br><br>What is the name of the song in which Kishore Kumar sang the song “<em>Aaj ki raat hoon tumse pyar karne ko</em>” in the movie “<em>Aradhana</em>”?<br><br>What is the name of the song in which Kishore Kumar sang the song “<em>Aaj ki raat hoon tumse pyar karne ko</em>” in the movie “<em>Aradhana</em>”?<br><br>What is the name of the song in which Kishore Kumar sang the song “<em>Aaj ki raat hoon tumse pyar karne ko</em>” in the movie “<em>Aradhana</em>”?<br><br>What is the name of the song in which Kishore Kumar sang the song “<em>Aaj ki raat hoon tumse pyar karne ko</em>” in the movie “<em>Aradhana</em>”?<br><br>What is the name of the song in which Kishore Kumar sang the song “<em>Aaj ki raat hoon tumse pyar karne ko</em>” in the movie “<em>Aradhana</em>”?<br><br>What is the name of the song in which Kishore Kumar sang the song “<em>Aaj ki raat hoon tumse pyar karne ko</em>” in the movie “<em>Aradhana</em>”?<br><br>What is the name of the song in which Kishore Kumar sang the song “<em>Aaj ki raat hoon tumse pyar karne ko</blockquote></font>"
          },
          "metadata": {},
          "execution_count": 30
        }
      ],
      "source": [
        "%%time\n",
        "prompt = \"What languages in which did Kishore Kumar provide his vocals as a playback singer?  Separate them with a comma.\"\n",
        "completion = gemma_lm.generate(prompt,max_length=1024)\n",
        "response = completion.replace(prompt, \"\")\n",
        "display_chat(prompt, response)"
      ]
    },
    {
      "cell_type": "markdown",
      "source": [
        "# At this point, the model's answer has some issues:\n",
        "* the responses aren't well-formatted\n",
        "* the response seems to indicate the model doesn't know to much about the topic"
      ],
      "metadata": {
        "id": "yFqA9HU_kwes"
      },
      "id": "yFqA9HU_kwes"
    },
    {
      "cell_type": "markdown",
      "source": [
        "# First, let's prepare a fine-tuning dataset to deal with the response formatting issue (so-called \"instruction following\")\n",
        "* we won't use the context field here"
      ],
      "metadata": {
        "id": "ZIuepz4MlFrL"
      },
      "id": "ZIuepz4MlFrL"
    },
    {
      "cell_type": "markdown",
      "source": [
        "[link text](https://)# New Section"
      ],
      "metadata": {
        "id": "bH_I9KQlmj38"
      },
      "id": "bH_I9KQlmj38"
    },
    {
      "cell_type": "code",
      "execution_count": 32,
      "id": "cbedc30a-3c59-47b0-9098-cf245afce06e",
      "metadata": {
        "id": "cbedc30a-3c59-47b0-9098-cf245afce06e",
        "colab": {
          "base_uri": "https://localhost:8080/"
        },
        "outputId": "7ee89ca0-81bc-41b0-96fb-955d95b81a0a"
      },
      "outputs": [
        {
          "output_type": "stream",
          "name": "stdout",
          "text": [
            "Here is what one item of the fine-tuning dataset looks like:\n",
            "('Instruction:\\n'\n",
            " 'How do you make an iced matcha latter?\\n'\n",
            " '\\n'\n",
            " 'Response:\\n'\n",
            " 'You will need 1-2 teaspoons of matcha powder, milk of your choice, 1 cup of '\n",
            " 'hot water, and ice. In a cup or bowl, you will add your match powder and '\n",
            " 'pour your hot water into it and use a whisk until the matcha powder is well '\n",
            " 'incorporated, which should create a paste like consistency. Then you will '\n",
            " 'take a glass and pour in your ice and milk and your matcha paste on top and '\n",
            " 'stir.')\n"
          ]
        }
      ],
      "source": [
        "data = []\n",
        "for item in ft_data:\n",
        "    template = \"Instruction:\\n{instruction}\\n\\nResponse:\\n{response}\"\n",
        "    data.append(template.format(**item))\n",
        "print(\"Here is what one item of the fine-tuning dataset looks like:\")\n",
        "pprint.pp(random.choice(data))"
      ]
    },
    {
      "cell_type": "markdown",
      "source": [
        "# Fine-tune the model for just proper \"instruction following\""
      ],
      "metadata": {
        "id": "U8Rg_kf5m2A2"
      },
      "id": "U8Rg_kf5m2A2"
    },
    {
      "cell_type": "code",
      "source": [
        "%%time\n",
        "gemma_lm.backbone.enable_lora(rank=4)\n",
        "\n",
        "# Limit the input sequence length to 256 (to control memory usage).\n",
        "gemma_lm.preprocessor.sequence_length = 256\n",
        "# Use AdamW (a common optimizer for transformer models).\n",
        "optimizer = keras.optimizers.AdamW(\n",
        "    learning_rate=5e-5,\n",
        "    weight_decay=0.01,\n",
        ")\n",
        "# Exclude layernorm and bias terms from decay.\n",
        "optimizer.exclude_from_weight_decay(var_names=[\"bias\", \"scale\"])\n",
        "\n",
        "gemma_lm.compile(\n",
        "    loss=keras.losses.SparseCategoricalCrossentropy(from_logits=True),\n",
        "    optimizer=optimizer,\n",
        "    weighted_metrics=[keras.metrics.SparseCategoricalAccuracy()],\n",
        ")\n",
        "gemma_lm.fit(data, epochs=1, batch_size=1)"
      ],
      "metadata": {
        "colab": {
          "base_uri": "https://localhost:8080/"
        },
        "id": "-1to848bm7oH",
        "outputId": "f9a9e18d-24cf-4bf7-d824-56d75e4cae2a"
      },
      "id": "-1to848bm7oH",
      "execution_count": 33,
      "outputs": [
        {
          "output_type": "stream",
          "name": "stdout",
          "text": [
            "\u001b[1m1000/1000\u001b[0m \u001b[32m━━━━━━━━━━━━━━━━━━━━\u001b[0m\u001b[37m\u001b[0m \u001b[1m162s\u001b[0m 58ms/step - loss: 0.8271 - sparse_categorical_accuracy: 0.5427\n",
            "CPU times: user 4min 41s, sys: 12.1 s, total: 4min 53s\n",
            "Wall time: 2min 42s\n"
          ]
        },
        {
          "output_type": "execute_result",
          "data": {
            "text/plain": [
              "<keras.src.callbacks.history.History at 0x7dd98ff19e10>"
            ]
          },
          "metadata": {},
          "execution_count": 33
        }
      ]
    },
    {
      "cell_type": "markdown",
      "source": [
        "# Now let's ask the fine-tuned model the same question\n",
        "* we should expect better response formatting (ie, instruction following)\n",
        "* we might expect it to answer correctly based since the response was included in the fine-tuning training set"
      ],
      "metadata": {
        "id": "7aJm-g7RVX4x"
      },
      "id": "7aJm-g7RVX4x"
    },
    {
      "cell_type": "code",
      "execution_count": 34,
      "id": "34e449d9-29eb-4ff7-9168-cab061ab5d38",
      "metadata": {
        "colab": {
          "base_uri": "https://localhost:8080/",
          "height": 556
        },
        "id": "34e449d9-29eb-4ff7-9168-cab061ab5d38",
        "outputId": "b932c9b6-4b97-4646-84ef-1f694c9a48d5"
      },
      "outputs": [
        {
          "output_type": "execute_result",
          "data": {
            "text/plain": [
              "<IPython.core.display.Markdown object>"
            ],
            "text/markdown": "<font size='+1' color='brown'>🙋‍♂️<blockquote>Instruction:<br>What languages in which did Kishore Kumar provide his vocals as a playback singer?  Separate them with a comma.<br><br>Response:<br></blockquote></font><font size='+1' color='teal'>🤖<blockquote>Hindi, Bengali, Tamil, Telugu, Malayalam, Kannada, Marathi, Gujarati, Oriya, Assamese, Punjabi, Urdu, English, French, German, Spanish, Portuguese, Russian, Japanese, Chinese, Korean, Arabic, Persian, Dutch, Danish, Swedish, Norwegian, Finnish, Icelandic, Hebrew, Polish, Czech, Slovak, Hungarian, Romanian, Bulgarian, Serbian, Croatian, Bosnian, Slovenian, Lithuanian, Latvian, Estonian, Greek, Armenian, Turkish, Indonesian, Thai, Vietnamese, Cambodian, Lao, Burmese, Cambodian, Nepali, Bhutanese, Tibetan, Mongolian, Japanese, Korean, Chinese, Vietnamese, Thai, Cambodian, Lao, Burmese, Nepali, Bhutanese, Tibetan, Mongolian, Japanese, Korean, Chinese, Vietnamese, Thai, Cambodian, Lao, Burmese, Nepali, Bhutanese, Tibetan, Mongolian, Japanese, Korean, Chinese, Vietnamese, Thai, Cambodian, Lao, Burmese, Nepali, Bhutanese, Tibetan, Mongolian, Japanese, Korean, Chinese, Vietnamese, Thai, Cambodian, Lao, Burmese, Nepali, Bhutanese, Tibetan, Mongolian, Japanese, Korean, Chinese, Vietnamese</blockquote></font>"
          },
          "metadata": {},
          "execution_count": 34
        }
      ],
      "source": [
        "prompt = template.format(\n",
        "    instruction=\"What languages in which did Kishore Kumar provide his vocals as a playback singer?  Separate them with a comma.\",\n",
        "    response=\"\",\n",
        ")\n",
        "completion = gemma_lm.generate(prompt)\n",
        "response = completion.replace(prompt, \"\")\n",
        "display_chat(prompt, response)"
      ]
    },
    {
      "cell_type": "markdown",
      "source": [
        "# By fine-tuning on just the instruction and response in the fine-tuning QA dataset seemed to unlock the model's ability to properly format answers to questions.  Let's see what happens if we add the dataset context as well"
      ],
      "metadata": {
        "id": "MKDr1teewk8V"
      },
      "id": "MKDr1teewk8V"
    },
    {
      "cell_type": "markdown",
      "source": [
        "# Now let's create a fine-tuning dataset using the dataset context\n",
        "* in this case, we assume the dataset context has ground-truth facts that the model should be using"
      ],
      "metadata": {
        "id": "O9wKJzq4o5T3"
      },
      "id": "O9wKJzq4o5T3"
    },
    {
      "cell_type": "code",
      "source": [
        "data = []\n",
        "for item in ft_data:\n",
        "    template = \"Instruction:\\n{instruction}\\n\\nContext:\\n{context}\\n\\nResponse:\\n{response}\"\n",
        "    data.append(template.format(**item))\n",
        "print(\"Here is what one item of the fine-tuning dataset looks like:\")\n",
        "pprint.pp(random.choice(data))"
      ],
      "metadata": {
        "colab": {
          "base_uri": "https://localhost:8080/"
        },
        "id": "Prso5XQypNvU",
        "outputId": "3d523edc-8292-4714-cfdf-ea8ec8891428"
      },
      "id": "Prso5XQypNvU",
      "execution_count": 35,
      "outputs": [
        {
          "output_type": "stream",
          "name": "stdout",
          "text": [
            "Here is what one item of the fine-tuning dataset looks like:\n",
            "('Instruction:\\n'\n",
            " 'According to this paragraph, tell me what is referred to as the most '\n",
            " 'exciting collegiate sporting event.\\n'\n",
            " '\\n'\n",
            " 'Context:\\n'\n",
            " 'In 2019, Virginia men\\'s basketball won the NCAA Championship in \"March '\n",
            " 'Madness\", the single-elimination national college basketball tournament '\n",
            " 'considered by YouGov polled American viewers (as of the same year) to be the '\n",
            " 'most exciting collegiate sporting event. In 2015, when Virginia first won '\n",
            " 'its first Capital One Cup its teams won the 2014 College Cup, the 2015 '\n",
            " 'College World Series, and the 2015 NCAA Tennis Championships. When it '\n",
            " 'repeated the feat in 2019, the program won both March Madness and the 2019 '\n",
            " \"Men's Lacrosse Championship.\\n\"\n",
            " '\\n'\n",
            " 'Response:\\n'\n",
            " 'What is referred to as the most exciting collegiate sporting event is when '\n",
            " \"the Virginia men's basketball team won the NCAA Championship in 2019.\")\n"
          ]
        }
      ]
    },
    {
      "cell_type": "markdown",
      "source": [
        "# Reload base model and fine-tune on the new dataset which has context included"
      ],
      "metadata": {
        "id": "xPHR2jq4XmYZ"
      },
      "id": "xPHR2jq4XmYZ"
    },
    {
      "cell_type": "code",
      "execution_count": 36,
      "id": "c8f278c2-9f83-4356-a8cb-576100e2f69f",
      "metadata": {
        "id": "c8f278c2-9f83-4356-a8cb-576100e2f69f",
        "colab": {
          "base_uri": "https://localhost:8080/"
        },
        "outputId": "9ef55e1b-b01f-4816-90c1-65dccd66f991"
      },
      "outputs": [
        {
          "output_type": "stream",
          "name": "stdout",
          "text": [
            "\u001b[1m1000/1000\u001b[0m \u001b[32m━━━━━━━━━━━━━━━━━━━━\u001b[0m\u001b[37m\u001b[0m \u001b[1m139s\u001b[0m 59ms/step - loss: 1.0938 - sparse_categorical_accuracy: 0.5654\n",
            "CPU times: user 2min 23s, sys: 19.7 s, total: 2min 43s\n",
            "Wall time: 2min 59s\n"
          ]
        },
        {
          "output_type": "execute_result",
          "data": {
            "text/plain": [
              "<keras.src.callbacks.history.History at 0x7dd87d9291b0>"
            ]
          },
          "metadata": {},
          "execution_count": 36
        }
      ],
      "source": [
        "%%time\n",
        "\n",
        "# unload previous model to make room for new model\n",
        "gemma_lm = None\n",
        "gc.collect()\n",
        "\n",
        "gemma_lm = keras_nlp.models.GemmaCausalLM.from_preset(\"gemma2_2b_en\")\n",
        "gemma_lm.backbone.enable_lora(rank=4)\n",
        "\n",
        "# Limit the input sequence length to 256 (to control memory usage).\n",
        "gemma_lm.preprocessor.sequence_length = 256\n",
        "# Use AdamW (a common optimizer for transformer models).\n",
        "optimizer = keras.optimizers.AdamW(\n",
        "    learning_rate=5e-5,\n",
        "    weight_decay=0.01,\n",
        ")\n",
        "# Exclude layernorm and bias terms from decay.\n",
        "optimizer.exclude_from_weight_decay(var_names=[\"bias\", \"scale\"])\n",
        "\n",
        "gemma_lm.compile(\n",
        "    loss=keras.losses.SparseCategoricalCrossentropy(from_logits=True),\n",
        "    optimizer=optimizer,\n",
        "    weighted_metrics=[keras.metrics.SparseCategoricalAccuracy()],\n",
        ")\n",
        "gemma_lm.fit(data, epochs=1, batch_size=1)"
      ]
    },
    {
      "cell_type": "markdown",
      "source": [
        "# Now let's ask the new fine-tuned model the same question\n",
        "* we should expect better response formatting (ie, instruction following)\n",
        "* we might expect it to asnwer correctly based on the fine-tuning context data since we used it in the fine-tuning dataset"
      ],
      "metadata": {
        "id": "JdKBB7Xgq8-Q"
      },
      "id": "JdKBB7Xgq8-Q"
    },
    {
      "cell_type": "code",
      "source": [
        "prompt = template.format(\n",
        "    instruction=\"What languages in which did Kishore Kumar provide his vocals as a playback singer?  Separate them with a comma.\",\n",
        "    context=\"\",\n",
        "    response=\"\",\n",
        ")\n",
        "completion = gemma_lm.generate(prompt)\n",
        "response = completion.replace(prompt, \"\")\n",
        "display_chat(prompt, response)"
      ],
      "metadata": {
        "colab": {
          "base_uri": "https://localhost:8080/",
          "height": 355
        },
        "id": "0MC1AIjlq-A4",
        "outputId": "31eb1a2f-3fc5-4e26-c7e5-a659d474a836"
      },
      "id": "0MC1AIjlq-A4",
      "execution_count": 37,
      "outputs": [
        {
          "output_type": "execute_result",
          "data": {
            "text/plain": [
              "<IPython.core.display.Markdown object>"
            ],
            "text/markdown": "<font size='+1' color='brown'>🙋‍♂️<blockquote>Instruction:<br>What languages in which did Kishore Kumar provide his vocals as a playback singer?  Separate them with a comma.<br><br>Context:<br><br><br>Response:<br></blockquote></font><font size='+1' color='teal'>🤖<blockquote>Hindi, Bengali, Tamil, Telugu, Malayalam, Kannada, Marathi, Gujarati, Oriya, Assamese, Punjabi, Urdu, English, and Sanskrit</blockquote></font>"
          },
          "metadata": {},
          "execution_count": 37
        }
      ]
    },
    {
      "cell_type": "markdown",
      "source": [
        "# Did the model incoporate the context during the fine-tuning process?  Now, let's just prompt the model with the context at prompt-time.\n",
        "\n"
      ],
      "metadata": {
        "id": "y_Qtv3l_rxMM"
      },
      "id": "y_Qtv3l_rxMM"
    },
    {
      "cell_type": "code",
      "source": [
        "prompt = template.format(\n",
        "    instruction=\"What languages in which did Kishore Kumar provide his vocals as a playback singer?  Separate them with a comma.\",\n",
        "    context=ft_record['context'],\n",
        "    response=\"\",\n",
        ")\n",
        "completion = gemma_lm.generate(prompt,max_length=1024)\n",
        "response = completion.replace(prompt, \"\")\n",
        "display_chat(prompt, response)"
      ],
      "metadata": {
        "colab": {
          "base_uri": "https://localhost:8080/",
          "height": 712
        },
        "id": "slQ_U9kCr83K",
        "outputId": "daca4f73-b2c4-4c8f-bca2-5a1d691aff49"
      },
      "id": "slQ_U9kCr83K",
      "execution_count": 40,
      "outputs": [
        {
          "output_type": "execute_result",
          "data": {
            "text/plain": [
              "<IPython.core.display.Markdown object>"
            ],
            "text/markdown": "<font size='+1' color='brown'>🙋‍♂️<blockquote>Instruction:<br>What languages in which did Kishore Kumar provide his vocals as a playback singer?  Separate them with a comma.<br><br>Context:<br>Kishore Kumar (born Abhas Kumar Ganguly; pronunciation (help·info); 4 August 1929 – 13 October 1987) was an Indian playback singer and actor. He is widely regarded as one of the greatest, most influential and dynamic singers in the history of Indian music. He was one of the most popular singers in the Indian subcontinent, notable for his yodeling and ability to sing songs in different voices. He used to sing in different genres but some of his rare compositions, considered classics, were lost in time. According to his brother and legendary actor Ashok Kumar, Kishore Kumar was successful as a singer because his \"voice hits the mike, straight, at its most sensitive point\".<br><br>Besides Hindi, he sang in many other Indian languages, including Bengali, Marathi, Assamese, Gujarati, Kannada, Bhojpuri, Malayalam, Odia and Urdu. He also released a few non-film albums in multiple languages, especially in Bengali, which are noted as all-time classics.<br><br>He won 8 Filmfare Awards for Best Male Playback Singer and holds the record for winning the most Filmfare Awards in that category. He was awarded the Lata Mangeshkar Award by the Madhya Pradesh government in 1985.<br><br>Response:<br></blockquote></font><font size='+1' color='teal'>🤖<blockquote>Bengali, Marathi, Assamese, Gujarati, Kannada, Bhojpuri, Malayalam, Odia, Urdu</blockquote></font>"
          },
          "metadata": {},
          "execution_count": 40
        }
      ]
    },
    {
      "cell_type": "markdown",
      "source": [
        "# Let's ask the model slightly differently, telling it to explicitly use the provided context"
      ],
      "metadata": {
        "id": "6DE_VakH7o3t"
      },
      "id": "6DE_VakH7o3t"
    },
    {
      "cell_type": "code",
      "source": [
        "prompt = template.format(\n",
        "    instruction='From the passage provided, extract the languages in which '\n",
        "                'Kishore Kumar provided his vocals as a playback singer. '\n",
        "                'Separate them with a comma.',\n",
        "    context=ft_record['context'],\n",
        "    response=\"\",\n",
        ")\n",
        "completion = gemma_lm.generate(prompt,max_length=1024)\n",
        "response = completion.replace(prompt, \"\")\n",
        "display_chat(prompt, response)"
      ],
      "metadata": {
        "id": "bJ-xAlQg7zKt",
        "outputId": "56ffafa5-0e2a-4b2a-aff0-aef518f939e5",
        "colab": {
          "base_uri": "https://localhost:8080/",
          "height": 756
        }
      },
      "id": "bJ-xAlQg7zKt",
      "execution_count": 42,
      "outputs": [
        {
          "output_type": "execute_result",
          "data": {
            "text/plain": [
              "<IPython.core.display.Markdown object>"
            ],
            "text/markdown": "<font size='+1' color='brown'>🙋‍♂️<blockquote>Instruction:<br>From the passage provided, extract the languages in which Kishore Kumar provided his vocals as a playback singer. Separate them with a comma.<br><br>Context:<br>Kishore Kumar (born Abhas Kumar Ganguly; pronunciation (help·info); 4 August 1929 – 13 October 1987) was an Indian playback singer and actor. He is widely regarded as one of the greatest, most influential and dynamic singers in the history of Indian music. He was one of the most popular singers in the Indian subcontinent, notable for his yodeling and ability to sing songs in different voices. He used to sing in different genres but some of his rare compositions, considered classics, were lost in time. According to his brother and legendary actor Ashok Kumar, Kishore Kumar was successful as a singer because his \"voice hits the mike, straight, at its most sensitive point\".<br><br>Besides Hindi, he sang in many other Indian languages, including Bengali, Marathi, Assamese, Gujarati, Kannada, Bhojpuri, Malayalam, Odia and Urdu. He also released a few non-film albums in multiple languages, especially in Bengali, which are noted as all-time classics.<br><br>He won 8 Filmfare Awards for Best Male Playback Singer and holds the record for winning the most Filmfare Awards in that category. He was awarded the Lata Mangeshkar Award by the Madhya Pradesh government in 1985.<br><br>Response:<br></blockquote></font><font size='+1' color='teal'>🤖<blockquote>Languages in which Kishore Kumar provided his vocals as a playback singer: Hindi, Bengali, Marathi, Assamese, Gujarati, Kannada, Bhojpuri, Malayalam, Odia, Urdu</blockquote></font>"
          },
          "metadata": {},
          "execution_count": 42
        }
      ]
    }
  ],
  "metadata": {
    "kernelspec": {
      "display_name": "Python 3",
      "name": "python3"
    },
    "language_info": {
      "codemirror_mode": {
        "name": "ipython",
        "version": 3
      },
      "file_extension": ".py",
      "mimetype": "text/x-python",
      "name": "python",
      "nbconvert_exporter": "python",
      "pygments_lexer": "ipython3",
      "version": "3.10.14"
    },
    "colab": {
      "provenance": [],
      "toc_visible": true,
      "machine_shape": "hm",
      "gpuType": "A100",
      "include_colab_link": true
    },
    "accelerator": "GPU"
  },
  "nbformat": 4,
  "nbformat_minor": 5
}