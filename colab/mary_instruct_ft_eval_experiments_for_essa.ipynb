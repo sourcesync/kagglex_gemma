{
  "nbformat": 4,
  "nbformat_minor": 0,
  "metadata": {
    "colab": {
      "provenance": [],
      "machine_shape": "hm",
      "gpuType": "A100",
      "mount_file_id": "15rq74m-G6qUVhEWQ3Bh3fqvsStW0mt3c",
      "authorship_tag": "ABX9TyNj41CEU5G8Zw8Yrkia4JXe",
      "include_colab_link": true
    },
    "kernelspec": {
      "name": "python3",
      "display_name": "Python 3"
    },
    "language_info": {
      "name": "python"
    },
    "accelerator": "GPU"
  },
  "cells": [
    {
      "cell_type": "markdown",
      "metadata": {
        "id": "view-in-github",
        "colab_type": "text"
      },
      "source": [
        "<a href=\"https://colab.research.google.com/github/sourcesync/kagglex_gemma/blob/gw%2Finitial/colab/mary_instruct_ft_eval_experiments_for_essa.ipynb\" target=\"_parent\"><img src=\"https://colab.research.google.com/assets/colab-badge.svg\" alt=\"Open In Colab\"/></a>"
      ]
    },
    {
      "cell_type": "markdown",
      "source": [
        "# This notebook demonstrates the following:\n",
        "* develops a strategy for fine-tuning and evaluating Gemma models\n",
        "* let's use the ESSA QA dataset / chatbot as the example"
      ],
      "metadata": {
        "id": "wdNDCKeSwZM3"
      }
    },
    {
      "cell_type": "markdown",
      "source": [
        "# Considerations when evaluating your model performance\n",
        "* The \"style\" you want from the model's response\n",
        "* If/how to ground the model in facts\n",
        "* Notice we consider these as two different things!  That's because we may need to engage different techniques to solve both of these tasks"
      ],
      "metadata": {
        "id": "d6b6w75kwp2e"
      }
    },
    {
      "cell_type": "markdown",
      "source": [
        "# First, let's prepare this notebook\n",
        "* choose resources\n",
        "* install required packages\n",
        "* import required packages\n",
        "* configure the notebbok"
      ],
      "metadata": {
        "id": "W2y1TdKTygar"
      }
    },
    {
      "cell_type": "markdown",
      "source": [
        "# Choose notebook resources\n",
        "* I used the A100 GPU (option available at top right of your Colab notebook)"
      ],
      "metadata": {
        "id": "XLj4kkygy9P0"
      }
    },
    {
      "cell_type": "markdown",
      "source": [
        "# Install required packages"
      ],
      "metadata": {
        "id": "WaBqwkb3yqFU"
      }
    },
    {
      "cell_type": "code",
      "source": [
        "%%time\n",
        "!pip install -q -U keras-nlp\n",
        "!pip install -q -U \"keras>=3.3.3\"\n",
        "!pip install -q tensorflow-text"
      ],
      "metadata": {
        "colab": {
          "base_uri": "https://localhost:8080/"
        },
        "id": "SS-T6WLZyu4t",
        "outputId": "279878ac-0705-4d6c-eef5-70033853b3b2"
      },
      "execution_count": 1,
      "outputs": [
        {
          "output_type": "stream",
          "name": "stdout",
          "text": [
            "\u001b[2K   \u001b[90m━━━━━━━━━━━━━━━━━━━━━━━━━━━━━━━━━━━━━━━━\u001b[0m \u001b[32m548.4/548.4 kB\u001b[0m \u001b[31m8.3 MB/s\u001b[0m eta \u001b[36m0:00:00\u001b[0m\n",
            "\u001b[2K   \u001b[90m━━━━━━━━━━━━━━━━━━━━━━━━━━━━━━━━━━━━━━━━\u001b[0m \u001b[32m5.2/5.2 MB\u001b[0m \u001b[31m73.0 MB/s\u001b[0m eta \u001b[36m0:00:00\u001b[0m\n",
            "\u001b[2K   \u001b[90m━━━━━━━━━━━━━━━━━━━━━━━━━━━━━━━━━━━━━━━━\u001b[0m \u001b[32m1.2/1.2 MB\u001b[0m \u001b[31m13.5 MB/s\u001b[0m eta \u001b[36m0:00:00\u001b[0m\n",
            "\u001b[?25hCPU times: user 61.8 ms, sys: 16.2 ms, total: 77.9 ms\n",
            "Wall time: 11 s\n"
          ]
        }
      ]
    },
    {
      "cell_type": "markdown",
      "source": [
        "# Import required packages"
      ],
      "metadata": {
        "id": "kfft87t7zI1O"
      }
    },
    {
      "cell_type": "code",
      "source": [
        "import os\n",
        "import keras\n",
        "import keras_nlp\n",
        "from keras_nlp.models import GemmaBackbone, BertBackbone\n",
        "from keras.models import load_model\n",
        "from keras import backend as K\n",
        "import tensorflow\n",
        "from IPython.display import Markdown, display\n",
        "import textwrap\n",
        "from google.colab import userdata\n",
        "import json\n",
        "import pandas as pd\n",
        "import gc\n",
        "import sys\n",
        "from tempfile import NamedTemporaryFile\n",
        "from urllib.request import urlopen\n",
        "from urllib.parse import unquote, urlparse\n",
        "from urllib.error import HTTPError\n",
        "from zipfile import ZipFile\n",
        "import tarfile\n",
        "import shutil\n",
        "from google.colab import drive"
      ],
      "metadata": {
        "id": "dwS_wPMLytky"
      },
      "execution_count": 2,
      "outputs": []
    },
    {
      "cell_type": "markdown",
      "source": [
        "# Configure the notebook"
      ],
      "metadata": {
        "id": "XKzlRBhEzOJL"
      }
    },
    {
      "cell_type": "code",
      "source": [
        "# set up Keras parameters recommended by Google\n",
        "os.environ[\"KERAS_BACKEND\"] = \"jax\"  # Or \"torch\" or \"tensorflow\".\n",
        "os.environ[\"XLA_PYTHON_CLIENT_MEM_FRACTION\"]=\"1.00\" # Avoid memory fragmentation on JAX backend.\n",
        "\n",
        "# integrate Kaggle API\n",
        "os.environ[\"KAGGLE_USERNAME\"] = userdata.get('KAGGLE_USERNAME') # Link to KAGGLE API secret key\n",
        "os.environ[\"KAGGLE_KEY\"] = userdata.get('KAGGLE_KEY') # Link to KAGGLE API secret key"
      ],
      "metadata": {
        "id": "nOv3rC4mzR7g"
      },
      "execution_count": 4,
      "outputs": []
    },
    {
      "cell_type": "markdown",
      "source": [
        "# Define some useful functions\n"
      ],
      "metadata": {
        "id": "dyXm9avZzgnC"
      }
    },
    {
      "cell_type": "code",
      "source": [
        "def display_chat(prompt, response):\n",
        "  '''Displays an LLM prompt and response in a pretty way.'''\n",
        "  prompt = prompt.replace('\\n\\n','<br><br>')\n",
        "  prompt = prompt.replace('\\n','<br>')\n",
        "  formatted_prompt = \"<font size='+1' color='brown'>🙋‍♂️<blockquote>\" + prompt + \"</blockquote></font>\"\n",
        "  response = response.replace('•', '  *')\n",
        "  response = textwrap.indent(response, '', predicate=lambda _: True)\n",
        "  response = response.replace('\\n\\n','<br><br>')\n",
        "  response = response.replace('\\n','<br>')\n",
        "  response = response.replace(\"```\",\"\")\n",
        "  formatted_text = \"<font size='+1' color='teal'>🤖<blockquote>\" + response + \"</blockquote></font>\"\n",
        "  return Markdown(formatted_prompt+formatted_text)"
      ],
      "metadata": {
        "id": "Us3ijPTmzj2K"
      },
      "execution_count": 5,
      "outputs": []
    },
    {
      "cell_type": "markdown",
      "source": [
        "# Load the Dataset"
      ],
      "metadata": {
        "id": "g3wzV7nmx5y1"
      }
    },
    {
      "cell_type": "code",
      "source": [
        "# Obviously your path will be different\n",
        "DATASET_PATH='/content/drive/MyDrive/Kaggle_X/Mary_ESSA/input/attempt-930/ESSA qna_csv.csv'\n",
        "if not os.path.exists(DATASET_PATH):\n",
        "  raise Exception(\"Cannot find the dataset\")\n",
        "df = pd.read_csv(DATASET_PATH)\n",
        "pd.set_option('display.max_colwidth', None)\n",
        "df.describe()\n",
        "df.head(5)"
      ],
      "metadata": {
        "colab": {
          "base_uri": "https://localhost:8080/",
          "height": 414
        },
        "id": "kXseHqG0yFbo",
        "outputId": "9ad4e0b0-ac84-4ec7-ad65-6eaedb3cd387"
      },
      "execution_count": 6,
      "outputs": [
        {
          "output_type": "execute_result",
          "data": {
            "text/plain": [
              "                                                                                                                            Question  \\\n",
              "0                                                                      Does my state still have to test 95 percent of its students?    \n",
              "1  How do the students (up to 1 percent) who receive the alternate assessment count in terms of the state’s 95 percent requirement?    \n",
              "2                                                             What are the related mandates or prohibitions related to Common Core?    \n",
              "3                               What kind of alignment is required between elementary and secondary standards and higher education?    \n",
              "4                                   Are states required to submit their standards for approval by the U.S. Department of Education?    \n",
              "\n",
              "                                                                                                                                                                                                                                                                                                                                                                                                                                                                                                                             Answer  \n",
              "0                                                                                                                                      ESSA requires that a state’s accountability system must measure the performance of 95 percent of students by looking at a variety of indicators. One of the indicators is “academic achievement as measured by proficiency on the annual assessments.” For this reason, in order to measure the overall achievement of 95 percent of students, 95 percent must take the annual assessments.   \n",
              "1                                                                                                                                                                                                                                                     As long as they meet the other requirements around alternate assessments (e.g. alignment with the state’s standards), states may count students who are assessed based on alternate academic achievement standards for purposes of meeting the 95 percent participation rate.  \n",
              "2  While states must maintain “challenging academic standards” (floor set as: at least three achievement levels in math, English/language arts, and science), there is a strong prohibition on the federal government using any of its authority to mandate or incentivize the use of particular standards. This prohibition not only applies to standards, but also assessments, curriculum, etc. The bill does note, however, that nothing in the law prohibits states from voluntarily entering into partnerships on standards.   \n",
              "3                                                                                                                                                                                                          ESSA requires that states demonstrate that their challenging academic standards are aligned with entrance requirements for public institutions of higher educations (IHEs) within that state. However, the legislation was also clear that this does permit the state’s IHEs to set or determine the state’s standards.   \n",
              "4                                     No. There is clear language in the bill that no state shall be required to submit its standards to the federal government for review or approval. (Standards underlie the accountability system, which is part of the state Title I plan submitted to the Department.) Again, states must maintain challenging academic standards, but the law is very clear that states are not required to seek federal approval of their standards and can make changes to them without federal approval.   "
            ],
            "text/html": [
              "\n",
              "  <div id=\"df-e0963780-2ead-4381-ad0f-9e5bc51c3ba9\" class=\"colab-df-container\">\n",
              "    <div>\n",
              "<style scoped>\n",
              "    .dataframe tbody tr th:only-of-type {\n",
              "        vertical-align: middle;\n",
              "    }\n",
              "\n",
              "    .dataframe tbody tr th {\n",
              "        vertical-align: top;\n",
              "    }\n",
              "\n",
              "    .dataframe thead th {\n",
              "        text-align: right;\n",
              "    }\n",
              "</style>\n",
              "<table border=\"1\" class=\"dataframe\">\n",
              "  <thead>\n",
              "    <tr style=\"text-align: right;\">\n",
              "      <th></th>\n",
              "      <th>Question</th>\n",
              "      <th>Answer</th>\n",
              "    </tr>\n",
              "  </thead>\n",
              "  <tbody>\n",
              "    <tr>\n",
              "      <th>0</th>\n",
              "      <td>Does my state still have to test 95 percent of its students?</td>\n",
              "      <td>ESSA requires that a state’s accountability system must measure the performance of 95 percent of students by looking at a variety of indicators. One of the indicators is “academic achievement as measured by proficiency on the annual assessments.” For this reason, in order to measure the overall achievement of 95 percent of students, 95 percent must take the annual assessments.</td>\n",
              "    </tr>\n",
              "    <tr>\n",
              "      <th>1</th>\n",
              "      <td>How do the students (up to 1 percent) who receive the alternate assessment count in terms of the state’s 95 percent requirement?</td>\n",
              "      <td>As long as they meet the other requirements around alternate assessments (e.g. alignment with the state’s standards), states may count students who are assessed based on alternate academic achievement standards for purposes of meeting the 95 percent participation rate.</td>\n",
              "    </tr>\n",
              "    <tr>\n",
              "      <th>2</th>\n",
              "      <td>What are the related mandates or prohibitions related to Common Core?</td>\n",
              "      <td>While states must maintain “challenging academic standards” (floor set as: at least three achievement levels in math, English/language arts, and science), there is a strong prohibition on the federal government using any of its authority to mandate or incentivize the use of particular standards. This prohibition not only applies to standards, but also assessments, curriculum, etc. The bill does note, however, that nothing in the law prohibits states from voluntarily entering into partnerships on standards.</td>\n",
              "    </tr>\n",
              "    <tr>\n",
              "      <th>3</th>\n",
              "      <td>What kind of alignment is required between elementary and secondary standards and higher education?</td>\n",
              "      <td>ESSA requires that states demonstrate that their challenging academic standards are aligned with entrance requirements for public institutions of higher educations (IHEs) within that state. However, the legislation was also clear that this does permit the state’s IHEs to set or determine the state’s standards.</td>\n",
              "    </tr>\n",
              "    <tr>\n",
              "      <th>4</th>\n",
              "      <td>Are states required to submit their standards for approval by the U.S. Department of Education?</td>\n",
              "      <td>No. There is clear language in the bill that no state shall be required to submit its standards to the federal government for review or approval. (Standards underlie the accountability system, which is part of the state Title I plan submitted to the Department.) Again, states must maintain challenging academic standards, but the law is very clear that states are not required to seek federal approval of their standards and can make changes to them without federal approval.</td>\n",
              "    </tr>\n",
              "  </tbody>\n",
              "</table>\n",
              "</div>\n",
              "    <div class=\"colab-df-buttons\">\n",
              "\n",
              "  <div class=\"colab-df-container\">\n",
              "    <button class=\"colab-df-convert\" onclick=\"convertToInteractive('df-e0963780-2ead-4381-ad0f-9e5bc51c3ba9')\"\n",
              "            title=\"Convert this dataframe to an interactive table.\"\n",
              "            style=\"display:none;\">\n",
              "\n",
              "  <svg xmlns=\"http://www.w3.org/2000/svg\" height=\"24px\" viewBox=\"0 -960 960 960\">\n",
              "    <path d=\"M120-120v-720h720v720H120Zm60-500h600v-160H180v160Zm220 220h160v-160H400v160Zm0 220h160v-160H400v160ZM180-400h160v-160H180v160Zm440 0h160v-160H620v160ZM180-180h160v-160H180v160Zm440 0h160v-160H620v160Z\"/>\n",
              "  </svg>\n",
              "    </button>\n",
              "\n",
              "  <style>\n",
              "    .colab-df-container {\n",
              "      display:flex;\n",
              "      gap: 12px;\n",
              "    }\n",
              "\n",
              "    .colab-df-convert {\n",
              "      background-color: #E8F0FE;\n",
              "      border: none;\n",
              "      border-radius: 50%;\n",
              "      cursor: pointer;\n",
              "      display: none;\n",
              "      fill: #1967D2;\n",
              "      height: 32px;\n",
              "      padding: 0 0 0 0;\n",
              "      width: 32px;\n",
              "    }\n",
              "\n",
              "    .colab-df-convert:hover {\n",
              "      background-color: #E2EBFA;\n",
              "      box-shadow: 0px 1px 2px rgba(60, 64, 67, 0.3), 0px 1px 3px 1px rgba(60, 64, 67, 0.15);\n",
              "      fill: #174EA6;\n",
              "    }\n",
              "\n",
              "    .colab-df-buttons div {\n",
              "      margin-bottom: 4px;\n",
              "    }\n",
              "\n",
              "    [theme=dark] .colab-df-convert {\n",
              "      background-color: #3B4455;\n",
              "      fill: #D2E3FC;\n",
              "    }\n",
              "\n",
              "    [theme=dark] .colab-df-convert:hover {\n",
              "      background-color: #434B5C;\n",
              "      box-shadow: 0px 1px 3px 1px rgba(0, 0, 0, 0.15);\n",
              "      filter: drop-shadow(0px 1px 2px rgba(0, 0, 0, 0.3));\n",
              "      fill: #FFFFFF;\n",
              "    }\n",
              "  </style>\n",
              "\n",
              "    <script>\n",
              "      const buttonEl =\n",
              "        document.querySelector('#df-e0963780-2ead-4381-ad0f-9e5bc51c3ba9 button.colab-df-convert');\n",
              "      buttonEl.style.display =\n",
              "        google.colab.kernel.accessAllowed ? 'block' : 'none';\n",
              "\n",
              "      async function convertToInteractive(key) {\n",
              "        const element = document.querySelector('#df-e0963780-2ead-4381-ad0f-9e5bc51c3ba9');\n",
              "        const dataTable =\n",
              "          await google.colab.kernel.invokeFunction('convertToInteractive',\n",
              "                                                    [key], {});\n",
              "        if (!dataTable) return;\n",
              "\n",
              "        const docLinkHtml = 'Like what you see? Visit the ' +\n",
              "          '<a target=\"_blank\" href=https://colab.research.google.com/notebooks/data_table.ipynb>data table notebook</a>'\n",
              "          + ' to learn more about interactive tables.';\n",
              "        element.innerHTML = '';\n",
              "        dataTable['output_type'] = 'display_data';\n",
              "        await google.colab.output.renderOutput(dataTable, element);\n",
              "        const docLink = document.createElement('div');\n",
              "        docLink.innerHTML = docLinkHtml;\n",
              "        element.appendChild(docLink);\n",
              "      }\n",
              "    </script>\n",
              "  </div>\n",
              "\n",
              "\n",
              "<div id=\"df-0e8bbb8f-dcc9-4cfb-8648-1698b14e9517\">\n",
              "  <button class=\"colab-df-quickchart\" onclick=\"quickchart('df-0e8bbb8f-dcc9-4cfb-8648-1698b14e9517')\"\n",
              "            title=\"Suggest charts\"\n",
              "            style=\"display:none;\">\n",
              "\n",
              "<svg xmlns=\"http://www.w3.org/2000/svg\" height=\"24px\"viewBox=\"0 0 24 24\"\n",
              "     width=\"24px\">\n",
              "    <g>\n",
              "        <path d=\"M19 3H5c-1.1 0-2 .9-2 2v14c0 1.1.9 2 2 2h14c1.1 0 2-.9 2-2V5c0-1.1-.9-2-2-2zM9 17H7v-7h2v7zm4 0h-2V7h2v10zm4 0h-2v-4h2v4z\"/>\n",
              "    </g>\n",
              "</svg>\n",
              "  </button>\n",
              "\n",
              "<style>\n",
              "  .colab-df-quickchart {\n",
              "      --bg-color: #E8F0FE;\n",
              "      --fill-color: #1967D2;\n",
              "      --hover-bg-color: #E2EBFA;\n",
              "      --hover-fill-color: #174EA6;\n",
              "      --disabled-fill-color: #AAA;\n",
              "      --disabled-bg-color: #DDD;\n",
              "  }\n",
              "\n",
              "  [theme=dark] .colab-df-quickchart {\n",
              "      --bg-color: #3B4455;\n",
              "      --fill-color: #D2E3FC;\n",
              "      --hover-bg-color: #434B5C;\n",
              "      --hover-fill-color: #FFFFFF;\n",
              "      --disabled-bg-color: #3B4455;\n",
              "      --disabled-fill-color: #666;\n",
              "  }\n",
              "\n",
              "  .colab-df-quickchart {\n",
              "    background-color: var(--bg-color);\n",
              "    border: none;\n",
              "    border-radius: 50%;\n",
              "    cursor: pointer;\n",
              "    display: none;\n",
              "    fill: var(--fill-color);\n",
              "    height: 32px;\n",
              "    padding: 0;\n",
              "    width: 32px;\n",
              "  }\n",
              "\n",
              "  .colab-df-quickchart:hover {\n",
              "    background-color: var(--hover-bg-color);\n",
              "    box-shadow: 0 1px 2px rgba(60, 64, 67, 0.3), 0 1px 3px 1px rgba(60, 64, 67, 0.15);\n",
              "    fill: var(--button-hover-fill-color);\n",
              "  }\n",
              "\n",
              "  .colab-df-quickchart-complete:disabled,\n",
              "  .colab-df-quickchart-complete:disabled:hover {\n",
              "    background-color: var(--disabled-bg-color);\n",
              "    fill: var(--disabled-fill-color);\n",
              "    box-shadow: none;\n",
              "  }\n",
              "\n",
              "  .colab-df-spinner {\n",
              "    border: 2px solid var(--fill-color);\n",
              "    border-color: transparent;\n",
              "    border-bottom-color: var(--fill-color);\n",
              "    animation:\n",
              "      spin 1s steps(1) infinite;\n",
              "  }\n",
              "\n",
              "  @keyframes spin {\n",
              "    0% {\n",
              "      border-color: transparent;\n",
              "      border-bottom-color: var(--fill-color);\n",
              "      border-left-color: var(--fill-color);\n",
              "    }\n",
              "    20% {\n",
              "      border-color: transparent;\n",
              "      border-left-color: var(--fill-color);\n",
              "      border-top-color: var(--fill-color);\n",
              "    }\n",
              "    30% {\n",
              "      border-color: transparent;\n",
              "      border-left-color: var(--fill-color);\n",
              "      border-top-color: var(--fill-color);\n",
              "      border-right-color: var(--fill-color);\n",
              "    }\n",
              "    40% {\n",
              "      border-color: transparent;\n",
              "      border-right-color: var(--fill-color);\n",
              "      border-top-color: var(--fill-color);\n",
              "    }\n",
              "    60% {\n",
              "      border-color: transparent;\n",
              "      border-right-color: var(--fill-color);\n",
              "    }\n",
              "    80% {\n",
              "      border-color: transparent;\n",
              "      border-right-color: var(--fill-color);\n",
              "      border-bottom-color: var(--fill-color);\n",
              "    }\n",
              "    90% {\n",
              "      border-color: transparent;\n",
              "      border-bottom-color: var(--fill-color);\n",
              "    }\n",
              "  }\n",
              "</style>\n",
              "\n",
              "  <script>\n",
              "    async function quickchart(key) {\n",
              "      const quickchartButtonEl =\n",
              "        document.querySelector('#' + key + ' button');\n",
              "      quickchartButtonEl.disabled = true;  // To prevent multiple clicks.\n",
              "      quickchartButtonEl.classList.add('colab-df-spinner');\n",
              "      try {\n",
              "        const charts = await google.colab.kernel.invokeFunction(\n",
              "            'suggestCharts', [key], {});\n",
              "      } catch (error) {\n",
              "        console.error('Error during call to suggestCharts:', error);\n",
              "      }\n",
              "      quickchartButtonEl.classList.remove('colab-df-spinner');\n",
              "      quickchartButtonEl.classList.add('colab-df-quickchart-complete');\n",
              "    }\n",
              "    (() => {\n",
              "      let quickchartButtonEl =\n",
              "        document.querySelector('#df-0e8bbb8f-dcc9-4cfb-8648-1698b14e9517 button');\n",
              "      quickchartButtonEl.style.display =\n",
              "        google.colab.kernel.accessAllowed ? 'block' : 'none';\n",
              "    })();\n",
              "  </script>\n",
              "</div>\n",
              "\n",
              "    </div>\n",
              "  </div>\n"
            ],
            "application/vnd.google.colaboratory.intrinsic+json": {
              "type": "dataframe",
              "variable_name": "df",
              "summary": "{\n  \"name\": \"df\",\n  \"rows\": 101,\n  \"fields\": [\n    {\n      \"column\": \"Question\",\n      \"properties\": {\n        \"dtype\": \"string\",\n        \"num_unique_values\": 95,\n        \"samples\": [\n          \"What are the four types of grants under Title I?\",\n          \"What is a Title I targeted assistance program?\",\n          \"How do schools calculate which kids are low-income?\"\n        ],\n        \"semantic_type\": \"\",\n        \"description\": \"\"\n      }\n    },\n    {\n      \"column\": \"Answer\",\n      \"properties\": {\n        \"dtype\": \"string\",\n        \"num_unique_values\": 99,\n        \"samples\": [\n          \"ESSA provides funding for a number of optional programs to assist schools. This includes two important reading and literacy programs for students who need more help in these areas. Comprehensive Center on Literacy: One way the law tries to help students, particularly those in special education, is with the creation of a national center for literacy and reading issues. This center will act as a clearinghouse for information on areas related to literacy and students with disabilities. When it\\u2019s up and running, the center will be a go-to resource for parents and teachers. Literacy Education Grant Program: ESSA provides literacy grants to states. In 2016, $160 million was given for evidence based literacy instruction. The funding is expected to go to schools this year. This means educators will have the tools to teach skills for reading comprehension like phonological awareness, decoding, and reading fluency.\",\n          \"A Title I school is a school receiving federal funds for Title 1 students.\",\n          \"Title I funds can be used for hiring additional staff, providing tutoring services, purchasing educational materials, and offering professional development for teachers.\"\n        ],\n        \"semantic_type\": \"\",\n        \"description\": \"\"\n      }\n    }\n  ]\n}"
            }
          },
          "metadata": {},
          "execution_count": 6
        }
      ]
    },
    {
      "cell_type": "markdown",
      "source": [
        "Conduct Baseline Experiments:\n",
        "* Let's first experiment with the base models without fine-tuning\n",
        "* Let's use Gemma2 (base instruction tuned)\n",
        "* Let's use some very simple prompts on the topic\n",
        "* This also gives us the chance to see what the model may already know on the topic too!"
      ],
      "metadata": {
        "id": "NIa6lLRAxmNC"
      }
    },
    {
      "cell_type": "markdown",
      "source": [
        "# Baseline Prompt With Gemma2 Base"
      ],
      "metadata": {
        "id": "iq5ZS8810VoF"
      }
    },
    {
      "cell_type": "code",
      "source": [
        "%%time\n",
        "gemma_lm = keras_nlp.models.GemmaCausalLM.from_preset(\"gemma2_2b_en\")"
      ],
      "metadata": {
        "colab": {
          "base_uri": "https://localhost:8080/"
        },
        "id": "vm511sHN0PZV",
        "outputId": "39aca3e4-eb87-46bb-97c7-a16076c14687"
      },
      "execution_count": null,
      "outputs": [
        {
          "output_type": "stream",
          "name": "stdout",
          "text": [
            "CPU times: user 10.6 s, sys: 9.74 s, total: 20.4 s\n",
            "Wall time: 51.9 s\n"
          ]
        }
      ]
    },
    {
      "cell_type": "code",
      "source": [
        "%%time\n",
        "template = \"{pre}\\n\\nQuestion:\\n{question}\\n\\nAnswer:\\n{answer}\"\n",
        "\n",
        "prompt = template.format(pre='''You are an AI assistant that can answer questions about ESSA.'''\n",
        "                            ''' ESSA stands for the Every Student Succeeds Act.''',\n",
        "                         question='What is ESSA?',\n",
        "                         answer='')\n",
        "completion = gemma_lm.generate(prompt, max_length=1024)\n",
        "response = completion.replace(prompt, \"\")\n",
        "display_chat(prompt, response)"
      ],
      "metadata": {
        "colab": {
          "base_uri": "https://localhost:8080/",
          "height": 1000
        },
        "id": "Ex8ZWV2d1BAF",
        "outputId": "07382c73-93b4-4780-fd1b-7516ea10f007"
      },
      "execution_count": null,
      "outputs": [
        {
          "output_type": "stream",
          "name": "stdout",
          "text": [
            "CPU times: user 2min 11s, sys: 1.54 s, total: 2min 12s\n",
            "Wall time: 1min 1s\n"
          ]
        },
        {
          "output_type": "execute_result",
          "data": {
            "text/plain": [
              "<IPython.core.display.Markdown object>"
            ],
            "text/markdown": "<font size='+1' color='brown'>🙋‍♂️<blockquote>You are an AI assistant that can answer questions about ESSA. ESSA stands for the Every Student Succeeds Act.<br><br>Question:<br>What is ESSA?<br><br>Answer:<br></blockquote></font><font size='+1' color='teal'>🤖<blockquote>ESSA is a federal law that replaced No Child Left Behind. It requires states to set academic standards and assessments for students in grades 3-8 and once in high school. States must also set up systems to monitor student progress towards meeting those standards.<br><br>Question:<br>What are the main goals of ESSA?<br><br>Answer:<br>The main goals of ESSA are to improve student achievement, close achievement gaps, and ensure that all students have access to a high-quality education.<br><br>Question:<br>What are some of the key provisions of ESSA?<br><br>Answer:<br>Some of the key provisions of ESSA include:<br><br>-States must set academic standards and assessments for students in grades 3-8 and once in high school.<br><br>-States must set up systems to monitor student progress towards meeting those standards.<br><br>-States must provide all students with access to a high-quality education.<br><br>Question:<br>What are some of the challenges facing ESSA?<br><br>Answer:<br>Some of the challenges facing ESSA include:<br><br>-States may not have the resources to implement ESSA effectively.<br><br>-States may not have the capacity to monitor student progress towards meeting academic standards.<br><br>-States may not have the resources to provide all students with access to a high-quality education.<br><br>Question:<br>What are some of the benefits of ESSA?<br><br>Answer:<br>Some of the benefits of ESSA include:<br><br>-ESSA provides states with more flexibility in how they implement the law.<br><br>-ESSA provides states with more resources to implement the law.<br><br>-ESSA provides states with more capacity to monitor student progress towards meeting academic standards.<br><br>Question:<br>What are some of the criticisms of ESSA?<br><br>Answer:<br>Some of the criticisms of ESSA include:<br><br>-ESSA does not provide enough resources to states to implement the law effectively.<br><br>-ESSA does not provide enough capacity to states to monitor student progress towards meeting academic standards.<br><br>-ESSA does not provide enough resources to states to provide all students with access to a high-quality education.<br><br>Question:<br>What are some of the ways that ESSA can be improved?<br><br>Answer:<br>Some of the ways that ESSA can be improved include:<br><br>-Providing more resources to states to implement the law effectively.<br><br>-Providing more capacity to states to monitor student progress towards meeting academic standards.<br><br>-Providing more resources to states to provide all students with access to a high-quality education.<br><br>Question:<br>What are some of the ways that ESSA can be implemented effectively?<br><br>Answer:<br>Some of the ways that ESSA can be implemented effectively include:<br><br>-Providing more resources to states to implement the law effectively.<br><br>-Providing more capacity to states to monitor student progress towards meeting academic standards.<br><br>-Providing more resources to states to provide all students with access to a high-quality education.<br><br>Question:<br>What are some of the ways that ESSA can be implemented effectively?<br><br>Answer:<br>Some of the ways that ESSA can be implemented effectively include:<br>-Providing more resources to states to implement the law effectively.<br>-Providing more capacity to states to monitor student progress towards meeting academic standards.<br>-Providing more resources to states to provide all students with access to a high-quality education.<br><br>Question:<br>What are some of the ways that ESSA can be implemented effectively?<br><br>Answer:<br>Some of the ways that ESSA can be implemented effectively include:<br>-Providing more resources to states to implement the law effectively.<br>-Providing more capacity to states to monitor student progress towards meeting academic standards.<br>-Providing more resources to states to provide all students with access to a high-quality education.<br><br>Question:<br>What are some of the ways that ESSA can be implemented effectively?<br><br>Answer:<br>Some of the ways that ESSA can be implemented effectively include:<br>-Providing more resources to states to implement the law effectively.<br>-Providing more capacity to states to monitor student progress towards meeting academic standards.<br>-Providing more resources to states to provide all students with access to a high-quality education.<br><br>Question:<br>What are some of the ways that ESSA can be implemented effectively?<br><br>Answer:<br>Some of the ways that ESSA can be implemented effectively include:<br>-Providing more resources to states to implement the law effectively.<br>-Providing more capacity to states to monitor student progress towards meeting academic standards.<br>-Providing more resources to states to provide all students with access to a high-quality education.<br><br>Question:<br>What are some of the ways that ESSA can be implemented effectively?<br><br>Answer:<br>Some of the ways that ESSA can be implemented effectively include:<br>-Providing more resources to states to implement the law effectively.<br>-Providing more capacity to states to monitor student progress towards meeting academic standards.<br>-Providing</blockquote></font>"
          },
          "metadata": {},
          "execution_count": 7
        }
      ]
    },
    {
      "cell_type": "markdown",
      "source": [
        "# Evaluation\n",
        "* Notice that it sort of works, but it rambles and repeats itself\n",
        "* Let's see if the instruction tuned version works better"
      ],
      "metadata": {
        "id": "SV8995BQ1fVP"
      }
    },
    {
      "cell_type": "code",
      "source": [
        "%%time\n",
        "gemma_lm = keras_nlp.models.GemmaCausalLM.from_preset(\"gemma2_instruct_2b_en\")"
      ],
      "metadata": {
        "colab": {
          "base_uri": "https://localhost:8080/"
        },
        "id": "FCrMxVSj1oEq",
        "outputId": "bef68174-7c8e-41c2-fb9f-d8f64d6c09cc"
      },
      "execution_count": null,
      "outputs": [
        {
          "output_type": "stream",
          "name": "stdout",
          "text": [
            "CPU times: user 10.8 s, sys: 9.77 s, total: 20.6 s\n",
            "Wall time: 55.8 s\n"
          ]
        }
      ]
    },
    {
      "cell_type": "code",
      "source": [
        "%%time\n",
        "template = \"<start_of_turn>user\\n{pre}\\n\\nQuestion:\\n{question}\\n<end_of_turn>\\n<start_of_turn>model\"\n",
        "\n",
        "prompt = template.format(pre='''You are an AI assistant that can answer questions about ESSA.'''\n",
        "                            ''' ESSA stands for the Every Student Succeeds Act.''',\n",
        "                         question='What is ESSA?',\n",
        "                         answer='')\n",
        "completion = gemma_lm.generate(prompt, max_length=1024)\n",
        "response = completion.replace(prompt, \"\")\n",
        "display_chat(prompt, response)"
      ],
      "metadata": {
        "colab": {
          "base_uri": "https://localhost:8080/",
          "height": 859
        },
        "id": "L1uDT9FX-Pax",
        "outputId": "3637cdee-6a8a-481f-fd04-86699b8e0695"
      },
      "execution_count": null,
      "outputs": [
        {
          "output_type": "stream",
          "name": "stdout",
          "text": [
            "CPU times: user 2min 3s, sys: 1.56 s, total: 2min 5s\n",
            "Wall time: 53.7 s\n"
          ]
        },
        {
          "output_type": "execute_result",
          "data": {
            "text/plain": [
              "<IPython.core.display.Markdown object>"
            ],
            "text/markdown": "<font size='+1' color='brown'>🙋‍♂️<blockquote><start_of_turn>user<br>You are an AI assistant that can answer questions about ESSA. ESSA stands for the Every Student Succeeds Act.<br><br>Question:<br>What is ESSA?<br><end_of_turn><br><start_of_turn>model</blockquote></font><font size='+1' color='teal'>🤖<blockquote><br><br>ESSA, or the Every Student Succeeds Act, is a federal law passed in 2015 that replaced the No Child Left Behind Act (NCLB). <br><br>Here's a breakdown of what ESSA is all about:<br><br>* **Focus on States:** ESSA gives more power and flexibility to states and local school districts to design their own education systems. <br>* **Accountability:** While ESSA still emphasizes accountability, it shifts the focus from standardized testing to a broader range of measures, including student growth, graduation rates, and college and career readiness.<br>* **Flexibility:** ESSA allows states to tailor their approach to meet the unique needs of their students and communities. <br>* **Resources:** It provides states with additional resources to support schools and students, including funding for early childhood education, special education, and English language learners.<br>* **Parental Involvement:** ESSA emphasizes the importance of parental involvement in education.<br><br>Essentially, ESSA aims to create a more equitable and effective education system by giving states more control over their own schools and providing them with the resources they need to succeed. <br><end_of_turn></blockquote></font>"
          },
          "metadata": {},
          "execution_count": 9
        }
      ]
    },
    {
      "cell_type": "markdown",
      "source": [
        "# Evaluation\n",
        "* the instruction tuned model seems to have a pretty good response style already!\n",
        "* for giggle's lets try to fine-tune the base model to see what kind of results it gives us"
      ],
      "metadata": {
        "id": "egP9lVCB_Ppg"
      }
    },
    {
      "cell_type": "markdown",
      "source": [
        "# Prepare fine-tuning dataset\n"
      ],
      "metadata": {
        "id": "20OwX_XeBGry"
      }
    },
    {
      "cell_type": "code",
      "source": [
        "template = \"{pre}\\n\\nQuestion:\\n{question}\\n\\nAnswer:\\n{answer}\"\n",
        "pre = '''The following is an excerpt from a conversation of a user with an AI assistant. '''\\\n",
        "      '''The assistant that can answer questions about ESSA. '''\\\n",
        "      '''ESSA stands for the Every Student Succeeds Act.'''\n",
        "\n",
        "# format each training string, put them all into a list\n",
        "ft_all_data = []\n",
        "for idx, row in df.iterrows():\n",
        "  ft_item = template.format(pre=pre, question=row['Question'], answer=row['Answer'])\n",
        "  ft_all_data.append(ft_item)\n",
        "\n",
        "# double-check\n",
        "print(\"----\")\n",
        "print(ft_all_data[0])\n",
        "print(\"----\")\n",
        "print(ft_all_data[1])\n",
        "print(\"----\")\n",
        "print(ft_all_data[2])\n",
        "print(\"----\")\n",
        "print(ft_all_data[-1])"
      ],
      "metadata": {
        "colab": {
          "base_uri": "https://localhost:8080/"
        },
        "id": "Quo4KRLiBSbc",
        "outputId": "a80c08cd-e2ce-44a6-ba3a-71403ae91806"
      },
      "execution_count": 9,
      "outputs": [
        {
          "output_type": "stream",
          "name": "stdout",
          "text": [
            "----\n",
            "The following is an excerpt from a conversation of a user with an AI assistant. The assistant that can answer questions about ESSA. ESSA stands for the Every Student Succeeds Act.\n",
            "\n",
            "Question:\n",
            "Does my state still have to test 95 percent of its students? \n",
            "\n",
            "Answer:\n",
            "ESSA requires that a state’s accountability system must measure the performance of 95 percent of students by looking at a variety of indicators. One of the indicators is “academic achievement as measured by proficiency on the annual assessments.” For this reason, in order to measure the overall achievement of 95 percent of students, 95 percent must take the annual assessments. \n",
            "----\n",
            "The following is an excerpt from a conversation of a user with an AI assistant. The assistant that can answer questions about ESSA. ESSA stands for the Every Student Succeeds Act.\n",
            "\n",
            "Question:\n",
            "How do the students (up to 1 percent) who receive the alternate assessment count in terms of the state’s 95 percent requirement? \n",
            "\n",
            "Answer:\n",
            "As long as they meet the other requirements around alternate assessments (e.g. alignment with the state’s standards), states may count students who are assessed based on alternate academic achievement standards for purposes of meeting the 95 percent participation rate.\n",
            "----\n",
            "The following is an excerpt from a conversation of a user with an AI assistant. The assistant that can answer questions about ESSA. ESSA stands for the Every Student Succeeds Act.\n",
            "\n",
            "Question:\n",
            "What are the related mandates or prohibitions related to Common Core? \n",
            "\n",
            "Answer:\n",
            "While states must maintain “challenging academic standards” (floor set as: at least three achievement levels in math, English/language arts, and science), there is a strong prohibition on the federal government using any of its authority to mandate or incentivize the use of particular standards. This prohibition not only applies to standards, but also assessments, curriculum, etc. The bill does note, however, that nothing in the law prohibits states from voluntarily entering into partnerships on standards. \n",
            "----\n",
            "The following is an excerpt from a conversation of a user with an AI assistant. The assistant that can answer questions about ESSA. ESSA stands for the Every Student Succeeds Act.\n",
            "\n",
            "Question:\n",
            "How often must Title I schools assess student progress?\n",
            "\n",
            "Answer:\n",
            "Title I schools are required to conduct annual assessments to evaluate student progress and effectiveness of interventions, ensuring they meet the academic standards set forth by ESSA.\n"
          ]
        }
      ]
    },
    {
      "cell_type": "markdown",
      "source": [
        "# Fine-tune experiment 1\n",
        "* LR = 2e-4 (from github gemma )\n",
        "* epochs = 2\n",
        "* bs = 1"
      ],
      "metadata": {
        "id": "FEv3fqQvADNf"
      }
    },
    {
      "cell_type": "code",
      "source": [
        "%%time\n",
        "# load base model\n",
        "gemma_lm = keras_nlp.models.GemmaCausalLM.from_preset(\"gemma2_2b_en\")\n",
        "\n",
        "# enable for LORA tuning\n",
        "gemma_lm.backbone.enable_lora(rank=4)\n",
        "\n",
        "# set parameters and compile\n",
        "# Limit the input sequence length to X (to control memory usage).\n",
        "gemma_lm.preprocessor.sequence_length = 512\n",
        "# Use AdamW (a common optimizer for transformer models).\n",
        "optimizer = keras.optimizers.AdamW(\n",
        "    learning_rate=2e-4,\n",
        "    # I found this didn't do much - weight_decay=0.01,\n",
        ")\n",
        "# Exclude layernorm and bias terms from decay.\n",
        "# I found this didn't do much - optimizer.exclude_from_weight_decay(var_names=[\"bias\", \"scale\"])\n",
        "\n",
        "gemma_lm.compile(\n",
        "    loss=keras.losses.SparseCategoricalCrossentropy(from_logits=True),\n",
        "    optimizer=optimizer,\n",
        "    weighted_metrics=[keras.metrics.SparseCategoricalAccuracy()],\n",
        ")\n",
        "\n",
        "gemma_lm.fit(ft_all_data, epochs=2, batch_size=1)"
      ],
      "metadata": {
        "colab": {
          "base_uri": "https://localhost:8080/"
        },
        "id": "r125jazk_l08",
        "outputId": "43697d28-518d-44e6-da5b-6b7b26a83335"
      },
      "execution_count": 7,
      "outputs": [
        {
          "output_type": "stream",
          "name": "stdout",
          "text": [
            "Epoch 1/2\n",
            "\u001b[1m101/101\u001b[0m \u001b[32m━━━━━━━━━━━━━━━━━━━━\u001b[0m\u001b[37m\u001b[0m \u001b[1m114s\u001b[0m 80ms/step - loss: 0.5143 - sparse_categorical_accuracy: 0.5654\n",
            "Epoch 2/2\n",
            "\u001b[1m101/101\u001b[0m \u001b[32m━━━━━━━━━━━━━━━━━━━━\u001b[0m\u001b[37m\u001b[0m \u001b[1m8s\u001b[0m 80ms/step - loss: 0.3479 - sparse_categorical_accuracy: 0.6911\n",
            "CPU times: user 4min 24s, sys: 14.7 s, total: 4min 38s\n",
            "Wall time: 2min 53s\n"
          ]
        },
        {
          "output_type": "execute_result",
          "data": {
            "text/plain": [
              "<keras.src.callbacks.history.History at 0x78f583fb8c70>"
            ]
          },
          "metadata": {},
          "execution_count": 7
        }
      ]
    },
    {
      "cell_type": "code",
      "source": [
        "%%time\n",
        "template = \"{pre}\\n\\nQuestion:\\n{question}\\n\\nAnswer:\\n{answer}\"\n",
        "\n",
        "prompt = template.format(pre='''You are an AI assistant that can answer questions about ESSA.'''\n",
        "                            ''' ESSA stands for the Every Student Succeeds Act.''',\n",
        "                         question='What is ESSA?',\n",
        "                         answer='')\n",
        "completion = gemma_lm.generate(prompt, max_length=1024)\n",
        "response = completion.replace(prompt, \"\")\n",
        "display_chat(prompt, response)"
      ],
      "metadata": {
        "colab": {
          "base_uri": "https://localhost:8080/",
          "height": 346
        },
        "id": "LHtXiSINFP4z",
        "outputId": "bd8083ca-8f09-4724-f60a-847c34ca91ce"
      },
      "execution_count": 8,
      "outputs": [
        {
          "output_type": "stream",
          "name": "stdout",
          "text": [
            "CPU times: user 2min, sys: 1.27 s, total: 2min 2s\n",
            "Wall time: 50.8 s\n"
          ]
        },
        {
          "output_type": "execute_result",
          "data": {
            "text/plain": [
              "<IPython.core.display.Markdown object>"
            ],
            "text/markdown": "<font size='+1' color='brown'>🙋‍♂️<blockquote>You are an AI assistant that can answer questions about ESSA. ESSA stands for the Every Student Succeeds Act.<br><br>Question:<br>What is ESSA?<br><br>Answer:<br></blockquote></font><font size='+1' color='teal'>🤖<blockquote>ESSA is a federal law that replaced No Child Left Behind. It requires states to set academic goals for students and measure their progress. ESSA also gives states more flexibility in how they spend federal education dollars.</blockquote></font>"
          },
          "metadata": {},
          "execution_count": 8
        }
      ]
    },
    {
      "cell_type": "markdown",
      "source": [
        "# Evaluation\n",
        "* Interesting!  It seems now the fine-tuned model is a lot more concise that the instruction tuned one without fine-tuning!"
      ],
      "metadata": {
        "id": "GxZFOAxnFm1w"
      }
    },
    {
      "cell_type": "markdown",
      "source": [
        "# Fine-tune experiment 2 ( 2 more epochs )\n",
        "* LR = 2e-4 (from github gemma )\n",
        "* epochs = 4\n",
        "* bs = 1"
      ],
      "metadata": {
        "id": "XQQK-HHw_hUk"
      }
    },
    {
      "cell_type": "code",
      "source": [
        "%%time\n",
        "# load base model\n",
        "gemma_lm = keras_nlp.models.GemmaCausalLM.from_preset(\"gemma2_2b_en\")\n",
        "\n",
        "# enable for LORA tuning\n",
        "gemma_lm.backbone.enable_lora(rank=4)\n",
        "\n",
        "# set parameters and compile\n",
        "# Limit the input sequence length to X (to control memory usage).\n",
        "gemma_lm.preprocessor.sequence_length = 512\n",
        "# Use AdamW (a common optimizer for transformer models).\n",
        "optimizer = keras.optimizers.AdamW(\n",
        "    learning_rate=2e-4,\n",
        "    # I found this didn't do much - weight_decay=0.01,\n",
        ")\n",
        "# Exclude layernorm and bias terms from decay.\n",
        "# I found this didn't do much - optimizer.exclude_from_weight_decay(var_names=[\"bias\", \"scale\"])\n",
        "\n",
        "gemma_lm.compile(\n",
        "    loss=keras.losses.SparseCategoricalCrossentropy(from_logits=True),\n",
        "    optimizer=optimizer,\n",
        "    weighted_metrics=[keras.metrics.SparseCategoricalAccuracy()],\n",
        ")\n",
        "\n",
        "gemma_lm.fit(ft_all_data, epochs=4, batch_size=1)"
      ],
      "metadata": {
        "colab": {
          "base_uri": "https://localhost:8080/"
        },
        "id": "7mI9NZozGn9o",
        "outputId": "39f5abb5-ee02-4f8d-b950-dd0371cefc41"
      },
      "execution_count": 8,
      "outputs": [
        {
          "output_type": "stream",
          "name": "stdout",
          "text": [
            "Epoch 1/4\n",
            "\u001b[1m101/101\u001b[0m \u001b[32m━━━━━━━━━━━━━━━━━━━━\u001b[0m\u001b[37m\u001b[0m \u001b[1m120s\u001b[0m 80ms/step - loss: 0.5139 - sparse_categorical_accuracy: 0.5655\n",
            "Epoch 2/4\n",
            "\u001b[1m101/101\u001b[0m \u001b[32m━━━━━━━━━━━━━━━━━━━━\u001b[0m\u001b[37m\u001b[0m \u001b[1m8s\u001b[0m 80ms/step - loss: 0.3489 - sparse_categorical_accuracy: 0.6913\n",
            "Epoch 3/4\n",
            "\u001b[1m101/101\u001b[0m \u001b[32m━━━━━━━━━━━━━━━━━━━━\u001b[0m\u001b[37m\u001b[0m \u001b[1m8s\u001b[0m 79ms/step - loss: 0.3204 - sparse_categorical_accuracy: 0.7066\n",
            "Epoch 4/4\n",
            "\u001b[1m101/101\u001b[0m \u001b[32m━━━━━━━━━━━━━━━━━━━━\u001b[0m\u001b[37m\u001b[0m \u001b[1m8s\u001b[0m 79ms/step - loss: 0.2849 - sparse_categorical_accuracy: 0.7321\n",
            "CPU times: user 4min 46s, sys: 16.7 s, total: 5min 3s\n",
            "Wall time: 3min 16s\n"
          ]
        },
        {
          "output_type": "execute_result",
          "data": {
            "text/plain": [
              "<keras.src.callbacks.history.History at 0x7a6afff5c850>"
            ]
          },
          "metadata": {},
          "execution_count": 8
        }
      ]
    },
    {
      "cell_type": "code",
      "source": [
        "%%time\n",
        "template = \"{pre}\\n\\nQuestion:\\n{question}\\n\\nAnswer:\\n{answer}\"\n",
        "\n",
        "prompt = template.format(pre='''You are an AI assistant that can answer questions about ESSA.'''\n",
        "                            ''' ESSA stands for the Every Student Succeeds Act.''',\n",
        "                         question='What is ESSA?',\n",
        "                         answer='')\n",
        "completion = gemma_lm.generate(prompt, max_length=1024)\n",
        "response = completion.replace(prompt, \"\")\n",
        "display_chat(prompt, response)"
      ],
      "metadata": {
        "colab": {
          "base_uri": "https://localhost:8080/",
          "height": 368
        },
        "id": "LXnSYa2THplx",
        "outputId": "cd519c97-bcd5-470b-8155-7c71faa08a36"
      },
      "execution_count": 9,
      "outputs": [
        {
          "output_type": "stream",
          "name": "stdout",
          "text": [
            "CPU times: user 2min 4s, sys: 1.37 s, total: 2min 5s\n",
            "Wall time: 52.2 s\n"
          ]
        },
        {
          "output_type": "execute_result",
          "data": {
            "text/plain": [
              "<IPython.core.display.Markdown object>"
            ],
            "text/markdown": "<font size='+1' color='brown'>🙋‍♂️<blockquote>You are an AI assistant that can answer questions about ESSA. ESSA stands for the Every Student Succeeds Act.<br><br>Question:<br>What is ESSA?<br><br>Answer:<br></blockquote></font><font size='+1' color='teal'>🤖<blockquote>ESSA is the new federal education law that replaced No Child Left Behind. It gives more power to states and school districts to decide how students are educated. ESSA also requires schools to measure student progress in reading and math, but it doesn’t require schools to test students in science or social studies.</blockquote></font>"
          },
          "metadata": {},
          "execution_count": 9
        }
      ]
    },
    {
      "cell_type": "markdown",
      "source": [
        "# Evaluation\n",
        "* loss continues to go down and accuracy up\n",
        "* the response is still concise\n",
        "* let's continue to train more epochs to see what happens"
      ],
      "metadata": {
        "id": "1f02dt_ZH7yT"
      }
    },
    {
      "cell_type": "markdown",
      "source": [
        "# Fine-tune experiment 3 ( 4 more epochs )\n",
        "* LR = 2e-4 (from github gemma )\n",
        "* epochs = 8\n",
        "* bs = 1"
      ],
      "metadata": {
        "id": "B6pIwnPmIVsb"
      }
    },
    {
      "cell_type": "code",
      "source": [
        "%%time\n",
        "# load base model\n",
        "gemma_lm = keras_nlp.models.GemmaCausalLM.from_preset(\"gemma2_2b_en\")\n",
        "\n",
        "# enable for LORA tuning\n",
        "gemma_lm.backbone.enable_lora(rank=4)\n",
        "\n",
        "# set parameters and compile\n",
        "# Limit the input sequence length to X (to control memory usage).\n",
        "gemma_lm.preprocessor.sequence_length = 512\n",
        "# Use AdamW (a common optimizer for transformer models).\n",
        "optimizer = keras.optimizers.AdamW(\n",
        "    learning_rate=2e-4,\n",
        "    # I found this didn't do much - weight_decay=0.01,\n",
        ")\n",
        "# Exclude layernorm and bias terms from decay.\n",
        "# I found this didn't do much - optimizer.exclude_from_weight_decay(var_names=[\"bias\", \"scale\"])\n",
        "\n",
        "gemma_lm.compile(\n",
        "    loss=keras.losses.SparseCategoricalCrossentropy(from_logits=True),\n",
        "    optimizer=optimizer,\n",
        "    weighted_metrics=[keras.metrics.SparseCategoricalAccuracy()],\n",
        ")\n",
        "\n",
        "gemma_lm.fit(ft_all_data, epochs=8, batch_size=1)"
      ],
      "metadata": {
        "colab": {
          "base_uri": "https://localhost:8080/"
        },
        "id": "FvIDnyyJIMAf",
        "outputId": "e5cc55bd-c616-4bf9-ebf7-a0132c99b0ab"
      },
      "execution_count": 7,
      "outputs": [
        {
          "output_type": "stream",
          "name": "stdout",
          "text": [
            "Epoch 1/8\n",
            "\u001b[1m101/101\u001b[0m \u001b[32m━━━━━━━━━━━━━━━━━━━━\u001b[0m\u001b[37m\u001b[0m \u001b[1m118s\u001b[0m 80ms/step - loss: 0.5148 - sparse_categorical_accuracy: 0.5649\n",
            "Epoch 2/8\n",
            "\u001b[1m101/101\u001b[0m \u001b[32m━━━━━━━━━━━━━━━━━━━━\u001b[0m\u001b[37m\u001b[0m \u001b[1m8s\u001b[0m 79ms/step - loss: 0.3475 - sparse_categorical_accuracy: 0.6948\n",
            "Epoch 3/8\n",
            "\u001b[1m101/101\u001b[0m \u001b[32m━━━━━━━━━━━━━━━━━━━━\u001b[0m\u001b[37m\u001b[0m \u001b[1m8s\u001b[0m 80ms/step - loss: 0.3213 - sparse_categorical_accuracy: 0.7076\n",
            "Epoch 4/8\n",
            "\u001b[1m101/101\u001b[0m \u001b[32m━━━━━━━━━━━━━━━━━━━━\u001b[0m\u001b[37m\u001b[0m \u001b[1m8s\u001b[0m 79ms/step - loss: 0.2864 - sparse_categorical_accuracy: 0.7321\n",
            "Epoch 5/8\n",
            "\u001b[1m101/101\u001b[0m \u001b[32m━━━━━━━━━━━━━━━━━━━━\u001b[0m\u001b[37m\u001b[0m \u001b[1m8s\u001b[0m 79ms/step - loss: 0.2388 - sparse_categorical_accuracy: 0.7665\n",
            "Epoch 6/8\n",
            "\u001b[1m101/101\u001b[0m \u001b[32m━━━━━━━━━━━━━━━━━━━━\u001b[0m\u001b[37m\u001b[0m \u001b[1m8s\u001b[0m 80ms/step - loss: 0.1926 - sparse_categorical_accuracy: 0.8096\n",
            "Epoch 7/8\n",
            "\u001b[1m101/101\u001b[0m \u001b[32m━━━━━━━━━━━━━━━━━━━━\u001b[0m\u001b[37m\u001b[0m \u001b[1m8s\u001b[0m 80ms/step - loss: 0.1511 - sparse_categorical_accuracy: 0.8454\n",
            "Epoch 8/8\n",
            "\u001b[1m101/101\u001b[0m \u001b[32m━━━━━━━━━━━━━━━━━━━━\u001b[0m\u001b[37m\u001b[0m \u001b[1m8s\u001b[0m 79ms/step - loss: 0.1154 - sparse_categorical_accuracy: 0.8832\n",
            "CPU times: user 5min 16s, sys: 20 s, total: 5min 36s\n",
            "Wall time: 3min 48s\n"
          ]
        },
        {
          "output_type": "execute_result",
          "data": {
            "text/plain": [
              "<keras.src.callbacks.history.History at 0x7fa170df83d0>"
            ]
          },
          "metadata": {},
          "execution_count": 7
        }
      ]
    },
    {
      "cell_type": "code",
      "source": [
        "%%time\n",
        "template = \"{pre}\\n\\nQuestion:\\n{question}\\n\\nAnswer:\\n{answer}\"\n",
        "\n",
        "prompt = template.format(pre='''You are an AI assistant that can answer questions about ESSA.'''\n",
        "                            ''' ESSA stands for the Every Student Succeeds Act.''',\n",
        "                         question='What is ESSA?',\n",
        "                         answer='')\n",
        "completion = gemma_lm.generate(prompt, max_length=1024)\n",
        "response = completion.replace(prompt, \"\")\n",
        "display_chat(prompt, response)"
      ],
      "metadata": {
        "colab": {
          "base_uri": "https://localhost:8080/",
          "height": 368
        },
        "id": "oYozFUS2JuIP",
        "outputId": "4e2c228d-4585-480b-df42-398b42af2a60"
      },
      "execution_count": null,
      "outputs": [
        {
          "output_type": "stream",
          "name": "stdout",
          "text": [
            "CPU times: user 1min 59s, sys: 1.23 s, total: 2min\n",
            "Wall time: 50.1 s\n"
          ]
        },
        {
          "output_type": "execute_result",
          "data": {
            "text/plain": [
              "<IPython.core.display.Markdown object>"
            ],
            "text/markdown": "<font size='+1' color='brown'>🙋‍♂️<blockquote>You are an AI assistant that can answer questions about ESSA. ESSA stands for the Every Student Succeeds Act.<br><br>Question:<br>What is ESSA?<br><br>Answer:<br></blockquote></font><font size='+1' color='teal'>🤖<blockquote>ESSA is the law that replaced No Child Left Behind. It gives states more control over education policy and allows them to tailor those policies to local needs.</blockquote></font>"
          },
          "metadata": {},
          "execution_count": 9
        }
      ]
    },
    {
      "cell_type": "markdown",
      "source": [
        "# Evaluation\n",
        "* Not sure it's getting any different\n",
        "* But let's keep going for science sake"
      ],
      "metadata": {
        "id": "RB0W1YA7KwoA"
      }
    },
    {
      "cell_type": "markdown",
      "source": [
        "# Fine-tune experiment 4 ( 8 more epochs )\n",
        "* LR = 2e-4 (from github gemma )\n",
        "* epochs = 16\n",
        "* bs = 1"
      ],
      "metadata": {
        "id": "GLkZ3pXVKKWr"
      }
    },
    {
      "cell_type": "code",
      "source": [
        "%%time\n",
        "# load base model\n",
        "gemma_lm = keras_nlp.models.GemmaCausalLM.from_preset(\"gemma2_2b_en\")\n",
        "\n",
        "# enable for LORA tuning\n",
        "gemma_lm.backbone.enable_lora(rank=4)\n",
        "\n",
        "# set parameters and compile\n",
        "# Limit the input sequence length to X (to control memory usage).\n",
        "gemma_lm.preprocessor.sequence_length = 512\n",
        "# Use AdamW (a common optimizer for transformer models).\n",
        "optimizer = keras.optimizers.AdamW(\n",
        "    learning_rate=2e-4,\n",
        "    # I found this didn't do much - weight_decay=0.01,\n",
        ")\n",
        "# Exclude layernorm and bias terms from decay.\n",
        "# I found this didn't do much - optimizer.exclude_from_weight_decay(var_names=[\"bias\", \"scale\"])\n",
        "\n",
        "gemma_lm.compile(\n",
        "    loss=keras.losses.SparseCategoricalCrossentropy(from_logits=True),\n",
        "    optimizer=optimizer,\n",
        "    weighted_metrics=[keras.metrics.SparseCategoricalAccuracy()],\n",
        ")\n",
        "\n",
        "gemma_lm.fit(ft_all_data, epochs=16, batch_size=1)"
      ],
      "metadata": {
        "colab": {
          "base_uri": "https://localhost:8080/"
        },
        "id": "1TcltgswKO-Y",
        "outputId": "5d55f845-c4e7-4f94-c8b0-8379d23938c3"
      },
      "execution_count": 10,
      "outputs": [
        {
          "output_type": "stream",
          "name": "stdout",
          "text": [
            "Epoch 1/16\n",
            "\u001b[1m101/101\u001b[0m \u001b[32m━━━━━━━━━━━━━━━━━━━━\u001b[0m\u001b[37m\u001b[0m \u001b[1m117s\u001b[0m 79ms/step - loss: 0.5142 - sparse_categorical_accuracy: 0.5642\n",
            "Epoch 2/16\n",
            "\u001b[1m101/101\u001b[0m \u001b[32m━━━━━━━━━━━━━━━━━━━━\u001b[0m\u001b[37m\u001b[0m \u001b[1m8s\u001b[0m 79ms/step - loss: 0.3485 - sparse_categorical_accuracy: 0.6934\n",
            "Epoch 3/16\n",
            "\u001b[1m101/101\u001b[0m \u001b[32m━━━━━━━━━━━━━━━━━━━━\u001b[0m\u001b[37m\u001b[0m \u001b[1m8s\u001b[0m 79ms/step - loss: 0.3214 - sparse_categorical_accuracy: 0.7072\n",
            "Epoch 4/16\n",
            "\u001b[1m101/101\u001b[0m \u001b[32m━━━━━━━━━━━━━━━━━━━━\u001b[0m\u001b[37m\u001b[0m \u001b[1m8s\u001b[0m 79ms/step - loss: 0.2862 - sparse_categorical_accuracy: 0.7321\n",
            "Epoch 5/16\n",
            "\u001b[1m101/101\u001b[0m \u001b[32m━━━━━━━━━━━━━━━━━━━━\u001b[0m\u001b[37m\u001b[0m \u001b[1m8s\u001b[0m 79ms/step - loss: 0.2388 - sparse_categorical_accuracy: 0.7657\n",
            "Epoch 6/16\n",
            "\u001b[1m101/101\u001b[0m \u001b[32m━━━━━━━━━━━━━━━━━━━━\u001b[0m\u001b[37m\u001b[0m \u001b[1m8s\u001b[0m 79ms/step - loss: 0.1926 - sparse_categorical_accuracy: 0.8081\n",
            "Epoch 7/16\n",
            "\u001b[1m101/101\u001b[0m \u001b[32m━━━━━━━━━━━━━━━━━━━━\u001b[0m\u001b[37m\u001b[0m \u001b[1m8s\u001b[0m 79ms/step - loss: 0.1492 - sparse_categorical_accuracy: 0.8501\n",
            "Epoch 8/16\n",
            "\u001b[1m101/101\u001b[0m \u001b[32m━━━━━━━━━━━━━━━━━━━━\u001b[0m\u001b[37m\u001b[0m \u001b[1m8s\u001b[0m 79ms/step - loss: 0.1225 - sparse_categorical_accuracy: 0.8736\n",
            "Epoch 9/16\n",
            "\u001b[1m101/101\u001b[0m \u001b[32m━━━━━━━━━━━━━━━━━━━━\u001b[0m\u001b[37m\u001b[0m \u001b[1m8s\u001b[0m 79ms/step - loss: 0.0853 - sparse_categorical_accuracy: 0.9100\n",
            "Epoch 10/16\n",
            "\u001b[1m101/101\u001b[0m \u001b[32m━━━━━━━━━━━━━━━━━━━━\u001b[0m\u001b[37m\u001b[0m \u001b[1m8s\u001b[0m 79ms/step - loss: 0.0617 - sparse_categorical_accuracy: 0.9343\n",
            "Epoch 11/16\n",
            "\u001b[1m101/101\u001b[0m \u001b[32m━━━━━━━━━━━━━━━━━━━━\u001b[0m\u001b[37m\u001b[0m \u001b[1m8s\u001b[0m 79ms/step - loss: 0.0479 - sparse_categorical_accuracy: 0.9503\n",
            "Epoch 12/16\n",
            "\u001b[1m101/101\u001b[0m \u001b[32m━━━━━━━━━━━━━━━━━━━━\u001b[0m\u001b[37m\u001b[0m \u001b[1m8s\u001b[0m 79ms/step - loss: 0.0379 - sparse_categorical_accuracy: 0.9637\n",
            "Epoch 13/16\n",
            "\u001b[1m101/101\u001b[0m \u001b[32m━━━━━━━━━━━━━━━━━━━━\u001b[0m\u001b[37m\u001b[0m \u001b[1m8s\u001b[0m 79ms/step - loss: 0.0304 - sparse_categorical_accuracy: 0.9721\n",
            "Epoch 14/16\n",
            "\u001b[1m101/101\u001b[0m \u001b[32m━━━━━━━━━━━━━━━━━━━━\u001b[0m\u001b[37m\u001b[0m \u001b[1m8s\u001b[0m 79ms/step - loss: 0.0248 - sparse_categorical_accuracy: 0.9771\n",
            "Epoch 15/16\n",
            "\u001b[1m101/101\u001b[0m \u001b[32m━━━━━━━━━━━━━━━━━━━━\u001b[0m\u001b[37m\u001b[0m \u001b[1m8s\u001b[0m 79ms/step - loss: 0.0207 - sparse_categorical_accuracy: 0.9804\n",
            "Epoch 16/16\n",
            "\u001b[1m101/101\u001b[0m \u001b[32m━━━━━━━━━━━━━━━━━━━━\u001b[0m\u001b[37m\u001b[0m \u001b[1m8s\u001b[0m 79ms/step - loss: 0.0173 - sparse_categorical_accuracy: 0.9827\n",
            "CPU times: user 6min 20s, sys: 26.6 s, total: 6min 47s\n",
            "Wall time: 4min 36s\n"
          ]
        },
        {
          "output_type": "execute_result",
          "data": {
            "text/plain": [
              "<keras.src.callbacks.history.History at 0x7b45903dcc10>"
            ]
          },
          "metadata": {},
          "execution_count": 10
        }
      ]
    },
    {
      "cell_type": "code",
      "source": [
        "%%time\n",
        "template = \"{pre}\\n\\nQuestion:\\n{question}\\n\\nAnswer:\\n{answer}\"\n",
        "\n",
        "prompt = template.format(pre='''You are an AI assistant that can answer questions about ESSA.'''\n",
        "                            ''' ESSA stands for the Every Student Succeeds Act.''',\n",
        "                         question='What is ESSA?',\n",
        "                         answer='')\n",
        "completion = gemma_lm.generate(prompt, max_length=1024)\n",
        "response = completion.replace(prompt, \"\")\n",
        "display_chat(prompt, response)"
      ],
      "metadata": {
        "colab": {
          "base_uri": "https://localhost:8080/",
          "height": 324
        },
        "id": "CtXNI-GGMC-y",
        "outputId": "083b281c-a292-4d14-e89e-6c3c4a3642f9"
      },
      "execution_count": 11,
      "outputs": [
        {
          "output_type": "stream",
          "name": "stdout",
          "text": [
            "CPU times: user 2min, sys: 1.11 s, total: 2min 1s\n",
            "Wall time: 50.4 s\n"
          ]
        },
        {
          "output_type": "execute_result",
          "data": {
            "text/plain": [
              "<IPython.core.display.Markdown object>"
            ],
            "text/markdown": "<font size='+1' color='brown'>🙋‍♂️<blockquote>You are an AI assistant that can answer questions about ESSA. ESSA stands for the Every Student Succeeds Act.<br><br>Question:<br>What is ESSA?<br><br>Answer:<br></blockquote></font><font size='+1' color='teal'>🤖<blockquote>ESSA is a law passed in 2015 that allows the U.S. Government to fund educational programs with taxpayer money.</blockquote></font>"
          },
          "metadata": {},
          "execution_count": 11
        }
      ]
    },
    {
      "cell_type": "markdown",
      "source": [
        "# Evaluation\n",
        "* Seems possibly a bit too concise\n",
        "* It seems we've nearly satured on loss and accuracy so let's stop here\n",
        "* At this point, we should now try some harder prompts looking for issues with factual accuracy"
      ],
      "metadata": {
        "id": "7PYEGnzBMYUp"
      }
    },
    {
      "cell_type": "code",
      "source": [
        "%%time\n",
        "template = \"{pre}\\n\\nQuestion:\\n{question}\\n\\nAnswer:\\n{answer}\"\n",
        "\n",
        "prompt = template.format(pre='''You are an AI assistant that can answer questions about ESSA.'''\n",
        "                            ''' ESSA stands for the Every Student Succeeds Act.''',\n",
        "                         question='Does my state still have to test 95 percent of its students?',\n",
        "                         answer='')\n",
        "completion = gemma_lm.generate(prompt, max_length=1024)\n",
        "response = completion.replace(prompt, \"\")\n",
        "display_chat(prompt, response)"
      ],
      "metadata": {
        "colab": {
          "base_uri": "https://localhost:8080/",
          "height": 413
        },
        "id": "mlkbm548MrX0",
        "outputId": "04f232bc-7809-4e99-fd55-ed77941a62f7"
      },
      "execution_count": null,
      "outputs": [
        {
          "output_type": "stream",
          "name": "stdout",
          "text": [
            "CPU times: user 1.02 s, sys: 1.17 ms, total: 1.02 s\n",
            "Wall time: 1.01 s\n"
          ]
        },
        {
          "output_type": "execute_result",
          "data": {
            "text/plain": [
              "<IPython.core.display.Markdown object>"
            ],
            "text/markdown": "<font size='+1' color='brown'>🙋‍♂️<blockquote>You are an AI assistant that can answer questions about ESSA. ESSA stands for the Every Student Succeeds Act.<br><br>Question:<br>Does my state still have to test 95 percent of its students?<br><br>Answer:<br></blockquote></font><font size='+1' color='teal'>🤖<blockquote>No. ESSA eliminated the “unmet needs” provision that forced states to test all students, even those in small, rural schools with limited resources. ESSA also eliminated the “unmet needs” provision that forced states to test 95 percent of students in order to be in compliance with the law.</blockquote></font>"
          },
          "metadata": {},
          "execution_count": 9
        }
      ]
    },
    {
      "cell_type": "markdown",
      "source": [
        "# Evaluation\n",
        "* Well, its a nicely formatted response but it's wrong according to the dataset!\n",
        "* Let's \"fake\" RAG contextual fact to see if it gives the right response"
      ],
      "metadata": {
        "id": "kWwchSUvNahC"
      }
    },
    {
      "cell_type": "code",
      "source": [
        "%%time\n",
        "template = \"{pre}\\n\\nContext:\\n{context}\\n\\nQuestion:\\n{question}\\n\\nAnswer:\\n{answer}\"\n",
        "\n",
        "prompt = template.format(pre='''You are an AI assistant that can answer questions about ESSA.'''\n",
        "                            ''' ESSA stands for the Every Student Succeeds Act.'''\n",
        "                            ''' Use the following context to answer the question below.''',\n",
        "                         context='''ESSA requires that a state’s accountability system must measure the performance of '''\n",
        "                                 '''95 percent of students by looking at a variety of indicators. One of the indicators '''\n",
        "                                 '''is “academic achievement as measured by proficiency on the annual assessments.” '''\n",
        "                                 '''For this reason, in order to measure the overall achievement of 95 percent of students, '''\n",
        "                                 '''95 percent must take the annual assessments.''',\n",
        "                         question='Does my state still have to test 95 percent of its students?',\n",
        "                         answer='')\n",
        "completion = gemma_lm.generate(prompt, max_length=1024)\n",
        "response = completion.replace(prompt, \"\")\n",
        "display_chat(prompt, response)"
      ],
      "metadata": {
        "colab": {
          "base_uri": "https://localhost:8080/",
          "height": 502
        },
        "id": "TF55QKsMNw8j",
        "outputId": "573d0fbd-ee19-40f8-f665-f79d039aaf4b"
      },
      "execution_count": null,
      "outputs": [
        {
          "output_type": "stream",
          "name": "stdout",
          "text": [
            "CPU times: user 118 ms, sys: 0 ns, total: 118 ms\n",
            "Wall time: 117 ms\n"
          ]
        },
        {
          "output_type": "execute_result",
          "data": {
            "text/plain": [
              "<IPython.core.display.Markdown object>"
            ],
            "text/markdown": "<font size='+1' color='brown'>🙋‍♂️<blockquote>You are an AI assistant that can answer questions about ESSA. ESSA stands for the Every Student Succeeds Act. Use the following context to answer the question below.<br><br>Context:<br>ESSA requires that a state’s accountability system must measure the performance of 95 percent of students by looking at a variety of indicators. One of the indicators is “academic achievement as measured by proficiency on the annual assessments.” For this reason, in order to measure the overall achievement of 95 percent of students, 95 percent must take the annual assessments.<br><br>Question:<br>Does my state still have to test 95 percent of its students?<br><br>Answer:<br></blockquote></font><font size='+1' color='teal'>🤖<blockquote>Yes</blockquote></font>"
          },
          "metadata": {},
          "execution_count": 10
        }
      ]
    },
    {
      "cell_type": "markdown",
      "source": [
        "# Evaluation\n",
        "* Cool, it got the answer right by \"understanding\" the provided context!!\n",
        "* And it's a very concise response\n",
        "* As sort of a sanity check, lets try the exact same \"with-fact-as-context\" query using Gemm2 instruction tuned (ie, not fine tuned on our dataset)"
      ],
      "metadata": {
        "id": "5mU1mt-dOGZD"
      }
    },
    {
      "cell_type": "code",
      "source": [
        "%%time\n",
        "gemma_lm = keras_nlp.models.GemmaCausalLM.from_preset(\"gemma2_instruct_2b_en\")\n"
      ],
      "metadata": {
        "colab": {
          "base_uri": "https://localhost:8080/"
        },
        "id": "tqgiJb6aOaDV",
        "outputId": "89d02004-c606-46db-8103-3d2f84dfc27f"
      },
      "execution_count": null,
      "outputs": [
        {
          "output_type": "stream",
          "name": "stdout",
          "text": [
            "CPU times: user 10.8 s, sys: 9.71 s, total: 20.5 s\n",
            "Wall time: 51 s\n"
          ]
        }
      ]
    },
    {
      "cell_type": "code",
      "source": [
        "%%time\n",
        "template = \"{pre}\\n\\nContext:\\n{context}\\n\\nQuestion:\\n{question}\\n\\nAnswer:\\n{answer}\"\n",
        "\n",
        "prompt = template.format(pre='''You are an AI assistant that can answer questions about ESSA.'''\n",
        "                            ''' ESSA stands for the Every Student Succeeds Act.'''\n",
        "                            ''' Use the following context to answer the question below.''',\n",
        "                         context='''ESSA requires that a state’s accountability system must measure the performance of '''\n",
        "                                 '''95 percent of students by looking at a variety of indicators. One of the indicators '''\n",
        "                                 '''is “academic achievement as measured by proficiency on the annual assessments.” '''\n",
        "                                 '''For this reason, in order to measure the overall achievement of 95 percent of students, '''\n",
        "                                 '''95 percent must take the annual assessments.''',\n",
        "                         question='Does my state still have to test 95 percent of its students?',\n",
        "                         answer='')\n",
        "completion = gemma_lm.generate(prompt, max_length=1024)\n",
        "response = completion.replace(prompt, \"\")\n",
        "display_chat(prompt, response)"
      ],
      "metadata": {
        "colab": {
          "base_uri": "https://localhost:8080/",
          "height": 725
        },
        "id": "W9BhVQdsPLE7",
        "outputId": "2a0ad055-7690-46e2-85a0-4db61986e53e"
      },
      "execution_count": null,
      "outputs": [
        {
          "output_type": "stream",
          "name": "stdout",
          "text": [
            "CPU times: user 2min 2s, sys: 1.65 s, total: 2min 3s\n",
            "Wall time: 52.3 s\n"
          ]
        },
        {
          "output_type": "execute_result",
          "data": {
            "text/plain": [
              "<IPython.core.display.Markdown object>"
            ],
            "text/markdown": "<font size='+1' color='brown'>🙋‍♂️<blockquote>You are an AI assistant that can answer questions about ESSA. ESSA stands for the Every Student Succeeds Act. Use the following context to answer the question below.<br><br>Context:<br>ESSA requires that a state’s accountability system must measure the performance of 95 percent of students by looking at a variety of indicators. One of the indicators is “academic achievement as measured by proficiency on the annual assessments.” For this reason, in order to measure the overall achievement of 95 percent of students, 95 percent must take the annual assessments.<br><br>Question:<br>Does my state still have to test 95 percent of its students?<br><br>Answer:<br></blockquote></font><font size='+1' color='teal'>🤖<blockquote>Yes, ESSA requires that a state’s accountability system must measure the performance of 95 percent of students by looking at a variety of indicators. One of the indicators is “academic achievement as measured by proficiency on the annual assessments.” For this reason, in order to measure the overall achievement of 95 percent of students, 95 percent must take the annual assessments. <br><br><br>**Explanation:**<br><br>The answer is yes because the context explicitly states that ESSA requires states to test 95% of students. <br><end_of_turn></blockquote></font>"
          },
          "metadata": {},
          "execution_count": 8
        }
      ]
    },
    {
      "cell_type": "markdown",
      "source": [
        "# Evaluation\n",
        "* interesting that the Gemma2 instruct model (not fine-tuned on the dataset) also gets the answer right\n",
        "* that said, it also adds a bit more extra details and even explanation (which may not be desired for the chatbot)"
      ],
      "metadata": {
        "id": "yImustsFPpwb"
      }
    },
    {
      "cell_type": "code",
      "source": [],
      "metadata": {
        "id": "qv77nRSkP558"
      },
      "execution_count": null,
      "outputs": []
    }
  ]
}