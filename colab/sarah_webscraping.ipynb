{
  "nbformat": 4,
  "nbformat_minor": 0,
  "metadata": {
    "colab": {
      "provenance": [],
      "authorship_tag": "ABX9TyP2NZ0yRphMHS71OkmAAGEm",
      "include_colab_link": true
    },
    "kernelspec": {
      "name": "python3",
      "display_name": "Python 3"
    },
    "language_info": {
      "name": "python"
    }
  },
  "cells": [
    {
      "cell_type": "markdown",
      "metadata": {
        "id": "view-in-github",
        "colab_type": "text"
      },
      "source": [
        "<a href=\"https://colab.research.google.com/github/sourcesync/kagglex_gemma/blob/gw%2Finitial/colab/sarah_webscraping.ipynb\" target=\"_parent\"><img src=\"https://colab.research.google.com/assets/colab-badge.svg\" alt=\"Open In Colab\"/></a>"
      ]
    },
    {
      "cell_type": "markdown",
      "source": [
        "# This notebook demonstrates:\n",
        "* web scraping via BeautifulSoup on challenging examples"
      ],
      "metadata": {
        "id": "kktSIjsAlhmA"
      }
    },
    {
      "cell_type": "markdown",
      "source": [
        "# Install required packages"
      ],
      "metadata": {
        "id": "FfTkFJaJlqyc"
      }
    },
    {
      "cell_type": "code",
      "source": [
        "!pip install beautifulsoup4"
      ],
      "metadata": {
        "colab": {
          "base_uri": "https://localhost:8080/"
        },
        "id": "ibn9EZb3lpv1",
        "outputId": "d547db32-fbec-489d-e282-ef09d4437ab4"
      },
      "execution_count": 1,
      "outputs": [
        {
          "output_type": "stream",
          "name": "stdout",
          "text": [
            "Requirement already satisfied: beautifulsoup4 in /usr/local/lib/python3.10/dist-packages (4.12.3)\n",
            "Requirement already satisfied: soupsieve>1.2 in /usr/local/lib/python3.10/dist-packages (from beautifulsoup4) (2.6)\n"
          ]
        }
      ]
    },
    {
      "cell_type": "markdown",
      "source": [
        "# Import required packages"
      ],
      "metadata": {
        "id": "eG5ql6Iol1aP"
      }
    },
    {
      "cell_type": "code",
      "source": [
        "from bs4 import BeautifulSoup\n",
        "import requests\n",
        "import pandas as pd\n",
        "import pprint\n",
        "import lxml.etree as etree"
      ],
      "metadata": {
        "id": "s2G9wdZhl3HL"
      },
      "execution_count": 10,
      "outputs": []
    },
    {
      "cell_type": "markdown",
      "source": [
        "# Scrape challenging example from w-engines\n",
        "* https://www.prydwen.gg/zenless/w-engines/"
      ],
      "metadata": {
        "id": "I2QZVAP4l8Ht"
      }
    },
    {
      "cell_type": "code",
      "source": [
        "%%time\n",
        "\n",
        "url = \"https://www.prydwen.gg/zenless/w-engines/\"\n",
        "\n",
        "engines_request = requests.get(url)\n",
        "\n",
        "soup = BeautifulSoup(engines_request.content, 'html.parser')\n",
        "\n",
        "results = soup.find(id=\"___gatsby\")\n",
        "\n",
        "engine_elements = results.find_all(\"div\", class_=\"zzz-engine\")\n",
        "\n",
        "print(len(engine_elements))\n",
        "\n",
        "bs = BeautifulSoup(str(engine_elements[0]), 'xml')\n",
        "pretty_xml = bs.prettify()\n",
        "print(pretty_xml)"
      ],
      "metadata": {
        "colab": {
          "base_uri": "https://localhost:8080/"
        },
        "id": "xnQR6fBCmBbi",
        "outputId": "d7e8121f-a2c0-4e2c-a78a-1009cb8e0cac"
      },
      "execution_count": 25,
      "outputs": [
        {
          "output_type": "stream",
          "name": "stdout",
          "text": [
            "50\n",
            "<?xml version=\"1.0\" encoding=\"utf-8\"?>\n",
            "<div class=\"zzz-engine\">\n",
            " <div class=\"zzz-engine-header\">\n",
            "  <div class=\"zzz-icon rarity-S\">\n",
            "   <div class=\"gatsby-image-wrapper gatsby-image-wrapper-constrained disable-transition\" data-gatsby-image-wrapper=\"\">\n",
            "    <div style=\"max-width:256px;display:block\">\n",
            "     <img alt=\"\" aria-hidden=\"true\" role=\"presentation\" src=\"data:image/svg+xml;charset=utf-8,%3Csvg height='256' width='256' xmlns='http://www.w3.org/2000/svg' version='1.1'%3E%3C/svg%3E\" style=\"max-width:100%;display:block;position:static\"/>\n",
            "    </div>\n",
            "    <div aria-hidden=\"true\" data-placeholder-image=\"\" style=\"opacity:1;transition:opacity 500ms linear;background-color:#080808;position:absolute;top:0;left:0;bottom:0;right:0\"/>\n",
            "    <picture>\n",
            "     <source data-srcset=\"/static/1caa98f79cd184e88b1621ec66c0f794/8257c/Deep_Sea_Visitor.webp 64w,/static/1caa98f79cd184e88b1621ec66c0f794/6766a/Deep_Sea_Visitor.webp 128w,/static/1caa98f79cd184e88b1621ec66c0f794/22bfc/Deep_Sea_Visitor.webp 256w\" sizes=\"(min-width: 256px) 256px, 100vw\" type=\"image/webp\"/>\n",
            "     <img alt=\"Deep Sea Visitor\" data-gatsby-image-ssr=\"\" data-main-image=\"\" data-src=\"/static/1caa98f79cd184e88b1621ec66c0f794/acb7c/Deep_Sea_Visitor.png\" data-srcset=\"/static/1caa98f79cd184e88b1621ec66c0f794/1c9ce/Deep_Sea_Visitor.png 64w,/static/1caa98f79cd184e88b1621ec66c0f794/bf8e1/Deep_Sea_Visitor.png 128w,/static/1caa98f79cd184e88b1621ec66c0f794/acb7c/Deep_Sea_Visitor.png 256w\" decoding=\"async\" loading=\"lazy\" sizes=\"(min-width: 256px) 256px, 100vw\" style=\"opacity:0\"/>\n",
            "    </picture>\n",
            "    <noscript>\n",
            "     <picture>\n",
            "      <source sizes=\"(min-width: 256px) 256px, 100vw\" srcset=\"/static/1caa98f79cd184e88b1621ec66c0f794/8257c/Deep_Sea_Visitor.webp 64w,/static/1caa98f79cd184e88b1621ec66c0f794/6766a/Deep_Sea_Visitor.webp 128w,/static/1caa98f79cd184e88b1621ec66c0f794/22bfc/Deep_Sea_Visitor.webp 256w\" type=\"image/webp\"/>\n",
            "      <img alt=\"Deep Sea Visitor\" data-gatsby-image-ssr=\"\" data-main-image=\"\" decoding=\"async\" loading=\"lazy\" sizes=\"(min-width: 256px) 256px, 100vw\" src=\"/static/1caa98f79cd184e88b1621ec66c0f794/acb7c/Deep_Sea_Visitor.png\" srcset=\"/static/1caa98f79cd184e88b1621ec66c0f794/1c9ce/Deep_Sea_Visitor.png 64w,/static/1caa98f79cd184e88b1621ec66c0f794/bf8e1/Deep_Sea_Visitor.png 128w,/static/1caa98f79cd184e88b1621ec66c0f794/acb7c/Deep_Sea_Visitor.png 256w\" style=\"opacity:0\"/>\n",
            "     </picture>\n",
            "    </noscript>\n",
            "    <script type=\"module\">\n",
            "     const t=\"undefined\"!=typeof HTMLImageElement\"loading\"in HTMLImageElement.prototype;if(t){const t=document.querySelectorAll(\"img[data-main-image]\");for(let e of t){e.dataset.src(e.setAttribute(\"src\",e.dataset.src),e.removeAttribute(\"data-src\")),e.dataset.srcset(e.setAttribute(\"srcset\",e.dataset.srcset),e.removeAttribute(\"data-srcset\"));const t=e.parentNode.querySelectorAll(\"source[data-srcset]\");for(let e of t)e.setAttribute(\"srcset\",e.dataset.srcset),e.removeAttribute(\"data-srcset\");e.complete(e.style.opacity=1,e.parentNode.parentNode.querySelector(\"[data-placeholder-image]\").style.opacity=0)}}\n",
            "    </script>\n",
            "   </div>\n",
            "  </div>\n",
            "  <div class=\"zzz-info\">\n",
            "   <div>\n",
            "    <h5>\n",
            "     Deep Sea Visitor\n",
            "     <!-- -->\n",
            "     <!-- -->\n",
            "    </h5>\n",
            "    <p>\n",
            "     Rarity:\n",
            "     <!-- -->\n",
            "     <!-- -->\n",
            "     <strong class=\"rarity-S\">\n",
            "      S\n",
            "     </strong>\n",
            "     <!-- -->\n",
            "     | Type:\n",
            "     <!-- -->\n",
            "     <!-- -->\n",
            "     <strong class=\"type Attack\">\n",
            "      Attack\n",
            "     </strong>\n",
            "    </p>\n",
            "   </div>\n",
            "  </div>\n",
            " </div>\n",
            " <div class=\"zzz-engine-content\">\n",
            "  <div class=\"description Ice\">\n",
            "   <div>\n",
            "    <p>\n",
            "     Increases\n",
            "     <!-- -->\n",
            "     <u>\n",
            "      Ice DMG\n",
            "     </u>\n",
            "     by\n",
            "     <!-- -->\n",
            "     <b>\n",
            "      25/31.5/38/44.5/50%\n",
            "     </b>\n",
            "     . Upon hitting an enemy with a Basic Attack, the equipper's CRIT Rate increases by\n",
            "     <!-- -->\n",
            "     <b>\n",
            "      10/12.5.15/17.5/20%\n",
            "     </b>\n",
            "     for\n",
            "     <!-- -->\n",
            "     <b>\n",
            "      8s\n",
            "     </b>\n",
            "     . When dealing\n",
            "     <!-- -->\n",
            "     <u>\n",
            "      Ice DMG\n",
            "     </u>\n",
            "     with a\n",
            "     <!-- -->\n",
            "     <b>\n",
            "     </b>\n",
            "     Dash Attack, the equipper's CRIT Rate increases by an additional\n",
            "     <!-- -->\n",
            "     <b>\n",
            "      10/12.5.15/17.5/20%\n",
            "     </b>\n",
            "     for\n",
            "     <!-- -->\n",
            "     <b>\n",
            "      15s\n",
            "     </b>\n",
            "     . The duration of each effect is calculated separately.\n",
            "     <!-- -->\n",
            "    </p>\n",
            "   </div>\n",
            "  </div>\n",
            " </div>\n",
            " <div class=\"stats\">\n",
            "  <div class=\"stat\">\n",
            "   <div>\n",
            "    <span class=\"name\">\n",
            "     Base ATK (Lv 60):\n",
            "    </span>\n",
            "    <!-- -->\n",
            "    <span class=\"value\">\n",
            "     713\n",
            "    </span>\n",
            "   </div>\n",
            "  </div>\n",
            "  <div class=\"stat\">\n",
            "   <div>\n",
            "    <span class=\"name\">\n",
            "     Crit Rate\n",
            "     <!-- -->\n",
            "     (Lv 60):\n",
            "     <!-- -->\n",
            "    </span>\n",
            "    <!-- -->\n",
            "    <span class=\"value\">\n",
            "     24%\n",
            "    </span>\n",
            "   </div>\n",
            "  </div>\n",
            " </div>\n",
            "</div>\n",
            "\n",
            "CPU times: user 135 ms, sys: 4.74 ms, total: 140 ms\n",
            "Wall time: 393 ms\n"
          ]
        }
      ]
    },
    {
      "cell_type": "markdown",
      "source": [
        "# Parse the Attribute and Value field for each engine"
      ],
      "metadata": {
        "id": "fa2GQrNAp32g"
      }
    },
    {
      "cell_type": "code",
      "source": [
        "for engine in engine_elements:\n",
        "  #print(\"engine=\",engine)\n",
        "  description = engine.select_one('div .zzz-engine-content')\n",
        "  #print(\"description=\", description)\n",
        "  name = description.select_one('u')\n",
        "  if not name: continue # Not sure why we need to check this (?)\n",
        "  print(name.text)\n",
        "  # get stats for this engine\n",
        "  stats = engine.select('div .stats')\n",
        "  if len(stats)!=1: # we only expect 1 stats element per engine (?)\n",
        "    print(\"Could not find 1 stats element\")\n",
        "    continue\n",
        "  critparent = stats[0].select_one('.stat:nth-child(2)')\n",
        "  #print(\"critparent=\", critparent)\n",
        "  attr = critparent.select_one('div .name')\n",
        "  print(\"\\tattr=\", crit.text)\n",
        "  val = critparent.select_one('div .value')\n",
        "  print(\"\\tvalue=\", val.text)\n",
        ""
      ],
      "metadata": {
        "colab": {
          "base_uri": "https://localhost:8080/"
        },
        "id": "zL2SMiS6plrP",
        "outputId": "29648cdd-68c2-4fc2-ea79-ae3da5a45176"
      },
      "execution_count": 98,
      "outputs": [
        {
          "output_type": "stream",
          "name": "stdout",
          "text": [
            "Ice DMG\n",
            "\tattr= Energy Regen (Lv 60):\n",
            "\tvalue= 24%\n",
            "Ether DMG\n",
            "\tattr= Energy Regen (Lv 60):\n",
            "\tvalue= 48%\n",
            "Physical DMG\n",
            "\tattr= Energy Regen (Lv 60):\n",
            "\tvalue= 90\n",
            "Physical DMG\n",
            "\tattr= Energy Regen (Lv 60):\n",
            "\tvalue= 24%\n",
            "Ice DMG\n",
            "\tattr= Energy Regen (Lv 60):\n",
            "\tvalue= 25%\n",
            "Electric DMG\n",
            "\tattr= Energy Regen (Lv 60):\n",
            "\tvalue= 15%\n",
            "Electric DMG\n",
            "\tattr= Energy Regen (Lv 60):\n",
            "\tvalue= 50%\n",
            "Physical DMG\n",
            "\tattr= Energy Regen (Lv 60):\n",
            "\tvalue= 25%\n",
            "Physical DMG\n",
            "\tattr= Energy Regen (Lv 60):\n",
            "\tvalue= 25%\n",
            "Ether DMG\n",
            "\tattr= Energy Regen (Lv 60):\n",
            "\tvalue= 50%\n"
          ]
        }
      ]
    }
  ]
}