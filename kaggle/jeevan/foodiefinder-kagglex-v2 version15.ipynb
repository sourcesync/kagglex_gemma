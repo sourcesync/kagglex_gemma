{
 "cells": [
  {
   "cell_type": "code",
   "execution_count": 1,
   "id": "36dd984b",
   "metadata": {
    "execution": {
     "iopub.execute_input": "2024-09-29T02:23:43.211208Z",
     "iopub.status.busy": "2024-09-29T02:23:43.210718Z",
     "iopub.status.idle": "2024-09-29T02:23:44.092880Z",
     "shell.execute_reply": "2024-09-29T02:23:44.091829Z"
    },
    "papermill": {
     "duration": 0.894521,
     "end_time": "2024-09-29T02:23:44.095482",
     "exception": false,
     "start_time": "2024-09-29T02:23:43.200961",
     "status": "completed"
    },
    "tags": []
   },
   "outputs": [
    {
     "name": "stdout",
     "output_type": "stream",
     "text": [
      "/kaggle/input/gemma/keras/gemma_2b_en/2/config.json\n",
      "/kaggle/input/gemma/keras/gemma_2b_en/2/tokenizer.json\n",
      "/kaggle/input/gemma/keras/gemma_2b_en/2/metadata.json\n",
      "/kaggle/input/gemma/keras/gemma_2b_en/2/model.weights.h5\n",
      "/kaggle/input/gemma/keras/gemma_2b_en/2/assets/tokenizer/vocabulary.spm\n",
      "/kaggle/input/qa-dataset-foodie-finder/qa_pairs_df.csv\n"
     ]
    }
   ],
   "source": [
    "# This Python 3 environment comes with many helpful analytics libraries installed\n",
    "# It is defined by the kaggle/python Docker image: https://github.com/kaggle/docker-python\n",
    "# For example, here's several helpful packages to load\n",
    "\n",
    "import numpy as np # linear algebra\n",
    "import pandas as pd # data processing, CSV file I/O (e.g. pd.read_csv)\n",
    "\n",
    "# Input data files are available in the read-only \"../input/\" directory\n",
    "# For example, running this (by clicking run or pressing Shift+Enter) will list all files under the input directory\n",
    "\n",
    "import os\n",
    "for dirname, _, filenames in os.walk('/kaggle/input'):\n",
    "    for filename in filenames:\n",
    "        print(os.path.join(dirname, filename))\n",
    "\n",
    "# You can write up to 20GB to the current directory (/kaggle/working/) that gets preserved as output when you create a version using \"Save & Run All\" \n",
    "# You can also write temporary files to /kaggle/temp/, but they won't be saved outside of the current session"
   ]
  },
  {
   "cell_type": "code",
   "execution_count": 2,
   "id": "b96ef222",
   "metadata": {
    "execution": {
     "iopub.execute_input": "2024-09-29T02:23:44.113262Z",
     "iopub.status.busy": "2024-09-29T02:23:44.112657Z",
     "iopub.status.idle": "2024-09-29T02:23:58.897748Z",
     "shell.execute_reply": "2024-09-29T02:23:58.896092Z"
    },
    "papermill": {
     "duration": 14.797615,
     "end_time": "2024-09-29T02:23:58.901075",
     "exception": false,
     "start_time": "2024-09-29T02:23:44.103460",
     "status": "completed"
    },
    "tags": []
   },
   "outputs": [
    {
     "name": "stdout",
     "output_type": "stream",
     "text": [
      "CPU times: user 8.97 s, sys: 1.25 s, total: 10.2 s\n",
      "Wall time: 14.8 s\n"
     ]
    }
   ],
   "source": [
    "%%time\n",
    "import os\n",
    "\n",
    "os.environ[\"KERAS_BACKEND\"] = \"jax\"  # Or \"torch\" or \"tensorflow\".\n",
    "# Avoid memory fragmentation on JAX backend.\n",
    "os.environ[\"XLA_PYTHON_CLIENT_MEM_FRACTION\"]=\"1.00\"\n",
    "\n",
    "import keras\n",
    "import keras_nlp"
   ]
  },
  {
   "cell_type": "code",
   "execution_count": 3,
   "id": "f42fd21a",
   "metadata": {
    "execution": {
     "iopub.execute_input": "2024-09-29T02:23:58.921529Z",
     "iopub.status.busy": "2024-09-29T02:23:58.920254Z",
     "iopub.status.idle": "2024-09-29T02:25:27.319457Z",
     "shell.execute_reply": "2024-09-29T02:25:27.318196Z"
    },
    "papermill": {
     "duration": 88.411288,
     "end_time": "2024-09-29T02:25:27.321881",
     "exception": false,
     "start_time": "2024-09-29T02:23:58.910593",
     "status": "completed"
    },
    "tags": []
   },
   "outputs": [
    {
     "name": "stderr",
     "output_type": "stream",
     "text": [
      "normalizer.cc(51) LOG(INFO) precompiled_charsmap is empty. use identity normalization.\n"
     ]
    },
    {
     "name": "stdout",
     "output_type": "stream",
     "text": [
      "CPU times: user 1min 9s, sys: 48.9 s, total: 1min 58s\n",
      "Wall time: 1min 28s\n"
     ]
    }
   ],
   "source": [
    "%%time\n",
    "gemma_lm = keras_nlp.models.GemmaCausalLM.from_preset(\"gemma_2b_en\")"
   ]
  },
  {
   "cell_type": "code",
   "execution_count": 4,
   "id": "61d7531e",
   "metadata": {
    "execution": {
     "iopub.execute_input": "2024-09-29T02:25:27.339896Z",
     "iopub.status.busy": "2024-09-29T02:25:27.338937Z",
     "iopub.status.idle": "2024-09-29T02:25:27.375399Z",
     "shell.execute_reply": "2024-09-29T02:25:27.374207Z"
    },
    "papermill": {
     "duration": 0.04801,
     "end_time": "2024-09-29T02:25:27.377807",
     "exception": false,
     "start_time": "2024-09-29T02:25:27.329797",
     "status": "completed"
    },
    "tags": []
   },
   "outputs": [
    {
     "data": {
      "text/html": [
       "<pre style=\"white-space:pre;overflow-x:auto;line-height:normal;font-family:Menlo,'DejaVu Sans Mono',consolas,'Courier New',monospace\"><span style=\"font-weight: bold\">Preprocessor: \"gemma_causal_lm_preprocessor\"</span>\n",
       "</pre>\n"
      ],
      "text/plain": [
       "\u001b[1mPreprocessor: \"gemma_causal_lm_preprocessor\"\u001b[0m\n"
      ]
     },
     "metadata": {},
     "output_type": "display_data"
    },
    {
     "data": {
      "text/html": [
       "<pre style=\"white-space:pre;overflow-x:auto;line-height:normal;font-family:Menlo,'DejaVu Sans Mono',consolas,'Courier New',monospace\">┏━━━━━━━━━━━━━━━━━━━━━━━━━━━━━━━━━━━━━━━━━━━━━━━━━━━━━━━━━━━━━━━┳━━━━━━━━━━━━━━━━━━━━━━━━━━━━━━━━━━━━━━━━━━┓\n",
       "┃<span style=\"font-weight: bold\"> Layer (type)                                                  </span>┃<span style=\"font-weight: bold\">                                   Config </span>┃\n",
       "┡━━━━━━━━━━━━━━━━━━━━━━━━━━━━━━━━━━━━━━━━━━━━━━━━━━━━━━━━━━━━━━━╇━━━━━━━━━━━━━━━━━━━━━━━━━━━━━━━━━━━━━━━━━━┩\n",
       "│ gemma_tokenizer (<span style=\"color: #0087ff; text-decoration-color: #0087ff\">GemmaTokenizer</span>)                              │                      Vocab size: <span style=\"color: #00af00; text-decoration-color: #00af00\">256,000</span> │\n",
       "└───────────────────────────────────────────────────────────────┴──────────────────────────────────────────┘\n",
       "</pre>\n"
      ],
      "text/plain": [
       "┏━━━━━━━━━━━━━━━━━━━━━━━━━━━━━━━━━━━━━━━━━━━━━━━━━━━━━━━━━━━━━━━┳━━━━━━━━━━━━━━━━━━━━━━━━━━━━━━━━━━━━━━━━━━┓\n",
       "┃\u001b[1m \u001b[0m\u001b[1mLayer (type)                                                 \u001b[0m\u001b[1m \u001b[0m┃\u001b[1m \u001b[0m\u001b[1m                                  Config\u001b[0m\u001b[1m \u001b[0m┃\n",
       "┡━━━━━━━━━━━━━━━━━━━━━━━━━━━━━━━━━━━━━━━━━━━━━━━━━━━━━━━━━━━━━━━╇━━━━━━━━━━━━━━━━━━━━━━━━━━━━━━━━━━━━━━━━━━┩\n",
       "│ gemma_tokenizer (\u001b[38;5;33mGemmaTokenizer\u001b[0m)                              │                      Vocab size: \u001b[38;5;34m256,000\u001b[0m │\n",
       "└───────────────────────────────────────────────────────────────┴──────────────────────────────────────────┘\n"
      ]
     },
     "metadata": {},
     "output_type": "display_data"
    },
    {
     "data": {
      "text/html": [
       "<pre style=\"white-space:pre;overflow-x:auto;line-height:normal;font-family:Menlo,'DejaVu Sans Mono',consolas,'Courier New',monospace\"><span style=\"font-weight: bold\">Model: \"gemma_causal_lm\"</span>\n",
       "</pre>\n"
      ],
      "text/plain": [
       "\u001b[1mModel: \"gemma_causal_lm\"\u001b[0m\n"
      ]
     },
     "metadata": {},
     "output_type": "display_data"
    },
    {
     "data": {
      "text/html": [
       "<pre style=\"white-space:pre;overflow-x:auto;line-height:normal;font-family:Menlo,'DejaVu Sans Mono',consolas,'Courier New',monospace\">┏━━━━━━━━━━━━━━━━━━━━━━━━━━━━━━━┳━━━━━━━━━━━━━━━━━━━━━━━━━━━┳━━━━━━━━━━━━━━━━━┳━━━━━━━━━━━━━━━━━━━━━━━━━━━━┓\n",
       "┃<span style=\"font-weight: bold\"> Layer (type)                  </span>┃<span style=\"font-weight: bold\"> Output Shape              </span>┃<span style=\"font-weight: bold\">         Param # </span>┃<span style=\"font-weight: bold\"> Connected to               </span>┃\n",
       "┡━━━━━━━━━━━━━━━━━━━━━━━━━━━━━━━╇━━━━━━━━━━━━━━━━━━━━━━━━━━━╇━━━━━━━━━━━━━━━━━╇━━━━━━━━━━━━━━━━━━━━━━━━━━━━┩\n",
       "│ padding_mask (<span style=\"color: #0087ff; text-decoration-color: #0087ff\">InputLayer</span>)     │ (<span style=\"color: #00d7ff; text-decoration-color: #00d7ff\">None</span>, <span style=\"color: #00d7ff; text-decoration-color: #00d7ff\">None</span>)              │               <span style=\"color: #00af00; text-decoration-color: #00af00\">0</span> │ -                          │\n",
       "├───────────────────────────────┼───────────────────────────┼─────────────────┼────────────────────────────┤\n",
       "│ token_ids (<span style=\"color: #0087ff; text-decoration-color: #0087ff\">InputLayer</span>)        │ (<span style=\"color: #00d7ff; text-decoration-color: #00d7ff\">None</span>, <span style=\"color: #00d7ff; text-decoration-color: #00d7ff\">None</span>)              │               <span style=\"color: #00af00; text-decoration-color: #00af00\">0</span> │ -                          │\n",
       "├───────────────────────────────┼───────────────────────────┼─────────────────┼────────────────────────────┤\n",
       "│ gemma_backbone                │ (<span style=\"color: #00d7ff; text-decoration-color: #00d7ff\">None</span>, <span style=\"color: #00d7ff; text-decoration-color: #00d7ff\">None</span>, <span style=\"color: #00af00; text-decoration-color: #00af00\">2048</span>)        │   <span style=\"color: #00af00; text-decoration-color: #00af00\">2,506,172,416</span> │ padding_mask[<span style=\"color: #00af00; text-decoration-color: #00af00\">0</span>][<span style=\"color: #00af00; text-decoration-color: #00af00\">0</span>],        │\n",
       "│ (<span style=\"color: #0087ff; text-decoration-color: #0087ff\">GemmaBackbone</span>)               │                           │                 │ token_ids[<span style=\"color: #00af00; text-decoration-color: #00af00\">0</span>][<span style=\"color: #00af00; text-decoration-color: #00af00\">0</span>]            │\n",
       "├───────────────────────────────┼───────────────────────────┼─────────────────┼────────────────────────────┤\n",
       "│ token_embedding               │ (<span style=\"color: #00d7ff; text-decoration-color: #00d7ff\">None</span>, <span style=\"color: #00d7ff; text-decoration-color: #00d7ff\">None</span>, <span style=\"color: #00af00; text-decoration-color: #00af00\">256000</span>)      │     <span style=\"color: #00af00; text-decoration-color: #00af00\">524,288,000</span> │ gemma_backbone[<span style=\"color: #00af00; text-decoration-color: #00af00\">0</span>][<span style=\"color: #00af00; text-decoration-color: #00af00\">0</span>]       │\n",
       "│ (<span style=\"color: #0087ff; text-decoration-color: #0087ff\">ReversibleEmbedding</span>)         │                           │                 │                            │\n",
       "└───────────────────────────────┴───────────────────────────┴─────────────────┴────────────────────────────┘\n",
       "</pre>\n"
      ],
      "text/plain": [
       "┏━━━━━━━━━━━━━━━━━━━━━━━━━━━━━━━┳━━━━━━━━━━━━━━━━━━━━━━━━━━━┳━━━━━━━━━━━━━━━━━┳━━━━━━━━━━━━━━━━━━━━━━━━━━━━┓\n",
       "┃\u001b[1m \u001b[0m\u001b[1mLayer (type)                 \u001b[0m\u001b[1m \u001b[0m┃\u001b[1m \u001b[0m\u001b[1mOutput Shape             \u001b[0m\u001b[1m \u001b[0m┃\u001b[1m \u001b[0m\u001b[1m        Param #\u001b[0m\u001b[1m \u001b[0m┃\u001b[1m \u001b[0m\u001b[1mConnected to              \u001b[0m\u001b[1m \u001b[0m┃\n",
       "┡━━━━━━━━━━━━━━━━━━━━━━━━━━━━━━━╇━━━━━━━━━━━━━━━━━━━━━━━━━━━╇━━━━━━━━━━━━━━━━━╇━━━━━━━━━━━━━━━━━━━━━━━━━━━━┩\n",
       "│ padding_mask (\u001b[38;5;33mInputLayer\u001b[0m)     │ (\u001b[38;5;45mNone\u001b[0m, \u001b[38;5;45mNone\u001b[0m)              │               \u001b[38;5;34m0\u001b[0m │ -                          │\n",
       "├───────────────────────────────┼───────────────────────────┼─────────────────┼────────────────────────────┤\n",
       "│ token_ids (\u001b[38;5;33mInputLayer\u001b[0m)        │ (\u001b[38;5;45mNone\u001b[0m, \u001b[38;5;45mNone\u001b[0m)              │               \u001b[38;5;34m0\u001b[0m │ -                          │\n",
       "├───────────────────────────────┼───────────────────────────┼─────────────────┼────────────────────────────┤\n",
       "│ gemma_backbone                │ (\u001b[38;5;45mNone\u001b[0m, \u001b[38;5;45mNone\u001b[0m, \u001b[38;5;34m2048\u001b[0m)        │   \u001b[38;5;34m2,506,172,416\u001b[0m │ padding_mask[\u001b[38;5;34m0\u001b[0m][\u001b[38;5;34m0\u001b[0m],        │\n",
       "│ (\u001b[38;5;33mGemmaBackbone\u001b[0m)               │                           │                 │ token_ids[\u001b[38;5;34m0\u001b[0m][\u001b[38;5;34m0\u001b[0m]            │\n",
       "├───────────────────────────────┼───────────────────────────┼─────────────────┼────────────────────────────┤\n",
       "│ token_embedding               │ (\u001b[38;5;45mNone\u001b[0m, \u001b[38;5;45mNone\u001b[0m, \u001b[38;5;34m256000\u001b[0m)      │     \u001b[38;5;34m524,288,000\u001b[0m │ gemma_backbone[\u001b[38;5;34m0\u001b[0m][\u001b[38;5;34m0\u001b[0m]       │\n",
       "│ (\u001b[38;5;33mReversibleEmbedding\u001b[0m)         │                           │                 │                            │\n",
       "└───────────────────────────────┴───────────────────────────┴─────────────────┴────────────────────────────┘\n"
      ]
     },
     "metadata": {},
     "output_type": "display_data"
    },
    {
     "data": {
      "text/html": [
       "<pre style=\"white-space:pre;overflow-x:auto;line-height:normal;font-family:Menlo,'DejaVu Sans Mono',consolas,'Courier New',monospace\"><span style=\"font-weight: bold\"> Total params: </span><span style=\"color: #00af00; text-decoration-color: #00af00\">2,506,172,416</span> (9.34 GB)\n",
       "</pre>\n"
      ],
      "text/plain": [
       "\u001b[1m Total params: \u001b[0m\u001b[38;5;34m2,506,172,416\u001b[0m (9.34 GB)\n"
      ]
     },
     "metadata": {},
     "output_type": "display_data"
    },
    {
     "data": {
      "text/html": [
       "<pre style=\"white-space:pre;overflow-x:auto;line-height:normal;font-family:Menlo,'DejaVu Sans Mono',consolas,'Courier New',monospace\"><span style=\"font-weight: bold\"> Trainable params: </span><span style=\"color: #00af00; text-decoration-color: #00af00\">2,506,172,416</span> (9.34 GB)\n",
       "</pre>\n"
      ],
      "text/plain": [
       "\u001b[1m Trainable params: \u001b[0m\u001b[38;5;34m2,506,172,416\u001b[0m (9.34 GB)\n"
      ]
     },
     "metadata": {},
     "output_type": "display_data"
    },
    {
     "data": {
      "text/html": [
       "<pre style=\"white-space:pre;overflow-x:auto;line-height:normal;font-family:Menlo,'DejaVu Sans Mono',consolas,'Courier New',monospace\"><span style=\"font-weight: bold\"> Non-trainable params: </span><span style=\"color: #00af00; text-decoration-color: #00af00\">0</span> (0.00 B)\n",
       "</pre>\n"
      ],
      "text/plain": [
       "\u001b[1m Non-trainable params: \u001b[0m\u001b[38;5;34m0\u001b[0m (0.00 B)\n"
      ]
     },
     "metadata": {},
     "output_type": "display_data"
    }
   ],
   "source": [
    "gemma_lm.summary()"
   ]
  },
  {
   "cell_type": "code",
   "execution_count": 5,
   "id": "2ceb42d7",
   "metadata": {
    "execution": {
     "iopub.execute_input": "2024-09-29T02:25:27.398934Z",
     "iopub.status.busy": "2024-09-29T02:25:27.397999Z",
     "iopub.status.idle": "2024-09-29T02:25:27.403024Z",
     "shell.execute_reply": "2024-09-29T02:25:27.401940Z"
    },
    "papermill": {
     "duration": 0.017911,
     "end_time": "2024-09-29T02:25:27.405453",
     "exception": false,
     "start_time": "2024-09-29T02:25:27.387542",
     "status": "completed"
    },
    "tags": []
   },
   "outputs": [],
   "source": [
    "#!kaggle datasets download -d kjeevan/qa-pairs-foodiefinder\n",
    "\n",
    "#!kaggle datasets download -d kjeevan/qa-pairs-foodie-finder"
   ]
  },
  {
   "cell_type": "code",
   "execution_count": 6,
   "id": "557f6382",
   "metadata": {
    "execution": {
     "iopub.execute_input": "2024-09-29T02:25:27.427302Z",
     "iopub.status.busy": "2024-09-29T02:25:27.426379Z",
     "iopub.status.idle": "2024-09-29T02:25:27.431176Z",
     "shell.execute_reply": "2024-09-29T02:25:27.430134Z"
    },
    "papermill": {
     "duration": 0.017478,
     "end_time": "2024-09-29T02:25:27.433392",
     "exception": false,
     "start_time": "2024-09-29T02:25:27.415914",
     "status": "completed"
    },
    "tags": []
   },
   "outputs": [],
   "source": [
    "# #Download the model into your working directory \n",
    "# import kagglehub\n",
    "\n",
    "# # Download latest version\n",
    "# path = kagglehub.model_download(\"google/gemma/transformers/2b-it\")\n",
    "\n",
    "# print(\"Path to model files:\", path)"
   ]
  },
  {
   "cell_type": "markdown",
   "id": "9e40a526",
   "metadata": {
    "papermill": {
     "duration": 0.009135,
     "end_time": "2024-09-29T02:25:27.452148",
     "exception": false,
     "start_time": "2024-09-29T02:25:27.443013",
     "status": "completed"
    },
    "tags": []
   },
   "source": [
    "Working only a subset of summarized data. Due to limitations, I took only the restaurants that have more than 28 reviews and further took only first 5 reviews for these restaurants. Summarized the reviews by separating into 5 dataframes. Each of these dataframes were provided to a kaggle notebook. Next restaurant and menu data was combined and data preprocessing on other columns were also performed. The final dataset contains approx 100 total restaurants and 500 reviews. Will be using this to experiment fine tuning."
   ]
  },
  {
   "cell_type": "code",
   "execution_count": 7,
   "id": "853f8091",
   "metadata": {
    "execution": {
     "iopub.execute_input": "2024-09-29T02:25:27.473384Z",
     "iopub.status.busy": "2024-09-29T02:25:27.472388Z",
     "iopub.status.idle": "2024-09-29T02:25:27.516478Z",
     "shell.execute_reply": "2024-09-29T02:25:27.515276Z"
    },
    "papermill": {
     "duration": 0.057235,
     "end_time": "2024-09-29T02:25:27.518911",
     "exception": false,
     "start_time": "2024-09-29T02:25:27.461676",
     "status": "completed"
    },
    "tags": []
   },
   "outputs": [
    {
     "data": {
      "text/html": [
       "<div>\n",
       "<style scoped>\n",
       "    .dataframe tbody tr th:only-of-type {\n",
       "        vertical-align: middle;\n",
       "    }\n",
       "\n",
       "    .dataframe tbody tr th {\n",
       "        vertical-align: top;\n",
       "    }\n",
       "\n",
       "    .dataframe thead th {\n",
       "        text-align: right;\n",
       "    }\n",
       "</style>\n",
       "<table border=\"1\" class=\"dataframe\">\n",
       "  <thead>\n",
       "    <tr style=\"text-align: right;\">\n",
       "      <th></th>\n",
       "      <th>question</th>\n",
       "      <th>answer</th>\n",
       "    </tr>\n",
       "  </thead>\n",
       "  <tbody>\n",
       "    <tr>\n",
       "      <th>0</th>\n",
       "      <td>What type of food does the restaurant Bistro S...</td>\n",
       "      <td>Bistro, Italian, Bar</td>\n",
       "    </tr>\n",
       "    <tr>\n",
       "      <th>1</th>\n",
       "      <td>What is the amount/price normally spent for di...</td>\n",
       "      <td>JPY 5,000 - JPY 5,999</td>\n",
       "    </tr>\n",
       "    <tr>\n",
       "      <th>2</th>\n",
       "      <td>What are some of the dishes served by Bistro S...</td>\n",
       "      <td>Sake (Nihonshu),Shochu (Japanese spirits)</td>\n",
       "    </tr>\n",
       "    <tr>\n",
       "      <th>3</th>\n",
       "      <td>What is the average rating of Bistro Sakaba RE...</td>\n",
       "      <td>3.5</td>\n",
       "    </tr>\n",
       "    <tr>\n",
       "      <th>4</th>\n",
       "      <td>What are the overall views of the customers on...</td>\n",
       "      <td>The reviewer visited the restaurant with a gro...</td>\n",
       "    </tr>\n",
       "  </tbody>\n",
       "</table>\n",
       "</div>"
      ],
      "text/plain": [
       "                                            question  \\\n",
       "0  What type of food does the restaurant Bistro S...   \n",
       "1  What is the amount/price normally spent for di...   \n",
       "2  What are some of the dishes served by Bistro S...   \n",
       "3  What is the average rating of Bistro Sakaba RE...   \n",
       "4  What are the overall views of the customers on...   \n",
       "\n",
       "                                              answer  \n",
       "0                               Bistro, Italian, Bar  \n",
       "1                              JPY 5,000 - JPY 5,999  \n",
       "2          Sake (Nihonshu),Shochu (Japanese spirits)  \n",
       "3                                                3.5  \n",
       "4  The reviewer visited the restaurant with a gro...  "
      ]
     },
     "execution_count": 7,
     "metadata": {},
     "output_type": "execute_result"
    }
   ],
   "source": [
    "import pandas as pd\n",
    "qa_pairs = pd.read_csv(\"/kaggle/input/qa-dataset-foodie-finder/qa_pairs_df.csv\")\n",
    "qa_pairs.head()"
   ]
  },
  {
   "cell_type": "code",
   "execution_count": 8,
   "id": "1ffe3f1e",
   "metadata": {
    "execution": {
     "iopub.execute_input": "2024-09-29T02:25:27.540535Z",
     "iopub.status.busy": "2024-09-29T02:25:27.539692Z",
     "iopub.status.idle": "2024-09-29T02:25:27.546695Z",
     "shell.execute_reply": "2024-09-29T02:25:27.545589Z"
    },
    "papermill": {
     "duration": 0.020301,
     "end_time": "2024-09-29T02:25:27.549024",
     "exception": false,
     "start_time": "2024-09-29T02:25:27.528723",
     "status": "completed"
    },
    "tags": []
   },
   "outputs": [
    {
     "data": {
      "text/plain": [
       "(1121, 2)"
      ]
     },
     "execution_count": 8,
     "metadata": {},
     "output_type": "execute_result"
    }
   ],
   "source": [
    "qa_pairs.shape"
   ]
  },
  {
   "cell_type": "code",
   "execution_count": 9,
   "id": "d81d2083",
   "metadata": {
    "execution": {
     "iopub.execute_input": "2024-09-29T02:25:27.570839Z",
     "iopub.status.busy": "2024-09-29T02:25:27.570161Z",
     "iopub.status.idle": "2024-09-29T02:25:27.580239Z",
     "shell.execute_reply": "2024-09-29T02:25:27.579255Z"
    },
    "papermill": {
     "duration": 0.023397,
     "end_time": "2024-09-29T02:25:27.582402",
     "exception": false,
     "start_time": "2024-09-29T02:25:27.559005",
     "status": "completed"
    },
    "tags": []
   },
   "outputs": [
    {
     "data": {
      "text/plain": [
       "(1121, 2)"
      ]
     },
     "execution_count": 9,
     "metadata": {},
     "output_type": "execute_result"
    }
   ],
   "source": [
    "qa_pairs.dropna(inplace=True)\n",
    "qa_pairs.shape"
   ]
  },
  {
   "cell_type": "code",
   "execution_count": 10,
   "id": "53006b5f",
   "metadata": {
    "execution": {
     "iopub.execute_input": "2024-09-29T02:25:27.604526Z",
     "iopub.status.busy": "2024-09-29T02:25:27.603832Z",
     "iopub.status.idle": "2024-09-29T02:25:27.608517Z",
     "shell.execute_reply": "2024-09-29T02:25:27.607529Z"
    },
    "papermill": {
     "duration": 0.018195,
     "end_time": "2024-09-29T02:25:27.610734",
     "exception": false,
     "start_time": "2024-09-29T02:25:27.592539",
     "status": "completed"
    },
    "tags": []
   },
   "outputs": [],
   "source": [
    "template = \"Instruction:\\n{question}\\n\\nResponse:\\n{answer}\""
   ]
  },
  {
   "cell_type": "code",
   "execution_count": 11,
   "id": "9c9aa450",
   "metadata": {
    "execution": {
     "iopub.execute_input": "2024-09-29T02:25:27.633043Z",
     "iopub.status.busy": "2024-09-29T02:25:27.632624Z",
     "iopub.status.idle": "2024-09-29T02:25:27.637687Z",
     "shell.execute_reply": "2024-09-29T02:25:27.636611Z"
    },
    "papermill": {
     "duration": 0.018923,
     "end_time": "2024-09-29T02:25:27.639983",
     "exception": false,
     "start_time": "2024-09-29T02:25:27.621060",
     "status": "completed"
    },
    "tags": []
   },
   "outputs": [],
   "source": [
    "# qa_pairs_test = qa_pairs_test = qa_pairs[\n",
    "#     (qa_pairs['answer'] == 'Shinjuku-ku') |  # First condition\n",
    "#     (qa_pairs['question'].str.contains('Shinjuku Sushi Yokota', case=False, na=False)) |  # Modified condition\n",
    "#     (qa_pairs['question'].str.contains('Tempura Azabu Yokota Shinjuku Bettei', case=False, na=False)) \n",
    "# ]\n",
    "\n",
    "# print(qa_pairs_test.shape)\n",
    "# qa_pairs_test.head()"
   ]
  },
  {
   "cell_type": "code",
   "execution_count": 12,
   "id": "4ef6a22c",
   "metadata": {
    "execution": {
     "iopub.execute_input": "2024-09-29T02:25:27.662532Z",
     "iopub.status.busy": "2024-09-29T02:25:27.662096Z",
     "iopub.status.idle": "2024-09-29T02:25:27.666911Z",
     "shell.execute_reply": "2024-09-29T02:25:27.665843Z"
    },
    "papermill": {
     "duration": 0.018968,
     "end_time": "2024-09-29T02:25:27.669408",
     "exception": false,
     "start_time": "2024-09-29T02:25:27.650440",
     "status": "completed"
    },
    "tags": []
   },
   "outputs": [],
   "source": [
    "# %%time\n",
    "\n",
    "# # answer after fine tuning\n",
    "# prompt = template.format(\n",
    "#     question=\"What food type is popular in Japan?\",\n",
    "#     answer=\"\",\n",
    "# )\n",
    "# print(gemma_lm.generate(prompt, max_length=500))"
   ]
  },
  {
   "cell_type": "code",
   "execution_count": 13,
   "id": "962e2101",
   "metadata": {
    "execution": {
     "iopub.execute_input": "2024-09-29T02:25:27.692276Z",
     "iopub.status.busy": "2024-09-29T02:25:27.691822Z",
     "iopub.status.idle": "2024-09-29T02:25:27.696592Z",
     "shell.execute_reply": "2024-09-29T02:25:27.695574Z"
    },
    "papermill": {
     "duration": 0.018712,
     "end_time": "2024-09-29T02:25:27.698750",
     "exception": false,
     "start_time": "2024-09-29T02:25:27.680038",
     "status": "completed"
    },
    "tags": []
   },
   "outputs": [],
   "source": [
    "# %%time\n",
    "\n",
    "# # answer after fine tuning\n",
    "# prompt = template.format(\n",
    "#     question=\"Suggest some restaurants in Tokyo.\",\n",
    "#     answer=\"\",\n",
    "# )\n",
    "# print(gemma_lm.generate(prompt, max_length=500))"
   ]
  },
  {
   "cell_type": "code",
   "execution_count": 14,
   "id": "fa0ceba7",
   "metadata": {
    "execution": {
     "iopub.execute_input": "2024-09-29T02:25:27.721833Z",
     "iopub.status.busy": "2024-09-29T02:25:27.721411Z",
     "iopub.status.idle": "2024-09-29T02:25:27.726327Z",
     "shell.execute_reply": "2024-09-29T02:25:27.725252Z"
    },
    "papermill": {
     "duration": 0.0192,
     "end_time": "2024-09-29T02:25:27.728680",
     "exception": false,
     "start_time": "2024-09-29T02:25:27.709480",
     "status": "completed"
    },
    "tags": []
   },
   "outputs": [],
   "source": [
    "# %%time\n",
    "\n",
    "# prompt = template.format(\n",
    "#     question=\"List 3 popular restaurants in Kyoto and what people think about these restaurants.\",\n",
    "#     answer=\"\",\n",
    "# )\n",
    "# print(gemma_lm.generate(prompt, max_length=500))"
   ]
  },
  {
   "cell_type": "code",
   "execution_count": 15,
   "id": "65703e7a",
   "metadata": {
    "execution": {
     "iopub.execute_input": "2024-09-29T02:25:27.751920Z",
     "iopub.status.busy": "2024-09-29T02:25:27.751490Z",
     "iopub.status.idle": "2024-09-29T02:25:27.757495Z",
     "shell.execute_reply": "2024-09-29T02:25:27.756255Z"
    },
    "papermill": {
     "duration": 0.020748,
     "end_time": "2024-09-29T02:25:27.760178",
     "exception": false,
     "start_time": "2024-09-29T02:25:27.739430",
     "status": "completed"
    },
    "tags": []
   },
   "outputs": [],
   "source": [
    "# %%time\n",
    "# # Import necessary libraries (modify paths according to your setup)\n",
    "# from keras_nlp.models import GemmaTokenizer\n",
    "\n",
    "# # Load the tokenizer specific to your Gemma model (assuming 'gemma_2b_en')\n",
    "# tokenizer = GemmaTokenizer.from_preset('gemma_2b_en')\n",
    "\n",
    "# # Sample function to tokenize and compute average length\n",
    "# def get_average_token_length(qa_dataset):\n",
    "#     token_lengths = []\n",
    "#     for index, row in qa_dataset.iterrows():\n",
    "#         # Combine question and answer to tokenize them together\n",
    "#         text = row['question'] + \" \" + row['answer']\n",
    "        \n",
    "#         # Tokenize using Gemma's tokenizer\n",
    "#         tokens = tokenizer.tokenize(text)\n",
    "        \n",
    "#         # Append the token length of the current row\n",
    "#         token_lengths.append(len(tokens))\n",
    "    \n",
    "#     # Return the average token length\n",
    "#     return sum(token_lengths) / len(token_lengths) if len(token_lengths) > 0 else 0\n",
    "\n",
    "\n",
    "# # Calculate the average token length\n",
    "# average_length = get_average_token_length(qa_pairs)\n",
    "# print(f\"Average token length: {average_length}\")\n"
   ]
  },
  {
   "cell_type": "code",
   "execution_count": null,
   "id": "7bbb1d16",
   "metadata": {
    "papermill": {
     "duration": 0.010633,
     "end_time": "2024-09-29T02:25:27.781744",
     "exception": false,
     "start_time": "2024-09-29T02:25:27.771111",
     "status": "completed"
    },
    "tags": []
   },
   "outputs": [],
   "source": []
  },
  {
   "cell_type": "code",
   "execution_count": 16,
   "id": "ce07f791",
   "metadata": {
    "execution": {
     "iopub.execute_input": "2024-09-29T02:25:27.805273Z",
     "iopub.status.busy": "2024-09-29T02:25:27.804653Z",
     "iopub.status.idle": "2024-09-29T02:25:27.893858Z",
     "shell.execute_reply": "2024-09-29T02:25:27.892907Z"
    },
    "papermill": {
     "duration": 0.104014,
     "end_time": "2024-09-29T02:25:27.896572",
     "exception": false,
     "start_time": "2024-09-29T02:25:27.792558",
     "status": "completed"
    },
    "tags": []
   },
   "outputs": [],
   "source": [
    "data = []\n",
    "for index, row in qa_pairs.iterrows():\n",
    "    # Use the template to format the string and append it to the data list\n",
    "    formatted_string = template.format(question=row['question'], answer=row['answer'])\n",
    "    data.append(formatted_string)"
   ]
  },
  {
   "cell_type": "code",
   "execution_count": 17,
   "id": "df08994b",
   "metadata": {
    "execution": {
     "iopub.execute_input": "2024-09-29T02:25:27.919916Z",
     "iopub.status.busy": "2024-09-29T02:25:27.919501Z",
     "iopub.status.idle": "2024-09-29T02:25:28.369333Z",
     "shell.execute_reply": "2024-09-29T02:25:28.368231Z"
    },
    "papermill": {
     "duration": 0.464304,
     "end_time": "2024-09-29T02:25:28.371667",
     "exception": false,
     "start_time": "2024-09-29T02:25:27.907363",
     "status": "completed"
    },
    "tags": []
   },
   "outputs": [
    {
     "data": {
      "text/html": [
       "<pre style=\"white-space:pre;overflow-x:auto;line-height:normal;font-family:Menlo,'DejaVu Sans Mono',consolas,'Courier New',monospace\"><span style=\"font-weight: bold\">Preprocessor: \"gemma_causal_lm_preprocessor\"</span>\n",
       "</pre>\n"
      ],
      "text/plain": [
       "\u001b[1mPreprocessor: \"gemma_causal_lm_preprocessor\"\u001b[0m\n"
      ]
     },
     "metadata": {},
     "output_type": "display_data"
    },
    {
     "data": {
      "text/html": [
       "<pre style=\"white-space:pre;overflow-x:auto;line-height:normal;font-family:Menlo,'DejaVu Sans Mono',consolas,'Courier New',monospace\">┏━━━━━━━━━━━━━━━━━━━━━━━━━━━━━━━━━━━━━━━━━━━━━━━━━━━━━━━━━━━━━━━┳━━━━━━━━━━━━━━━━━━━━━━━━━━━━━━━━━━━━━━━━━━┓\n",
       "┃<span style=\"font-weight: bold\"> Layer (type)                                                  </span>┃<span style=\"font-weight: bold\">                                   Config </span>┃\n",
       "┡━━━━━━━━━━━━━━━━━━━━━━━━━━━━━━━━━━━━━━━━━━━━━━━━━━━━━━━━━━━━━━━╇━━━━━━━━━━━━━━━━━━━━━━━━━━━━━━━━━━━━━━━━━━┩\n",
       "│ gemma_tokenizer (<span style=\"color: #0087ff; text-decoration-color: #0087ff\">GemmaTokenizer</span>)                              │                      Vocab size: <span style=\"color: #00af00; text-decoration-color: #00af00\">256,000</span> │\n",
       "└───────────────────────────────────────────────────────────────┴──────────────────────────────────────────┘\n",
       "</pre>\n"
      ],
      "text/plain": [
       "┏━━━━━━━━━━━━━━━━━━━━━━━━━━━━━━━━━━━━━━━━━━━━━━━━━━━━━━━━━━━━━━━┳━━━━━━━━━━━━━━━━━━━━━━━━━━━━━━━━━━━━━━━━━━┓\n",
       "┃\u001b[1m \u001b[0m\u001b[1mLayer (type)                                                 \u001b[0m\u001b[1m \u001b[0m┃\u001b[1m \u001b[0m\u001b[1m                                  Config\u001b[0m\u001b[1m \u001b[0m┃\n",
       "┡━━━━━━━━━━━━━━━━━━━━━━━━━━━━━━━━━━━━━━━━━━━━━━━━━━━━━━━━━━━━━━━╇━━━━━━━━━━━━━━━━━━━━━━━━━━━━━━━━━━━━━━━━━━┩\n",
       "│ gemma_tokenizer (\u001b[38;5;33mGemmaTokenizer\u001b[0m)                              │                      Vocab size: \u001b[38;5;34m256,000\u001b[0m │\n",
       "└───────────────────────────────────────────────────────────────┴──────────────────────────────────────────┘\n"
      ]
     },
     "metadata": {},
     "output_type": "display_data"
    },
    {
     "data": {
      "text/html": [
       "<pre style=\"white-space:pre;overflow-x:auto;line-height:normal;font-family:Menlo,'DejaVu Sans Mono',consolas,'Courier New',monospace\"><span style=\"font-weight: bold\">Model: \"gemma_causal_lm\"</span>\n",
       "</pre>\n"
      ],
      "text/plain": [
       "\u001b[1mModel: \"gemma_causal_lm\"\u001b[0m\n"
      ]
     },
     "metadata": {},
     "output_type": "display_data"
    },
    {
     "data": {
      "text/html": [
       "<pre style=\"white-space:pre;overflow-x:auto;line-height:normal;font-family:Menlo,'DejaVu Sans Mono',consolas,'Courier New',monospace\">┏━━━━━━━━━━━━━━━━━━━━━━━━━━━━━━━┳━━━━━━━━━━━━━━━━━━━━━━━━━━━┳━━━━━━━━━━━━━━━━━┳━━━━━━━━━━━━━━━━━━━━━━━━━━━━┓\n",
       "┃<span style=\"font-weight: bold\"> Layer (type)                  </span>┃<span style=\"font-weight: bold\"> Output Shape              </span>┃<span style=\"font-weight: bold\">         Param # </span>┃<span style=\"font-weight: bold\"> Connected to               </span>┃\n",
       "┡━━━━━━━━━━━━━━━━━━━━━━━━━━━━━━━╇━━━━━━━━━━━━━━━━━━━━━━━━━━━╇━━━━━━━━━━━━━━━━━╇━━━━━━━━━━━━━━━━━━━━━━━━━━━━┩\n",
       "│ padding_mask (<span style=\"color: #0087ff; text-decoration-color: #0087ff\">InputLayer</span>)     │ (<span style=\"color: #00d7ff; text-decoration-color: #00d7ff\">None</span>, <span style=\"color: #00d7ff; text-decoration-color: #00d7ff\">None</span>)              │               <span style=\"color: #00af00; text-decoration-color: #00af00\">0</span> │ -                          │\n",
       "├───────────────────────────────┼───────────────────────────┼─────────────────┼────────────────────────────┤\n",
       "│ token_ids (<span style=\"color: #0087ff; text-decoration-color: #0087ff\">InputLayer</span>)        │ (<span style=\"color: #00d7ff; text-decoration-color: #00d7ff\">None</span>, <span style=\"color: #00d7ff; text-decoration-color: #00d7ff\">None</span>)              │               <span style=\"color: #00af00; text-decoration-color: #00af00\">0</span> │ -                          │\n",
       "├───────────────────────────────┼───────────────────────────┼─────────────────┼────────────────────────────┤\n",
       "│ gemma_backbone                │ (<span style=\"color: #00d7ff; text-decoration-color: #00d7ff\">None</span>, <span style=\"color: #00d7ff; text-decoration-color: #00d7ff\">None</span>, <span style=\"color: #00af00; text-decoration-color: #00af00\">2048</span>)        │   <span style=\"color: #00af00; text-decoration-color: #00af00\">2,507,536,384</span> │ padding_mask[<span style=\"color: #00af00; text-decoration-color: #00af00\">0</span>][<span style=\"color: #00af00; text-decoration-color: #00af00\">0</span>],        │\n",
       "│ (<span style=\"color: #0087ff; text-decoration-color: #0087ff\">GemmaBackbone</span>)               │                           │                 │ token_ids[<span style=\"color: #00af00; text-decoration-color: #00af00\">0</span>][<span style=\"color: #00af00; text-decoration-color: #00af00\">0</span>]            │\n",
       "├───────────────────────────────┼───────────────────────────┼─────────────────┼────────────────────────────┤\n",
       "│ token_embedding               │ (<span style=\"color: #00d7ff; text-decoration-color: #00d7ff\">None</span>, <span style=\"color: #00d7ff; text-decoration-color: #00d7ff\">None</span>, <span style=\"color: #00af00; text-decoration-color: #00af00\">256000</span>)      │     <span style=\"color: #00af00; text-decoration-color: #00af00\">524,288,000</span> │ gemma_backbone[<span style=\"color: #00af00; text-decoration-color: #00af00\">0</span>][<span style=\"color: #00af00; text-decoration-color: #00af00\">0</span>]       │\n",
       "│ (<span style=\"color: #0087ff; text-decoration-color: #0087ff\">ReversibleEmbedding</span>)         │                           │                 │                            │\n",
       "└───────────────────────────────┴───────────────────────────┴─────────────────┴────────────────────────────┘\n",
       "</pre>\n"
      ],
      "text/plain": [
       "┏━━━━━━━━━━━━━━━━━━━━━━━━━━━━━━━┳━━━━━━━━━━━━━━━━━━━━━━━━━━━┳━━━━━━━━━━━━━━━━━┳━━━━━━━━━━━━━━━━━━━━━━━━━━━━┓\n",
       "┃\u001b[1m \u001b[0m\u001b[1mLayer (type)                 \u001b[0m\u001b[1m \u001b[0m┃\u001b[1m \u001b[0m\u001b[1mOutput Shape             \u001b[0m\u001b[1m \u001b[0m┃\u001b[1m \u001b[0m\u001b[1m        Param #\u001b[0m\u001b[1m \u001b[0m┃\u001b[1m \u001b[0m\u001b[1mConnected to              \u001b[0m\u001b[1m \u001b[0m┃\n",
       "┡━━━━━━━━━━━━━━━━━━━━━━━━━━━━━━━╇━━━━━━━━━━━━━━━━━━━━━━━━━━━╇━━━━━━━━━━━━━━━━━╇━━━━━━━━━━━━━━━━━━━━━━━━━━━━┩\n",
       "│ padding_mask (\u001b[38;5;33mInputLayer\u001b[0m)     │ (\u001b[38;5;45mNone\u001b[0m, \u001b[38;5;45mNone\u001b[0m)              │               \u001b[38;5;34m0\u001b[0m │ -                          │\n",
       "├───────────────────────────────┼───────────────────────────┼─────────────────┼────────────────────────────┤\n",
       "│ token_ids (\u001b[38;5;33mInputLayer\u001b[0m)        │ (\u001b[38;5;45mNone\u001b[0m, \u001b[38;5;45mNone\u001b[0m)              │               \u001b[38;5;34m0\u001b[0m │ -                          │\n",
       "├───────────────────────────────┼───────────────────────────┼─────────────────┼────────────────────────────┤\n",
       "│ gemma_backbone                │ (\u001b[38;5;45mNone\u001b[0m, \u001b[38;5;45mNone\u001b[0m, \u001b[38;5;34m2048\u001b[0m)        │   \u001b[38;5;34m2,507,536,384\u001b[0m │ padding_mask[\u001b[38;5;34m0\u001b[0m][\u001b[38;5;34m0\u001b[0m],        │\n",
       "│ (\u001b[38;5;33mGemmaBackbone\u001b[0m)               │                           │                 │ token_ids[\u001b[38;5;34m0\u001b[0m][\u001b[38;5;34m0\u001b[0m]            │\n",
       "├───────────────────────────────┼───────────────────────────┼─────────────────┼────────────────────────────┤\n",
       "│ token_embedding               │ (\u001b[38;5;45mNone\u001b[0m, \u001b[38;5;45mNone\u001b[0m, \u001b[38;5;34m256000\u001b[0m)      │     \u001b[38;5;34m524,288,000\u001b[0m │ gemma_backbone[\u001b[38;5;34m0\u001b[0m][\u001b[38;5;34m0\u001b[0m]       │\n",
       "│ (\u001b[38;5;33mReversibleEmbedding\u001b[0m)         │                           │                 │                            │\n",
       "└───────────────────────────────┴───────────────────────────┴─────────────────┴────────────────────────────┘\n"
      ]
     },
     "metadata": {},
     "output_type": "display_data"
    },
    {
     "data": {
      "text/html": [
       "<pre style=\"white-space:pre;overflow-x:auto;line-height:normal;font-family:Menlo,'DejaVu Sans Mono',consolas,'Courier New',monospace\"><span style=\"font-weight: bold\"> Total params: </span><span style=\"color: #00af00; text-decoration-color: #00af00\">2,507,536,384</span> (9.34 GB)\n",
       "</pre>\n"
      ],
      "text/plain": [
       "\u001b[1m Total params: \u001b[0m\u001b[38;5;34m2,507,536,384\u001b[0m (9.34 GB)\n"
      ]
     },
     "metadata": {},
     "output_type": "display_data"
    },
    {
     "data": {
      "text/html": [
       "<pre style=\"white-space:pre;overflow-x:auto;line-height:normal;font-family:Menlo,'DejaVu Sans Mono',consolas,'Courier New',monospace\"><span style=\"font-weight: bold\"> Trainable params: </span><span style=\"color: #00af00; text-decoration-color: #00af00\">1,363,968</span> (5.20 MB)\n",
       "</pre>\n"
      ],
      "text/plain": [
       "\u001b[1m Trainable params: \u001b[0m\u001b[38;5;34m1,363,968\u001b[0m (5.20 MB)\n"
      ]
     },
     "metadata": {},
     "output_type": "display_data"
    },
    {
     "data": {
      "text/html": [
       "<pre style=\"white-space:pre;overflow-x:auto;line-height:normal;font-family:Menlo,'DejaVu Sans Mono',consolas,'Courier New',monospace\"><span style=\"font-weight: bold\"> Non-trainable params: </span><span style=\"color: #00af00; text-decoration-color: #00af00\">2,506,172,416</span> (9.34 GB)\n",
       "</pre>\n"
      ],
      "text/plain": [
       "\u001b[1m Non-trainable params: \u001b[0m\u001b[38;5;34m2,506,172,416\u001b[0m (9.34 GB)\n"
      ]
     },
     "metadata": {},
     "output_type": "display_data"
    }
   ],
   "source": [
    "# Enable LoRA for the model and set the LoRA rank to 4.\n",
    "gemma_lm.backbone.enable_lora(rank=4)\n",
    "gemma_lm.summary()"
   ]
  },
  {
   "cell_type": "code",
   "execution_count": 18,
   "id": "63ccf378",
   "metadata": {
    "execution": {
     "iopub.execute_input": "2024-09-29T02:25:28.397936Z",
     "iopub.status.busy": "2024-09-29T02:25:28.397498Z",
     "iopub.status.idle": "2024-09-29T02:25:28.409471Z",
     "shell.execute_reply": "2024-09-29T02:25:28.408199Z"
    },
    "papermill": {
     "duration": 0.027942,
     "end_time": "2024-09-29T02:25:28.411767",
     "exception": false,
     "start_time": "2024-09-29T02:25:28.383825",
     "status": "completed"
    },
    "tags": []
   },
   "outputs": [
    {
     "name": "stdout",
     "output_type": "stream",
     "text": [
      "CPU times: user 5.25 ms, sys: 150 µs, total: 5.4 ms\n",
      "Wall time: 4.92 ms\n"
     ]
    }
   ],
   "source": [
    "%%time\n",
    "\n",
    "# configure and run a training session\n",
    "\n",
    "gemma_lm.preprocessor.sequence_length = 80\n",
    "\n",
    "\n",
    "optimizer = keras.optimizers.AdamW(\n",
    "    learning_rate=4e-5, # 2e-4\n",
    "    weight_decay=0.01,\n",
    ")\n",
    "\n",
    "\n",
    "optimizer.exclude_from_weight_decay(var_names=[\"bias\", \"scale\"])\n",
    "\n",
    "\n",
    "gemma_lm.compile(\n",
    "    loss=keras.losses.SparseCategoricalCrossentropy(from_logits=True),\n",
    "    optimizer=optimizer,\n",
    "    weighted_metrics=[keras.metrics.SparseCategoricalAccuracy()],\n",
    ")"
   ]
  },
  {
   "cell_type": "code",
   "execution_count": 19,
   "id": "7b2861fc",
   "metadata": {
    "execution": {
     "iopub.execute_input": "2024-09-29T02:25:28.437905Z",
     "iopub.status.busy": "2024-09-29T02:25:28.437479Z",
     "iopub.status.idle": "2024-09-29T09:27:10.811000Z",
     "shell.execute_reply": "2024-09-29T09:27:10.807159Z"
    },
    "papermill": {
     "duration": 25302.392019,
     "end_time": "2024-09-29T09:27:10.815933",
     "exception": false,
     "start_time": "2024-09-29T02:25:28.423914",
     "status": "completed"
    },
    "tags": []
   },
   "outputs": [
    {
     "name": "stdout",
     "output_type": "stream",
     "text": [
      "Epoch 1/2\n",
      "\u001b[1m225/225\u001b[0m \u001b[32m━━━━━━━━━━━━━━━━━━━━\u001b[0m\u001b[37m\u001b[0m \u001b[1m12653s\u001b[0m 56s/step - loss: 2.4048 - sparse_categorical_accuracy: 0.4063\n",
      "Epoch 2/2\n",
      "\u001b[1m225/225\u001b[0m \u001b[32m━━━━━━━━━━━━━━━━━━━━\u001b[0m\u001b[37m\u001b[0m \u001b[1m12648s\u001b[0m 56s/step - loss: 1.6685 - sparse_categorical_accuracy: 0.5707\n",
      "CPU times: user 1d 23min 42s, sys: 44min 8s, total: 1d 1h 7min 51s\n",
      "Wall time: 7h 1min 42s\n"
     ]
    },
    {
     "data": {
      "text/plain": [
       "<keras.src.callbacks.history.History at 0x7b82103c2b30>"
      ]
     },
     "execution_count": 19,
     "metadata": {},
     "output_type": "execute_result"
    }
   ],
   "source": [
    "%%time\n",
    "gemma_lm.fit(data, epochs=2, batch_size=5)"
   ]
  },
  {
   "cell_type": "code",
   "execution_count": 20,
   "id": "aaa9dcfc",
   "metadata": {
    "execution": {
     "iopub.execute_input": "2024-09-29T09:27:10.935132Z",
     "iopub.status.busy": "2024-09-29T09:27:10.934382Z",
     "iopub.status.idle": "2024-09-29T09:27:53.158428Z",
     "shell.execute_reply": "2024-09-29T09:27:53.157228Z"
    },
    "papermill": {
     "duration": 44.088398,
     "end_time": "2024-09-29T09:27:54.962285",
     "exception": false,
     "start_time": "2024-09-29T09:27:10.873887",
     "status": "completed"
    },
    "tags": []
   },
   "outputs": [
    {
     "name": "stdout",
     "output_type": "stream",
     "text": [
      "CPU times: user 792 ms, sys: 32.3 s, total: 33.1 s\n",
      "Wall time: 42.2 s\n"
     ]
    }
   ],
   "source": [
    "%%time\n",
    "gemma_lm.save('gemma_lm_model.h5') "
   ]
  },
  {
   "cell_type": "code",
   "execution_count": 21,
   "id": "89ae8167",
   "metadata": {
    "execution": {
     "iopub.execute_input": "2024-09-29T09:27:55.157948Z",
     "iopub.status.busy": "2024-09-29T09:27:55.156456Z",
     "iopub.status.idle": "2024-09-29T09:27:55.162480Z",
     "shell.execute_reply": "2024-09-29T09:27:55.161292Z"
    },
    "papermill": {
     "duration": 0.111221,
     "end_time": "2024-09-29T09:27:55.165724",
     "exception": false,
     "start_time": "2024-09-29T09:27:55.054503",
     "status": "completed"
    },
    "tags": []
   },
   "outputs": [],
   "source": [
    "# %%time\n",
    "# # Save only the model weights\n",
    "# gemma_lm.save_weights('gemma_lm_weights.weights.h5')"
   ]
  },
  {
   "cell_type": "code",
   "execution_count": 22,
   "id": "ed117ea4",
   "metadata": {
    "execution": {
     "iopub.execute_input": "2024-09-29T09:27:55.342721Z",
     "iopub.status.busy": "2024-09-29T09:27:55.341371Z",
     "iopub.status.idle": "2024-09-29T09:29:10.285482Z",
     "shell.execute_reply": "2024-09-29T09:29:10.284184Z"
    },
    "papermill": {
     "duration": 75.09269,
     "end_time": "2024-09-29T09:29:10.341517",
     "exception": false,
     "start_time": "2024-09-29T09:27:55.248827",
     "status": "completed"
    },
    "tags": []
   },
   "outputs": [
    {
     "name": "stdout",
     "output_type": "stream",
     "text": [
      "Instruction:\n",
      "What food type is popular in Japan?\n",
      "\n",
      "Response:\n",
      "The most popular food in Japan is sushi. It is a type of Japanese cuisine that consists of raw fish, usually\n",
      "CPU times: user 2min 46s, sys: 2.76 s, total: 2min 48s\n",
      "Wall time: 1min 14s\n"
     ]
    }
   ],
   "source": [
    "%%time\n",
    "\n",
    "# answer after fine tuning\n",
    "prompt = template.format(\n",
    "    question=\"What food type is popular in Japan?\",\n",
    "    answer=\"\",\n",
    ")\n",
    "print(gemma_lm.generate(prompt, max_length=500))"
   ]
  },
  {
   "cell_type": "code",
   "execution_count": 23,
   "id": "9378cb88",
   "metadata": {
    "execution": {
     "iopub.execute_input": "2024-09-29T09:29:10.452543Z",
     "iopub.status.busy": "2024-09-29T09:29:10.451642Z",
     "iopub.status.idle": "2024-09-29T09:31:29.754664Z",
     "shell.execute_reply": "2024-09-29T09:31:29.753203Z"
    },
    "papermill": {
     "duration": 139.417616,
     "end_time": "2024-09-29T09:31:29.813679",
     "exception": false,
     "start_time": "2024-09-29T09:29:10.396063",
     "status": "completed"
    },
    "tags": []
   },
   "outputs": [
    {
     "name": "stdout",
     "output_type": "stream",
     "text": [
      "Instruction:\n",
      "What food category people usually eat in Hokkaido?\n",
      "\n",
      "Response:\n",
      "Hokkaido is known for its fresh seafood, and the region is home to many famous restaurants serving up delicious dishes made with local ingredients. Some of the most popular dishes in Hokkaido include grilled seafood, such as grilled scallops and grilled salmon, as well as dishes made with Hokkaido's famous dairy products, such as Hokkaido milk ice cream and Hokkaido cheese.\n",
      "CPU times: user 4min 28s, sys: 1.74 s, total: 4min 29s\n",
      "Wall time: 2min 19s\n"
     ]
    }
   ],
   "source": [
    "%%time\n",
    "\n",
    "# answer after fine tuning\n",
    "prompt = template.format(\n",
    "    question=\"What food category people usually eat in Hokkaido?\",\n",
    "    answer=\"\",\n",
    ")\n",
    "print(gemma_lm.generate(prompt, max_length=500))"
   ]
  },
  {
   "cell_type": "code",
   "execution_count": 24,
   "id": "f5875130",
   "metadata": {
    "execution": {
     "iopub.execute_input": "2024-09-29T09:31:29.929072Z",
     "iopub.status.busy": "2024-09-29T09:31:29.928642Z",
     "iopub.status.idle": "2024-09-29T09:33:13.180962Z",
     "shell.execute_reply": "2024-09-29T09:33:13.179131Z"
    },
    "papermill": {
     "duration": 103.391354,
     "end_time": "2024-09-29T09:33:13.261606",
     "exception": false,
     "start_time": "2024-09-29T09:31:29.870252",
     "status": "completed"
    },
    "tags": []
   },
   "outputs": [
    {
     "name": "stdout",
     "output_type": "stream",
     "text": [
      "Instruction:\n",
      "What are some restaurants in Tokyo and what do people think about these restaurants?\n",
      "\n",
      "Response:\n",
      "The restaurant is located in the heart of Tokyo, and the atmosphere is very lively. The menu is extensive, and there is something for everyone. The food is delicious, and the service is excellent.\n",
      "CPU times: user 3min 49s, sys: 2.27 s, total: 3min 51s\n",
      "Wall time: 1min 43s\n"
     ]
    }
   ],
   "source": [
    "%%time\n",
    "\n",
    "# answer after fine tuning\n",
    "prompt = template.format(\n",
    "    question=\"What are some restaurants in Tokyo and what do people think about these restaurants?\", # Suggest some restaurants in Tokyo.\n",
    "    answer=\"\",\n",
    ")\n",
    "print(gemma_lm.generate(prompt, max_length=500))"
   ]
  },
  {
   "cell_type": "code",
   "execution_count": 25,
   "id": "5a4fff1f",
   "metadata": {
    "execution": {
     "iopub.execute_input": "2024-09-29T09:33:13.377533Z",
     "iopub.status.busy": "2024-09-29T09:33:13.376985Z",
     "iopub.status.idle": "2024-09-29T09:37:12.969880Z",
     "shell.execute_reply": "2024-09-29T09:37:12.968554Z"
    },
    "papermill": {
     "duration": 239.709768,
     "end_time": "2024-09-29T09:37:13.028307",
     "exception": false,
     "start_time": "2024-09-29T09:33:13.318539",
     "status": "completed"
    },
    "tags": []
   },
   "outputs": [
    {
     "name": "stdout",
     "output_type": "stream",
     "text": [
      "Instruction:\n",
      "What are some restaurants in Kyoto?\n",
      "\n",
      "Response:\n",
      "The Kyoto Prefecture is home to a variety of delicious and unique dishes. Some of the most popular dishes in the region include the Kyoto-style sushi, which is known for its fresh and flavorful ingredients. The Kyoto-style sushi is typically served with a variety of sauces and toppings, such as wasabi and pickled ginger. Another popular dish in the region is the Kyoto-style ramen, which is a type of noodle soup that is typically served with a variety of toppings, such as pork, chicken, and vegetables. The Kyoto-style ramen is known for its rich and flavorful broth, which is often made with a variety of spices and herbs.\n",
      "CPU times: user 7min 11s, sys: 2.04 s, total: 7min 13s\n",
      "Wall time: 3min 59s\n"
     ]
    }
   ],
   "source": [
    "%%time\n",
    "\n",
    "# answer after fine tuning\n",
    "prompt = template.format(\n",
    "    question=\"What are some restaurants in Kyoto?\", # List 3 popular restaurants in Kyoto and what people think about these restaurants.\n",
    "    answer=\"\",\n",
    ")\n",
    "print(gemma_lm.generate(prompt, max_length=500))"
   ]
  },
  {
   "cell_type": "code",
   "execution_count": null,
   "id": "71495a9e",
   "metadata": {
    "papermill": {
     "duration": 0.054915,
     "end_time": "2024-09-29T09:37:13.139317",
     "exception": false,
     "start_time": "2024-09-29T09:37:13.084402",
     "status": "completed"
    },
    "tags": []
   },
   "outputs": [],
   "source": []
  }
 ],
 "metadata": {
  "kaggle": {
   "accelerator": "none",
   "dataSources": [
    {
     "datasetId": 5778317,
     "sourceId": 9501741,
     "sourceType": "datasetVersion"
    },
    {
     "modelId": 3533,
     "modelInstanceId": 5171,
     "sourceId": 11371,
     "sourceType": "modelInstanceVersion"
    }
   ],
   "dockerImageVersionId": 30775,
   "isGpuEnabled": false,
   "isInternetEnabled": true,
   "language": "python",
   "sourceType": "notebook"
  },
  "kernelspec": {
   "display_name": "Python 3",
   "language": "python",
   "name": "python3"
  },
  "language_info": {
   "codemirror_mode": {
    "name": "ipython",
    "version": 3
   },
   "file_extension": ".py",
   "mimetype": "text/x-python",
   "name": "python",
   "nbconvert_exporter": "python",
   "pygments_lexer": "ipython3",
   "version": "3.10.14"
  },
  "papermill": {
   "default_parameters": {},
   "duration": 26016.102004,
   "end_time": "2024-09-29T09:37:16.432185",
   "environment_variables": {},
   "exception": null,
   "input_path": "__notebook__.ipynb",
   "output_path": "__notebook__.ipynb",
   "parameters": {},
   "start_time": "2024-09-29T02:23:40.330181",
   "version": "2.6.0"
  }
 },
 "nbformat": 4,
 "nbformat_minor": 5
}
