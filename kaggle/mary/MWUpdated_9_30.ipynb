{
  "metadata": {
    "kernelspec": {
      "language": "python",
      "display_name": "Python 3",
      "name": "python3"
    },
    "language_info": {
      "name": "python",
      "version": "3.10.14",
      "mimetype": "text/x-python",
      "codemirror_mode": {
        "name": "ipython",
        "version": 3
      },
      "pygments_lexer": "ipython3",
      "nbconvert_exporter": "python",
      "file_extension": ".py"
    },
    "kaggle": {
      "accelerator": "none",
      "dataSources": [
        {
          "sourceId": 9518352,
          "sourceType": "datasetVersion",
          "datasetId": 5794981
        },
        {
          "sourceId": 9518355,
          "sourceType": "datasetVersion",
          "datasetId": 5794984
        },
        {
          "sourceId": 197845251,
          "sourceType": "kernelVersion"
        },
        {
          "sourceId": 198939016,
          "sourceType": "kernelVersion"
        },
        {
          "sourceId": 196585660,
          "sourceType": "kernelVersion"
        }
      ],
      "dockerImageVersionId": 30775,
      "isInternetEnabled": true,
      "language": "python",
      "sourceType": "notebook",
      "isGpuEnabled": false
    },
    "colab": {
      "provenance": []
    }
  },
  "nbformat_minor": 0,
  "nbformat": 4,
  "cells": [
    {
      "source": [
        "\n",
        "# IMPORTANT: RUN THIS CELL IN ORDER TO IMPORT YOUR KAGGLE DATA SOURCES\n",
        "# TO THE CORRECT LOCATION (/kaggle/input) IN YOUR NOTEBOOK,\n",
        "# THEN FEEL FREE TO DELETE THIS CELL.\n",
        "# NOTE: THIS NOTEBOOK ENVIRONMENT DIFFERS FROM KAGGLE'S PYTHON\n",
        "# ENVIRONMENT SO THERE MAY BE MISSING LIBRARIES USED BY YOUR\n",
        "# NOTEBOOK.\n",
        "\n",
        "import os\n",
        "import sys\n",
        "from tempfile import NamedTemporaryFile\n",
        "from urllib.request import urlopen\n",
        "from urllib.parse import unquote, urlparse\n",
        "from urllib.error import HTTPError\n",
        "from zipfile import ZipFile\n",
        "import tarfile\n",
        "import shutil\n",
        "\n",
        "CHUNK_SIZE = 40960\n",
        "DATA_SOURCE_MAPPING = 'context2:https%3A%2F%2Fstorage.googleapis.com%2Fkaggle-data-sets%2F5794981%2F9518352%2Fbundle%2Farchive.zip%3FX-Goog-Algorithm%3DGOOG4-RSA-SHA256%26X-Goog-Credential%3Dgcp-kaggle-com%2540kaggle-161607.iam.gserviceaccount.com%252F20240930%252Fauto%252Fstorage%252Fgoog4_request%26X-Goog-Date%3D20240930T181848Z%26X-Goog-Expires%3D259200%26X-Goog-SignedHeaders%3Dhost%26X-Goog-Signature%3D624359f55f4a5d566df49a7722ebabcdea028838f52db73a2606070c7c162b4d595fd1d857d8f514be351c0ee6c550ead6f062638ed30a08926ddad271b5176ddf26ebdc55817543d422e4d6722ac0b36374b9bd819b3516ec611557c5f146fb64a053c1ce1c88956495502aaa64735f5ce4e180f61d2dd7b6caaabc2f5297a5e46a08fb160679318c4ca3f0aa27f790c72610e205b682522593ce0039a5284c1ae7d8aa9224948e4ee1f2fb0f384056705d0f22e7ff9e4b3a1487e839fe26b6f48ede3367d80933991e3ba9f28e4032c07e8d19869879fb03fb52e104838a782cfeab144c923b968a355d855db935a25e95194ad329abe59462270416f948ec,attempt-930:https%3A%2F%2Fstorage.googleapis.com%2Fkaggle-data-sets%2F5794984%2F9518355%2Fbundle%2Farchive.zip%3FX-Goog-Algorithm%3DGOOG4-RSA-SHA256%26X-Goog-Credential%3Dgcp-kaggle-com%2540kaggle-161607.iam.gserviceaccount.com%252F20240930%252Fauto%252Fstorage%252Fgoog4_request%26X-Goog-Date%3D20240930T181848Z%26X-Goog-Expires%3D259200%26X-Goog-SignedHeaders%3Dhost%26X-Goog-Signature%3D002295d86aed4ffbbdd9992f9f2a6732d898d1a2ea07d760db36216b847e920ee918ce57b2cf37775db15eca23119bb55d976ebb456b728d1b9a3945e097dda59e44152c32c4490cb76400313a5e81e40094a966e05ab97980f3cf4aca8ed8ccc51e6e4226cee840f07ffa935819dd4d139a2c2115a488dd0940b43b0f943600f05c17bc9838e67ebad1c3b7b7799db69d25472d4b53b2b2aca23a683b468e8057c8bfdea7f438fb1587b9f4c4f5bec563d6d60575042d4330dbe653a1500d505e05d44618626ea5b25ec0d075f6228c1d77cb8e0589225ad898eed35ecc15c8bb53edcfdff11721c89b8bb600d51d4ac7d929d079e8aa175a24ab3494ff8659'\n",
        "\n",
        "KAGGLE_INPUT_PATH='/kaggle/input'\n",
        "KAGGLE_WORKING_PATH='/kaggle/working'\n",
        "KAGGLE_SYMLINK='kaggle'\n",
        "\n",
        "!umount /kaggle/input/ 2> /dev/null\n",
        "shutil.rmtree('/kaggle/input', ignore_errors=True)\n",
        "os.makedirs(KAGGLE_INPUT_PATH, 0o777, exist_ok=True)\n",
        "os.makedirs(KAGGLE_WORKING_PATH, 0o777, exist_ok=True)\n",
        "\n",
        "try:\n",
        "  os.symlink(KAGGLE_INPUT_PATH, os.path.join(\"..\", 'input'), target_is_directory=True)\n",
        "except FileExistsError:\n",
        "  pass\n",
        "try:\n",
        "  os.symlink(KAGGLE_WORKING_PATH, os.path.join(\"..\", 'working'), target_is_directory=True)\n",
        "except FileExistsError:\n",
        "  pass\n",
        "\n",
        "for data_source_mapping in DATA_SOURCE_MAPPING.split(','):\n",
        "    directory, download_url_encoded = data_source_mapping.split(':')\n",
        "    download_url = unquote(download_url_encoded)\n",
        "    filename = urlparse(download_url).path\n",
        "    destination_path = os.path.join(KAGGLE_INPUT_PATH, directory)\n",
        "    try:\n",
        "        with urlopen(download_url) as fileres, NamedTemporaryFile() as tfile:\n",
        "            total_length = fileres.headers['content-length']\n",
        "            print(f'Downloading {directory}, {total_length} bytes compressed')\n",
        "            dl = 0\n",
        "            data = fileres.read(CHUNK_SIZE)\n",
        "            while len(data) > 0:\n",
        "                dl += len(data)\n",
        "                tfile.write(data)\n",
        "                done = int(50 * dl / int(total_length))\n",
        "                sys.stdout.write(f\"\\r[{'=' * done}{' ' * (50-done)}] {dl} bytes downloaded\")\n",
        "                sys.stdout.flush()\n",
        "                data = fileres.read(CHUNK_SIZE)\n",
        "            if filename.endswith('.zip'):\n",
        "              with ZipFile(tfile) as zfile:\n",
        "                zfile.extractall(destination_path)\n",
        "            else:\n",
        "              with tarfile.open(tfile.name) as tarfile:\n",
        "                tarfile.extractall(destination_path)\n",
        "            print(f'\\nDownloaded and uncompressed: {directory}')\n",
        "    except HTTPError as e:\n",
        "        print(f'Failed to load (likely expired) {download_url} to path {destination_path}')\n",
        "        continue\n",
        "    except OSError as e:\n",
        "        print(f'Failed to load {download_url} to path {destination_path}')\n",
        "        continue\n",
        "\n",
        "print('Data source import complete.')\n"
      ],
      "metadata": {
        "id": "hpn5URn7KDTe",
        "colab": {
          "base_uri": "https://localhost:8080/"
        },
        "outputId": "94189c60-9d8b-4518-eccd-741c8dcb9edf"
      },
      "cell_type": "code",
      "outputs": [
        {
          "output_type": "stream",
          "name": "stdout",
          "text": [
            "Downloading context2, 82980 bytes compressed\n",
            "[==================================================] 82980 bytes downloaded\n",
            "Downloaded and uncompressed: context2\n",
            "Downloading attempt-930, 14779 bytes compressed\n",
            "[==================================================] 14779 bytes downloaded\n",
            "Downloaded and uncompressed: attempt-930\n",
            "Data source import complete.\n"
          ]
        }
      ],
      "execution_count": 1
    },
    {
      "cell_type": "code",
      "source": [
        "print(type(data))"
      ],
      "metadata": {
        "colab": {
          "base_uri": "https://localhost:8080/"
        },
        "id": "pq1kALo7G0j3",
        "outputId": "10968f20-346f-4b3f-e82f-3b91f5c51b7c"
      },
      "execution_count": 2,
      "outputs": [
        {
          "output_type": "stream",
          "name": "stdout",
          "text": [
            "<class 'bytes'>\n"
          ]
        }
      ]
    },
    {
      "cell_type": "code",
      "source": [
        "from google.colab import drive\n",
        "drive.mount('/content/drive')"
      ],
      "metadata": {
        "id": "jf1gPIz1HBRC"
      },
      "execution_count": null,
      "outputs": []
    },
    {
      "cell_type": "code",
      "source": [
        "# This Python 3 environment comes with many helpful analytics libraries installed\n",
        "# It is defined by the kaggle/python Docker image: https://github.com/kaggle/docker-python\n",
        "# For example, here's several helpful packages to load\n",
        "\n",
        "import numpy as np # linear algebra\n",
        "import pandas as pd # data processing, CSV file I/O (e.g. pd.read_csv)\n",
        "\n",
        "# Input data files are available in the read-only \"../input/\" directory\n",
        "# For example, running this (by clicking run or pressing Shift+Enter) will list all files under the input directory\n",
        "\n",
        "import os\n",
        "for dirname, _, filenames in os.walk('/kaggle/input'):\n",
        "    for filename in filenames:\n",
        "        print(os.path.join(dirname, filename))\n",
        "\n",
        "# You can write up to 20GB to the current directory (/kaggle/working/) that gets preserved as output when you create a version using \"Save & Run All\"\n",
        "# You can also write temporary files to /kaggle/temp/, but they won't be saved outside of the current session"
      ],
      "metadata": {
        "_uuid": "8f2839f25d086af736a60e9eeb907d3b93b6e0e5",
        "_cell_guid": "b1076dfc-b9ad-4769-8c92-a6c4dae69d19",
        "trusted": true,
        "id": "X3TYbny3KDTf"
      },
      "execution_count": null,
      "outputs": []
    },
    {
      "cell_type": "code",
      "source": [
        "import pandas as pd\n",
        "from sklearn.model_selection import train_test_split"
      ],
      "metadata": {
        "execution": {
          "iopub.status.busy": "2024-09-30T18:07:25.81593Z",
          "iopub.execute_input": "2024-09-30T18:07:25.817022Z",
          "iopub.status.idle": "2024-09-30T18:07:25.838928Z",
          "shell.execute_reply.started": "2024-09-30T18:07:25.816971Z",
          "shell.execute_reply": "2024-09-30T18:07:25.837353Z"
        },
        "trusted": true,
        "id": "mKMWE98-KDTf"
      },
      "execution_count": null,
      "outputs": []
    },
    {
      "cell_type": "code",
      "source": [
        "from transformers import AutoTokenizer, AutoModelForQuestionAnswering\n",
        "import torch\n",
        "from datasets import load_dataset"
      ],
      "metadata": {
        "execution": {
          "iopub.status.busy": "2024-09-30T18:07:30.937531Z",
          "iopub.execute_input": "2024-09-30T18:07:30.938008Z",
          "iopub.status.idle": "2024-09-30T18:07:30.944741Z",
          "shell.execute_reply.started": "2024-09-30T18:07:30.937961Z",
          "shell.execute_reply": "2024-09-30T18:07:30.94282Z"
        },
        "trusted": true,
        "id": "Paajhe_FKDTf"
      },
      "execution_count": null,
      "outputs": []
    },
    {
      "cell_type": "code",
      "source": [
        "df = pd.read_csv('/kaggle/input/attempt-930/ESSA qna_csv.csv')"
      ],
      "metadata": {
        "execution": {
          "iopub.status.busy": "2024-09-30T18:07:35.232885Z",
          "iopub.execute_input": "2024-09-30T18:07:35.233571Z",
          "iopub.status.idle": "2024-09-30T18:07:35.265881Z",
          "shell.execute_reply.started": "2024-09-30T18:07:35.233512Z",
          "shell.execute_reply": "2024-09-30T18:07:35.264012Z"
        },
        "trusted": true,
        "id": "aO5llb3MKDTf"
      },
      "execution_count": null,
      "outputs": []
    },
    {
      "cell_type": "code",
      "source": [
        "# Shuffle the dataset\n",
        "df = df.sample(frac=1, random_state=42).reset_index(drop=True)\n",
        "\n",
        "# Split the dataset into train and test sets\n",
        "train_df, temp_df = train_test_split(df, test_size=0.2, random_state=42)\n",
        "\n",
        "# Split the temporary set into validation and test sets\n",
        "val_df, test_df = train_test_split(temp_df, test_size=0.5, random_state=42)\n",
        "\n",
        "# Check the sizes of the splits\n",
        "print(f\"Training set size: {len(train_df)}\")\n",
        "print(f\"Validation set size: {len(val_df)}\")\n",
        "print(f\"Test set size: {len(test_df)}\")"
      ],
      "metadata": {
        "execution": {
          "iopub.status.busy": "2024-09-30T18:07:39.910207Z",
          "iopub.execute_input": "2024-09-30T18:07:39.911743Z",
          "iopub.status.idle": "2024-09-30T18:07:39.939533Z",
          "shell.execute_reply.started": "2024-09-30T18:07:39.911678Z",
          "shell.execute_reply": "2024-09-30T18:07:39.937767Z"
        },
        "trusted": true,
        "id": "3_r9UPkIKDTg"
      },
      "execution_count": null,
      "outputs": []
    },
    {
      "cell_type": "code",
      "source": [
        "pdf_path = '/kaggle/input/context2/ESSA Chunk 1.pdf'\n",
        "context_text = \"\""
      ],
      "metadata": {
        "execution": {
          "iopub.status.busy": "2024-09-30T18:07:45.016135Z",
          "iopub.execute_input": "2024-09-30T18:07:45.01659Z",
          "iopub.status.idle": "2024-09-30T18:07:45.022691Z",
          "shell.execute_reply.started": "2024-09-30T18:07:45.016547Z",
          "shell.execute_reply": "2024-09-30T18:07:45.020831Z"
        },
        "trusted": true,
        "id": "7lfsVOXkKDTg"
      },
      "execution_count": null,
      "outputs": []
    },
    {
      "cell_type": "code",
      "source": [
        "!pip install pdfplumber"
      ],
      "metadata": {
        "execution": {
          "iopub.status.busy": "2024-09-30T18:08:31.400887Z",
          "iopub.execute_input": "2024-09-30T18:08:31.401399Z",
          "iopub.status.idle": "2024-09-30T18:08:48.894314Z",
          "shell.execute_reply.started": "2024-09-30T18:08:31.401354Z",
          "shell.execute_reply": "2024-09-30T18:08:48.892824Z"
        },
        "trusted": true,
        "id": "P2yvuKA8KDTg"
      },
      "execution_count": null,
      "outputs": []
    },
    {
      "cell_type": "code",
      "source": [
        "import pdfplumber\n",
        "with pdfplumber.open(pdf_path) as pdf:\n",
        "    for page in pdf.pages:\n",
        "        context_text += page.extract_text() + \"\\n\""
      ],
      "metadata": {
        "execution": {
          "iopub.status.busy": "2024-09-30T18:12:49.072406Z",
          "iopub.execute_input": "2024-09-30T18:12:49.072942Z",
          "iopub.status.idle": "2024-09-30T18:12:49.836794Z",
          "shell.execute_reply.started": "2024-09-30T18:12:49.072896Z",
          "shell.execute_reply": "2024-09-30T18:12:49.835504Z"
        },
        "trusted": true,
        "id": "goyHuNGmKDTg"
      },
      "execution_count": null,
      "outputs": []
    },
    {
      "cell_type": "code",
      "source": [
        "model_name = \"distilbert-base-uncased\"\n",
        "tokenizer = AutoTokenizer.from_pretrained(model_name)\n",
        "model = AutoModelForQuestionAnswering.from_pretrained(model_name)"
      ],
      "metadata": {
        "execution": {
          "iopub.status.busy": "2024-09-30T18:12:59.83969Z",
          "iopub.execute_input": "2024-09-30T18:12:59.840184Z",
          "iopub.status.idle": "2024-09-30T18:13:05.981378Z",
          "shell.execute_reply.started": "2024-09-30T18:12:59.840136Z",
          "shell.execute_reply": "2024-09-30T18:13:05.980045Z"
        },
        "trusted": true,
        "id": "1lk2w02JKDTg"
      },
      "execution_count": null,
      "outputs": []
    },
    {
      "cell_type": "code",
      "source": [
        "def answer_question(question, context):\n",
        "    inputs = tokenizer(question, context, return_tensors=\"pt\", padding=True, truncation=True, max_length=512)\n",
        "    outputs = model(**inputs)\n",
        "    answer_start = torch.argmax(outputs.start_logits)\n",
        "    answer_end = torch.argmax(outputs.end_logits) + 1\n",
        "    if answer_start >= len(inputs['input_ids'][0]) or answer_end > len(inputs['input_ids'][0]):\n",
        "        return \"No valid answer found within the context.\"\n",
        "\n",
        "    answer = tokenizer.convert_tokens_to_string(tokenizer.convert_ids_to_tokens(inputs[\"input_ids\"][0][answer_start:answer_end]))\n",
        "    return answer"
      ],
      "metadata": {
        "execution": {
          "iopub.status.busy": "2024-09-30T18:15:37.206525Z",
          "iopub.execute_input": "2024-09-30T18:15:37.207095Z",
          "iopub.status.idle": "2024-09-30T18:15:37.21674Z",
          "shell.execute_reply.started": "2024-09-30T18:15:37.20705Z",
          "shell.execute_reply": "2024-09-30T18:15:37.215041Z"
        },
        "trusted": true,
        "id": "akqCNEXNKDTh"
      },
      "execution_count": null,
      "outputs": []
    },
    {
      "cell_type": "code",
      "source": [
        "def tokenize_function(examples):\n",
        "    return tokenizer(\n",
        "        examples['input_text'],  # Ensure this matches your dataset's structure\n",
        "        padding=\"max_length\",\n",
        "        truncation=True,\n",
        "        max_length=512\n",
        "    )"
      ],
      "metadata": {
        "execution": {
          "iopub.status.busy": "2024-09-30T18:15:43.106306Z",
          "iopub.execute_input": "2024-09-30T18:15:43.106837Z",
          "iopub.status.idle": "2024-09-30T18:15:43.114436Z",
          "shell.execute_reply.started": "2024-09-30T18:15:43.106791Z",
          "shell.execute_reply": "2024-09-30T18:15:43.112579Z"
        },
        "trusted": true,
        "id": "TAaj3vg3KDTh"
      },
      "execution_count": null,
      "outputs": []
    },
    {
      "cell_type": "code",
      "source": [
        "# Example usage of the answer function\n",
        "question = \"What is Title I?\"\n",
        "print(answer_question(question, context_text))"
      ],
      "metadata": {
        "execution": {
          "iopub.status.busy": "2024-09-30T18:15:48.315958Z",
          "iopub.execute_input": "2024-09-30T18:15:48.316499Z",
          "iopub.status.idle": "2024-09-30T18:15:49.142925Z",
          "shell.execute_reply.started": "2024-09-30T18:15:48.316452Z",
          "shell.execute_reply": "2024-09-30T18:15:49.1416Z"
        },
        "trusted": true,
        "id": "yP-lYh6NKDTh"
      },
      "execution_count": null,
      "outputs": []
    }
  ]
}